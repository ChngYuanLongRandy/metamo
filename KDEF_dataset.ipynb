{
 "cells": [
  {
   "cell_type": "code",
   "execution_count": 1,
   "id": "67d11b95-45b0-4726-a14d-98ab0a05f8a8",
   "metadata": {
    "tags": []
   },
   "outputs": [],
   "source": [
    "import cv2\n",
    "import numpy as np\n",
    "import pandas as pd\n",
    "import os\n",
    "from send2trash import send2trash\n",
    "import re\n",
    "import shutil\n",
    "from sklearn.model_selection import ShuffleSplit\n",
    "import matplotlib.pyplot as plt\n",
    "from sklearn.metrics import classification_report"
   ]
  },
  {
   "cell_type": "code",
   "execution_count": 2,
   "id": "dc2741ae-671f-4502-892e-3acf97f6263a",
   "metadata": {},
   "outputs": [],
   "source": [
    "import tensorflow as tf\n",
    "\n",
    "from tensorflow.keras.preprocessing.image import ImageDataGenerator\n",
    "from tensorflow.keras.layers import Dense, Conv2D, MaxPool2D, BatchNormalization, Dropout, Flatten\n",
    "from tensorflow.keras.models import Model, Sequential"
   ]
  },
  {
   "cell_type": "code",
   "execution_count": 3,
   "id": "df5576bd-d7ab-4ac7-a7ee-e31a2d4aafea",
   "metadata": {},
   "outputs": [
    {
     "name": "stdout",
     "output_type": "stream",
     "text": [
      "<function is_gpu_available at 0x000002275D4A8B80>\n"
     ]
    }
   ],
   "source": [
    "print(tf.test.is_gpu_available)"
   ]
  },
  {
   "cell_type": "code",
   "execution_count": 4,
   "id": "76da9a73-25d6-402c-9315-f85c0b68c727",
   "metadata": {},
   "outputs": [
    {
     "name": "stdout",
     "output_type": "stream",
     "text": [
      "Num GPUs Available:  1\n"
     ]
    }
   ],
   "source": [
    "print(\"Num GPUs Available: \", len(tf.config.list_physical_devices('GPU')))"
   ]
  },
  {
   "cell_type": "code",
   "execution_count": 5,
   "id": "d87aff47-73fe-4bfc-8fc5-24d96ed1ad6d",
   "metadata": {},
   "outputs": [],
   "source": [
    "emotions = ['ANGRY','FEARFUL','DISGUSTED','HAPPY','SAD','SURPRISED','NEUTRAL']\n",
    "emotions_dict = {'AFS': 'FEARFUL', \n",
    "               'ANS': 'ANGRY',\n",
    "               'DIS': 'DISGUSTED',\n",
    "               'HAS' : 'HAPPY',\n",
    "               'NES': 'NEUTRAL',\n",
    "               'SAS': 'SAD',\n",
    "               'SUS': 'SURPRISED'}"
   ]
  },
  {
   "cell_type": "code",
   "execution_count": 6,
   "id": "e4d9d4f4-ca1d-4400-8fe2-f1c3ce70eaba",
   "metadata": {},
   "outputs": [],
   "source": [
    "KDEF_ORI_PATH = '.\\KDEF'\n",
    "KDEF_PATH = '.\\KDEF_COPY'\n",
    "KDEF_TRAIN_PATH = os.path.join(KDEF_PATH,'train')\n",
    "KDEF_VAL_PATH = os.path.join(KDEF_PATH,'val')\n",
    "KDEF_TEST_PATH = os.path.join(KDEF_PATH,'test')\n",
    "\n",
    "RANDOM_STATE = 42"
   ]
  },
  {
   "cell_type": "markdown",
   "id": "3264c357-3985-45b4-a337-f930fc87b322",
   "metadata": {},
   "source": [
    "We are only interested in the front facing ones. Using folder AF01 as an example, the file names are:\n",
    "- AF01AFS > Afraid / Fearful\n",
    "- AF01ANS > Angry\n",
    "- AF01DIS > Disgusted\n",
    "- AF01HAS > Happy\n",
    "- AF01NES > Neutral\n",
    "- AF01SAS > Sad\n",
    "- AF01SUS > Surprised"
   ]
  },
  {
   "cell_type": "code",
   "execution_count": 7,
   "id": "2314892f-2840-4b39-a139-e351d9317b2d",
   "metadata": {},
   "outputs": [],
   "source": [
    "def create_all_folders():\n",
    "    print('Commencing creation of all folders')\n",
    "    os.makedirs(KDEF_PATH, exist_ok= True)\n",
    "    os.makedirs(KDEF_TRAIN_PATH, exist_ok= True)\n",
    "    os.makedirs(KDEF_TEST_PATH, exist_ok= True)\n",
    "    os.makedirs(KDEF_VAL_PATH, exist_ok= True)\n",
    "    \n",
    "    for emotion in emotions:\n",
    "        os.makedirs(os.path.join(KDEF_TRAIN_PATH,emotion), exist_ok= True)\n",
    "        os.makedirs(os.path.join(KDEF_TEST_PATH,emotion), exist_ok= True)\n",
    "        os.makedirs(os.path.join(KDEF_VAL_PATH,emotion), exist_ok= True)\n",
    "        os.makedirs(os.path.join(KDEF_PATH,emotion), exist_ok= True)"
   ]
  },
  {
   "cell_type": "code",
   "execution_count": 8,
   "id": "8e4e3c55-b9f6-44e6-ace3-7c6ae036027c",
   "metadata": {},
   "outputs": [],
   "source": [
    "def delete_all_folders():\n",
    "    print('Commencing deletion of all folders')\n",
    "    send2trash(KDEF_PATH)\n",
    "    send2trash(KDEF_TEST_PATH)\n",
    "    send2trash(KDEF_VAL_PATH)\n",
    "    send2trash(KDEF_TRAIN_PATH)"
   ]
  },
  {
   "cell_type": "code",
   "execution_count": 9,
   "id": "5c83be7e-8cbd-401a-851f-bfcfac35eb25",
   "metadata": {},
   "outputs": [],
   "source": [
    "def copy_existing_KDEFfolders():\n",
    "    print('Commencing copying of the original files')\n",
    "    shutil.copytree(KDEF_ORI_PATH, KDEF_PATH,dirs_exist_ok=True)"
   ]
  },
  {
   "cell_type": "code",
   "execution_count": 10,
   "id": "aba8d8c0-a8e9-42d2-b41b-585b90c7478a",
   "metadata": {
    "tags": []
   },
   "outputs": [],
   "source": [
    "def delete_non_frontal_expression_files():\n",
    "    # delete all of the files that are not full front expressions of the emotions\n",
    "    print('Commencing deleting of files with non frontal expressions')\n",
    "    for file_paths , file_dirs, file_names in os.walk(KDEF_PATH):\n",
    "        if file_paths == KDEF_PATH:\n",
    "            print(f'Total folders in directory : {len(file_dirs)}')\n",
    "        for file_name in file_names:\n",
    "            if re.search(r'\\w{2}\\d{2}(\\w{3}).JPG',file_name) is None:\n",
    "                send2trash(os.path.join(file_paths,file_name))"
   ]
  },
  {
   "cell_type": "code",
   "execution_count": 11,
   "id": "eb154df0-406b-4bb7-9b86-da1dc4e85497",
   "metadata": {
    "tags": []
   },
   "outputs": [],
   "source": [
    "def keep_all_remaining_files_into_emotion_folder():\n",
    "    # put all of the emotions into one folder \n",
    "    print('Commencing keeping of remaining files into emotion folders')\n",
    "    for file_paths , file_dirs, file_names in os.walk(KDEF_PATH):\n",
    "        for file_name in file_names:\n",
    "            for short, emotion in emotions_dict.items():\n",
    "                if short in file_name:\n",
    "                    if emotion not in file_paths:\n",
    "                        #put into folder with emotion\n",
    "                        # print(os.path.join(file_paths,file_name))\n",
    "                        # print(os.path.join(KDEF_PATH, emotion,file_name))\n",
    "                        shutil.copy(os.path.join(file_paths,file_name), os.path.join(KDEF_PATH, emotion,file_name))\n",
    "                        break"
   ]
  },
  {
   "cell_type": "code",
   "execution_count": 12,
   "id": "17d1be6a-8ca9-4853-9572-1bd1e3dee709",
   "metadata": {
    "tags": []
   },
   "outputs": [],
   "source": [
    "def deletes_original_folder():\n",
    "    # deletes the original folder containing the images\n",
    "    print('Commencing deletion of original folders')\n",
    "    for file_dir in os.listdir(KDEF_PATH):\n",
    "        for emotion in emotions:\n",
    "            if re.search(r'\\w{2}\\d{2}', file_dir) is not None:\n",
    "                send2trash(os.path.join(KDEF_PATH,file_dir))\n",
    "                break"
   ]
  },
  {
   "cell_type": "code",
   "execution_count": 13,
   "id": "71894e9b-129a-4c00-a995-9dab3a9177de",
   "metadata": {},
   "outputs": [],
   "source": [
    "def rename_all_files():\n",
    "    for emotion in emotions:\n",
    "        for index, value in enumerate(os.listdir(os.path.join(KDEF_PATH,emotion))):\n",
    "            os.rename((KDEF_PATH +\"\\\\\" + emotion+ \"\\\\\"+ value ), (KDEF_PATH +\"\\\\\" + emotion+ \"\\\\\"+ str(index)+'.jpg' ))"
   ]
  },
  {
   "cell_type": "code",
   "execution_count": 14,
   "id": "4934bbbd-ff9c-4957-86da-46d861a29e92",
   "metadata": {},
   "outputs": [],
   "source": [
    "def training_split(splits,split_ratio, random_state):\n",
    "    \"\"\"\n",
    "    splits data into training, validation and test and saves into the respective folders. \n",
    "    The files are split into training and validation. The validation set is further split into validation and testing set\n",
    "    :params: split_ratio, determines how much to split the files into training and validation.\n",
    "    \"\"\"\n",
    "    # all of the folders should contain the same number of files, so I am taking the first folder as reference\n",
    "    length = len(os.listdir(os.path.join(KDEF_PATH,'ANGRY')))\n",
    "    ss = ShuffleSplit(n_splits=splits, test_size=split_ratio, random_state=random_state)\n",
    "    for train_index, test_index in ss.split(range(length)):\n",
    "        return train_index, test_index"
   ]
  },
  {
   "cell_type": "code",
   "execution_count": 15,
   "id": "af2653df-adca-413b-8f70-5d6767b49dcf",
   "metadata": {},
   "outputs": [
    {
     "name": "stdout",
     "output_type": "stream",
     "text": [
      "Commencing copying of the original files\n",
      "Commencing creation of all folders\n",
      "Commencing deleting of files with non frontal expressions\n",
      "Total folders in directory : 150\n",
      "Commencing keeping of remaining files into emotion folders\n",
      "Commencing deletion of original folders\n"
     ]
    }
   ],
   "source": [
    "# If folders are present, remove and recreate, else create\n",
    "if os.path.isdir(KDEF_PATH):\n",
    "    send2trash(KDEF_PATH)\n",
    "copy_existing_KDEFfolders()\n",
    "create_all_folders()\n",
    "delete_non_frontal_expression_files()\n",
    "keep_all_remaining_files_into_emotion_folder()\n",
    "deletes_original_folder()\n",
    "rename_all_files()"
   ]
  },
  {
   "cell_type": "code",
   "execution_count": 16,
   "id": "4d8f11a6-e40a-426e-8024-35de4d60275a",
   "metadata": {},
   "outputs": [],
   "source": [
    "train_index, test_index = training_split(1, 0.2, RANDOM_STATE)"
   ]
  },
  {
   "cell_type": "code",
   "execution_count": 17,
   "id": "fc6d3f5c-2f12-4d34-9367-6a2c619e34c7",
   "metadata": {},
   "outputs": [],
   "source": [
    "train_index_sort = sorted(train_index)"
   ]
  },
  {
   "cell_type": "code",
   "execution_count": 18,
   "id": "48c32cef-eff6-4e3a-943c-52e5fcfe7034",
   "metadata": {},
   "outputs": [],
   "source": [
    "test_index_sort  = sorted(test_index)"
   ]
  },
  {
   "cell_type": "code",
   "execution_count": 19,
   "id": "21e1487b-76b2-4185-adce-807fe15621fc",
   "metadata": {},
   "outputs": [
    {
     "data": {
      "text/plain": [
       "112"
      ]
     },
     "execution_count": 19,
     "metadata": {},
     "output_type": "execute_result"
    }
   ],
   "source": [
    "len(train_index)"
   ]
  },
  {
   "cell_type": "code",
   "execution_count": 20,
   "id": "30aa7529-c3c3-4503-a381-e34deae4654d",
   "metadata": {},
   "outputs": [
    {
     "data": {
      "text/plain": [
       "28"
      ]
     },
     "execution_count": 20,
     "metadata": {},
     "output_type": "execute_result"
    }
   ],
   "source": [
    "len(test_index)"
   ]
  },
  {
   "cell_type": "code",
   "execution_count": 21,
   "id": "96453682-1b3c-44ce-81b8-3ea38106e048",
   "metadata": {},
   "outputs": [],
   "source": [
    "# shifts training set into train folder\n",
    "for index in train_index_sort:\n",
    "    for emotion in emotions:\n",
    "        shutil.move(os.path.join(KDEF_PATH, emotion,str(index)+'.jpg'), os.path.join(KDEF_PATH,'train',emotion,str(index)+'.jpg'))"
   ]
  },
  {
   "cell_type": "code",
   "execution_count": 22,
   "id": "673b8f47-063d-4a6e-a3d7-35f0caa40e94",
   "metadata": {},
   "outputs": [],
   "source": [
    "# shifts testing set into test folder\n",
    "for index in test_index_sort:\n",
    "    for emotion in emotions:\n",
    "        shutil.move(os.path.join(KDEF_PATH, emotion,str(index)+'.jpg'), os.path.join(KDEF_PATH,'test',emotion,str(index)+'.jpg'))"
   ]
  },
  {
   "cell_type": "code",
   "execution_count": 23,
   "id": "36b362d1-3c76-4531-b668-86b3daad8990",
   "metadata": {},
   "outputs": [],
   "source": [
    "# removes emotions folder\n",
    "for emotion in emotions:\n",
    "    send2trash(os.path.join(KDEF_PATH,emotion))"
   ]
  },
  {
   "cell_type": "code",
   "execution_count": 24,
   "id": "91c4064e-99e5-41bf-bc46-8c542d021d71",
   "metadata": {},
   "outputs": [],
   "source": [
    "train_datagen = ImageDataGenerator(horizontal_flip=True,validation_split=0.1, rescale=1./255)\n",
    "test_datagen = ImageDataGenerator(rescale=1./255, )"
   ]
  },
  {
   "cell_type": "code",
   "execution_count": 25,
   "id": "dee5c69a-b111-42e2-b537-56a9bbb6ecbd",
   "metadata": {},
   "outputs": [
    {
     "name": "stdout",
     "output_type": "stream",
     "text": [
      "Found 784 images belonging to 7 classes.\n",
      "Found 196 images belonging to 7 classes.\n"
     ]
    }
   ],
   "source": [
    "train_dataflow = train_datagen.flow_from_directory(KDEF_TRAIN_PATH, target_size=(48,48))\n",
    "test_dataflow = test_datagen.flow_from_directory(KDEF_TEST_PATH, target_size=(48,48), shuffle=False)"
   ]
  },
  {
   "cell_type": "code",
   "execution_count": 26,
   "id": "08a8ef0f-0cfe-4e6e-99d0-8345c67c0658",
   "metadata": {
    "tags": []
   },
   "outputs": [],
   "source": [
    "model = Sequential([\n",
    "    Conv2D(512, (3,3), input_shape=(48,48,3),activation = 'relu'),\n",
    "    MaxPool2D(),\n",
    "    BatchNormalization(),\n",
    "    Conv2D(512,(3,3), activation = 'relu'),\n",
    "    MaxPool2D(),\n",
    "    BatchNormalization(),\n",
    "    Conv2D(256,(3,3), activation = 'relu'),\n",
    "    MaxPool2D(),\n",
    "    BatchNormalization(),\n",
    "    Conv2D(256,(3,3), activation = 'relu'),\n",
    "    MaxPool2D(),\n",
    "    BatchNormalization(),\n",
    "    Flatten(),\n",
    "    Dense(512,activation = 'relu'),\n",
    "    Dropout(0.2),\n",
    "    Dense(256,activation = 'relu'),\n",
    "    Dense(7,activation = 'softmax')\n",
    "])"
   ]
  },
  {
   "cell_type": "code",
   "execution_count": 27,
   "id": "cd0c800f-eb4a-4fcd-bbaf-e859dc73b6d9",
   "metadata": {},
   "outputs": [],
   "source": [
    "model.compile(loss = 'categorical_crossentropy' , \n",
    "              metrics = ['acc'],\n",
    "             optimizer = tf.keras.optimizers.Adam())"
   ]
  },
  {
   "cell_type": "code",
   "execution_count": 28,
   "id": "8eea150d-a338-4e20-8077-b581ffe0ede0",
   "metadata": {},
   "outputs": [
    {
     "name": "stdout",
     "output_type": "stream",
     "text": [
      "Model: \"sequential\"\n",
      "_________________________________________________________________\n",
      " Layer (type)                Output Shape              Param #   \n",
      "=================================================================\n",
      " conv2d (Conv2D)             (None, 46, 46, 512)       14336     \n",
      "                                                                 \n",
      " max_pooling2d (MaxPooling2D  (None, 23, 23, 512)      0         \n",
      " )                                                               \n",
      "                                                                 \n",
      " batch_normalization (BatchN  (None, 23, 23, 512)      2048      \n",
      " ormalization)                                                   \n",
      "                                                                 \n",
      " conv2d_1 (Conv2D)           (None, 21, 21, 512)       2359808   \n",
      "                                                                 \n",
      " max_pooling2d_1 (MaxPooling  (None, 10, 10, 512)      0         \n",
      " 2D)                                                             \n",
      "                                                                 \n",
      " batch_normalization_1 (Batc  (None, 10, 10, 512)      2048      \n",
      " hNormalization)                                                 \n",
      "                                                                 \n",
      " conv2d_2 (Conv2D)           (None, 8, 8, 256)         1179904   \n",
      "                                                                 \n",
      " max_pooling2d_2 (MaxPooling  (None, 4, 4, 256)        0         \n",
      " 2D)                                                             \n",
      "                                                                 \n",
      " batch_normalization_2 (Batc  (None, 4, 4, 256)        1024      \n",
      " hNormalization)                                                 \n",
      "                                                                 \n",
      " conv2d_3 (Conv2D)           (None, 2, 2, 256)         590080    \n",
      "                                                                 \n",
      " max_pooling2d_3 (MaxPooling  (None, 1, 1, 256)        0         \n",
      " 2D)                                                             \n",
      "                                                                 \n",
      " batch_normalization_3 (Batc  (None, 1, 1, 256)        1024      \n",
      " hNormalization)                                                 \n",
      "                                                                 \n",
      " flatten (Flatten)           (None, 256)               0         \n",
      "                                                                 \n",
      " dense (Dense)               (None, 512)               131584    \n",
      "                                                                 \n",
      " dropout (Dropout)           (None, 512)               0         \n",
      "                                                                 \n",
      " dense_1 (Dense)             (None, 256)               131328    \n",
      "                                                                 \n",
      " dense_2 (Dense)             (None, 7)                 1799      \n",
      "                                                                 \n",
      "=================================================================\n",
      "Total params: 4,414,983\n",
      "Trainable params: 4,411,911\n",
      "Non-trainable params: 3,072\n",
      "_________________________________________________________________\n"
     ]
    }
   ],
   "source": [
    "model.summary()"
   ]
  },
  {
   "cell_type": "code",
   "execution_count": 29,
   "id": "a37fb17b-afe8-4a78-9561-54f4f4dfc1f1",
   "metadata": {},
   "outputs": [
    {
     "name": "stdout",
     "output_type": "stream",
     "text": [
      "Epoch 1/50\n",
      "25/25 [==============================] - 10s 250ms/step - loss: 1.9332 - acc: 0.2730 - val_loss: 1.9035 - val_acc: 0.1786\n",
      "Epoch 2/50\n",
      "25/25 [==============================] - 6s 227ms/step - loss: 1.3189 - acc: 0.4987 - val_loss: 2.5379 - val_acc: 0.1429\n",
      "Epoch 3/50\n",
      "25/25 [==============================] - 6s 226ms/step - loss: 1.0109 - acc: 0.6097 - val_loss: 4.9232 - val_acc: 0.1454\n",
      "Epoch 4/50\n",
      "25/25 [==============================] - 6s 225ms/step - loss: 0.8692 - acc: 0.6569 - val_loss: 2.6743 - val_acc: 0.1429\n",
      "Epoch 5/50\n",
      "25/25 [==============================] - 6s 225ms/step - loss: 0.6602 - acc: 0.7551 - val_loss: 4.0555 - val_acc: 0.1429\n",
      "Epoch 6/50\n",
      "25/25 [==============================] - 6s 225ms/step - loss: 0.5407 - acc: 0.7921 - val_loss: 2.8572 - val_acc: 0.1429\n",
      "Epoch 7/50\n",
      "25/25 [==============================] - 6s 237ms/step - loss: 0.5444 - acc: 0.7972 - val_loss: 2.7581 - val_acc: 0.1429\n",
      "Epoch 8/50\n",
      "25/25 [==============================] - 6s 234ms/step - loss: 0.4252 - acc: 0.8304 - val_loss: 4.5449 - val_acc: 0.1429\n",
      "Epoch 9/50\n",
      "25/25 [==============================] - 6s 228ms/step - loss: 0.3401 - acc: 0.8648 - val_loss: 3.4239 - val_acc: 0.1429\n",
      "Epoch 10/50\n",
      "25/25 [==============================] - 6s 232ms/step - loss: 0.2600 - acc: 0.9005 - val_loss: 5.2001 - val_acc: 0.1429\n",
      "Epoch 11/50\n",
      "25/25 [==============================] - 6s 233ms/step - loss: 0.3343 - acc: 0.8788 - val_loss: 8.6647 - val_acc: 0.1429\n",
      "Epoch 12/50\n",
      "25/25 [==============================] - 6s 230ms/step - loss: 0.2565 - acc: 0.8967 - val_loss: 4.4955 - val_acc: 0.2666\n",
      "Epoch 13/50\n",
      "25/25 [==============================] - 6s 226ms/step - loss: 0.2114 - acc: 0.9235 - val_loss: 3.7498 - val_acc: 0.2513\n",
      "Epoch 14/50\n",
      "25/25 [==============================] - 5s 222ms/step - loss: 0.1901 - acc: 0.9286 - val_loss: 4.3794 - val_acc: 0.1747\n",
      "Epoch 15/50\n",
      "25/25 [==============================] - 5s 217ms/step - loss: 0.1781 - acc: 0.9311 - val_loss: 4.9214 - val_acc: 0.2219\n",
      "Epoch 16/50\n",
      "25/25 [==============================] - 5s 215ms/step - loss: 0.2322 - acc: 0.9235 - val_loss: 3.6324 - val_acc: 0.3508\n",
      "Epoch 17/50\n",
      "25/25 [==============================] - 5s 220ms/step - loss: 0.2457 - acc: 0.9031 - val_loss: 5.5703 - val_acc: 0.2296\n",
      "Epoch 18/50\n",
      "25/25 [==============================] - 5s 214ms/step - loss: 0.2666 - acc: 0.9018 - val_loss: 4.6011 - val_acc: 0.3176\n",
      "Epoch 19/50\n",
      "25/25 [==============================] - 5s 216ms/step - loss: 0.3398 - acc: 0.8903 - val_loss: 2.9604 - val_acc: 0.3189\n",
      "Epoch 20/50\n",
      "25/25 [==============================] - 5s 218ms/step - loss: 0.1792 - acc: 0.9375 - val_loss: 0.7829 - val_acc: 0.7360\n",
      "Epoch 21/50\n",
      "25/25 [==============================] - 5s 216ms/step - loss: 0.1360 - acc: 0.9503 - val_loss: 1.8181 - val_acc: 0.4911\n",
      "Epoch 22/50\n",
      "25/25 [==============================] - 5s 217ms/step - loss: 0.0994 - acc: 0.9643 - val_loss: 2.1072 - val_acc: 0.5140\n",
      "Epoch 23/50\n",
      "25/25 [==============================] - 5s 216ms/step - loss: 0.0862 - acc: 0.9707 - val_loss: 0.2107 - val_acc: 0.9247\n",
      "Epoch 24/50\n",
      "25/25 [==============================] - 6s 228ms/step - loss: 0.0975 - acc: 0.9681 - val_loss: 0.1650 - val_acc: 0.9439\n",
      "Epoch 25/50\n",
      "25/25 [==============================] - 6s 225ms/step - loss: 0.0770 - acc: 0.9745 - val_loss: 1.0839 - val_acc: 0.7117\n",
      "Epoch 26/50\n",
      "25/25 [==============================] - 6s 229ms/step - loss: 0.0773 - acc: 0.9770 - val_loss: 0.5803 - val_acc: 0.8138\n",
      "Epoch 27/50\n",
      "25/25 [==============================] - 6s 249ms/step - loss: 0.0918 - acc: 0.9719 - val_loss: 1.2985 - val_acc: 0.6378\n",
      "Epoch 28/50\n",
      "25/25 [==============================] - 6s 237ms/step - loss: 0.0365 - acc: 0.9885 - val_loss: 0.3712 - val_acc: 0.8814\n",
      "Epoch 29/50\n",
      "25/25 [==============================] - 6s 250ms/step - loss: 0.0452 - acc: 0.9834 - val_loss: 0.8865 - val_acc: 0.7653\n",
      "Epoch 30/50\n",
      "25/25 [==============================] - 6s 243ms/step - loss: 0.0575 - acc: 0.9770 - val_loss: 0.5591 - val_acc: 0.8163\n",
      "Epoch 31/50\n",
      "25/25 [==============================] - 6s 243ms/step - loss: 0.0780 - acc: 0.9783 - val_loss: 1.3575 - val_acc: 0.6186\n",
      "Epoch 32/50\n",
      "25/25 [==============================] - 6s 242ms/step - loss: 0.0951 - acc: 0.9605 - val_loss: 0.4081 - val_acc: 0.8495\n",
      "Epoch 33/50\n",
      "25/25 [==============================] - 6s 244ms/step - loss: 0.1774 - acc: 0.9362 - val_loss: 2.4238 - val_acc: 0.4987\n",
      "Epoch 34/50\n",
      "25/25 [==============================] - 6s 243ms/step - loss: 0.1553 - acc: 0.9490 - val_loss: 0.2391 - val_acc: 0.9005\n",
      "Epoch 35/50\n",
      "25/25 [==============================] - 6s 245ms/step - loss: 0.0842 - acc: 0.9668 - val_loss: 0.0723 - val_acc: 0.9758\n",
      "Epoch 36/50\n",
      "25/25 [==============================] - 6s 239ms/step - loss: 0.0604 - acc: 0.9796 - val_loss: 0.0562 - val_acc: 0.9847\n",
      "Epoch 37/50\n",
      "25/25 [==============================] - 6s 242ms/step - loss: 0.0435 - acc: 0.9834 - val_loss: 0.1044 - val_acc: 0.9630\n",
      "Epoch 38/50\n",
      "25/25 [==============================] - 6s 242ms/step - loss: 0.0646 - acc: 0.9732 - val_loss: 0.0335 - val_acc: 0.9898\n",
      "Epoch 39/50\n",
      "25/25 [==============================] - 6s 243ms/step - loss: 0.0466 - acc: 0.9809 - val_loss: 0.0530 - val_acc: 0.9809\n",
      "Epoch 40/50\n",
      "25/25 [==============================] - 6s 242ms/step - loss: 0.0308 - acc: 0.9872 - val_loss: 0.0575 - val_acc: 0.9758\n",
      "Epoch 41/50\n",
      "25/25 [==============================] - 7s 272ms/step - loss: 0.0191 - acc: 0.9974 - val_loss: 0.0218 - val_acc: 0.9974\n",
      "Epoch 42/50\n",
      "25/25 [==============================] - 7s 306ms/step - loss: 0.0409 - acc: 0.9923 - val_loss: 0.0217 - val_acc: 0.9911\n",
      "Epoch 43/50\n",
      "25/25 [==============================] - 6s 260ms/step - loss: 0.0923 - acc: 0.9617 - val_loss: 0.3030 - val_acc: 0.9145\n",
      "Epoch 44/50\n",
      "25/25 [==============================] - 6s 243ms/step - loss: 0.1265 - acc: 0.9579 - val_loss: 0.8517 - val_acc: 0.7717\n",
      "Epoch 45/50\n",
      "25/25 [==============================] - 6s 258ms/step - loss: 0.1024 - acc: 0.9630 - val_loss: 0.6618 - val_acc: 0.7997\n",
      "Epoch 46/50\n",
      "25/25 [==============================] - 6s 251ms/step - loss: 0.0946 - acc: 0.9694 - val_loss: 0.7602 - val_acc: 0.8061\n",
      "Epoch 47/50\n",
      "25/25 [==============================] - 6s 247ms/step - loss: 0.0910 - acc: 0.9758 - val_loss: 0.5469 - val_acc: 0.8571\n",
      "Epoch 48/50\n",
      "25/25 [==============================] - 6s 247ms/step - loss: 0.0495 - acc: 0.9821 - val_loss: 0.2189 - val_acc: 0.9324\n",
      "Epoch 49/50\n",
      "25/25 [==============================] - 6s 251ms/step - loss: 0.0512 - acc: 0.9783 - val_loss: 0.1184 - val_acc: 0.9605\n",
      "Epoch 50/50\n",
      "25/25 [==============================] - 6s 249ms/step - loss: 0.0360 - acc: 0.9860 - val_loss: 0.0820 - val_acc: 0.9770\n"
     ]
    }
   ],
   "source": [
    "model_history = model.fit(train_dataflow,validation_data=train_dataflow, epochs =50)"
   ]
  },
  {
   "cell_type": "code",
   "execution_count": 30,
   "id": "ed9969cd-0011-46bf-be5a-f1709fb5088a",
   "metadata": {},
   "outputs": [],
   "source": [
    "def plot_results(history):\n",
    "    loss = history.history['loss']\n",
    "    val_loss = history.history['val_loss']\n",
    "    \n",
    "    acc = history.history['acc']\n",
    "    val_acc  =history.history['val_acc']\n",
    "    \n",
    "    length = range(len(loss))\n",
    "    \n",
    "    plt.plot(length, loss, 'b' ,label = 'Training Loss')\n",
    "    plt.plot(length, val_loss, 'r--', label = 'Validation Loss')\n",
    "    plt.title('Training vs Val Loss')\n",
    "    plt.xlabel('Epochs')\n",
    "    plt.ylabel('Loss')\n",
    "    plt.legend()\n",
    "    \n",
    "    plt.figure()\n",
    "    \n",
    "    plt.plot(length, acc, 'b' ,label = 'Training Acc')\n",
    "    plt.plot(length, val_acc, 'r--', label = 'Validation Acc')\n",
    "    plt.title('Training vs Val Acc')\n",
    "    plt.xlabel('Epochs')\n",
    "    plt.ylabel('Accuracy')\n",
    "    plt.legend()\n",
    "    plt.show()"
   ]
  },
  {
   "cell_type": "code",
   "execution_count": 31,
   "id": "1eed2c8f-217f-4747-8e53-89c8dbef9263",
   "metadata": {},
   "outputs": [
    {
     "name": "stdout",
     "output_type": "stream",
     "text": [
      "7/7 [==============================] - 2s 167ms/step - loss: 1.2760 - acc: 0.7857\n"
     ]
    },
    {
     "data": {
      "text/plain": [
       "[1.2759815454483032, 0.7857142686843872]"
      ]
     },
     "execution_count": 31,
     "metadata": {},
     "output_type": "execute_result"
    }
   ],
   "source": [
    "model.evaluate(test_dataflow)"
   ]
  },
  {
   "cell_type": "code",
   "execution_count": 32,
   "id": "de1d90fc-432e-4f54-84e4-a1b6dab97671",
   "metadata": {},
   "outputs": [
    {
     "data": {
      "image/png": "[encoded data removed]",
      "text/plain": [
       "<Figure size 432x288 with 1 Axes>"
      ]
     },
     "metadata": {
      "needs_background": "light"
     },
     "output_type": "display_data"
    },
    {
     "data": {
      "image/png": "[encoded data removed]",
      "text/plain": [
       "<Figure size 432x288 with 1 Axes>"
      ]
     },
     "metadata": {
      "needs_background": "light"
     },
     "output_type": "display_data"
    }
   ],
   "source": [
    "plot_results(model_history)"
   ]
  },
  {
   "cell_type": "code",
   "execution_count": 33,
   "id": "cb50e907-4987-4f6a-969c-9ff66e74adb8",
   "metadata": {},
   "outputs": [],
   "source": [
    "def display_classifcation_report(model, test_dataflow):\n",
    "    predictions = model.predict(test_dataflow)\n",
    "    predictions = np.argmax(predictions, axis = -1)\n",
    "    y_test = test_dataflow.labels\n",
    "    print(classification_report(y_test, predictions, target_names = emotions))"
   ]
  },
  {
   "cell_type": "code",
   "execution_count": 34,
   "id": "d9614d77-b140-4f87-95a9-e92f3bfd5309",
   "metadata": {},
   "outputs": [
    {
     "name": "stdout",
     "output_type": "stream",
     "text": [
      "              precision    recall  f1-score   support\n",
      "\n",
      "       ANGRY       0.78      0.89      0.83        28\n",
      "     FEARFUL       0.91      0.75      0.82        28\n",
      "   DISGUSTED       0.79      0.54      0.64        28\n",
      "       HAPPY       0.96      0.82      0.88        28\n",
      "         SAD       0.80      0.71      0.75        28\n",
      "   SURPRISED       0.52      0.89      0.66        28\n",
      "     NEUTRAL       1.00      0.89      0.94        28\n",
      "\n",
      "    accuracy                           0.79       196\n",
      "   macro avg       0.82      0.79      0.79       196\n",
      "weighted avg       0.82      0.79      0.79       196\n",
      "\n"
     ]
    }
   ],
   "source": [
    "display_classifcation_report(model,test_dataflow)"
   ]
  },
  {
   "cell_type": "code",
   "execution_count": 35,
   "id": "2d98274e-35d4-466c-9047-17187ca31d66",
   "metadata": {},
   "outputs": [],
   "source": [
    "model.save('kdef_model.h5')"
   ]
  },
  {
   "cell_type": "code",
   "execution_count": 53,
   "id": "2b076b35-25e9-483b-a14a-3177c166a942",
   "metadata": {},
   "outputs": [],
   "source": [
    "def to_grayscale(image):\n",
    "    image = tf.image.rgb_to_grayscale(image)\n",
    "    #image = tf.image.grayscale_to_rgb(image)\n",
    "    return image"
   ]
  },
  {
   "cell_type": "code",
   "execution_count": 54,
   "id": "83dba409-2ab7-48e2-a0c0-7670f3b4dc64",
   "metadata": {},
   "outputs": [],
   "source": [
    "train_gray_datagen = ImageDataGenerator(horizontal_flip=True,preprocessing_function=to_grayscale,validation_split=0.1, rescale=1./255)\n",
    "test_gray_datagen = ImageDataGenerator(rescale=1./255,preprocessing_function=to_grayscale)"
   ]
  },
  {
   "cell_type": "code",
   "execution_count": 55,
   "id": "716fcbc7-a8a3-4e55-9849-148234a3f8a0",
   "metadata": {},
   "outputs": [
    {
     "name": "stdout",
     "output_type": "stream",
     "text": [
      "Found 784 images belonging to 7 classes.\n",
      "Found 196 images belonging to 7 classes.\n"
     ]
    }
   ],
   "source": [
    "train_gray_dataflow = train_datagen.flow_from_directory(KDEF_TRAIN_PATH, target_size=(48,48),color_mode = 'grayscale')\n",
    "test_gray_dataflow = test_datagen.flow_from_directory(KDEF_TEST_PATH, target_size=(48,48), shuffle=False, color_mode = 'grayscale')"
   ]
  },
  {
   "cell_type": "code",
   "execution_count": 56,
   "id": "5dc21a81-3485-4f68-b88f-b21109e97ed7",
   "metadata": {
    "tags": []
   },
   "outputs": [],
   "source": [
    "model_gray = Sequential([\n",
    "    Conv2D(512, (3,3), input_shape=(48,48,1),activation = 'relu'),\n",
    "    MaxPool2D(),\n",
    "    BatchNormalization(),\n",
    "    Conv2D(512,(3,3), activation = 'relu'),\n",
    "    MaxPool2D(),\n",
    "    BatchNormalization(),\n",
    "    Conv2D(256,(3,3), activation = 'relu'),\n",
    "    MaxPool2D(),\n",
    "    BatchNormalization(),\n",
    "    Conv2D(256,(3,3), activation = 'relu'),\n",
    "    MaxPool2D(),\n",
    "    BatchNormalization(),\n",
    "    Flatten(),\n",
    "    Dense(512,activation = 'relu'),\n",
    "    Dropout(0.2),\n",
    "    Dense(256,activation = 'relu'),\n",
    "    Dense(7,activation = 'softmax')\n",
    "])"
   ]
  },
  {
   "cell_type": "code",
   "execution_count": 57,
   "id": "41f57127-71db-472a-be73-8fb98eb3096b",
   "metadata": {},
   "outputs": [],
   "source": [
    "model_gray.compile(loss = 'categorical_crossentropy' , \n",
    "              metrics = ['acc'],\n",
    "             optimizer = tf.keras.optimizers.Adam())"
   ]
  },
  {
   "cell_type": "code",
   "execution_count": 58,
   "id": "dd44c29e-5d65-4ffd-99b0-1be2748bbb5d",
   "metadata": {},
   "outputs": [
    {
     "name": "stdout",
     "output_type": "stream",
     "text": [
      "Model: \"sequential_1\"\n",
      "_________________________________________________________________\n",
      " Layer (type)                Output Shape              Param #   \n",
      "=================================================================\n",
      " conv2d_4 (Conv2D)           (None, 46, 46, 512)       5120      \n",
      "                                                                 \n",
      " max_pooling2d_4 (MaxPooling  (None, 23, 23, 512)      0         \n",
      " 2D)                                                             \n",
      "                                                                 \n",
      " batch_normalization_4 (Batc  (None, 23, 23, 512)      2048      \n",
      " hNormalization)                                                 \n",
      "                                                                 \n",
      " conv2d_5 (Conv2D)           (None, 21, 21, 512)       2359808   \n",
      "                                                                 \n",
      " max_pooling2d_5 (MaxPooling  (None, 10, 10, 512)      0         \n",
      " 2D)                                                             \n",
      "                                                                 \n",
      " batch_normalization_5 (Batc  (None, 10, 10, 512)      2048      \n",
      " hNormalization)                                                 \n",
      "                                                                 \n",
      " conv2d_6 (Conv2D)           (None, 8, 8, 256)         1179904   \n",
      "                                                                 \n",
      " max_pooling2d_6 (MaxPooling  (None, 4, 4, 256)        0         \n",
      " 2D)                                                             \n",
      "                                                                 \n",
      " batch_normalization_6 (Batc  (None, 4, 4, 256)        1024      \n",
      " hNormalization)                                                 \n",
      "                                                                 \n",
      " conv2d_7 (Conv2D)           (None, 2, 2, 256)         590080    \n",
      "                                                                 \n",
      " max_pooling2d_7 (MaxPooling  (None, 1, 1, 256)        0         \n",
      " 2D)                                                             \n",
      "                                                                 \n",
      " batch_normalization_7 (Batc  (None, 1, 1, 256)        1024      \n",
      " hNormalization)                                                 \n",
      "                                                                 \n",
      " flatten_1 (Flatten)         (None, 256)               0         \n",
      "                                                                 \n",
      " dense_3 (Dense)             (None, 512)               131584    \n",
      "                                                                 \n",
      " dropout_1 (Dropout)         (None, 512)               0         \n",
      "                                                                 \n",
      " dense_4 (Dense)             (None, 256)               131328    \n",
      "                                                                 \n",
      " dense_5 (Dense)             (None, 7)                 1799      \n",
      "                                                                 \n",
      "=================================================================\n",
      "Total params: 4,405,767\n",
      "Trainable params: 4,402,695\n",
      "Non-trainable params: 3,072\n",
      "_________________________________________________________________\n"
     ]
    }
   ],
   "source": [
    "model_gray.summary()"
   ]
  },
  {
   "cell_type": "code",
   "execution_count": 62,
   "id": "0a83108b-0d9b-446e-973c-e90388a4c44f",
   "metadata": {},
   "outputs": [
    {
     "name": "stdout",
     "output_type": "stream",
     "text": [
      "Epoch 1/50\n",
      "25/25 [==============================] - 7s 257ms/step - loss: 0.0855 - acc: 0.9694 - val_loss: 0.1283 - val_acc: 0.9541\n",
      "Epoch 2/50\n",
      "25/25 [==============================] - 6s 257ms/step - loss: 0.0563 - acc: 0.9809 - val_loss: 0.1209 - val_acc: 0.9605\n",
      "Epoch 3/50\n",
      "25/25 [==============================] - 6s 256ms/step - loss: 0.0448 - acc: 0.9783 - val_loss: 0.0915 - val_acc: 0.9643\n",
      "Epoch 4/50\n",
      "25/25 [==============================] - 7s 266ms/step - loss: 0.0256 - acc: 0.9923 - val_loss: 0.3625 - val_acc: 0.8916\n",
      "Epoch 5/50\n",
      "25/25 [==============================] - 7s 266ms/step - loss: 0.0297 - acc: 0.9898 - val_loss: 0.0363 - val_acc: 0.9923\n",
      "Epoch 6/50\n",
      "25/25 [==============================] - 7s 267ms/step - loss: 0.0158 - acc: 0.9936 - val_loss: 0.0017 - val_acc: 1.0000\n",
      "Epoch 7/50\n",
      "25/25 [==============================] - 6s 259ms/step - loss: 0.0177 - acc: 0.9949 - val_loss: 0.0168 - val_acc: 0.9949\n",
      "Epoch 8/50\n",
      "25/25 [==============================] - 6s 261ms/step - loss: 0.0129 - acc: 0.9962 - val_loss: 0.4446 - val_acc: 0.8878\n",
      "Epoch 9/50\n",
      "25/25 [==============================] - 7s 264ms/step - loss: 0.0262 - acc: 0.9898 - val_loss: 0.0236 - val_acc: 0.9911\n",
      "Epoch 10/50\n",
      "25/25 [==============================] - 7s 264ms/step - loss: 0.0719 - acc: 0.9809 - val_loss: 2.0758 - val_acc: 0.6301\n",
      "Epoch 11/50\n",
      "25/25 [==============================] - 7s 270ms/step - loss: 0.0674 - acc: 0.9770 - val_loss: 0.2091 - val_acc: 0.9247\n",
      "Epoch 12/50\n",
      "25/25 [==============================] - 7s 268ms/step - loss: 0.0425 - acc: 0.9860 - val_loss: 0.0613 - val_acc: 0.9770\n",
      "Epoch 13/50\n",
      "25/25 [==============================] - 10s 406ms/step - loss: 0.0899 - acc: 0.9732 - val_loss: 0.0625 - val_acc: 0.9809\n",
      "Epoch 14/50\n",
      "25/25 [==============================] - 7s 265ms/step - loss: 0.0481 - acc: 0.9809 - val_loss: 0.1438 - val_acc: 0.9617\n",
      "Epoch 15/50\n",
      "25/25 [==============================] - 7s 264ms/step - loss: 0.0725 - acc: 0.9745 - val_loss: 0.0541 - val_acc: 0.9821\n",
      "Epoch 16/50\n",
      "25/25 [==============================] - 7s 279ms/step - loss: 0.0620 - acc: 0.9796 - val_loss: 0.1212 - val_acc: 0.9592\n",
      "Epoch 17/50\n",
      "25/25 [==============================] - 7s 284ms/step - loss: 0.0763 - acc: 0.9732 - val_loss: 0.1107 - val_acc: 0.9541\n",
      "Epoch 18/50\n",
      "25/25 [==============================] - 6s 251ms/step - loss: 0.0445 - acc: 0.9834 - val_loss: 0.2713 - val_acc: 0.8967\n",
      "Epoch 19/50\n",
      "25/25 [==============================] - 6s 248ms/step - loss: 0.0371 - acc: 0.9911 - val_loss: 0.1252 - val_acc: 0.9528\n",
      "Epoch 20/50\n",
      "25/25 [==============================] - 6s 248ms/step - loss: 0.0128 - acc: 0.9974 - val_loss: 0.0850 - val_acc: 0.9656\n",
      "Epoch 21/50\n",
      "25/25 [==============================] - 6s 249ms/step - loss: 0.0174 - acc: 0.9911 - val_loss: 0.0201 - val_acc: 0.9923\n",
      "Epoch 22/50\n",
      "25/25 [==============================] - 6s 249ms/step - loss: 0.0085 - acc: 0.9974 - val_loss: 0.0108 - val_acc: 0.9974\n",
      "Epoch 23/50\n",
      "25/25 [==============================] - 6s 250ms/step - loss: 0.0070 - acc: 0.9974 - val_loss: 0.0063 - val_acc: 0.9974\n",
      "Epoch 24/50\n",
      "25/25 [==============================] - 6s 250ms/step - loss: 0.0075 - acc: 0.9974 - val_loss: 0.0122 - val_acc: 0.9962\n",
      "Epoch 25/50\n",
      "25/25 [==============================] - 6s 251ms/step - loss: 0.0119 - acc: 0.9949 - val_loss: 0.0020 - val_acc: 1.0000\n",
      "Epoch 26/50\n",
      "25/25 [==============================] - 6s 252ms/step - loss: 0.0172 - acc: 0.9949 - val_loss: 0.0368 - val_acc: 0.9885\n",
      "Epoch 27/50\n",
      "25/25 [==============================] - 6s 254ms/step - loss: 0.0156 - acc: 0.9974 - val_loss: 0.0098 - val_acc: 0.9974\n",
      "Epoch 28/50\n",
      "25/25 [==============================] - 6s 254ms/step - loss: 0.0118 - acc: 0.9987 - val_loss: 5.7338e-04 - val_acc: 1.0000\n",
      "Epoch 29/50\n",
      "25/25 [==============================] - 6s 254ms/step - loss: 0.0014 - acc: 1.0000 - val_loss: 0.0047 - val_acc: 0.9987\n",
      "Epoch 30/50\n",
      "25/25 [==============================] - 6s 255ms/step - loss: 0.0017 - acc: 1.0000 - val_loss: 5.3650e-04 - val_acc: 1.0000\n",
      "Epoch 31/50\n",
      "25/25 [==============================] - 6s 259ms/step - loss: 6.0437e-04 - acc: 1.0000 - val_loss: 1.3326e-04 - val_acc: 1.0000\n",
      "Epoch 32/50\n",
      "25/25 [==============================] - 6s 259ms/step - loss: 0.0033 - acc: 0.9987 - val_loss: 0.0783 - val_acc: 0.9732\n",
      "Epoch 33/50\n",
      "25/25 [==============================] - 6s 260ms/step - loss: 0.0491 - acc: 0.9847 - val_loss: 0.4206 - val_acc: 0.8929\n",
      "Epoch 34/50\n",
      "25/25 [==============================] - 6s 258ms/step - loss: 0.0514 - acc: 0.9745 - val_loss: 0.3137 - val_acc: 0.9120\n",
      "Epoch 35/50\n",
      "25/25 [==============================] - 6s 258ms/step - loss: 0.0498 - acc: 0.9834 - val_loss: 0.0101 - val_acc: 0.9962\n",
      "Epoch 36/50\n",
      "25/25 [==============================] - 7s 266ms/step - loss: 0.0407 - acc: 0.9860 - val_loss: 0.0370 - val_acc: 0.9872\n",
      "Epoch 37/50\n",
      "25/25 [==============================] - 6s 256ms/step - loss: 0.0490 - acc: 0.9847 - val_loss: 0.1763 - val_acc: 0.9388\n",
      "Epoch 38/50\n",
      "25/25 [==============================] - 6s 260ms/step - loss: 0.0626 - acc: 0.9796 - val_loss: 0.1014 - val_acc: 0.9681\n",
      "Epoch 39/50\n",
      "25/25 [==============================] - 6s 259ms/step - loss: 0.0286 - acc: 0.9847 - val_loss: 1.5030 - val_acc: 0.7908\n",
      "Epoch 40/50\n",
      "25/25 [==============================] - 6s 262ms/step - loss: 0.0455 - acc: 0.9834 - val_loss: 0.1199 - val_acc: 0.9630\n",
      "Epoch 41/50\n",
      "25/25 [==============================] - 6s 258ms/step - loss: 0.0702 - acc: 0.9770 - val_loss: 0.1981 - val_acc: 0.9452\n",
      "Epoch 42/50\n",
      "25/25 [==============================] - 7s 264ms/step - loss: 0.1264 - acc: 0.9681 - val_loss: 0.1648 - val_acc: 0.9503\n",
      "Epoch 43/50\n",
      "25/25 [==============================] - 6s 259ms/step - loss: 0.0796 - acc: 0.9834 - val_loss: 0.1308 - val_acc: 0.9630\n",
      "Epoch 44/50\n",
      "25/25 [==============================] - 7s 266ms/step - loss: 0.0158 - acc: 0.9949 - val_loss: 0.0372 - val_acc: 0.9834\n",
      "Epoch 45/50\n",
      "25/25 [==============================] - 7s 261ms/step - loss: 0.0387 - acc: 0.9872 - val_loss: 0.0243 - val_acc: 0.9911\n",
      "Epoch 46/50\n",
      "25/25 [==============================] - 6s 256ms/step - loss: 0.0143 - acc: 0.9949 - val_loss: 0.0040 - val_acc: 0.9987\n",
      "Epoch 47/50\n",
      "25/25 [==============================] - 7s 266ms/step - loss: 0.0105 - acc: 0.9962 - val_loss: 0.0678 - val_acc: 0.9783\n",
      "Epoch 48/50\n",
      "25/25 [==============================] - 7s 277ms/step - loss: 0.0096 - acc: 0.9974 - val_loss: 0.0969 - val_acc: 0.9707\n",
      "Epoch 49/50\n",
      "25/25 [==============================] - 8s 310ms/step - loss: 0.0017 - acc: 1.0000 - val_loss: 0.0276 - val_acc: 0.9923\n",
      "Epoch 50/50\n",
      "25/25 [==============================] - 6s 260ms/step - loss: 0.0017 - acc: 1.0000 - val_loss: 0.0482 - val_acc: 0.9821\n"
     ]
    }
   ],
   "source": [
    "model_gray_history = model_gray.fit(train_gray_dataflow,validation_data=train_gray_dataflow, epochs =50)"
   ]
  },
  {
   "cell_type": "code",
   "execution_count": 63,
   "id": "fc775241-d7f1-46ef-8b51-40b02bd59cad",
   "metadata": {},
   "outputs": [
    {
     "name": "stdout",
     "output_type": "stream",
     "text": [
      "7/7 [==============================] - 1s 111ms/step - loss: 0.8717 - acc: 0.8010\n"
     ]
    },
    {
     "data": {
      "text/plain": [
       "[0.8717197775840759, 0.8010203838348389]"
      ]
     },
     "execution_count": 63,
     "metadata": {},
     "output_type": "execute_result"
    }
   ],
   "source": [
    "model_gray.evaluate(test_gray_dataflow)"
   ]
  },
  {
   "cell_type": "code",
   "execution_count": 64,
   "id": "5827c03e-d9b4-40eb-9670-21df28a51ca7",
   "metadata": {},
   "outputs": [
    {
     "data": {
      "image/png": "[encoded data removed]",
      "text/plain": [
       "<Figure size 432x288 with 1 Axes>"
      ]
     },
     "metadata": {
      "needs_background": "light"
     },
     "output_type": "display_data"
    },
    {
     "data": {
      "image/png": "[encoded data removed]",
      "text/plain": [
       "<Figure size 432x288 with 1 Axes>"
      ]
     },
     "metadata": {
      "needs_background": "light"
     },
     "output_type": "display_data"
    }
   ],
   "source": [
    "plot_results(model_gray_history)"
   ]
  },
  {
   "cell_type": "code",
   "execution_count": 66,
   "id": "3133a7f1-3b4f-48ec-a554-31a944e4a4b4",
   "metadata": {},
   "outputs": [
    {
     "name": "stdout",
     "output_type": "stream",
     "text": [
      "              precision    recall  f1-score   support\n",
      "\n",
      "       ANGRY       0.81      0.89      0.85        28\n",
      "     FEARFUL       0.92      0.86      0.89        28\n",
      "   DISGUSTED       0.64      0.82      0.72        28\n",
      "       HAPPY       0.96      0.89      0.93        28\n",
      "         SAD       0.89      0.61      0.72        28\n",
      "   SURPRISED       0.59      0.71      0.65        28\n",
      "     NEUTRAL       0.96      0.82      0.88        28\n",
      "\n",
      "    accuracy                           0.80       196\n",
      "   macro avg       0.82      0.80      0.80       196\n",
      "weighted avg       0.82      0.80      0.80       196\n",
      "\n"
     ]
    }
   ],
   "source": [
    "display_classifcation_report(model_gray,test_gray_dataflow)"
   ]
  },
  {
   "cell_type": "code",
   "execution_count": 65,
   "id": "74ef4ebc-8b21-40c2-89ff-f0d2edb8d80d",
   "metadata": {},
   "outputs": [],
   "source": [
    "model_gray.save(\"kdef_gray_model.h5\")"
   ]
  }
 ],
 "metadata": {
  "kernelspec": {
   "display_name": "Python 3 (ipykernel)",
   "language": "python",
   "name": "python3"
  },
  "language_info": {
   "codemirror_mode": {
    "name": "ipython",
    "version": 3
   },
   "file_extension": ".py",
   "mimetype": "text/x-python",
   "name": "python",
   "nbconvert_exporter": "python",
   "pygments_lexer": "ipython3",
   "version": "3.9.9"
  }
 },
 "nbformat": 4,
 "nbformat_minor": 5
}
