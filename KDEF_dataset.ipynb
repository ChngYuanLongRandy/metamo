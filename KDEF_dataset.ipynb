{
 "cells": [
  {
   "cell_type": "code",
   "execution_count": 1,
   "id": "67d11b95-45b0-4726-a14d-98ab0a05f8a8",
   "metadata": {
    "tags": []
   },
   "outputs": [],
   "source": [
    "import cv2\n",
    "import numpy as np\n",
    "import pandas as pd\n",
    "import os\n",
    "from send2trash import send2trash\n",
    "import re\n",
    "import shutil\n",
    "from sklearn.model_selection import ShuffleSplit\n",
    "import matplotlib.pyplot as plt\n",
    "from sklearn.metrics import classification_report"
   ]
  },
  {
   "cell_type": "code",
   "execution_count": 2,
   "id": "dc2741ae-671f-4502-892e-3acf97f6263a",
   "metadata": {},
   "outputs": [],
   "source": [
    "import tensorflow as tf\n",
    "\n",
    "from tensorflow.keras.preprocessing.image import ImageDataGenerator\n",
    "from tensorflow.keras.layers import Dense, Conv2D, MaxPool2D, BatchNormalization, Dropout, Flatten\n",
    "from tensorflow.keras.models import Model, Sequential"
   ]
  },
  {
   "cell_type": "code",
   "execution_count": 3,
   "id": "df5576bd-d7ab-4ac7-a7ee-e31a2d4aafea",
   "metadata": {},
   "outputs": [
    {
     "name": "stdout",
     "output_type": "stream",
     "text": [
      "<function is_gpu_available at 0x0000020975107B80>\n"
     ]
    }
   ],
   "source": [
    "print(tf.test.is_gpu_available)"
   ]
  },
  {
   "cell_type": "code",
   "execution_count": 4,
   "id": "76da9a73-25d6-402c-9315-f85c0b68c727",
   "metadata": {},
   "outputs": [
    {
     "name": "stdout",
     "output_type": "stream",
     "text": [
      "Num GPUs Available:  1\n"
     ]
    }
   ],
   "source": [
    "print(\"Num GPUs Available: \", len(tf.config.list_physical_devices('GPU')))"
   ]
  },
  {
   "cell_type": "code",
   "execution_count": 5,
   "id": "d87aff47-73fe-4bfc-8fc5-24d96ed1ad6d",
   "metadata": {},
   "outputs": [],
   "source": [
    "emotions = ['ANGRY','DISGUSTED','FEARFUL','HAPPY','NEUTRAL','SAD','SURPRISED']\n",
    "emotions_dict = {'AFS': 'FEARFUL', \n",
    "               'ANS': 'ANGRY',\n",
    "               'DIS': 'DISGUSTED',\n",
    "               'HAS' : 'HAPPY',\n",
    "               'NES': 'NEUTRAL',\n",
    "               'SAS': 'SAD',\n",
    "               'SUS': 'SURPRISED'}"
   ]
  },
  {
   "cell_type": "code",
   "execution_count": 6,
   "id": "e4d9d4f4-ca1d-4400-8fe2-f1c3ce70eaba",
   "metadata": {},
   "outputs": [],
   "source": [
    "KDEF_ORI_PATH = '.\\KDEF'\n",
    "KDEF_PATH = '.\\KDEF_COPY'\n",
    "KDEF_TRAIN_PATH = os.path.join(KDEF_PATH,'train')\n",
    "KDEF_VAL_PATH = os.path.join(KDEF_PATH,'val')\n",
    "KDEF_TEST_PATH = os.path.join(KDEF_PATH,'test')\n",
    "\n",
    "RANDOM_STATE = 42"
   ]
  },
  {
   "cell_type": "markdown",
   "id": "3264c357-3985-45b4-a337-f930fc87b322",
   "metadata": {},
   "source": [
    "We are only interested in the front facing ones. Using folder AF01 as an example, the file names are:\n",
    "- AF01AFS > Afraid / Fearful\n",
    "- AF01ANS > Angry\n",
    "- AF01DIS > Disgusted\n",
    "- AF01HAS > Happy\n",
    "- AF01NES > Neutral\n",
    "- AF01SAS > Sad\n",
    "- AF01SUS > Surprised"
   ]
  },
  {
   "cell_type": "code",
   "execution_count": 7,
   "id": "2314892f-2840-4b39-a139-e351d9317b2d",
   "metadata": {},
   "outputs": [],
   "source": [
    "def create_all_folders():\n",
    "    print('Commencing creation of all folders')\n",
    "    os.makedirs(KDEF_PATH, exist_ok= True)\n",
    "    os.makedirs(KDEF_TRAIN_PATH, exist_ok= True)\n",
    "    os.makedirs(KDEF_TEST_PATH, exist_ok= True)\n",
    "    #os.makedirs(KDEF_VAL_PATH, exist_ok= True)\n",
    "    \n",
    "    for emotion in emotions:\n",
    "        os.makedirs(os.path.join(KDEF_TRAIN_PATH,emotion), exist_ok= True)\n",
    "        os.makedirs(os.path.join(KDEF_TEST_PATH,emotion), exist_ok= True)\n",
    "        #os.makedirs(os.path.join(KDEF_VAL_PATH,emotion), exist_ok= True)\n",
    "        os.makedirs(os.path.join(KDEF_PATH,emotion), exist_ok= True)"
   ]
  },
  {
   "cell_type": "code",
   "execution_count": 8,
   "id": "8e4e3c55-b9f6-44e6-ace3-7c6ae036027c",
   "metadata": {},
   "outputs": [],
   "source": [
    "def delete_all_folders():\n",
    "    print('Commencing deletion of all folders')\n",
    "    send2trash(KDEF_PATH)\n",
    "    send2trash(KDEF_TEST_PATH)\n",
    "    #send2trash(KDEF_VAL_PATH)\n",
    "    send2trash(KDEF_TRAIN_PATH)"
   ]
  },
  {
   "cell_type": "code",
   "execution_count": 9,
   "id": "5c83be7e-8cbd-401a-851f-bfcfac35eb25",
   "metadata": {},
   "outputs": [],
   "source": [
    "def copy_existing_KDEFfolders():\n",
    "    print('Commencing copying of the original files')\n",
    "    shutil.copytree(KDEF_ORI_PATH, KDEF_PATH,dirs_exist_ok=True)"
   ]
  },
  {
   "cell_type": "code",
   "execution_count": 10,
   "id": "aba8d8c0-a8e9-42d2-b41b-585b90c7478a",
   "metadata": {
    "tags": []
   },
   "outputs": [],
   "source": [
    "def delete_non_frontal_expression_files():\n",
    "    # delete all of the files that are not full front expressions of the emotions\n",
    "    print('Commencing deleting of files with non frontal expressions')\n",
    "    for file_paths , file_dirs, file_names in os.walk(KDEF_PATH):\n",
    "        if file_paths == KDEF_PATH:\n",
    "            print(f'Total folders in directory : {len(file_dirs)}')\n",
    "        for file_name in file_names:\n",
    "            if re.search(r'\\w{2}\\d{2}(\\w{3}).JPG',file_name) is None:\n",
    "                send2trash(os.path.join(file_paths,file_name))"
   ]
  },
  {
   "cell_type": "code",
   "execution_count": 11,
   "id": "eb154df0-406b-4bb7-9b86-da1dc4e85497",
   "metadata": {
    "tags": []
   },
   "outputs": [],
   "source": [
    "def keep_all_remaining_files_into_emotion_folder():\n",
    "    # put all of the emotions into one folder \n",
    "    print('Commencing keeping of remaining files into emotion folders')\n",
    "    for file_paths , file_dirs, file_names in os.walk(KDEF_PATH):\n",
    "        for file_name in file_names:\n",
    "            for short, emotion in emotions_dict.items():\n",
    "                if short in file_name:\n",
    "                    if emotion not in file_paths:\n",
    "                        #put into folder with emotion\n",
    "                        # print(os.path.join(file_paths,file_name))\n",
    "                        # print(os.path.join(KDEF_PATH, emotion,file_name))\n",
    "                        shutil.copy(os.path.join(file_paths,file_name), os.path.join(KDEF_PATH, emotion,file_name))\n",
    "                        break"
   ]
  },
  {
   "cell_type": "code",
   "execution_count": 12,
   "id": "17d1be6a-8ca9-4853-9572-1bd1e3dee709",
   "metadata": {
    "tags": []
   },
   "outputs": [],
   "source": [
    "def deletes_original_folder():\n",
    "    # deletes the original folder containing the images\n",
    "    print('Commencing deletion of original folders')\n",
    "    for file_dir in os.listdir(KDEF_PATH):\n",
    "        for emotion in emotions:\n",
    "            if re.search(r'\\w{2}\\d{2}', file_dir) is not None:\n",
    "                send2trash(os.path.join(KDEF_PATH,file_dir))\n",
    "                break"
   ]
  },
  {
   "cell_type": "code",
   "execution_count": 13,
   "id": "71894e9b-129a-4c00-a995-9dab3a9177de",
   "metadata": {},
   "outputs": [],
   "source": [
    "def rename_all_files():\n",
    "    for emotion in emotions:\n",
    "        for index, value in enumerate(os.listdir(os.path.join(KDEF_PATH,emotion))):\n",
    "            os.rename((KDEF_PATH +\"\\\\\" + emotion+ \"\\\\\"+ value ), (KDEF_PATH +\"\\\\\" + emotion+ \"\\\\\"+ str(index)+'.jpg' ))"
   ]
  },
  {
   "cell_type": "code",
   "execution_count": 14,
   "id": "4934bbbd-ff9c-4957-86da-46d861a29e92",
   "metadata": {},
   "outputs": [],
   "source": [
    "def training_split(splits,split_ratio, random_state):\n",
    "    \"\"\"\n",
    "    splits data into training, validation and test and saves into the respective folders. \n",
    "    The files are split into training and validation. The validation set is further split into validation and testing set\n",
    "    :params: split_ratio, determines how much to split the files into training and validation.\n",
    "    \"\"\"\n",
    "    # all of the folders should contain the same number of files, so I am taking the first folder as reference\n",
    "    length = len(os.listdir(os.path.join(KDEF_PATH,'ANGRY')))\n",
    "    ss = ShuffleSplit(n_splits=splits, test_size=split_ratio, random_state=random_state)\n",
    "    for train_index, test_index in ss.split(range(length)):\n",
    "        return train_index, test_index"
   ]
  },
  {
   "cell_type": "code",
   "execution_count": 15,
   "id": "6a9a26ae-27fa-4838-89f0-8d884484a7a7",
   "metadata": {
    "tags": []
   },
   "outputs": [],
   "source": [
    "def set_training_and_shift_images():\n",
    "    train_index, test_index = training_split(1, 0.1, RANDOM_STATE)\n",
    "    train_index_sort = sorted(train_index)\n",
    "    test_index_sort  = sorted(test_index)\n",
    "    # shifts training set into train folder\n",
    "    for index in train_index_sort:\n",
    "        for emotion in emotions:\n",
    "            shutil.move(os.path.join(KDEF_PATH, emotion,str(index)+'.jpg'), os.path.join(KDEF_PATH,'train',emotion,str(index)+'.jpg'))\n",
    "    # shifts testing set into test folder\n",
    "    for index in test_index_sort:\n",
    "        for emotion in emotions:\n",
    "            shutil.move(os.path.join(KDEF_PATH, emotion,str(index)+'.jpg'), os.path.join(KDEF_PATH,'test',emotion,str(index)+'.jpg'))\n",
    "    # removes emotions folder\n",
    "    for emotion in emotions:\n",
    "        send2trash(os.path.join(KDEF_PATH,emotion))"
   ]
  },
  {
   "cell_type": "code",
   "execution_count": 16,
   "id": "35b1f9c7-0b96-44af-bc7f-763a8f108c93",
   "metadata": {},
   "outputs": [],
   "source": [
    "# delete copy path\n",
    "send2trash(KDEF_PATH)"
   ]
  },
  {
   "cell_type": "code",
   "execution_count": 17,
   "id": "af2653df-adca-413b-8f70-5d6767b49dcf",
   "metadata": {},
   "outputs": [
    {
     "name": "stdout",
     "output_type": "stream",
     "text": [
      "Commencing copying of the original files\n",
      "Commencing creation of all folders\n",
      "Commencing deleting of files with non frontal expressions\n",
      "Total folders in directory : 149\n",
      "Commencing keeping of remaining files into emotion folders\n",
      "Commencing deletion of original folders\n"
     ]
    }
   ],
   "source": [
    "# If folders are present, remove and recreate, else create\n",
    "if os.path.isdir(KDEF_PATH) == False:\n",
    "#    send2trash(KDEF_PATH)\n",
    "    copy_existing_KDEFfolders()\n",
    "    create_all_folders()\n",
    "    delete_non_frontal_expression_files()\n",
    "    keep_all_remaining_files_into_emotion_folder()\n",
    "    deletes_original_folder()\n",
    "    rename_all_files()\n",
    "    set_training_and_shift_images()"
   ]
  },
  {
   "cell_type": "code",
   "execution_count": 18,
   "id": "91c4064e-99e5-41bf-bc46-8c542d021d71",
   "metadata": {},
   "outputs": [],
   "source": [
    "train_datagen = ImageDataGenerator(horizontal_flip=True,validation_split=0.1, rescale=1./255)\n",
    "test_datagen = ImageDataGenerator(rescale=1./255, )"
   ]
  },
  {
   "cell_type": "code",
   "execution_count": 19,
   "id": "3cc8bc9e-87cd-4859-9da8-45107daa70a3",
   "metadata": {},
   "outputs": [],
   "source": [
    "original_shape = [562,762]\n",
    "image_scale = 0.20\n",
    "target_shape=[48,48]\n",
    "#target_shape=[int(original_shape[0]*image_scale),int(original_shape[1]*image_scale)]"
   ]
  },
  {
   "cell_type": "code",
   "execution_count": 20,
   "id": "7cce4de6-4e9c-4e2b-850f-1de0430eca48",
   "metadata": {},
   "outputs": [
    {
     "data": {
      "text/plain": [
       "[48, 48]"
      ]
     },
     "execution_count": 20,
     "metadata": {},
     "output_type": "execute_result"
    }
   ],
   "source": [
    "target_shape"
   ]
  },
  {
   "cell_type": "code",
   "execution_count": 21,
   "id": "dee5c69a-b111-42e2-b537-56a9bbb6ecbd",
   "metadata": {},
   "outputs": [
    {
     "name": "stdout",
     "output_type": "stream",
     "text": [
      "Found 798 images belonging to 7 classes.\n",
      "Found 84 images belonging to 7 classes.\n",
      "Found 98 images belonging to 7 classes.\n"
     ]
    }
   ],
   "source": [
    "train_dataflow = train_datagen.flow_from_directory(KDEF_TRAIN_PATH, target_size=(target_shape[0],target_shape[1]), subset='training')\n",
    "val_dataflow = train_datagen.flow_from_directory(KDEF_TRAIN_PATH, target_size=(target_shape[0],target_shape[1]), subset='validation')\n",
    "test_dataflow = test_datagen.flow_from_directory(KDEF_TEST_PATH, target_size=(target_shape[0],target_shape[1]),shuffle = False)"
   ]
  },
  {
   "cell_type": "code",
   "execution_count": 22,
   "id": "08a8ef0f-0cfe-4e6e-99d0-8345c67c0658",
   "metadata": {
    "tags": []
   },
   "outputs": [],
   "source": [
    "model = Sequential([\n",
    "    Conv2D(512, (3,3), input_shape=(target_shape[0],target_shape[1],3),activation = 'relu'),\n",
    "    MaxPool2D(),\n",
    "    BatchNormalization(),\n",
    "    Conv2D(512,(3,3), activation = 'relu'),\n",
    "    MaxPool2D(),\n",
    "    BatchNormalization(),\n",
    "    Conv2D(256,(3,3), activation = 'relu'),\n",
    "    MaxPool2D(),\n",
    "    BatchNormalization(),\n",
    "    Conv2D(256,(3,3), activation = 'relu'),\n",
    "    MaxPool2D(),\n",
    "    BatchNormalization(),\n",
    "    Flatten(),\n",
    "    Dense(512,activation = 'relu'),\n",
    "    Dropout(0.2),\n",
    "    Dense(256,activation = 'relu'),\n",
    "    Dense(7,activation = 'softmax')\n",
    "])"
   ]
  },
  {
   "cell_type": "code",
   "execution_count": 23,
   "id": "cd0c800f-eb4a-4fcd-bbaf-e859dc73b6d9",
   "metadata": {},
   "outputs": [],
   "source": [
    "model.compile(loss = 'categorical_crossentropy' , \n",
    "              metrics = ['acc'],\n",
    "             optimizer = tf.keras.optimizers.Adam())"
   ]
  },
  {
   "cell_type": "code",
   "execution_count": 24,
   "id": "8eea150d-a338-4e20-8077-b581ffe0ede0",
   "metadata": {},
   "outputs": [
    {
     "name": "stdout",
     "output_type": "stream",
     "text": [
      "Model: \"sequential\"\n",
      "_________________________________________________________________\n",
      " Layer (type)                Output Shape              Param #   \n",
      "=================================================================\n",
      " conv2d (Conv2D)             (None, 46, 46, 512)       14336     \n",
      "                                                                 \n",
      " max_pooling2d (MaxPooling2D  (None, 23, 23, 512)      0         \n",
      " )                                                               \n",
      "                                                                 \n",
      " batch_normalization (BatchN  (None, 23, 23, 512)      2048      \n",
      " ormalization)                                                   \n",
      "                                                                 \n",
      " conv2d_1 (Conv2D)           (None, 21, 21, 512)       2359808   \n",
      "                                                                 \n",
      " max_pooling2d_1 (MaxPooling  (None, 10, 10, 512)      0         \n",
      " 2D)                                                             \n",
      "                                                                 \n",
      " batch_normalization_1 (Batc  (None, 10, 10, 512)      2048      \n",
      " hNormalization)                                                 \n",
      "                                                                 \n",
      " conv2d_2 (Conv2D)           (None, 8, 8, 256)         1179904   \n",
      "                                                                 \n",
      " max_pooling2d_2 (MaxPooling  (None, 4, 4, 256)        0         \n",
      " 2D)                                                             \n",
      "                                                                 \n",
      " batch_normalization_2 (Batc  (None, 4, 4, 256)        1024      \n",
      " hNormalization)                                                 \n",
      "                                                                 \n",
      " conv2d_3 (Conv2D)           (None, 2, 2, 256)         590080    \n",
      "                                                                 \n",
      " max_pooling2d_3 (MaxPooling  (None, 1, 1, 256)        0         \n",
      " 2D)                                                             \n",
      "                                                                 \n",
      " batch_normalization_3 (Batc  (None, 1, 1, 256)        1024      \n",
      " hNormalization)                                                 \n",
      "                                                                 \n",
      " flatten (Flatten)           (None, 256)               0         \n",
      "                                                                 \n",
      " dense (Dense)               (None, 512)               131584    \n",
      "                                                                 \n",
      " dropout (Dropout)           (None, 512)               0         \n",
      "                                                                 \n",
      " dense_1 (Dense)             (None, 256)               131328    \n",
      "                                                                 \n",
      " dense_2 (Dense)             (None, 7)                 1799      \n",
      "                                                                 \n",
      "=================================================================\n",
      "Total params: 4,414,983\n",
      "Trainable params: 4,411,911\n",
      "Non-trainable params: 3,072\n",
      "_________________________________________________________________\n"
     ]
    }
   ],
   "source": [
    "model.summary()"
   ]
  },
  {
   "cell_type": "markdown",
   "id": "f90dac5b-37e9-4d9a-8880-aedc9df3e8a7",
   "metadata": {},
   "source": [
    "model_history = model.fit(train_dataflow,validation_data=val_dataflow, epochs =50)"
   ]
  },
  {
   "cell_type": "code",
   "execution_count": 25,
   "id": "ed9969cd-0011-46bf-be5a-f1709fb5088a",
   "metadata": {},
   "outputs": [],
   "source": [
    "def plot_results(history):\n",
    "    loss = history.history['loss']\n",
    "    val_loss = history.history['val_loss']\n",
    "    \n",
    "    acc = history.history['acc']\n",
    "    val_acc  =history.history['val_acc']\n",
    "    \n",
    "    length = range(len(loss))\n",
    "    \n",
    "    plt.plot(length, loss, 'b' ,label = 'Training Loss')\n",
    "    plt.plot(length, val_loss, 'r--', label = 'Validation Loss')\n",
    "    plt.title('Training vs Val Loss')\n",
    "    plt.xlabel('Epochs')\n",
    "    plt.ylabel('Loss')\n",
    "    plt.legend()\n",
    "    \n",
    "    plt.figure()\n",
    "    \n",
    "    plt.plot(length, acc, 'b' ,label = 'Training Acc')\n",
    "    plt.plot(length, val_acc, 'r--', label = 'Validation Acc')\n",
    "    plt.title('Training vs Val Acc')\n",
    "    plt.xlabel('Epochs')\n",
    "    plt.ylabel('Accuracy')\n",
    "    plt.legend()\n",
    "    plt.show()"
   ]
  },
  {
   "cell_type": "markdown",
   "id": "df2096ef-14a6-4483-8eaa-99555355afe1",
   "metadata": {},
   "source": [
    "model.evaluate(test_dataflow)"
   ]
  },
  {
   "cell_type": "markdown",
   "id": "90d5dcb7-25ed-48b4-80a3-1bb7eadd2e5f",
   "metadata": {},
   "source": [
    "plot_results(model_history)"
   ]
  },
  {
   "cell_type": "code",
   "execution_count": 26,
   "id": "cb50e907-4987-4f6a-969c-9ff66e74adb8",
   "metadata": {},
   "outputs": [],
   "source": [
    "def display_classifcation_report(model, test_dataflow):\n",
    "    predictions = model.predict(test_dataflow)\n",
    "    predictions = np.argmax(predictions, axis = -1)\n",
    "    y_test = test_dataflow.labels\n",
    "    print(classification_report(y_test, predictions, target_names = emotions))"
   ]
  },
  {
   "cell_type": "markdown",
   "id": "621bc1be-4b07-48b0-97d4-0ec370c84b2c",
   "metadata": {},
   "source": [
    "display_classifcation_report(model,test_dataflow)"
   ]
  },
  {
   "cell_type": "markdown",
   "id": "3ccf3692-327a-4876-be78-a7e37419669b",
   "metadata": {},
   "source": [
    "model.save('kdef_model.h5')"
   ]
  },
  {
   "cell_type": "code",
   "execution_count": 27,
   "id": "31d0bab8-65c1-4a73-b9b2-473d4605fe0a",
   "metadata": {},
   "outputs": [],
   "source": [
    "def to_grayscale(image):\n",
    "    image = tf.image.rgb_to_grayscale(image)\n",
    "    #image = tf.image.grayscale_to_rgb(image)\n",
    "    return image"
   ]
  },
  {
   "cell_type": "code",
   "execution_count": 28,
   "id": "83dba409-2ab7-48e2-a0c0-7670f3b4dc64",
   "metadata": {},
   "outputs": [],
   "source": [
    "train_gray_datagen = ImageDataGenerator(horizontal_flip=True,preprocessing_function=to_grayscale,validation_split=0.2, rescale=1./255)\n",
    "test_gray_datagen = ImageDataGenerator(rescale=1./255,preprocessing_function=to_grayscale)"
   ]
  },
  {
   "cell_type": "code",
   "execution_count": 29,
   "id": "716fcbc7-a8a3-4e55-9849-148234a3f8a0",
   "metadata": {},
   "outputs": [
    {
     "name": "stdout",
     "output_type": "stream",
     "text": [
      "Found 798 images belonging to 7 classes.\n",
      "Found 84 images belonging to 7 classes.\n",
      "Found 98 images belonging to 7 classes.\n"
     ]
    }
   ],
   "source": [
    "train_gray_dataflow = train_datagen.flow_from_directory(KDEF_TRAIN_PATH, target_size=(target_shape[0],target_shape[1]),color_mode = 'grayscale', subset='training')\n",
    "val_gray_dataflow = train_datagen.flow_from_directory(KDEF_TRAIN_PATH, target_size=(target_shape[0],target_shape[1]), color_mode = 'grayscale', subset='validation')\n",
    "test_gray_dataflow = test_datagen.flow_from_directory(KDEF_TEST_PATH, target_size=(target_shape[0],target_shape[1]), color_mode = 'grayscale', shuffle = False)"
   ]
  },
  {
   "cell_type": "code",
   "execution_count": 30,
   "id": "5dc21a81-3485-4f68-b88f-b21109e97ed7",
   "metadata": {
    "tags": []
   },
   "outputs": [],
   "source": [
    "model_gray = Sequential([\n",
    "    Conv2D(512, (3,3), input_shape=(target_shape[0],target_shape[1],1),activation = 'relu'),\n",
    "    MaxPool2D(),\n",
    "    BatchNormalization(),\n",
    "    Conv2D(512,(3,3), activation = 'relu'),\n",
    "    MaxPool2D(),\n",
    "    BatchNormalization(),\n",
    "    Conv2D(256,(3,3), activation = 'relu'),\n",
    "    MaxPool2D(),\n",
    "    BatchNormalization(),\n",
    "    Conv2D(256,(3,3), activation = 'relu'),\n",
    "    MaxPool2D(),\n",
    "    BatchNormalization(),\n",
    "    Flatten(),\n",
    "    Dense(512,activation = 'relu'),\n",
    "    Dropout(0.2),\n",
    "    Dense(256,activation = 'relu'),\n",
    "    Dense(7,activation = 'softmax')\n",
    "])"
   ]
  },
  {
   "cell_type": "code",
   "execution_count": 31,
   "id": "41f57127-71db-472a-be73-8fb98eb3096b",
   "metadata": {},
   "outputs": [],
   "source": [
    "model_gray.compile(loss = 'categorical_crossentropy' , \n",
    "              metrics = ['acc'],\n",
    "             optimizer = tf.keras.optimizers.Adam())"
   ]
  },
  {
   "cell_type": "code",
   "execution_count": 32,
   "id": "dd44c29e-5d65-4ffd-99b0-1be2748bbb5d",
   "metadata": {
    "tags": []
   },
   "outputs": [
    {
     "name": "stdout",
     "output_type": "stream",
     "text": [
      "Model: \"sequential_1\"\n",
      "_________________________________________________________________\n",
      " Layer (type)                Output Shape              Param #   \n",
      "=================================================================\n",
      " conv2d_4 (Conv2D)           (None, 46, 46, 512)       5120      \n",
      "                                                                 \n",
      " max_pooling2d_4 (MaxPooling  (None, 23, 23, 512)      0         \n",
      " 2D)                                                             \n",
      "                                                                 \n",
      " batch_normalization_4 (Batc  (None, 23, 23, 512)      2048      \n",
      " hNormalization)                                                 \n",
      "                                                                 \n",
      " conv2d_5 (Conv2D)           (None, 21, 21, 512)       2359808   \n",
      "                                                                 \n",
      " max_pooling2d_5 (MaxPooling  (None, 10, 10, 512)      0         \n",
      " 2D)                                                             \n",
      "                                                                 \n",
      " batch_normalization_5 (Batc  (None, 10, 10, 512)      2048      \n",
      " hNormalization)                                                 \n",
      "                                                                 \n",
      " conv2d_6 (Conv2D)           (None, 8, 8, 256)         1179904   \n",
      "                                                                 \n",
      " max_pooling2d_6 (MaxPooling  (None, 4, 4, 256)        0         \n",
      " 2D)                                                             \n",
      "                                                                 \n",
      " batch_normalization_6 (Batc  (None, 4, 4, 256)        1024      \n",
      " hNormalization)                                                 \n",
      "                                                                 \n",
      " conv2d_7 (Conv2D)           (None, 2, 2, 256)         590080    \n",
      "                                                                 \n",
      " max_pooling2d_7 (MaxPooling  (None, 1, 1, 256)        0         \n",
      " 2D)                                                             \n",
      "                                                                 \n",
      " batch_normalization_7 (Batc  (None, 1, 1, 256)        1024      \n",
      " hNormalization)                                                 \n",
      "                                                                 \n",
      " flatten_1 (Flatten)         (None, 256)               0         \n",
      "                                                                 \n",
      " dense_3 (Dense)             (None, 512)               131584    \n",
      "                                                                 \n",
      " dropout_1 (Dropout)         (None, 512)               0         \n",
      "                                                                 \n",
      " dense_4 (Dense)             (None, 256)               131328    \n",
      "                                                                 \n",
      " dense_5 (Dense)             (None, 7)                 1799      \n",
      "                                                                 \n",
      "=================================================================\n",
      "Total params: 4,405,767\n",
      "Trainable params: 4,402,695\n",
      "Non-trainable params: 3,072\n",
      "_________________________________________________________________\n"
     ]
    }
   ],
   "source": [
    "model_gray.summary()"
   ]
  },
  {
   "cell_type": "code",
   "execution_count": 33,
   "id": "7714dad6-e7f6-40ae-966d-e138f2ca1a85",
   "metadata": {},
   "outputs": [],
   "source": [
    "from tensorflow.keras import callbacks"
   ]
  },
  {
   "cell_type": "code",
   "execution_count": 34,
   "id": "caaf1bb8-c19e-456c-9881-08229000cbe9",
   "metadata": {},
   "outputs": [],
   "source": [
    "early_callback = callbacks.EarlyStopping(monitor='val_acc',patience=20, restore_best_weights=True)"
   ]
  },
  {
   "cell_type": "code",
   "execution_count": 35,
   "id": "0a83108b-0d9b-446e-973c-e90388a4c44f",
   "metadata": {},
   "outputs": [
    {
     "name": "stdout",
     "output_type": "stream",
     "text": [
      "Epoch 1/100\n",
      "25/25 [==============================] - 11s 216ms/step - loss: 1.9816 - acc: 0.2632 - val_loss: 2.0615 - val_acc: 0.1310\n",
      "Epoch 2/100\n",
      "25/25 [==============================] - 4s 159ms/step - loss: 1.4746 - acc: 0.4286 - val_loss: 2.2869 - val_acc: 0.1548\n",
      "Epoch 3/100\n",
      "25/25 [==============================] - 4s 157ms/step - loss: 1.1307 - acc: 0.5589 - val_loss: 2.4892 - val_acc: 0.1667\n",
      "Epoch 4/100\n",
      "25/25 [==============================] - 4s 159ms/step - loss: 0.9474 - acc: 0.6378 - val_loss: 2.4738 - val_acc: 0.1429\n",
      "Epoch 5/100\n",
      "25/25 [==============================] - 4s 158ms/step - loss: 0.7913 - acc: 0.6942 - val_loss: 3.1542 - val_acc: 0.1905\n",
      "Epoch 6/100\n",
      "25/25 [==============================] - 4s 156ms/step - loss: 0.5704 - acc: 0.7857 - val_loss: 3.8109 - val_acc: 0.1429\n",
      "Epoch 7/100\n",
      "25/25 [==============================] - 4s 159ms/step - loss: 0.5134 - acc: 0.8083 - val_loss: 3.8110 - val_acc: 0.1429\n",
      "Epoch 8/100\n",
      "25/25 [==============================] - 4s 158ms/step - loss: 0.3700 - acc: 0.8634 - val_loss: 3.7290 - val_acc: 0.2500\n",
      "Epoch 9/100\n",
      "25/25 [==============================] - 4s 156ms/step - loss: 0.4009 - acc: 0.8421 - val_loss: 2.3330 - val_acc: 0.1667\n",
      "Epoch 10/100\n",
      "25/25 [==============================] - 4s 154ms/step - loss: 0.3948 - acc: 0.8534 - val_loss: 5.2593 - val_acc: 0.1429\n",
      "Epoch 11/100\n",
      "25/25 [==============================] - 4s 158ms/step - loss: 0.2894 - acc: 0.8985 - val_loss: 4.7953 - val_acc: 0.1429\n",
      "Epoch 12/100\n",
      "25/25 [==============================] - 4s 160ms/step - loss: 0.1859 - acc: 0.9273 - val_loss: 3.2836 - val_acc: 0.1667\n",
      "Epoch 13/100\n",
      "25/25 [==============================] - 4s 160ms/step - loss: 0.1945 - acc: 0.9236 - val_loss: 3.8077 - val_acc: 0.1429\n",
      "Epoch 14/100\n",
      "25/25 [==============================] - 4s 160ms/step - loss: 0.2377 - acc: 0.9135 - val_loss: 2.7240 - val_acc: 0.2857\n",
      "Epoch 15/100\n",
      "25/25 [==============================] - 4s 157ms/step - loss: 0.1967 - acc: 0.9273 - val_loss: 2.6427 - val_acc: 0.2738\n",
      "Epoch 16/100\n",
      "25/25 [==============================] - 4s 159ms/step - loss: 0.2519 - acc: 0.9073 - val_loss: 3.3982 - val_acc: 0.3214\n",
      "Epoch 17/100\n",
      "25/25 [==============================] - 4s 158ms/step - loss: 0.2931 - acc: 0.9023 - val_loss: 3.6818 - val_acc: 0.2619\n",
      "Epoch 18/100\n",
      "25/25 [==============================] - 4s 159ms/step - loss: 0.1994 - acc: 0.9386 - val_loss: 1.8444 - val_acc: 0.3810\n",
      "Epoch 19/100\n",
      "25/25 [==============================] - 4s 157ms/step - loss: 0.1071 - acc: 0.9674 - val_loss: 2.5867 - val_acc: 0.3333\n",
      "Epoch 20/100\n",
      "25/25 [==============================] - 4s 158ms/step - loss: 0.0736 - acc: 0.9787 - val_loss: 1.6337 - val_acc: 0.5119\n",
      "Epoch 21/100\n",
      "25/25 [==============================] - 4s 159ms/step - loss: 0.0735 - acc: 0.9699 - val_loss: 2.9543 - val_acc: 0.4286\n",
      "Epoch 22/100\n",
      "25/25 [==============================] - 4s 160ms/step - loss: 0.1052 - acc: 0.9612 - val_loss: 2.3518 - val_acc: 0.3333\n",
      "Epoch 23/100\n",
      "25/25 [==============================] - 4s 174ms/step - loss: 0.0717 - acc: 0.9762 - val_loss: 1.4400 - val_acc: 0.6310\n",
      "Epoch 24/100\n",
      "25/25 [==============================] - 4s 164ms/step - loss: 0.0746 - acc: 0.9749 - val_loss: 1.1622 - val_acc: 0.7500\n",
      "Epoch 25/100\n",
      "25/25 [==============================] - 4s 159ms/step - loss: 0.0581 - acc: 0.9749 - val_loss: 2.0829 - val_acc: 0.5476\n",
      "Epoch 26/100\n",
      "25/25 [==============================] - 4s 164ms/step - loss: 0.0948 - acc: 0.9674 - val_loss: 1.7949 - val_acc: 0.6667\n",
      "Epoch 27/100\n",
      "25/25 [==============================] - 4s 160ms/step - loss: 0.0757 - acc: 0.9712 - val_loss: 1.1680 - val_acc: 0.7738\n",
      "Epoch 28/100\n",
      "25/25 [==============================] - 4s 157ms/step - loss: 0.0624 - acc: 0.9762 - val_loss: 1.5773 - val_acc: 0.7381\n",
      "Epoch 29/100\n",
      "25/25 [==============================] - 4s 156ms/step - loss: 0.0757 - acc: 0.9712 - val_loss: 1.6489 - val_acc: 0.6667\n",
      "Epoch 30/100\n",
      "25/25 [==============================] - 4s 156ms/step - loss: 0.0603 - acc: 0.9787 - val_loss: 2.1353 - val_acc: 0.7262\n",
      "Epoch 31/100\n",
      "25/25 [==============================] - 4s 158ms/step - loss: 0.1247 - acc: 0.9624 - val_loss: 0.7551 - val_acc: 0.7976\n",
      "Epoch 32/100\n",
      "25/25 [==============================] - 4s 159ms/step - loss: 0.0993 - acc: 0.9712 - val_loss: 0.7135 - val_acc: 0.8452\n",
      "Epoch 33/100\n",
      "25/25 [==============================] - 4s 159ms/step - loss: 0.0714 - acc: 0.9712 - val_loss: 2.9011 - val_acc: 0.6190\n",
      "Epoch 34/100\n",
      "25/25 [==============================] - 4s 159ms/step - loss: 0.0900 - acc: 0.9612 - val_loss: 1.0086 - val_acc: 0.7976\n",
      "Epoch 35/100\n",
      "25/25 [==============================] - 4s 159ms/step - loss: 0.0835 - acc: 0.9799 - val_loss: 1.0663 - val_acc: 0.8095\n",
      "Epoch 36/100\n",
      "25/25 [==============================] - 4s 157ms/step - loss: 0.0468 - acc: 0.9837 - val_loss: 0.9564 - val_acc: 0.8452\n",
      "Epoch 37/100\n",
      "25/25 [==============================] - 4s 160ms/step - loss: 0.0606 - acc: 0.9812 - val_loss: 0.6961 - val_acc: 0.8571\n",
      "Epoch 38/100\n",
      "25/25 [==============================] - 4s 157ms/step - loss: 0.0377 - acc: 0.9850 - val_loss: 1.5572 - val_acc: 0.7738\n",
      "Epoch 39/100\n",
      "25/25 [==============================] - 4s 158ms/step - loss: 0.0520 - acc: 0.9850 - val_loss: 0.9386 - val_acc: 0.8452\n",
      "Epoch 40/100\n",
      "25/25 [==============================] - 4s 159ms/step - loss: 0.0395 - acc: 0.9862 - val_loss: 1.5293 - val_acc: 0.7143\n",
      "Epoch 41/100\n",
      "25/25 [==============================] - 4s 158ms/step - loss: 0.0447 - acc: 0.9799 - val_loss: 0.6917 - val_acc: 0.8690\n",
      "Epoch 42/100\n",
      "25/25 [==============================] - 4s 158ms/step - loss: 0.0402 - acc: 0.9862 - val_loss: 2.0876 - val_acc: 0.6429\n",
      "Epoch 43/100\n",
      "25/25 [==============================] - 4s 157ms/step - loss: 0.0572 - acc: 0.9724 - val_loss: 1.1140 - val_acc: 0.7857\n",
      "Epoch 44/100\n",
      "25/25 [==============================] - 4s 157ms/step - loss: 0.0521 - acc: 0.9875 - val_loss: 1.0374 - val_acc: 0.7500\n",
      "Epoch 45/100\n",
      "25/25 [==============================] - 4s 158ms/step - loss: 0.0631 - acc: 0.9762 - val_loss: 1.6532 - val_acc: 0.7024\n",
      "Epoch 46/100\n",
      "25/25 [==============================] - 4s 158ms/step - loss: 0.1135 - acc: 0.9599 - val_loss: 2.8144 - val_acc: 0.4167\n",
      "Epoch 47/100\n",
      "25/25 [==============================] - 4s 158ms/step - loss: 0.1160 - acc: 0.9699 - val_loss: 3.2478 - val_acc: 0.4524\n",
      "Epoch 48/100\n",
      "25/25 [==============================] - 4s 158ms/step - loss: 0.1212 - acc: 0.9662 - val_loss: 3.6464 - val_acc: 0.3929\n",
      "Epoch 49/100\n",
      "25/25 [==============================] - 4s 158ms/step - loss: 0.0635 - acc: 0.9724 - val_loss: 1.5343 - val_acc: 0.6667\n",
      "Epoch 50/100\n",
      "25/25 [==============================] - 4s 156ms/step - loss: 0.0311 - acc: 0.9912 - val_loss: 0.7789 - val_acc: 0.7500\n",
      "Epoch 51/100\n",
      "25/25 [==============================] - 4s 157ms/step - loss: 0.0249 - acc: 0.9925 - val_loss: 0.8973 - val_acc: 0.7857\n",
      "Epoch 52/100\n",
      "25/25 [==============================] - 4s 161ms/step - loss: 0.0133 - acc: 0.9937 - val_loss: 0.6069 - val_acc: 0.8810\n",
      "Epoch 53/100\n",
      "25/25 [==============================] - 4s 157ms/step - loss: 0.0388 - acc: 0.9837 - val_loss: 1.3037 - val_acc: 0.7619\n",
      "Epoch 54/100\n",
      "25/25 [==============================] - 4s 160ms/step - loss: 0.0914 - acc: 0.9762 - val_loss: 0.9959 - val_acc: 0.8214\n",
      "Epoch 55/100\n",
      "25/25 [==============================] - 4s 157ms/step - loss: 0.1485 - acc: 0.9499 - val_loss: 1.0239 - val_acc: 0.7738\n",
      "Epoch 56/100\n",
      "25/25 [==============================] - 4s 159ms/step - loss: 0.0784 - acc: 0.9749 - val_loss: 1.7197 - val_acc: 0.6667\n",
      "Epoch 57/100\n",
      "25/25 [==============================] - 4s 157ms/step - loss: 0.0791 - acc: 0.9674 - val_loss: 1.6530 - val_acc: 0.7500\n",
      "Epoch 58/100\n",
      "25/25 [==============================] - 4s 158ms/step - loss: 0.0376 - acc: 0.9925 - val_loss: 1.5980 - val_acc: 0.6905\n",
      "Epoch 59/100\n",
      "25/25 [==============================] - 4s 156ms/step - loss: 0.0558 - acc: 0.9799 - val_loss: 1.5768 - val_acc: 0.7619\n",
      "Epoch 60/100\n",
      "25/25 [==============================] - 4s 155ms/step - loss: 0.0430 - acc: 0.9887 - val_loss: 0.7834 - val_acc: 0.8571\n",
      "Epoch 61/100\n",
      "25/25 [==============================] - 4s 160ms/step - loss: 0.0311 - acc: 0.9900 - val_loss: 1.5654 - val_acc: 0.7500\n",
      "Epoch 62/100\n",
      "25/25 [==============================] - 4s 156ms/step - loss: 0.0277 - acc: 0.9887 - val_loss: 0.9850 - val_acc: 0.8571\n",
      "Epoch 63/100\n",
      "25/25 [==============================] - 4s 156ms/step - loss: 0.0692 - acc: 0.9850 - val_loss: 1.1630 - val_acc: 0.7738\n",
      "Epoch 64/100\n",
      "25/25 [==============================] - 4s 158ms/step - loss: 0.0313 - acc: 0.9887 - val_loss: 0.8214 - val_acc: 0.7857\n",
      "Epoch 65/100\n",
      "25/25 [==============================] - 4s 151ms/step - loss: 0.0169 - acc: 0.9950 - val_loss: 1.6471 - val_acc: 0.7619\n",
      "Epoch 66/100\n",
      "25/25 [==============================] - 4s 150ms/step - loss: 0.0085 - acc: 0.9975 - val_loss: 0.8631 - val_acc: 0.8571\n",
      "Epoch 67/100\n",
      "25/25 [==============================] - 4s 157ms/step - loss: 0.0195 - acc: 0.9962 - val_loss: 0.7093 - val_acc: 0.8810\n",
      "Epoch 68/100\n",
      "25/25 [==============================] - 4s 154ms/step - loss: 0.0076 - acc: 0.9975 - val_loss: 0.5749 - val_acc: 0.8929\n",
      "Epoch 69/100\n",
      "25/25 [==============================] - 4s 154ms/step - loss: 0.0077 - acc: 0.9975 - val_loss: 0.8628 - val_acc: 0.8333\n",
      "Epoch 70/100\n",
      "25/25 [==============================] - 4s 152ms/step - loss: 0.0026 - acc: 1.0000 - val_loss: 0.8554 - val_acc: 0.8690\n",
      "Epoch 71/100\n",
      "25/25 [==============================] - 4s 154ms/step - loss: 0.0125 - acc: 0.9962 - val_loss: 1.2844 - val_acc: 0.8214\n",
      "Epoch 72/100\n",
      "25/25 [==============================] - 4s 153ms/step - loss: 0.0348 - acc: 0.9912 - val_loss: 1.1620 - val_acc: 0.8095\n",
      "Epoch 73/100\n",
      "25/25 [==============================] - 4s 150ms/step - loss: 0.0422 - acc: 0.9900 - val_loss: 1.3109 - val_acc: 0.7738\n",
      "Epoch 74/100\n",
      "25/25 [==============================] - 4s 156ms/step - loss: 0.0207 - acc: 0.9950 - val_loss: 1.0823 - val_acc: 0.7738\n",
      "Epoch 75/100\n",
      "25/25 [==============================] - 4s 152ms/step - loss: 0.0137 - acc: 0.9950 - val_loss: 0.8502 - val_acc: 0.7738\n",
      "Epoch 76/100\n",
      "25/25 [==============================] - 4s 156ms/step - loss: 0.0329 - acc: 0.9937 - val_loss: 1.4089 - val_acc: 0.7857\n",
      "Epoch 77/100\n",
      "25/25 [==============================] - 4s 153ms/step - loss: 0.0342 - acc: 0.9887 - val_loss: 1.3708 - val_acc: 0.7500\n",
      "Epoch 78/100\n",
      "25/25 [==============================] - 4s 152ms/step - loss: 0.0420 - acc: 0.9912 - val_loss: 1.3777 - val_acc: 0.7619\n",
      "Epoch 79/100\n",
      "25/25 [==============================] - 4s 151ms/step - loss: 0.0054 - acc: 0.9987 - val_loss: 1.1758 - val_acc: 0.8095\n",
      "Epoch 80/100\n",
      "25/25 [==============================] - 4s 152ms/step - loss: 0.0115 - acc: 0.9962 - val_loss: 1.0003 - val_acc: 0.8571\n",
      "Epoch 81/100\n",
      "25/25 [==============================] - 4s 150ms/step - loss: 0.0017 - acc: 1.0000 - val_loss: 0.8495 - val_acc: 0.8452\n",
      "Epoch 82/100\n",
      "25/25 [==============================] - 4s 153ms/step - loss: 0.0068 - acc: 0.9975 - val_loss: 0.9533 - val_acc: 0.8452\n",
      "Epoch 83/100\n",
      "25/25 [==============================] - 4s 153ms/step - loss: 8.2227e-04 - acc: 1.0000 - val_loss: 1.0470 - val_acc: 0.8214\n",
      "Epoch 84/100\n",
      "25/25 [==============================] - 4s 152ms/step - loss: 0.0011 - acc: 1.0000 - val_loss: 1.0181 - val_acc: 0.8333\n",
      "Epoch 85/100\n",
      "25/25 [==============================] - 4s 152ms/step - loss: 0.0011 - acc: 1.0000 - val_loss: 0.8104 - val_acc: 0.8452\n",
      "Epoch 86/100\n",
      "25/25 [==============================] - 4s 150ms/step - loss: 0.0011 - acc: 1.0000 - val_loss: 0.8444 - val_acc: 0.8452\n",
      "Epoch 87/100\n",
      "25/25 [==============================] - 4s 153ms/step - loss: 9.0506e-04 - acc: 1.0000 - val_loss: 1.0004 - val_acc: 0.8452\n",
      "Epoch 88/100\n",
      "25/25 [==============================] - 4s 151ms/step - loss: 3.0724e-04 - acc: 1.0000 - val_loss: 0.7778 - val_acc: 0.8452\n"
     ]
    }
   ],
   "source": [
    "model_gray_history = model_gray.fit(train_gray_dataflow,validation_data=val_gray_dataflow, epochs =100, callbacks=[early_callback])"
   ]
  },
  {
   "cell_type": "code",
   "execution_count": 36,
   "id": "fc775241-d7f1-46ef-8b51-40b02bd59cad",
   "metadata": {},
   "outputs": [
    {
     "name": "stdout",
     "output_type": "stream",
     "text": [
      "4/4 [==============================] - 1s 133ms/step - loss: 0.7085 - acc: 0.8571\n"
     ]
    },
    {
     "data": {
      "text/plain": [
       "[0.7085054516792297, 0.8571428656578064]"
      ]
     },
     "execution_count": 36,
     "metadata": {},
     "output_type": "execute_result"
    }
   ],
   "source": [
    "model_gray.evaluate(test_gray_dataflow)"
   ]
  },
  {
   "cell_type": "code",
   "execution_count": 37,
   "id": "5827c03e-d9b4-40eb-9670-21df28a51ca7",
   "metadata": {},
   "outputs": [
    {
     "data": {
      "image/png": "[encoded data removed]",
      "text/plain": [
       "<Figure size 432x288 with 1 Axes>"
      ]
     },
     "metadata": {
      "needs_background": "light"
     },
     "output_type": "display_data"
    },
    {
     "data": {
      "image/png": "[encoded data removed]",
      "text/plain": [
       "<Figure size 432x288 with 1 Axes>"
      ]
     },
     "metadata": {
      "needs_background": "light"
     },
     "output_type": "display_data"
    }
   ],
   "source": [
    "plot_results(model_gray_history)"
   ]
  },
  {
   "cell_type": "code",
   "execution_count": 38,
   "id": "3133a7f1-3b4f-48ec-a554-31a944e4a4b4",
   "metadata": {},
   "outputs": [
    {
     "name": "stdout",
     "output_type": "stream",
     "text": [
      "              precision    recall  f1-score   support\n",
      "\n",
      "       ANGRY       0.86      0.86      0.86        14\n",
      "   DISGUSTED       0.93      0.93      0.93        14\n",
      "     FEARFUL       0.65      0.93      0.76        14\n",
      "       HAPPY       1.00      0.79      0.88        14\n",
      "     NEUTRAL       0.80      0.86      0.83        14\n",
      "         SAD       0.90      0.64      0.75        14\n",
      "   SURPRISED       1.00      1.00      1.00        14\n",
      "\n",
      "    accuracy                           0.86        98\n",
      "   macro avg       0.88      0.86      0.86        98\n",
      "weighted avg       0.88      0.86      0.86        98\n",
      "\n"
     ]
    }
   ],
   "source": [
    "display_classifcation_report(model_gray,test_gray_dataflow)"
   ]
  },
  {
   "cell_type": "code",
   "execution_count": 39,
   "id": "74ef4ebc-8b21-40c2-89ff-f0d2edb8d80d",
   "metadata": {},
   "outputs": [],
   "source": [
    "model_gray.save(\"kdef_gray_model.h5\")"
   ]
  },
  {
   "cell_type": "code",
   "execution_count": 40,
   "id": "17662663-ff2c-4573-a23e-cb65be39b7ea",
   "metadata": {
    "tags": []
   },
   "outputs": [
    {
     "data": {
      "text/plain": [
       "(32, 48, 48, 1)"
      ]
     },
     "execution_count": 40,
     "metadata": {},
     "output_type": "execute_result"
    }
   ],
   "source": [
    "next(test_gray_dataflow)[0].shape"
   ]
  },
  {
   "cell_type": "code",
   "execution_count": 41,
   "id": "e32e59b5-80a2-4693-b5a9-749c5d064618",
   "metadata": {},
   "outputs": [],
   "source": [
    "import numpy as np\n",
    "from matplotlib import pyplot as plt\n",
    "import cv2\n",
    "import tensorflow as tf"
   ]
  },
  {
   "cell_type": "code",
   "execution_count": 42,
   "id": "bf9977bd-4748-47ef-b180-66585fbbd7f9",
   "metadata": {},
   "outputs": [],
   "source": [
    "IMAGE_SHAPE = target_shape"
   ]
  },
  {
   "cell_type": "markdown",
   "id": "95e1ae2c-5232-4aec-8a22-756bbb4b6552",
   "metadata": {},
   "source": [
    "## Fearful"
   ]
  },
  {
   "cell_type": "code",
   "execution_count": 43,
   "id": "50307a0c-8770-44ac-9a75-fb559b7c24fe",
   "metadata": {},
   "outputs": [
    {
     "data": {
      "text/plain": [
       "{'AFS': 'FEARFUL',\n",
       " 'ANS': 'ANGRY',\n",
       " 'DIS': 'DISGUSTED',\n",
       " 'HAS': 'HAPPY',\n",
       " 'NES': 'NEUTRAL',\n",
       " 'SAS': 'SAD',\n",
       " 'SUS': 'SURPRISED'}"
      ]
     },
     "execution_count": 43,
     "metadata": {},
     "output_type": "execute_result"
    }
   ],
   "source": [
    "emotions_dict"
   ]
  },
  {
   "cell_type": "code",
   "execution_count": 44,
   "id": "f6d2b5df-0e6e-4c67-b11a-f75966c4dde1",
   "metadata": {},
   "outputs": [
    {
     "data": {
      "text/plain": [
       "dict_keys(['AFS', 'ANS', 'DIS', 'HAS', 'NES', 'SAS', 'SUS'])"
      ]
     },
     "execution_count": 44,
     "metadata": {},
     "output_type": "execute_result"
    }
   ],
   "source": [
    "emotions_dict.keys()"
   ]
  },
  {
   "cell_type": "code",
   "execution_count": 76,
   "id": "81c708a4-d7fd-48d1-9f14-c1997d1b1d86",
   "metadata": {},
   "outputs": [],
   "source": [
    "test_strings = ['./KDEF/BF03/BF03'+str(key)+'.jpg' for key in emotions_dict.keys()]"
   ]
  },
  {
   "cell_type": "code",
   "execution_count": 77,
   "id": "eb40491a-bcdd-4be5-ba8c-d137951d5dda",
   "metadata": {},
   "outputs": [
    {
     "data": {
      "text/plain": [
       "'./KDEF/BF03/BF03AFS.jpg'"
      ]
     },
     "execution_count": 77,
     "metadata": {},
     "output_type": "execute_result"
    }
   ],
   "source": [
    "test_strings[0]"
   ]
  },
  {
   "cell_type": "code",
   "execution_count": 78,
   "id": "ff9c6bed-7aac-41ec-a5f3-5f1e3cf38592",
   "metadata": {},
   "outputs": [],
   "source": [
    "def preprocess_image(path):\n",
    "    img = cv2.imread(path, cv2.IMREAD_GRAYSCALE)\n",
    "    img = cv2.resize(img, (IMAGE_SHAPE[0],IMAGE_SHAPE[1]))\n",
    "    img = img *(1./255)\n",
    "    return img"
   ]
  },
  {
   "cell_type": "code",
   "execution_count": 79,
   "id": "1c5bd17c-e271-40d8-9f8d-f4f0976f9d17",
   "metadata": {},
   "outputs": [],
   "source": [
    "def predict_emotion(path):\n",
    "    img = preprocess_image(path)\n",
    "    prediction = model_gray.predict(img.reshape(1, img.shape[1],img.shape[0],1))\n",
    "    predict_emotion = np.argmax(prediction, axis=1)\n",
    "    predict_emotion = emotions[int(predict_emotion)]\n",
    "    return list(zip(*prediction,emotions)) , predict_emotion"
   ]
  },
  {
   "cell_type": "code",
   "execution_count": 80,
   "id": "f7f01e33-fd1f-4466-aff2-ff78d3d544d5",
   "metadata": {},
   "outputs": [
    {
     "data": {
      "text/plain": [
       "['ANGRY', 'DISGUSTED', 'FEARFUL', 'HAPPY', 'NEUTRAL', 'SAD', 'SURPRISED']"
      ]
     },
     "execution_count": 80,
     "metadata": {},
     "output_type": "execute_result"
    }
   ],
   "source": [
    "emotions"
   ]
  },
  {
   "cell_type": "code",
   "execution_count": 81,
   "id": "ee7b47af-1e08-40a3-8c42-969248f19167",
   "metadata": {},
   "outputs": [
    {
     "name": "stdout",
     "output_type": "stream",
     "text": [
      "Testing for  ./KDEF/BF03/BF03AFS.jpg\n",
      "[(5.706104e-07, 'ANGRY'), (2.3111825e-05, 'DISGUSTED'), (0.99997044, 'FEARFUL'), (2.4556615e-08, 'HAPPY'), (7.789109e-10, 'NEUTRAL'), (5.8120054e-06, 'SAD'), (1.0467332e-08, 'SURPRISED')]\n",
      "Predicted emotion is FEARFUL\n",
      "\n",
      "\n",
      "Testing for  ./KDEF/BF03/BF03ANS.jpg\n",
      "[(0.9999875, 'ANGRY'), (5.2418873e-08, 'DISGUSTED'), (1.2229774e-05, 'FEARFUL'), (1.6766787e-10, 'HAPPY'), (4.1511928e-08, 'NEUTRAL'), (1.311938e-07, 'SAD'), (9.480175e-09, 'SURPRISED')]\n",
      "Predicted emotion is ANGRY\n",
      "\n",
      "\n",
      "Testing for  ./KDEF/BF03/BF03DIS.jpg\n",
      "[(6.507088e-08, 'ANGRY'), (0.9999999, 'DISGUSTED'), (3.5915953e-08, 'FEARFUL'), (8.1874035e-10, 'HAPPY'), (2.4847427e-12, 'NEUTRAL'), (1.4128255e-09, 'SAD'), (2.8273692e-11, 'SURPRISED')]\n",
      "Predicted emotion is DISGUSTED\n",
      "\n",
      "\n",
      "Testing for  ./KDEF/BF03/BF03HAS.jpg\n",
      "[(9.126549e-06, 'ANGRY'), (3.8794788e-06, 'DISGUSTED'), (0.00045497718, 'FEARFUL'), (0.9993961, 'HAPPY'), (1.3459993e-06, 'NEUTRAL'), (0.00013445817, 'SAD'), (1.5275032e-07, 'SURPRISED')]\n",
      "Predicted emotion is HAPPY\n",
      "\n",
      "\n",
      "Testing for  ./KDEF/BF03/BF03NES.jpg\n",
      "[(0.01674123, 'ANGRY'), (5.2359217e-05, 'DISGUSTED'), (0.00084987597, 'FEARFUL'), (0.004251674, 'HAPPY'), (0.9636159, 'NEUTRAL'), (0.002109648, 'SAD'), (0.012379263, 'SURPRISED')]\n",
      "Predicted emotion is NEUTRAL\n",
      "\n",
      "\n",
      "Testing for  ./KDEF/BF03/BF03SAS.jpg\n",
      "[(4.6726083e-08, 'ANGRY'), (4.171454e-06, 'DISGUSTED'), (0.0002664661, 'FEARFUL'), (1.0375076e-08, 'HAPPY'), (1.01249995e-08, 'NEUTRAL'), (0.99972934, 'SAD'), (3.0395178e-10, 'SURPRISED')]\n",
      "Predicted emotion is SAD\n",
      "\n",
      "\n",
      "Testing for  ./KDEF/BF03/BF03SUS.jpg\n",
      "[(1.3931933e-11, 'ANGRY'), (1.0332687e-13, 'DISGUSTED'), (5.547446e-10, 'FEARFUL'), (1.3049029e-15, 'HAPPY'), (2.3822749e-14, 'NEUTRAL'), (2.8602693e-13, 'SAD'), (1.0, 'SURPRISED')]\n",
      "Predicted emotion is SURPRISED\n",
      "\n",
      "\n"
     ]
    }
   ],
   "source": [
    "for string in test_strings:\n",
    "    print('Testing for ' , string)\n",
    "    print(predict_emotion(string)[0])\n",
    "    print(f'Predicted emotion is {predict_emotion(string)[1]}')\n",
    "    print('\\n')"
   ]
  }
 ],
 "metadata": {
  "kernelspec": {
   "display_name": "Python 3 (ipykernel)",
   "language": "python",
   "name": "python3"
  },
  "language_info": {
   "codemirror_mode": {
    "name": "ipython",
    "version": 3
   },
   "file_extension": ".py",
   "mimetype": "text/x-python",
   "name": "python",
   "nbconvert_exporter": "python",
   "pygments_lexer": "ipython3",
   "version": "3.9.9"
  }
 },
 "nbformat": 4,
 "nbformat_minor": 5
}
