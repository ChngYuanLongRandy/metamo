{
 "cells": [
  {
   "cell_type": "code",
   "execution_count": 1,
   "id": "5fed1cdb-1e42-4e60-a942-98fed0ec20d9",
   "metadata": {},
   "outputs": [],
   "source": [
    "from scipy.io import loadmat"
   ]
  },
  {
   "cell_type": "code",
   "execution_count": 2,
   "id": "36e1dabe-2718-4648-b5b9-46c3b3ebcfa8",
   "metadata": {},
   "outputs": [],
   "source": [
    "annot_path = 'C:\\\\Users\\\\Randy\\\\Downloads\\\\Annotations\\\\Annotations.mat'"
   ]
  },
  {
   "cell_type": "code",
   "execution_count": 3,
   "id": "6cc76928-d5c7-473c-96b5-05e4edd9df5e",
   "metadata": {},
   "outputs": [],
   "source": [
    "annots = loadmat(annot_path)"
   ]
  },
  {
   "cell_type": "code",
   "execution_count": 4,
   "id": "0e119545-577d-4a27-a49d-b1835693776f",
   "metadata": {},
   "outputs": [
    {
     "data": {
      "text/plain": [
       "dict_keys(['__header__', '__version__', '__globals__', 'test', 'train', 'val'])"
      ]
     },
     "execution_count": 4,
     "metadata": {},
     "output_type": "execute_result"
    }
   ],
   "source": [
    "annots.keys()"
   ]
  },
  {
   "cell_type": "code",
   "execution_count": 5,
   "id": "2c487ab1-311c-4a01-878e-8218f08bdbfa",
   "metadata": {},
   "outputs": [
    {
     "data": {
      "text/plain": [
       "array([[(array(['COCO_val2014_000000562243.jpg'], dtype='<U29'), array(['mscoco/images'], dtype='<U13'), array([[(array([[640]], dtype=uint16), array([[640]], dtype=uint16))]],\n",
       "              dtype=[('n_col', 'O'), ('n_row', 'O')]), array([[(array(['mscoco'], dtype='<U6'), array([[(array([[562243]]), array([[448867]]))]],\n",
       "                      dtype=[('image_id', 'O'), ('annotations_id', 'O')]))                        ]],\n",
       "              dtype=[('name', 'O'), ('info', 'O')]), array([[(array([[ 86,  58, 564, 628]], dtype=uint16), array([[(array([[array(['Disconnection'], dtype='<U13'),\n",
       "                                array(['Doubt/Confusion'], dtype='<U15')]], dtype=object),)]],\n",
       "                      dtype=[('categories', 'O')]), array([[(array([[5]], dtype=uint8), array([[3]], dtype=uint8), array([[9]], dtype=uint8))]],\n",
       "                      dtype=[('valence', 'O'), ('arousal', 'O'), ('dominance', 'O')]), array(['Male'], dtype='<U4'), array(['Adult'], dtype='<U5'))]],\n",
       "              dtype=[('body_bbox', 'O'), ('annotations_categories', 'O'), ('annotations_continuous', 'O'), ('gender', 'O'), ('age', 'O')]))                                     ,\n",
       "        (array(['COCO_train2014_000000288841.jpg'], dtype='<U31'), array(['mscoco/images'], dtype='<U13'), array([[(array([[640]], dtype=uint16), array([[480]], dtype=uint16))]],\n",
       "              dtype=[('n_col', 'O'), ('n_row', 'O')]), array([[(array(['mscoco'], dtype='<U6'), array([[(array([[288841]]), array([[1750456]]))]],\n",
       "                      dtype=[('image_id', 'O'), ('annotations_id', 'O')]))                         ]],\n",
       "              dtype=[('name', 'O'), ('info', 'O')]), array([[(array([[485, 149, 605, 473]], dtype=uint16), array([[(array([[array(['Anticipation'], dtype='<U12')]], dtype=object),)]],\n",
       "                      dtype=[('categories', 'O')]), array([[(array([[6]], dtype=uint8), array([[4]], dtype=uint8), array([[7]], dtype=uint8))]],\n",
       "                      dtype=[('valence', 'O'), ('arousal', 'O'), ('dominance', 'O')]), array(['Male'], dtype='<U4'), array(['Adult'], dtype='<U5'))]],\n",
       "              dtype=[('body_bbox', 'O'), ('annotations_categories', 'O'), ('annotations_continuous', 'O'), ('gender', 'O'), ('age', 'O')]))                                            ,\n",
       "        (array(['COCO_val2014_000000558171.jpg'], dtype='<U29'), array(['mscoco/images'], dtype='<U13'), array([[(array([[640]], dtype=uint16), array([[480]], dtype=uint16))]],\n",
       "              dtype=[('n_col', 'O'), ('n_row', 'O')]), array([[(array(['mscoco'], dtype='<U6'), array([[(array([[558171]]), array([[467799]]))]],\n",
       "                      dtype=[('image_id', 'O'), ('annotations_id', 'O')]))                        ]],\n",
       "              dtype=[('name', 'O'), ('info', 'O')]), array([[(array([[305,  92, 461, 465]], dtype=uint16), array([[(array([[array(['Engagement'], dtype='<U10'),\n",
       "                                array(['Excitement'], dtype='<U10'),\n",
       "                                array(['Happiness'], dtype='<U9')]], dtype=object),)]],\n",
       "                      dtype=[('categories', 'O')]), array([[(array([[7]], dtype=uint8), array([[8]], dtype=uint8), array([[8]], dtype=uint8))]],\n",
       "                      dtype=[('valence', 'O'), ('arousal', 'O'), ('dominance', 'O')]), array(['Male'], dtype='<U4'), array(['Teenager'], dtype='<U8'))]],\n",
       "              dtype=[('body_bbox', 'O'), ('annotations_categories', 'O'), ('annotations_continuous', 'O'), ('gender', 'O'), ('age', 'O')]))                                     ,\n",
       "        ...,\n",
       "        (array(['COCO_val2014_000000514083.jpg'], dtype='<U29'), array(['mscoco/images'], dtype='<U13'), array([[(array([[640]], dtype=uint16), array([[480]], dtype=uint16))]],\n",
       "              dtype=[('n_col', 'O'), ('n_row', 'O')]), array([[(array(['mscoco'], dtype='<U6'), array([[(array([[514083]]), array([[432213]]))]],\n",
       "                      dtype=[('image_id', 'O'), ('annotations_id', 'O')]))                        ]],\n",
       "              dtype=[('name', 'O'), ('info', 'O')]), array([[(array([[166,  35, 341, 401]], dtype=uint16), array([[(array([[array(['Anticipation'], dtype='<U12'),\n",
       "                                array(['Engagement'], dtype='<U10'),\n",
       "                                array(['Excitement'], dtype='<U10')]], dtype=object),)]],\n",
       "                      dtype=[('categories', 'O')]), array([[(array([[6]], dtype=uint8), array([[2]], dtype=uint8), array([[10]], dtype=uint8))]],\n",
       "                      dtype=[('valence', 'O'), ('arousal', 'O'), ('dominance', 'O')]), array(['Male'], dtype='<U4'), array(['Adult'], dtype='<U5'))]],\n",
       "              dtype=[('body_bbox', 'O'), ('annotations_categories', 'O'), ('annotations_continuous', 'O'), ('gender', 'O'), ('age', 'O')]))                                     ,\n",
       "        (array(['frame_k7fb824vh221kl3j.jpg'], dtype='<U26'), array(['framesdb/images'], dtype='<U15'), array([[(array([[500]], dtype=uint16), array([[375]], dtype=uint16))]],\n",
       "              dtype=[('n_col', 'O'), ('n_row', 'O')]), array([[(array(['framesdb'], dtype='<U8'),)]], dtype=[('name', 'O')]), array([[(array([[245., 227., 293., 340.]], dtype=float32), array([[(array([[array(['Engagement'], dtype='<U10')]], dtype=object),)]],\n",
       "                      dtype=[('categories', 'O')]), array([[(array([[5]], dtype=uint8), array([[5]], dtype=uint8), array([[6]], dtype=uint8))]],\n",
       "                      dtype=[('valence', 'O'), ('arousal', 'O'), ('dominance', 'O')]), array(['Male'], dtype='<U4'), array(['Adult'], dtype='<U5'))]],\n",
       "              dtype=[('body_bbox', 'O'), ('annotations_categories', 'O'), ('annotations_continuous', 'O'), ('gender', 'O'), ('age', 'O')]))                                                                                                                        ,\n",
       "        (array(['COCO_val2014_000000244665.jpg'], dtype='<U29'), array(['mscoco/images'], dtype='<U13'), array([[(array([[640]], dtype=uint16), array([[480]], dtype=uint16))]],\n",
       "              dtype=[('n_col', 'O'), ('n_row', 'O')]), array([[(array(['mscoco'], dtype='<U6'), array([[(array([[244665]]), array([[1288561]]))]],\n",
       "                      dtype=[('image_id', 'O'), ('annotations_id', 'O')]))                         ]],\n",
       "              dtype=[('name', 'O'), ('info', 'O')]), array([[(array([[189, 169, 314, 410]], dtype=uint16), array([[(array([[array(['Sympathy'], dtype='<U8')]], dtype=object),)]],\n",
       "                      dtype=[('categories', 'O')]), array([[(array([[6]], dtype=uint8), array([[4]], dtype=uint8), array([[8]], dtype=uint8))]],\n",
       "                      dtype=[('valence', 'O'), ('arousal', 'O'), ('dominance', 'O')]), array(['Female'], dtype='<U6'), array(['Adult'], dtype='<U5')),\n",
       "                (array([[303, 174, 535, 468]], dtype=uint16), array([[(array([[array(['Anticipation'], dtype='<U12'),\n",
       "                                array(['Esteem'], dtype='<U6'), array(['Sympathy'], dtype='<U8')]],\n",
       "                              dtype=object),)                                                      ]],\n",
       "                      dtype=[('categories', 'O')]), array([[(array([[7]], dtype=uint8), array([[6]], dtype=uint8), array([[7]], dtype=uint8))]],\n",
       "                      dtype=[('valence', 'O'), ('arousal', 'O'), ('dominance', 'O')]), array(['Male'], dtype='<U4'), array(['Adult'], dtype='<U5'))]],\n",
       "              dtype=[('body_bbox', 'O'), ('annotations_categories', 'O'), ('annotations_continuous', 'O'), ('gender', 'O'), ('age', 'O')]))                                       ]],\n",
       "      dtype=[('filename', 'O'), ('folder', 'O'), ('image_size', 'O'), ('original_database', 'O'), ('person', 'O')])"
      ]
     },
     "execution_count": 5,
     "metadata": {},
     "output_type": "execute_result"
    }
   ],
   "source": [
    "annots['train']"
   ]
  },
  {
   "cell_type": "code",
   "execution_count": 6,
   "id": "782e58c7-9407-49fc-9308-5254b4606a8f",
   "metadata": {},
   "outputs": [
    {
     "data": {
      "text/plain": [
       "17077"
      ]
     },
     "execution_count": 6,
     "metadata": {},
     "output_type": "execute_result"
    }
   ],
   "source": [
    "len(annots['train'][0])"
   ]
  },
  {
   "cell_type": "code",
   "execution_count": 7,
   "id": "dc8b5f01-6f5c-4e2a-96ec-28dfe451e7c7",
   "metadata": {},
   "outputs": [
    {
     "data": {
      "text/plain": [
       "5"
      ]
     },
     "execution_count": 7,
     "metadata": {},
     "output_type": "execute_result"
    }
   ],
   "source": [
    "len(annots['train'][0][3])"
   ]
  },
  {
   "cell_type": "code",
   "execution_count": 11,
   "id": "39e3c541-5f04-436f-9d38-96beb2506eba",
   "metadata": {},
   "outputs": [
    {
     "data": {
      "text/plain": [
       "array(['mscoco/images'], dtype='<U13')"
      ]
     },
     "execution_count": 11,
     "metadata": {},
     "output_type": "execute_result"
    }
   ],
   "source": [
    "annots['train'][0][3][1]"
   ]
  },
  {
   "cell_type": "code",
   "execution_count": 14,
   "id": "f624aaae-0b7a-4219-8fbc-6195d9c059d9",
   "metadata": {},
   "outputs": [
    {
     "data": {
      "text/plain": [
       "array([[(array(['frame_ghkq7yp0itqz0kn7.jpg'], dtype='<U26'), array(['framesdb/images'], dtype='<U15'), array([[(array([[640]], dtype=uint16), array([[426]], dtype=uint16))]],\n",
       "              dtype=[('n_col', 'O'), ('n_row', 'O')]), array([[(array(['framesdb'], dtype='<U8'),)]], dtype=[('name', 'O')]), array([[(array([[279.,  18., 623., 425.]], dtype=float32), array([[(array([[array(['Happiness'], dtype='<U9'),\n",
       "                                array(['Engagement'], dtype='<U10'),\n",
       "                                array(['Peace'], dtype='<U5')]], dtype=object),),\n",
       "                        (array([[array(['Affection'], dtype='<U9'),\n",
       "                                array(['Engagement'], dtype='<U10')]], dtype=object),),\n",
       "                        (array([[array(['Confidence'], dtype='<U10'),\n",
       "                                array(['Pleasure'], dtype='<U8')]], dtype=object),)]],\n",
       "                      dtype=[('categories', 'O')]), array([[array(['Affection'], dtype='<U9'),\n",
       "                        array(['Confidence'], dtype='<U10'),\n",
       "                        array(['Engagement'], dtype='<U10'),\n",
       "                        array(['Happiness'], dtype='<U9'), array(['Peace'], dtype='<U5'),\n",
       "                        array(['Pleasure'], dtype='<U8')]], dtype=object), array([[(array([[7]], dtype=uint8), array([[4]], dtype=uint8), array([[7]], dtype=uint8)),\n",
       "                        (array([[7]], dtype=uint8), array([[4]], dtype=uint8), array([[3]], dtype=uint8)),\n",
       "                        (array([[6]], dtype=uint8), array([[5]], dtype=uint8), array([[7]], dtype=uint8))]],\n",
       "                      dtype=[('valence', 'O'), ('arousal', 'O'), ('dominance', 'O')]), array([[(array([[7]], dtype=uint8), array([[4]], dtype=uint8), array([[6]], dtype=uint8))]],\n",
       "                      dtype=[('valence', 'O'), ('arousal', 'O'), ('dominance', 'O')]), array(['Female'], dtype='<U6'), array(['Adult'], dtype='<U5'))                              ]],\n",
       "              dtype=[('body_bbox', 'O'), ('annotations_categories', 'O'), ('combined_categories', 'O'), ('annotations_continuous', 'O'), ('combined_continuous', 'O'), ('gender', 'O'), ('age', 'O')]))                                     ,\n",
       "        (array(['COCO_train2014_000000449158.jpg'], dtype='<U31'), array(['mscoco/images'], dtype='<U13'), array([[(array([[640]], dtype=uint16), array([[480]], dtype=uint16))]],\n",
       "              dtype=[('n_col', 'O'), ('n_row', 'O')]), array([[(array(['mscoco'], dtype='<U6'), array([[(array([[449158]]), array([[199459]]))]],\n",
       "                      dtype=[('image_id', 'O'), ('annotations_id', 'O')]))                        ]],\n",
       "              dtype=[('name', 'O'), ('info', 'O')]), array([[(array([[379, 210, 520, 479]], dtype=uint16), array([[(array([[array(['Doubt/Confusion'], dtype='<U15'),\n",
       "                                array(['Embarrassment'], dtype='<U13'),\n",
       "                                array(['Fatigue'], dtype='<U7'),\n",
       "                                array(['Disapproval'], dtype='<U11')]], dtype=object),),\n",
       "                        (array([[array(['Disconnection'], dtype='<U13')]], dtype=object),),\n",
       "                        (array([[array(['Happiness'], dtype='<U9'),\n",
       "                                array(['Esteem'], dtype='<U6'),\n",
       "                                array(['Excitement'], dtype='<U10'),\n",
       "                                array(['Pleasure'], dtype='<U8'), array(['Peace'], dtype='<U5')]],\n",
       "                              dtype=object),)                                                     ]],\n",
       "                      dtype=[('categories', 'O')]), array([[array(['Disapproval'], dtype='<U11'),\n",
       "                        array(['Disconnection'], dtype='<U13'),\n",
       "                        array(['Doubt/Confusion'], dtype='<U15'),\n",
       "                        array(['Embarrassment'], dtype='<U13'),\n",
       "                        array(['Esteem'], dtype='<U6'),\n",
       "                        array(['Excitement'], dtype='<U10'),\n",
       "                        array(['Fatigue'], dtype='<U7'),\n",
       "                        array(['Happiness'], dtype='<U9'), array(['Peace'], dtype='<U5'),\n",
       "                        array(['Pleasure'], dtype='<U8')]], dtype=object), array([[(array([[5]], dtype=uint8), array([[3]], dtype=uint8), array([[5]], dtype=uint8)),\n",
       "                        (array([[5]], dtype=uint8), array([[4]], dtype=uint8), array([[7]], dtype=uint8)),\n",
       "                        (array([[5]], dtype=uint8), array([[5]], dtype=uint8), array([[6]], dtype=uint8))]],\n",
       "                      dtype=[('valence', 'O'), ('arousal', 'O'), ('dominance', 'O')]), array([[(array([[5]], dtype=uint8), array([[4]], dtype=uint8), array([[6]], dtype=uint8))]],\n",
       "                      dtype=[('valence', 'O'), ('arousal', 'O'), ('dominance', 'O')]), array(['Female'], dtype='<U6'), array(['Teenager'], dtype='<U8'))                           ,\n",
       "                (array([[463, 197, 604, 473]], dtype=uint16), array([[(array([[array(['Anticipation'], dtype='<U12'),\n",
       "                                array(['Pleasure'], dtype='<U8'),\n",
       "                                array(['Engagement'], dtype='<U10')]], dtype=object),),\n",
       "                        (array([[array(['Disconnection'], dtype='<U13')]], dtype=object),),\n",
       "                        (array([[array(['Anticipation'], dtype='<U12'),\n",
       "                                array(['Excitement'], dtype='<U10'),\n",
       "                                array(['Yearning'], dtype='<U8')]], dtype=object),)]],\n",
       "                      dtype=[('categories', 'O')]), array([[array(['Anticipation'], dtype='<U12'),\n",
       "                        array(['Disconnection'], dtype='<U13'),\n",
       "                        array(['Engagement'], dtype='<U10'),\n",
       "                        array(['Excitement'], dtype='<U10'),\n",
       "                        array(['Pleasure'], dtype='<U8'),\n",
       "                        array(['Yearning'], dtype='<U8')]], dtype=object), array([[(array([[4]], dtype=uint8), array([[5]], dtype=uint8), array([[4]], dtype=uint8)),\n",
       "                        (array([[5]], dtype=uint8), array([[4]], dtype=uint8), array([[7]], dtype=uint8)),\n",
       "                        (array([[4]], dtype=uint8), array([[5]], dtype=uint8), array([[6]], dtype=uint8))]],\n",
       "                      dtype=[('valence', 'O'), ('arousal', 'O'), ('dominance', 'O')]), array([[(array([[4]], dtype=uint8), array([[5]], dtype=uint8), array([[6]], dtype=uint8))]],\n",
       "                      dtype=[('valence', 'O'), ('arousal', 'O'), ('dominance', 'O')]), array(['Male'], dtype='<U4'), array(['Adult'], dtype='<U5'))                                ]],\n",
       "              dtype=[('body_bbox', 'O'), ('annotations_categories', 'O'), ('combined_categories', 'O'), ('annotations_continuous', 'O'), ('combined_continuous', 'O'), ('gender', 'O'), ('age', 'O')])),\n",
       "        (array(['COCO_train2014_000000081845.jpg'], dtype='<U31'), array(['mscoco/images'], dtype='<U13'), array([[(array([[640]], dtype=uint16), array([[427]], dtype=uint16))]],\n",
       "              dtype=[('n_col', 'O'), ('n_row', 'O')]), array([[(array(['mscoco'], dtype='<U6'), array([[(array([[81845]]), array([[1284775]]))]],\n",
       "                      dtype=[('image_id', 'O'), ('annotations_id', 'O')]))                        ]],\n",
       "              dtype=[('name', 'O'), ('info', 'O')]), array([[(array([[409, 120, 600, 422]], dtype=uint16), array([[(array([[array(['Happiness'], dtype='<U9'),\n",
       "                                array(['Confidence'], dtype='<U10'),\n",
       "                                array(['Pleasure'], dtype='<U8'), array(['Peace'], dtype='<U5')]],\n",
       "                              dtype=object),)                                                     ]],\n",
       "                      dtype=[('categories', 'O')]), array([[array(['Confidence'], dtype='<U10'),\n",
       "                        array(['Happiness'], dtype='<U9'), array(['Peace'], dtype='<U5'),\n",
       "                        array(['Pleasure'], dtype='<U8')]], dtype=object), array([[(array([[8]], dtype=uint8), array([[4]], dtype=uint8), array([[7]], dtype=uint8)),\n",
       "                        (array([[5]], dtype=uint8), array([[8]], dtype=uint8), array([[7]], dtype=uint8)),\n",
       "                        (array([[8]], dtype=uint8), array([[4]], dtype=uint8), array([[6]], dtype=uint8))]],\n",
       "                      dtype=[('valence', 'O'), ('arousal', 'O'), ('dominance', 'O')]), array([[(array([[7]], dtype=uint8), array([[5]], dtype=uint8), array([[7]], dtype=uint8))]],\n",
       "                      dtype=[('valence', 'O'), ('arousal', 'O'), ('dominance', 'O')]), array(['Female'], dtype='<U6'), array(['Adult'], dtype='<U5'))                              ,\n",
       "                (array([[247,  91, 365, 285]], dtype=uint16), array([[(array([[array(['Happiness'], dtype='<U9')]], dtype=object),),\n",
       "                        (array([[array(['Anticipation'], dtype='<U12'),\n",
       "                                array(['Happiness'], dtype='<U9'),\n",
       "                                array(['Esteem'], dtype='<U6'),\n",
       "                                array(['Excitement'], dtype='<U10'),\n",
       "                                array(['Peace'], dtype='<U5')]], dtype=object),)]],\n",
       "                      dtype=[('categories', 'O')]), array([[array(['Anticipation'], dtype='<U12'),\n",
       "                        array(['Esteem'], dtype='<U6'),\n",
       "                        array(['Excitement'], dtype='<U10'),\n",
       "                        array(['Happiness'], dtype='<U9'), array(['Peace'], dtype='<U5')]],\n",
       "                      dtype=object), array([[(array([[8]], dtype=uint8), array([[4]], dtype=uint8), array([[5]], dtype=uint8)),\n",
       "                        (array([[5]], dtype=uint8), array([[4]], dtype=uint8), array([[7]], dtype=uint8)),\n",
       "                        (array([[8]], dtype=uint8), array([[5]], dtype=uint8), array([[6]], dtype=uint8))]],\n",
       "                      dtype=[('valence', 'O'), ('arousal', 'O'), ('dominance', 'O')]), array([[(array([[7]], dtype=uint8), array([[4]], dtype=uint8), array([[6]], dtype=uint8))]],\n",
       "                      dtype=[('valence', 'O'), ('arousal', 'O'), ('dominance', 'O')]), array(['Female'], dtype='<U6'), array(['Adult'], dtype='<U5'))                              ]],\n",
       "              dtype=[('body_bbox', 'O'), ('annotations_categories', 'O'), ('combined_categories', 'O'), ('annotations_continuous', 'O'), ('combined_continuous', 'O'), ('gender', 'O'), ('age', 'O')])),\n",
       "        ...,\n",
       "        (array(['COCO_train2014_000000105452.jpg'], dtype='<U31'), array(['mscoco/images'], dtype='<U13'), array([[(array([[640]], dtype=uint16), array([[480]], dtype=uint16))]],\n",
       "              dtype=[('n_col', 'O'), ('n_row', 'O')]), array([[(array(['mscoco'], dtype='<U6'), array([[(array([[105452]]), array([[488719]]))]],\n",
       "                      dtype=[('image_id', 'O'), ('annotations_id', 'O')]))                        ]],\n",
       "              dtype=[('name', 'O'), ('info', 'O')]), array([[(array([[290,  66, 397, 368]], dtype=uint16), array([[(array([[array(['Happiness'], dtype='<U9'), array(['Peace'], dtype='<U5')]],\n",
       "                              dtype=object),)                                                       ,\n",
       "                        (array([[array(['Happiness'], dtype='<U9')]], dtype=object),),\n",
       "                        (array([[array(['Anticipation'], dtype='<U12'),\n",
       "                                array(['Pleasure'], dtype='<U8'),\n",
       "                                array(['Engagement'], dtype='<U10')]], dtype=object),)]],\n",
       "                      dtype=[('categories', 'O')]), array([[array(['Anticipation'], dtype='<U12'),\n",
       "                        array(['Engagement'], dtype='<U10'),\n",
       "                        array(['Happiness'], dtype='<U9'), array(['Peace'], dtype='<U5'),\n",
       "                        array(['Pleasure'], dtype='<U8')]], dtype=object), array([[(array([[7]], dtype=uint8), array([[6]], dtype=uint8), array([[7]], dtype=uint8)),\n",
       "                        (array([[5]], dtype=uint8), array([[3]], dtype=uint8), array([[8]], dtype=uint8))]],\n",
       "                      dtype=[('valence', 'O'), ('arousal', 'O'), ('dominance', 'O')]), array([[(array([[6]], dtype=uint8), array([[5]], dtype=uint8), array([[8]], dtype=uint8))]],\n",
       "                      dtype=[('valence', 'O'), ('arousal', 'O'), ('dominance', 'O')]), array(['Male'], dtype='<U4'), array(['Adult'], dtype='<U5'))                                ]],\n",
       "              dtype=[('body_bbox', 'O'), ('annotations_categories', 'O'), ('combined_categories', 'O'), ('annotations_continuous', 'O'), ('combined_continuous', 'O'), ('gender', 'O'), ('age', 'O')])),\n",
       "        (array(['frame_2nli2b3sozxtq9vy.jpg'], dtype='<U26'), array(['framesdb/images'], dtype='<U15'), array([[(array([[3648]], dtype=uint16), array([[2736]], dtype=uint16))]],\n",
       "              dtype=[('n_col', 'O'), ('n_row', 'O')]), array([[(array(['framesdb'], dtype='<U8'),)]], dtype=[('name', 'O')]), array([[(array([[1122.,  879., 1797., 2735.]], dtype=float32), array([[(array([[array(['Engagement'], dtype='<U10')]], dtype=object),),\n",
       "                        (array([[array(['Engagement'], dtype='<U10')]], dtype=object),),\n",
       "                        (array([[array(['Confidence'], dtype='<U10'),\n",
       "                                array(['Engagement'], dtype='<U10')]], dtype=object),)]],\n",
       "                      dtype=[('categories', 'O')]), array([[array(['Confidence'], dtype='<U10'),\n",
       "                        array(['Engagement'], dtype='<U10')]], dtype=object), array([[(array([[7]], dtype=uint8), array([[7]], dtype=uint8), array([[6]], dtype=uint8)),\n",
       "                        (array([[5]], dtype=uint8), array([[6]], dtype=uint8), array([[7]], dtype=uint8)),\n",
       "                        (array([[6]], dtype=uint8), array([[6]], dtype=uint8), array([[8]], dtype=uint8))]],\n",
       "                      dtype=[('valence', 'O'), ('arousal', 'O'), ('dominance', 'O')]), array([[(array([[6]], dtype=uint8), array([[6]], dtype=uint8), array([[7]], dtype=uint8))]],\n",
       "                      dtype=[('valence', 'O'), ('arousal', 'O'), ('dominance', 'O')]), array(['Female'], dtype='<U6'), array(['Adult'], dtype='<U5'))                              ]],\n",
       "              dtype=[('body_bbox', 'O'), ('annotations_categories', 'O'), ('combined_categories', 'O'), ('annotations_continuous', 'O'), ('combined_continuous', 'O'), ('gender', 'O'), ('age', 'O')]))                                                              ,\n",
       "        (array(['COCO_val2014_000000127530.jpg'], dtype='<U29'), array(['mscoco/images'], dtype='<U13'), array([[(array([[640]], dtype=uint16), array([[440]], dtype=uint16))]],\n",
       "              dtype=[('n_col', 'O'), ('n_row', 'O')]), array([[(array(['mscoco'], dtype='<U6'), array([[(array([[127530]]), array([[525235]]))]],\n",
       "                      dtype=[('image_id', 'O'), ('annotations_id', 'O')]))                        ]],\n",
       "              dtype=[('name', 'O'), ('info', 'O')]), array([[(array([[254,  15, 541, 439]], dtype=uint16), array([[(array([[array(['Anticipation'], dtype='<U12'),\n",
       "                                array(['Excitement'], dtype='<U10'),\n",
       "                                array(['Confidence'], dtype='<U10'),\n",
       "                                array(['Engagement'], dtype='<U10')]], dtype=object),),\n",
       "                        (array([[array(['Engagement'], dtype='<U10')]], dtype=object),),\n",
       "                        (array([[array(['Esteem'], dtype='<U6'),\n",
       "                                array(['Excitement'], dtype='<U10'),\n",
       "                                array(['Confidence'], dtype='<U10'),\n",
       "                                array(['Engagement'], dtype='<U10')]], dtype=object),)]],\n",
       "                      dtype=[('categories', 'O')]), array([[array(['Anticipation'], dtype='<U12'),\n",
       "                        array(['Confidence'], dtype='<U10'),\n",
       "                        array(['Engagement'], dtype='<U10'),\n",
       "                        array(['Esteem'], dtype='<U6'),\n",
       "                        array(['Excitement'], dtype='<U10')]], dtype=object), array([[(array([[7]], dtype=uint8), array([[8]], dtype=uint8), array([[7]], dtype=uint8)),\n",
       "                        (array([[4]], dtype=uint8), array([[7]], dtype=uint8), array([[6]], dtype=uint8)),\n",
       "                        (array([[7]], dtype=uint8), array([[7]], dtype=uint8), array([[7]], dtype=uint8))]],\n",
       "                      dtype=[('valence', 'O'), ('arousal', 'O'), ('dominance', 'O')]), array([[(array([[6]], dtype=uint8), array([[7]], dtype=uint8), array([[7]], dtype=uint8))]],\n",
       "                      dtype=[('valence', 'O'), ('arousal', 'O'), ('dominance', 'O')]), array(['Male'], dtype='<U4'), array(['Adult'], dtype='<U5'))                                ]],\n",
       "              dtype=[('body_bbox', 'O'), ('annotations_categories', 'O'), ('combined_categories', 'O'), ('annotations_continuous', 'O'), ('combined_continuous', 'O'), ('gender', 'O'), ('age', 'O')]))]],\n",
       "      dtype=[('filename', 'O'), ('folder', 'O'), ('image_size', 'O'), ('original_database', 'O'), ('person', 'O')])"
      ]
     },
     "execution_count": 14,
     "metadata": {},
     "output_type": "execute_result"
    }
   ],
   "source": [
    "annots['test']"
   ]
  },
  {
   "cell_type": "code",
   "execution_count": null,
   "id": "6fb2f574-9d98-46e4-bcb7-e2b9c1ad1c20",
   "metadata": {},
   "outputs": [],
   "source": [
    "df_train = annots['train']"
   ]
  },
  {
   "cell_type": "code",
   "execution_count": 9,
   "id": "5756545c-0223-40a0-b207-1e6642cff5fc",
   "metadata": {},
   "outputs": [
    {
     "data": {
      "text/plain": [
       "array([[(array([[221,  63, 448, 372]], dtype=uint16), array([[(array([[array(['Aversion'], dtype='<U8'),\n",
       "                        array(['Pleasure'], dtype='<U8')]], dtype=object),)]],\n",
       "              dtype=[('categories', 'O')]), array([[(array([[8]], dtype=uint8), array([[9]], dtype=uint8), array([[8]], dtype=uint8))]],\n",
       "              dtype=[('valence', 'O'), ('arousal', 'O'), ('dominance', 'O')]), array(['Male'], dtype='<U4'), array(['Kid'], dtype='<U3'))]],\n",
       "      dtype=[('body_bbox', 'O'), ('annotations_categories', 'O'), ('annotations_continuous', 'O'), ('gender', 'O'), ('age', 'O')])"
      ]
     },
     "execution_count": 9,
     "metadata": {},
     "output_type": "execute_result"
    }
   ],
   "source": [
    "annots['train'][0][3][4]"
   ]
  },
  {
   "cell_type": "code",
   "execution_count": null,
   "id": "39dced2c-3cb4-4717-9241-21461a4b7a13",
   "metadata": {},
   "outputs": [],
   "source": []
  }
 ],
 "metadata": {
  "kernelspec": {
   "display_name": "Python 3 (ipykernel)",
   "language": "python",
   "name": "python3"
  },
  "language_info": {
   "codemirror_mode": {
    "name": "ipython",
    "version": 3
   },
   "file_extension": ".py",
   "mimetype": "text/x-python",
   "name": "python",
   "nbconvert_exporter": "python",
   "pygments_lexer": "ipython3",
   "version": "3.9.9"
  }
 },
 "nbformat": 4,
 "nbformat_minor": 5
}
