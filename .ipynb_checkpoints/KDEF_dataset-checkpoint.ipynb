{
 "cells": [
  {
   "cell_type": "code",
   "execution_count": 1,
   "id": "67d11b95-45b0-4726-a14d-98ab0a05f8a8",
   "metadata": {
    "tags": []
   },
   "outputs": [],
   "source": [
    "import cv2\n",
    "import numpy as np\n",
    "import pandas as pd\n",
    "import os\n",
    "from send2trash import send2trash\n",
    "import re\n",
    "import shutil\n",
    "from sklearn.model_selection import ShuffleSplit"
   ]
  },
  {
   "cell_type": "code",
   "execution_count": 2,
   "id": "d87aff47-73fe-4bfc-8fc5-24d96ed1ad6d",
   "metadata": {},
   "outputs": [],
   "source": [
    "emotions = ['ANGRY','FEARFUL','DISGUSTED','HAPPY','SAD','SURPRISED','NEUTRAL']\n",
    "emotions_dict = {'AFS': 'FEARFUL', \n",
    "               'ANS': 'ANGRY',\n",
    "               'DIS': 'DISGUSTED',\n",
    "               'HAS' : 'HAPPY',\n",
    "               'NES': 'NEUTRAL',\n",
    "               'SAS': 'SAD',\n",
    "               'SUS': 'SURPRISED'}"
   ]
  },
  {
   "cell_type": "code",
   "execution_count": 16,
   "id": "e4d9d4f4-ca1d-4400-8fe2-f1c3ce70eaba",
   "metadata": {},
   "outputs": [],
   "source": [
    "KDEF_ORI_PATH = '.\\KDEF'\n",
    "KDEF_PATH = '.\\KDEF_COPY'\n",
    "KDEF_TRAIN_PATH = os.path.join(KDEF_PATH,'train')\n",
    "KDEF_VAL_PATH = os.path.join(KDEF_PATH,'val')\n",
    "KDEF_TEST_PATH = os.path.join(KDEF_PATH,'test')\n",
    "\n",
    "RANDOM_STATE = 42"
   ]
  },
  {
   "cell_type": "markdown",
   "id": "3264c357-3985-45b4-a337-f930fc87b322",
   "metadata": {},
   "source": [
    "We are only interested in the front facing ones. Using folder AF01 as an example, the file names are:\n",
    "- AF01AFS > Afraid / Fearful\n",
    "- AF01ANS > Angry\n",
    "- AF01DIS > Disgusted\n",
    "- AF01HAS > Happy\n",
    "- AF01NES > Neutral\n",
    "- AF01SAS > Sad\n",
    "- AF01SUS > Surprised"
   ]
  },
  {
   "cell_type": "code",
   "execution_count": 4,
   "id": "2314892f-2840-4b39-a139-e351d9317b2d",
   "metadata": {},
   "outputs": [],
   "source": [
    "def create_all_folders():\n",
    "    print('Commencing creation of all folders')\n",
    "    os.makedirs(KDEF_PATH, exist_ok= True)\n",
    "    os.makedirs(KDEF_TRAIN_PATH, exist_ok= True)\n",
    "    os.makedirs(KDEF_TEST_PATH, exist_ok= True)\n",
    "    os.makedirs(KDEF_VAL_PATH, exist_ok= True)\n",
    "    \n",
    "    for emotion in emotions:\n",
    "        os.makedirs(os.path.join(KDEF_TRAIN_PATH,emotion), exist_ok= True)\n",
    "        os.makedirs(os.path.join(KDEF_TEST_PATH,emotion), exist_ok= True)\n",
    "        os.makedirs(os.path.join(KDEF_VAL_PATH,emotion), exist_ok= True)\n",
    "        os.makedirs(os.path.join(KDEF_PATH,emotion), exist_ok= True)"
   ]
  },
  {
   "cell_type": "code",
   "execution_count": 5,
   "id": "8e4e3c55-b9f6-44e6-ace3-7c6ae036027c",
   "metadata": {},
   "outputs": [],
   "source": [
    "def delete_all_folders():\n",
    "    print('Commencing deletion of all folders')\n",
    "    send2trash(KDEF_PATH)\n",
    "    send2trash(KDEF_TEST_PATH)\n",
    "    send2trash(KDEF_VAL_PATH)\n",
    "    send2trash(KDEF_TRAIN_PATH)"
   ]
  },
  {
   "cell_type": "code",
   "execution_count": 6,
   "id": "5c83be7e-8cbd-401a-851f-bfcfac35eb25",
   "metadata": {},
   "outputs": [],
   "source": [
    "def copy_existing_KDEFfolders():\n",
    "    print('Commencing copying of the original files')\n",
    "    shutil.copytree(KDEF_ORI_PATH, KDEF_PATH,dirs_exist_ok=True)"
   ]
  },
  {
   "cell_type": "code",
   "execution_count": 7,
   "id": "aba8d8c0-a8e9-42d2-b41b-585b90c7478a",
   "metadata": {
    "tags": []
   },
   "outputs": [],
   "source": [
    "def delete_non_frontal_expression_files():\n",
    "    # delete all of the files that are not full front expressions of the emotions\n",
    "    print('Commencing deleting of files with non frontal expressions')\n",
    "    for file_paths , file_dirs, file_names in os.walk(KDEF_PATH):\n",
    "        if file_paths == KDEF_PATH:\n",
    "            print(f'Total folders in directory : {len(file_dirs)}')\n",
    "        for file_name in file_names:\n",
    "            if re.search(r'\\w{2}\\d{2}(\\w{3}).JPG',file_name) is None:\n",
    "                send2trash(os.path.join(file_paths,file_name))"
   ]
  },
  {
   "cell_type": "code",
   "execution_count": 8,
   "id": "eb154df0-406b-4bb7-9b86-da1dc4e85497",
   "metadata": {
    "tags": []
   },
   "outputs": [],
   "source": [
    "def keep_all_remaining_files_into_emotion_folder():\n",
    "    # put all of the emotions into one folder \n",
    "    print('Commencing keeping of remaining files into emotion folders')\n",
    "    for file_paths , file_dirs, file_names in os.walk(KDEF_PATH):\n",
    "        for file_name in file_names:\n",
    "            for short, emotion in emotions_dict.items():\n",
    "                if short in file_name:\n",
    "                    if emotion not in file_paths:\n",
    "                        #put into folder with emotion\n",
    "                        # print(os.path.join(file_paths,file_name))\n",
    "                        # print(os.path.join(KDEF_PATH, emotion,file_name))\n",
    "                        shutil.copy(os.path.join(file_paths,file_name), os.path.join(KDEF_PATH, emotion,file_name))\n",
    "                        break"
   ]
  },
  {
   "cell_type": "code",
   "execution_count": 9,
   "id": "17d1be6a-8ca9-4853-9572-1bd1e3dee709",
   "metadata": {
    "tags": []
   },
   "outputs": [],
   "source": [
    "def deletes_original_folder():\n",
    "    # deletes the original folder containing the images\n",
    "    print('Commencing deletion of original folders')\n",
    "    for file_dir in os.listdir(KDEF_PATH):\n",
    "        for emotion in emotions:\n",
    "            if re.search(r'\\w{2}\\d{2}', file_dir) is not None:\n",
    "                send2trash(os.path.join(KDEF_PATH,file_dir))\n",
    "                break"
   ]
  },
  {
   "cell_type": "code",
   "execution_count": 10,
   "id": "71894e9b-129a-4c00-a995-9dab3a9177de",
   "metadata": {},
   "outputs": [],
   "source": [
    "def rename_all_files():\n",
    "    for emotion in emotions:\n",
    "        for index, value in enumerate(os.listdir(os.path.join(KDEF_PATH,emotion))):\n",
    "            os.rename((KDEF_PATH +\"\\\\\" + emotion+ \"\\\\\"+ value ), (KDEF_PATH +\"\\\\\" + emotion+ \"\\\\\"+ str(index)+'.jpg' ))"
   ]
  },
  {
   "cell_type": "code",
   "execution_count": 24,
   "id": "4934bbbd-ff9c-4957-86da-46d861a29e92",
   "metadata": {},
   "outputs": [],
   "source": [
    "def training_split(splits,split_ratio, random_state):\n",
    "    \"\"\"\n",
    "    splits data into training, validation and test and saves into the respective folders. \n",
    "    The files are split into training and validation. The validation set is further split into validation and testing set\n",
    "    :params: split_ratio, determines how much to split the files into training and validation.\n",
    "    \"\"\"\n",
    "    # all of the folders should contain the same number of files, so I am taking the first folder as reference\n",
    "    length = len(os.listdir(os.path.join(KDEF_PATH,'ANGRY')))\n",
    "    ss = ShuffleSplit(n_splits=splits, test_size=split_ratio, random_state=random_state)\n",
    "    for train_index, test_index in ss.split(range(length)):\n",
    "        return train_index, test_index"
   ]
  },
  {
   "cell_type": "code",
   "execution_count": 12,
   "id": "af2653df-adca-413b-8f70-5d6767b49dcf",
   "metadata": {},
   "outputs": [
    {
     "name": "stdout",
     "output_type": "stream",
     "text": [
      "Commencing copying of the original files\n",
      "Commencing creation of all folders\n",
      "Commencing deleting of files with non frontal expressions\n",
      "Total folders in directory : 150\n",
      "Commencing keeping of remaining files into emotion folders\n",
      "Commencing deletion of original folders\n"
     ]
    }
   ],
   "source": [
    "# If folders are present, remove and recreate, else create\n",
    "if os.path.isdir(KDEF_PATH):\n",
    "    send2trash(KDEF_PATH)\n",
    "copy_existing_KDEFfolders()\n",
    "create_all_folders()\n",
    "delete_non_frontal_expression_files()\n",
    "keep_all_remaining_files_into_emotion_folder()\n",
    "deletes_original_folder()\n",
    "rename_all_files()"
   ]
  },
  {
   "cell_type": "code",
   "execution_count": 27,
   "id": "4d8f11a6-e40a-426e-8024-35de4d60275a",
   "metadata": {},
   "outputs": [],
   "source": [
    "train_index, test_index = training_split(1, 0.2, RANDOM_STATE)"
   ]
  },
  {
   "cell_type": "code",
   "execution_count": 39,
   "id": "fc6d3f5c-2f12-4d34-9367-6a2c619e34c7",
   "metadata": {},
   "outputs": [],
   "source": [
    "train_index_sort = sorted(train_index)"
   ]
  },
  {
   "cell_type": "code",
   "execution_count": 40,
   "id": "48c32cef-eff6-4e3a-943c-52e5fcfe7034",
   "metadata": {},
   "outputs": [],
   "source": [
    "test_index_sort  = sorted(test_index)"
   ]
  },
  {
   "cell_type": "code",
   "execution_count": 30,
   "id": "21e1487b-76b2-4185-adce-807fe15621fc",
   "metadata": {},
   "outputs": [
    {
     "data": {
      "text/plain": [
       "112"
      ]
     },
     "execution_count": 30,
     "metadata": {},
     "output_type": "execute_result"
    }
   ],
   "source": [
    "len(train_index)"
   ]
  },
  {
   "cell_type": "code",
   "execution_count": 31,
   "id": "30aa7529-c3c3-4503-a381-e34deae4654d",
   "metadata": {},
   "outputs": [
    {
     "data": {
      "text/plain": [
       "28"
      ]
     },
     "execution_count": 31,
     "metadata": {},
     "output_type": "execute_result"
    }
   ],
   "source": [
    "len(test_index)"
   ]
  },
  {
   "cell_type": "code",
   "execution_count": 43,
   "id": "96453682-1b3c-44ce-81b8-3ea38106e048",
   "metadata": {},
   "outputs": [],
   "source": [
    "# shifts training set into train folder\n",
    "for index in train_index_sort:\n",
    "    for emotion in emotions:\n",
    "        shutil.move(os.path.join(KDEF_PATH, emotion,str(index)+'.jpg'), os.path.join(KDEF_PATH,'train',emotion,str(index)+'.jpg'))"
   ]
  },
  {
   "cell_type": "code",
   "execution_count": 44,
   "id": "673b8f47-063d-4a6e-a3d7-35f0caa40e94",
   "metadata": {},
   "outputs": [],
   "source": [
    "# shifts testing set into test folder\n",
    "for index in test_index_sort:\n",
    "    for emotion in emotions:\n",
    "        shutil.move(os.path.join(KDEF_PATH, emotion,str(index)+'.jpg'), os.path.join(KDEF_PATH,'test',emotion,str(index)+'.jpg'))"
   ]
  },
  {
   "cell_type": "code",
   "execution_count": 47,
   "id": "36b362d1-3c76-4531-b668-86b3daad8990",
   "metadata": {},
   "outputs": [],
   "source": [
    "# removes emotions folder\n",
    "for emotion in emotions:\n",
    "    send2trash(os.path.join(KDEF_PATH,emotion))"
   ]
  },
  {
   "cell_type": "code",
   "execution_count": 49,
   "id": "dc2741ae-671f-4502-892e-3acf97f6263a",
   "metadata": {},
   "outputs": [],
   "source": [
    "import tensorflow as tf\n",
    "\n",
    "from tensorflow.keras.preprocessing.image import ImageDataGenerator\n",
    "from tensorflow.keras.layers import Dense, Conv2D, MaxPool2D, BatchNormalization"
   ]
  },
  {
   "cell_type": "code",
   "execution_count": null,
   "id": "91c4064e-99e5-41bf-bc46-8c542d021d71",
   "metadata": {},
   "outputs": [],
   "source": []
  },
  {
   "cell_type": "code",
   "execution_count": null,
   "id": "08a8ef0f-0cfe-4e6e-99d0-8345c67c0658",
   "metadata": {},
   "outputs": [],
   "source": []
  }
 ],
 "metadata": {
  "kernelspec": {
   "display_name": "Python 3 (ipykernel)",
   "language": "python",
   "name": "python3"
  },
  "language_info": {
   "codemirror_mode": {
    "name": "ipython",
    "version": 3
   },
   "file_extension": ".py",
   "mimetype": "text/x-python",
   "name": "python",
   "nbconvert_exporter": "python",
   "pygments_lexer": "ipython3",
   "version": "3.9.9"
  }
 },
 "nbformat": 4,
 "nbformat_minor": 5
}
