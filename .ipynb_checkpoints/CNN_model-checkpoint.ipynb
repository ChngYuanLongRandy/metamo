{
 "cells": [
  {
   "cell_type": "code",
   "execution_count": 1,
   "id": "ad2d9bb2-5451-4af8-9217-cfe2f6c21b3e",
   "metadata": {},
   "outputs": [],
   "source": [
    "import numpy as np\n",
    "import matplotlib.pyplot as plt\n",
    "import pandas as pd\n",
    "import tensorflow as tf"
   ]
  },
  {
   "cell_type": "code",
   "execution_count": 2,
   "id": "e71f9fd3-bcd2-428e-bd15-b98aba840cdd",
   "metadata": {},
   "outputs": [
    {
     "name": "stdout",
     "output_type": "stream",
     "text": [
      "<function is_gpu_available at 0x000001C2988CF0D0>\n"
     ]
    }
   ],
   "source": [
    "print(tf.test.is_gpu_available)"
   ]
  },
  {
   "cell_type": "code",
   "execution_count": 3,
   "id": "eee1a954-cbaa-4bef-931e-80a80147454d",
   "metadata": {},
   "outputs": [
    {
     "name": "stdout",
     "output_type": "stream",
     "text": [
      "Num GPUs Available:  1\n"
     ]
    }
   ],
   "source": [
    "print(\"Num GPUs Available: \", len(tf.config.list_physical_devices('GPU')))"
   ]
  },
  {
   "cell_type": "code",
   "execution_count": 4,
   "id": "809cdee7-1fed-4bbc-b2ac-9a1fec5b1f37",
   "metadata": {},
   "outputs": [],
   "source": [
    "df = pd.read_csv('fer2013.csv')"
   ]
  },
  {
   "cell_type": "code",
   "execution_count": 5,
   "id": "60e03422-e59b-4599-88eb-603fc9467b71",
   "metadata": {},
   "outputs": [
    {
     "data": {
      "text/html": [
       "<div>\n",
       "<style scoped>\n",
       "    .dataframe tbody tr th:only-of-type {\n",
       "        vertical-align: middle;\n",
       "    }\n",
       "\n",
       "    .dataframe tbody tr th {\n",
       "        vertical-align: top;\n",
       "    }\n",
       "\n",
       "    .dataframe thead th {\n",
       "        text-align: right;\n",
       "    }\n",
       "</style>\n",
       "<table border=\"1\" class=\"dataframe\">\n",
       "  <thead>\n",
       "    <tr style=\"text-align: right;\">\n",
       "      <th></th>\n",
       "      <th>emotion</th>\n",
       "      <th>pixels</th>\n",
       "      <th>Usage</th>\n",
       "    </tr>\n",
       "  </thead>\n",
       "  <tbody>\n",
       "    <tr>\n",
       "      <th>0</th>\n",
       "      <td>0</td>\n",
       "      <td>70 80 82 72 58 58 60 63 54 58 60 48 89 115 121...</td>\n",
       "      <td>Training</td>\n",
       "    </tr>\n",
       "    <tr>\n",
       "      <th>1</th>\n",
       "      <td>0</td>\n",
       "      <td>151 150 147 155 148 133 111 140 170 174 182 15...</td>\n",
       "      <td>Training</td>\n",
       "    </tr>\n",
       "    <tr>\n",
       "      <th>2</th>\n",
       "      <td>2</td>\n",
       "      <td>231 212 156 164 174 138 161 173 182 200 106 38...</td>\n",
       "      <td>Training</td>\n",
       "    </tr>\n",
       "    <tr>\n",
       "      <th>3</th>\n",
       "      <td>4</td>\n",
       "      <td>24 32 36 30 32 23 19 20 30 41 21 22 32 34 21 1...</td>\n",
       "      <td>Training</td>\n",
       "    </tr>\n",
       "    <tr>\n",
       "      <th>4</th>\n",
       "      <td>6</td>\n",
       "      <td>4 0 0 0 0 0 0 0 0 0 0 0 3 15 23 28 48 50 58 84...</td>\n",
       "      <td>Training</td>\n",
       "    </tr>\n",
       "  </tbody>\n",
       "</table>\n",
       "</div>"
      ],
      "text/plain": [
       "   emotion                                             pixels     Usage\n",
       "0        0  70 80 82 72 58 58 60 63 54 58 60 48 89 115 121...  Training\n",
       "1        0  151 150 147 155 148 133 111 140 170 174 182 15...  Training\n",
       "2        2  231 212 156 164 174 138 161 173 182 200 106 38...  Training\n",
       "3        4  24 32 36 30 32 23 19 20 30 41 21 22 32 34 21 1...  Training\n",
       "4        6  4 0 0 0 0 0 0 0 0 0 0 0 3 15 23 28 48 50 58 84...  Training"
      ]
     },
     "execution_count": 5,
     "metadata": {},
     "output_type": "execute_result"
    }
   ],
   "source": [
    "df.head()"
   ]
  },
  {
   "cell_type": "code",
   "execution_count": 6,
   "id": "db6764fb-c292-4480-b640-a06533f2fadb",
   "metadata": {},
   "outputs": [
    {
     "data": {
      "text/html": [
       "<div>\n",
       "<style scoped>\n",
       "    .dataframe tbody tr th:only-of-type {\n",
       "        vertical-align: middle;\n",
       "    }\n",
       "\n",
       "    .dataframe tbody tr th {\n",
       "        vertical-align: top;\n",
       "    }\n",
       "\n",
       "    .dataframe thead th {\n",
       "        text-align: right;\n",
       "    }\n",
       "</style>\n",
       "<table border=\"1\" class=\"dataframe\">\n",
       "  <thead>\n",
       "    <tr style=\"text-align: right;\">\n",
       "      <th></th>\n",
       "      <th>count</th>\n",
       "      <th>mean</th>\n",
       "      <th>std</th>\n",
       "      <th>min</th>\n",
       "      <th>25%</th>\n",
       "      <th>50%</th>\n",
       "      <th>75%</th>\n",
       "      <th>max</th>\n",
       "    </tr>\n",
       "  </thead>\n",
       "  <tbody>\n",
       "    <tr>\n",
       "      <th>emotion</th>\n",
       "      <td>35887.0</td>\n",
       "      <td>3.323265</td>\n",
       "      <td>1.873819</td>\n",
       "      <td>0.0</td>\n",
       "      <td>2.0</td>\n",
       "      <td>3.0</td>\n",
       "      <td>5.0</td>\n",
       "      <td>6.0</td>\n",
       "    </tr>\n",
       "  </tbody>\n",
       "</table>\n",
       "</div>"
      ],
      "text/plain": [
       "           count      mean       std  min  25%  50%  75%  max\n",
       "emotion  35887.0  3.323265  1.873819  0.0  2.0  3.0  5.0  6.0"
      ]
     },
     "execution_count": 6,
     "metadata": {},
     "output_type": "execute_result"
    }
   ],
   "source": [
    "df.describe().T"
   ]
  },
  {
   "cell_type": "markdown",
   "id": "873dedaa-a477-45f6-baf4-1605dd08e103",
   "metadata": {},
   "source": [
    "Labels: (0=Angry, 1=Disgust, 2=Fear, 3=Happy, 4=Sad, 5=Surprise, 6=Neutral)"
   ]
  },
  {
   "cell_type": "code",
   "execution_count": 7,
   "id": "927ba28a-3b58-4044-a16b-a11ff8ba4e8a",
   "metadata": {},
   "outputs": [
    {
     "data": {
      "text/plain": [
       "3    8989\n",
       "6    6198\n",
       "4    6077\n",
       "2    5121\n",
       "0    4953\n",
       "5    4002\n",
       "1     547\n",
       "Name: emotion, dtype: int64"
      ]
     },
     "execution_count": 7,
     "metadata": {},
     "output_type": "execute_result"
    }
   ],
   "source": [
    "df.emotion.value_counts()"
   ]
  },
  {
   "cell_type": "markdown",
   "id": "b2c47aaa-519c-48eb-a713-ec2189de1b48",
   "metadata": {},
   "source": [
    "Reading from another dataset. Luckily, this dataset has already split them into train and test"
   ]
  },
  {
   "cell_type": "code",
   "execution_count": 8,
   "id": "9e6e011d-0d75-4f15-8112-ca35e9c4ef9c",
   "metadata": {},
   "outputs": [],
   "source": [
    "import os"
   ]
  },
  {
   "cell_type": "code",
   "execution_count": 9,
   "id": "c1cbf358-5f25-4963-b92e-97702d8b5455",
   "metadata": {},
   "outputs": [
    {
     "name": "stdout",
     "output_type": "stream",
     "text": [
      "C:\\Users\\Randy\\GitHub\\metamo\n"
     ]
    }
   ],
   "source": [
    "print(os.getcwd())"
   ]
  },
  {
   "cell_type": "code",
   "execution_count": 10,
   "id": "7c89a582-f140-4d96-aa45-42cb1caac928",
   "metadata": {},
   "outputs": [],
   "source": [
    "train_root = os.path.join(os.getcwd(),'train')\n",
    "test_root = os.path.join(os.getcwd(),'test')\n",
    "emotions = ['angry','disgust','fear','happy','neutral','sad','surprise']"
   ]
  },
  {
   "cell_type": "code",
   "execution_count": 11,
   "id": "dfbd1e11-0cb8-4da9-99a1-84d7ee672ff0",
   "metadata": {},
   "outputs": [
    {
     "name": "stdout",
     "output_type": "stream",
     "text": [
      "angry  has \t 3995  number of files\n",
      "disgust  has \t 436  number of files\n",
      "fear  has \t 4097  number of files\n",
      "happy  has \t 7215  number of files\n",
      "neutral  has \t 4965  number of files\n",
      "sad  has \t 4830  number of files\n",
      "surprise  has \t 3171  number of files\n"
     ]
    }
   ],
   "source": [
    "for emotion in emotions:\n",
    "    f_name = os.listdir(os.path.join(train_root,emotion))\n",
    "    print(emotion , ' has \\t', len(f_name), ' number of files')"
   ]
  },
  {
   "cell_type": "code",
   "execution_count": 12,
   "id": "c43f9589-2472-40c8-8874-c954c49c7f40",
   "metadata": {},
   "outputs": [
    {
     "name": "stdout",
     "output_type": "stream",
     "text": [
      "Found 28709 images belonging to 7 classes.\n",
      "Found 7178 images belonging to 7 classes.\n"
     ]
    }
   ],
   "source": [
    "seed_num = 42\n",
    "\n",
    "train_dataGen = tf.keras.preprocessing.image.ImageDataGenerator(rescale = 1./255,\n",
    "                                                               vertical_flip = True)\n",
    "\n",
    "train_dataflow = train_dataGen.flow_from_directory(train_root,\n",
    "                                                  target_size = (48,48),\n",
    "                                                  color_mode = 'grayscale',\n",
    "                                                  seed = seed_num)\n",
    "\n",
    "test_dataGen = tf.keras.preprocessing.image.ImageDataGenerator(rescale = 1./255)\n",
    "\n",
    "test_dataflow = test_dataGen.flow_from_directory(test_root,\n",
    "                                                target_size=(48,48),\n",
    "                                                color_mode= 'grayscale',\n",
    "                                                shuffle = False,\n",
    "                                                seed = seed_num)"
   ]
  },
  {
   "cell_type": "code",
   "execution_count": 13,
   "id": "91a1f460-e77e-436d-aba8-8bc259f7db8d",
   "metadata": {},
   "outputs": [],
   "source": [
    "CNN_v1_model = tf.keras.models.Sequential([\n",
    "    tf.keras.layers.Conv2D(64, (3,3) , input_shape = (48,48,1), activation = 'relu'),\n",
    "    tf.keras.layers.Conv2D(128, (3,3) , activation = 'relu'),\n",
    "    tf.keras.layers.BatchNormalization(),\n",
    "    tf.keras.layers.MaxPooling2D(),\n",
    "    tf.keras.layers.Dropout(0.2),\n",
    "\n",
    "    tf.keras.layers.Conv2D(256, (3,3) , activation = 'relu'),\n",
    "    tf.keras.layers.Conv2D(512, (3,3) , activation = 'relu'),\n",
    "    tf.keras.layers.BatchNormalization(),\n",
    "    tf.keras.layers.MaxPooling2D(),\n",
    "    tf.keras.layers.Dropout(0.2),\n",
    "    \n",
    "    tf.keras.layers.Flatten(),\n",
    "    tf.keras.layers.Dense(512, activation='relu'),\n",
    "    tf.keras.layers.Dense(7, activation='softmax')\n",
    "])"
   ]
  },
  {
   "cell_type": "code",
   "execution_count": 14,
   "id": "135314c3-3a42-4652-af63-aa3b9221f4fd",
   "metadata": {},
   "outputs": [],
   "source": [
    "CNN_v1_model.compile(loss = 'categorical_crossentropy' , \n",
    "              metrics = ['acc'],\n",
    "             optimizer = tf.keras.optimizers.RMSprop())"
   ]
  },
  {
   "cell_type": "code",
   "execution_count": 15,
   "id": "b6bf83ad-7ba5-4bbe-a9c6-326335f08dec",
   "metadata": {},
   "outputs": [
    {
     "name": "stdout",
     "output_type": "stream",
     "text": [
      "Model: \"sequential\"\n",
      "_________________________________________________________________\n",
      " Layer (type)                Output Shape              Param #   \n",
      "=================================================================\n",
      " conv2d (Conv2D)             (None, 46, 46, 64)        640       \n",
      "                                                                 \n",
      " conv2d_1 (Conv2D)           (None, 44, 44, 128)       73856     \n",
      "                                                                 \n",
      " batch_normalization (BatchN  (None, 44, 44, 128)      512       \n",
      " ormalization)                                                   \n",
      "                                                                 \n",
      " max_pooling2d (MaxPooling2D  (None, 22, 22, 128)      0         \n",
      " )                                                               \n",
      "                                                                 \n",
      " dropout (Dropout)           (None, 22, 22, 128)       0         \n",
      "                                                                 \n",
      " conv2d_2 (Conv2D)           (None, 20, 20, 256)       295168    \n",
      "                                                                 \n",
      " conv2d_3 (Conv2D)           (None, 18, 18, 512)       1180160   \n",
      "                                                                 \n",
      " batch_normalization_1 (Batc  (None, 18, 18, 512)      2048      \n",
      " hNormalization)                                                 \n",
      "                                                                 \n",
      " max_pooling2d_1 (MaxPooling  (None, 9, 9, 512)        0         \n",
      " 2D)                                                             \n",
      "                                                                 \n",
      " dropout_1 (Dropout)         (None, 9, 9, 512)         0         \n",
      "                                                                 \n",
      " flatten (Flatten)           (None, 41472)             0         \n",
      "                                                                 \n",
      " dense (Dense)               (None, 512)               21234176  \n",
      "                                                                 \n",
      " dense_1 (Dense)             (None, 7)                 3591      \n",
      "                                                                 \n",
      "=================================================================\n",
      "Total params: 22,790,151\n",
      "Trainable params: 22,788,871\n",
      "Non-trainable params: 1,280\n",
      "_________________________________________________________________\n"
     ]
    }
   ],
   "source": [
    "CNN_v1_model.summary()"
   ]
  },
  {
   "cell_type": "code",
   "execution_count": 16,
   "id": "c6d0389a-dc04-4f31-a3df-9dec86cf216d",
   "metadata": {},
   "outputs": [],
   "source": [
    "desired_acc = 0.95\n",
    "\n",
    "class myCallback(tf.keras.callbacks.Callback):\n",
    "    def on_epoch_end(self, epoch, log={}):\n",
    "        if (log['acc'] > desired_acc):\n",
    "            print('\\n Accuracy has reached desired accuracy of ', desired_acc, ' stopping training')\n",
    "            self.model.self_training = True\n",
    "            \n",
    "myCallback = myCallback()"
   ]
  },
  {
   "cell_type": "code",
   "execution_count": 17,
   "id": "9825d2a6-1f69-4077-a80e-282009ed0c06",
   "metadata": {},
   "outputs": [],
   "source": [
    "early_callback = tf.keras.callbacks.EarlyStopping(patience=50, \n",
    "                                                  restore_best_weights= True)"
   ]
  },
  {
   "cell_type": "code",
   "execution_count": 18,
   "id": "6cc5c378-5bb2-44e9-a03a-b545580f7a08",
   "metadata": {},
   "outputs": [
    {
     "name": "stdout",
     "output_type": "stream",
     "text": [
      "Epoch 1/10\n",
      "  5/898 [..............................] - ETA: 33s - loss: 71.9250 - acc: 0.1187  WARNING:tensorflow:Callback method `on_train_batch_end` is slow compared to the batch time (batch time: 0.0162s vs `on_train_batch_end` time: 0.0168s). Check your callbacks.\n",
      "898/898 [==============================] - 42s 41ms/step - loss: 3.0371 - acc: 0.3409 - val_loss: 1.6399 - val_acc: 0.3752\n",
      "Epoch 2/10\n",
      "898/898 [==============================] - 36s 40ms/step - loss: 1.4545 - acc: 0.4390 - val_loss: 1.4795 - val_acc: 0.4161\n",
      "Epoch 3/10\n",
      "898/898 [==============================] - 36s 40ms/step - loss: 1.3907 - acc: 0.4650 - val_loss: 1.6301 - val_acc: 0.4440\n",
      "Epoch 4/10\n",
      "898/898 [==============================] - 36s 40ms/step - loss: 1.3460 - acc: 0.4862 - val_loss: 1.4874 - val_acc: 0.4497\n",
      "Epoch 5/10\n",
      "898/898 [==============================] - 36s 40ms/step - loss: 1.3207 - acc: 0.5022 - val_loss: 1.7907 - val_acc: 0.3982\n",
      "Epoch 6/10\n",
      "898/898 [==============================] - 36s 40ms/step - loss: 1.2953 - acc: 0.5120 - val_loss: 1.4894 - val_acc: 0.4940\n",
      "Epoch 7/10\n",
      "898/898 [==============================] - 36s 40ms/step - loss: 1.2654 - acc: 0.5253 - val_loss: 2.0823 - val_acc: 0.3756\n",
      "Epoch 8/10\n",
      "898/898 [==============================] - 36s 40ms/step - loss: 1.2390 - acc: 0.5350 - val_loss: 1.2972 - val_acc: 0.5145\n",
      "Epoch 9/10\n",
      "898/898 [==============================] - 36s 40ms/step - loss: 1.2218 - acc: 0.5461 - val_loss: 1.6960 - val_acc: 0.4239\n",
      "Epoch 10/10\n",
      "898/898 [==============================] - 35s 39ms/step - loss: 1.1965 - acc: 0.5530 - val_loss: 1.4565 - val_acc: 0.4519\n"
     ]
    }
   ],
   "source": [
    "epochs = 10\n",
    "steps_per_epoch = 1000\n",
    "\n",
    "CNN_v1_history = CNN_v1_model.fit(train_dataflow, \n",
    "                                  epochs = epochs, \n",
    "                                  validation_data=(test_dataflow),\n",
    "                                  #steps_per_epoch=steps_per_epoch,\n",
    "                                  callbacks=[early_callback, myCallback])"
   ]
  },
  {
   "cell_type": "code",
   "execution_count": 19,
   "id": "31fccce6-7dae-409a-ab78-4e36f12ec839",
   "metadata": {},
   "outputs": [],
   "source": [
    "def plot_results(history):\n",
    "    loss = history.history['loss']\n",
    "    val_loss = history.history['val_loss']\n",
    "    \n",
    "    acc = history.history['acc']\n",
    "    val_acc  =history.history['val_acc']\n",
    "    \n",
    "    length = range(len(loss))\n",
    "    \n",
    "    plt.plot(length, loss, 'b' ,label = 'Training Loss')\n",
    "    plt.plot(length, val_loss, 'r--', label = 'Validation Loss')\n",
    "    plt.title('Training vs Val Loss')\n",
    "    plt.xlabel('Epochs')\n",
    "    plt.ylabel('Loss')\n",
    "    plt.legend()\n",
    "    \n",
    "    plt.figure()\n",
    "    \n",
    "    plt.plot(length, acc, 'b' ,label = 'Training Acc')\n",
    "    plt.plot(length, val_acc, 'r--', label = 'Validation Acc')\n",
    "    plt.title('Training vs Val Acc')\n",
    "    plt.xlabel('Epochs')\n",
    "    plt.ylabel('Accuracy')\n",
    "    plt.legend()\n",
    "    plt.show()"
   ]
  },
  {
   "cell_type": "code",
   "execution_count": 20,
   "id": "d1808191-5d29-4fb0-955a-8d8dd365191d",
   "metadata": {},
   "outputs": [
    {
     "data": {
      "image/png": "[encoded data removed]",
      "text/plain": [
       "<Figure size 432x288 with 1 Axes>"
      ]
     },
     "metadata": {
      "needs_background": "light"
     },
     "output_type": "display_data"
    },
    {
     "data": {
      "image/png": "[encoded data removed]",
      "text/plain": [
       "<Figure size 432x288 with 1 Axes>"
      ]
     },
     "metadata": {
      "needs_background": "light"
     },
     "output_type": "display_data"
    }
   ],
   "source": [
    "plot_results(CNN_v1_history)"
   ]
  },
  {
   "cell_type": "markdown",
   "id": "a129a3b3-1456-4af6-89a3-08b75f41bb65",
   "metadata": {},
   "source": [
    "This looks promising. We train for a further 240 epochs, totalling 250 epochs for this model"
   ]
  },
  {
   "cell_type": "code",
   "execution_count": 21,
   "id": "3acd78db-bba0-4628-b524-7b1e2eec6880",
   "metadata": {},
   "outputs": [
    {
     "name": "stdout",
     "output_type": "stream",
     "text": [
      "Epoch 11/250\n",
      "  5/898 [..............................] - ETA: 32s - loss: 1.1145 - acc: 0.5500WARNING:tensorflow:Callback method `on_train_batch_end` is slow compared to the batch time (batch time: 0.0158s vs `on_train_batch_end` time: 0.0202s). Check your callbacks.\n",
      "898/898 [==============================] - 36s 40ms/step - loss: 1.1689 - acc: 0.5634 - val_loss: 1.7111 - val_acc: 0.4965\n",
      "Epoch 12/250\n",
      "898/898 [==============================] - 36s 40ms/step - loss: 1.1586 - acc: 0.5681 - val_loss: 1.3507 - val_acc: 0.5274\n",
      "Epoch 13/250\n",
      "898/898 [==============================] - 36s 40ms/step - loss: 1.1386 - acc: 0.5796 - val_loss: 1.4168 - val_acc: 0.4772\n",
      "Epoch 14/250\n",
      "898/898 [==============================] - 36s 40ms/step - loss: 1.1119 - acc: 0.5867 - val_loss: 1.4252 - val_acc: 0.4911\n",
      "Epoch 15/250\n",
      "898/898 [==============================] - 36s 40ms/step - loss: 1.0923 - acc: 0.5965 - val_loss: 1.2513 - val_acc: 0.5458\n",
      "Epoch 16/250\n",
      "898/898 [==============================] - 36s 40ms/step - loss: 1.0718 - acc: 0.6087 - val_loss: 1.5905 - val_acc: 0.4719\n",
      "Epoch 17/250\n",
      "898/898 [==============================] - 36s 40ms/step - loss: 1.0608 - acc: 0.6112 - val_loss: 1.5136 - val_acc: 0.4937\n",
      "Epoch 18/250\n",
      "898/898 [==============================] - 36s 39ms/step - loss: 1.0446 - acc: 0.6157 - val_loss: 1.3685 - val_acc: 0.5017\n",
      "Epoch 19/250\n",
      "898/898 [==============================] - 35s 39ms/step - loss: 1.0178 - acc: 0.6249 - val_loss: 1.8698 - val_acc: 0.4765\n",
      "Epoch 20/250\n",
      "898/898 [==============================] - 38s 42ms/step - loss: 1.0066 - acc: 0.6363 - val_loss: 1.4239 - val_acc: 0.5162\n",
      "Epoch 21/250\n",
      "898/898 [==============================] - 36s 40ms/step - loss: 0.9922 - acc: 0.6391 - val_loss: 1.3263 - val_acc: 0.5415\n",
      "Epoch 22/250\n",
      "898/898 [==============================] - 36s 40ms/step - loss: 0.9586 - acc: 0.6487 - val_loss: 1.3557 - val_acc: 0.5417\n",
      "Epoch 23/250\n",
      "898/898 [==============================] - 36s 40ms/step - loss: 0.9516 - acc: 0.6553 - val_loss: 1.4076 - val_acc: 0.5522\n",
      "Epoch 24/250\n",
      "898/898 [==============================] - 36s 40ms/step - loss: 0.9412 - acc: 0.6605 - val_loss: 1.4704 - val_acc: 0.5485\n",
      "Epoch 25/250\n",
      "898/898 [==============================] - 36s 40ms/step - loss: 0.9196 - acc: 0.6639 - val_loss: 1.3014 - val_acc: 0.5419\n",
      "Epoch 26/250\n",
      "898/898 [==============================] - 36s 40ms/step - loss: 0.9011 - acc: 0.6738 - val_loss: 1.7210 - val_acc: 0.5453\n",
      "Epoch 27/250\n",
      "898/898 [==============================] - 36s 40ms/step - loss: 0.8836 - acc: 0.6873 - val_loss: 1.3961 - val_acc: 0.5254\n",
      "Epoch 28/250\n",
      "898/898 [==============================] - 36s 40ms/step - loss: 0.8617 - acc: 0.6897 - val_loss: 1.4944 - val_acc: 0.5504\n",
      "Epoch 29/250\n",
      "898/898 [==============================] - 36s 40ms/step - loss: 0.8468 - acc: 0.6971 - val_loss: 1.5263 - val_acc: 0.5364\n",
      "Epoch 30/250\n",
      "898/898 [==============================] - 36s 40ms/step - loss: 0.8276 - acc: 0.7036 - val_loss: 1.5971 - val_acc: 0.5319\n",
      "Epoch 31/250\n",
      "898/898 [==============================] - 36s 40ms/step - loss: 0.8166 - acc: 0.7095 - val_loss: 1.8374 - val_acc: 0.5418\n",
      "Epoch 32/250\n",
      "898/898 [==============================] - 36s 40ms/step - loss: 0.8116 - acc: 0.7160 - val_loss: 1.6893 - val_acc: 0.5383\n",
      "Epoch 33/250\n",
      "898/898 [==============================] - 39s 43ms/step - loss: 0.7724 - acc: 0.7276 - val_loss: 1.5864 - val_acc: 0.5468\n",
      "Epoch 34/250\n",
      "898/898 [==============================] - 41s 46ms/step - loss: 0.7582 - acc: 0.7312 - val_loss: 1.4985 - val_acc: 0.5391\n",
      "Epoch 35/250\n",
      "898/898 [==============================] - 41s 45ms/step - loss: 0.7525 - acc: 0.7368 - val_loss: 1.9117 - val_acc: 0.5539\n",
      "Epoch 36/250\n",
      "898/898 [==============================] - 41s 46ms/step - loss: 0.7380 - acc: 0.7434 - val_loss: 1.6445 - val_acc: 0.5382\n",
      "Epoch 37/250\n",
      "898/898 [==============================] - 40s 45ms/step - loss: 0.7205 - acc: 0.7494 - val_loss: 1.5151 - val_acc: 0.5414\n",
      "Epoch 38/250\n",
      "898/898 [==============================] - 41s 45ms/step - loss: 0.6870 - acc: 0.7616 - val_loss: 1.7285 - val_acc: 0.5599\n",
      "Epoch 39/250\n",
      "898/898 [==============================] - 41s 45ms/step - loss: 0.6849 - acc: 0.7610 - val_loss: 1.6965 - val_acc: 0.5057\n",
      "Epoch 40/250\n",
      "898/898 [==============================] - 41s 45ms/step - loss: 0.6675 - acc: 0.7698 - val_loss: 1.8717 - val_acc: 0.5007\n",
      "Epoch 41/250\n",
      "898/898 [==============================] - 41s 45ms/step - loss: 0.6528 - acc: 0.7741 - val_loss: 1.7497 - val_acc: 0.5476\n",
      "Epoch 42/250\n",
      "898/898 [==============================] - 41s 46ms/step - loss: 0.6255 - acc: 0.7837 - val_loss: 1.8161 - val_acc: 0.5298\n",
      "Epoch 43/250\n",
      "898/898 [==============================] - 41s 45ms/step - loss: 0.6264 - acc: 0.7876 - val_loss: 1.9573 - val_acc: 0.5596\n",
      "Epoch 44/250\n",
      "898/898 [==============================] - 39s 43ms/step - loss: 0.6170 - acc: 0.7915 - val_loss: 2.0401 - val_acc: 0.5230\n",
      "Epoch 45/250\n",
      "898/898 [==============================] - 36s 40ms/step - loss: 0.6009 - acc: 0.7939 - val_loss: 1.9082 - val_acc: 0.5502\n",
      "Epoch 46/250\n",
      "898/898 [==============================] - 36s 40ms/step - loss: 0.5837 - acc: 0.8039 - val_loss: 1.9104 - val_acc: 0.5676\n",
      "Epoch 47/250\n",
      "898/898 [==============================] - 36s 39ms/step - loss: 0.5656 - acc: 0.8090 - val_loss: 1.8756 - val_acc: 0.5217\n",
      "Epoch 48/250\n",
      "898/898 [==============================] - 36s 40ms/step - loss: 0.5367 - acc: 0.8185 - val_loss: 1.9903 - val_acc: 0.5499\n",
      "Epoch 49/250\n",
      "898/898 [==============================] - 36s 40ms/step - loss: 0.5248 - acc: 0.8245 - val_loss: 1.8518 - val_acc: 0.5500\n",
      "Epoch 50/250\n",
      "898/898 [==============================] - 36s 40ms/step - loss: 0.5077 - acc: 0.8317 - val_loss: 1.8676 - val_acc: 0.5584\n",
      "Epoch 51/250\n",
      "898/898 [==============================] - 36s 40ms/step - loss: 0.5097 - acc: 0.8348 - val_loss: 2.1808 - val_acc: 0.5670\n",
      "Epoch 52/250\n",
      "898/898 [==============================] - 36s 40ms/step - loss: 0.4891 - acc: 0.8400 - val_loss: 1.8552 - val_acc: 0.5528\n",
      "Epoch 53/250\n",
      "325/898 [=========>....................] - ETA: 20s - loss: 0.4560 - acc: 0.8477"
     ]
    },
    {
     "ename": "KeyboardInterrupt",
     "evalue": "",
     "output_type": "error",
     "traceback": [
      "\u001b[1;31m---------------------------------------------------------------------------\u001b[0m",
      "\u001b[1;31mKeyboardInterrupt\u001b[0m                         Traceback (most recent call last)",
      "\u001b[1;32m~\\AppData\\Local\\Temp/ipykernel_18488/3554272870.py\u001b[0m in \u001b[0;36m<module>\u001b[1;34m\u001b[0m\n\u001b[0;32m      2\u001b[0m \u001b[0msteps_per_epoch\u001b[0m \u001b[1;33m=\u001b[0m \u001b[1;36m1000\u001b[0m\u001b[1;33m\u001b[0m\u001b[1;33m\u001b[0m\u001b[0m\n\u001b[0;32m      3\u001b[0m \u001b[1;33m\u001b[0m\u001b[0m\n\u001b[1;32m----> 4\u001b[1;33m CNN_v1_history = CNN_v1_model.fit(train_dataflow, \n\u001b[0m\u001b[0;32m      5\u001b[0m                                   \u001b[0mepochs\u001b[0m \u001b[1;33m=\u001b[0m \u001b[0mepochs\u001b[0m\u001b[1;33m,\u001b[0m\u001b[1;33m\u001b[0m\u001b[1;33m\u001b[0m\u001b[0m\n\u001b[0;32m      6\u001b[0m                                   \u001b[0mvalidation_data\u001b[0m\u001b[1;33m=\u001b[0m\u001b[1;33m(\u001b[0m\u001b[0mtest_dataflow\u001b[0m\u001b[1;33m)\u001b[0m\u001b[1;33m,\u001b[0m\u001b[1;33m\u001b[0m\u001b[1;33m\u001b[0m\u001b[0m\n",
      "\u001b[1;32m~\\Venv\\testpy39\\lib\\site-packages\\keras\\utils\\traceback_utils.py\u001b[0m in \u001b[0;36merror_handler\u001b[1;34m(*args, **kwargs)\u001b[0m\n\u001b[0;32m     62\u001b[0m     \u001b[0mfiltered_tb\u001b[0m \u001b[1;33m=\u001b[0m \u001b[1;32mNone\u001b[0m\u001b[1;33m\u001b[0m\u001b[1;33m\u001b[0m\u001b[0m\n\u001b[0;32m     63\u001b[0m     \u001b[1;32mtry\u001b[0m\u001b[1;33m:\u001b[0m\u001b[1;33m\u001b[0m\u001b[1;33m\u001b[0m\u001b[0m\n\u001b[1;32m---> 64\u001b[1;33m       \u001b[1;32mreturn\u001b[0m \u001b[0mfn\u001b[0m\u001b[1;33m(\u001b[0m\u001b[1;33m*\u001b[0m\u001b[0margs\u001b[0m\u001b[1;33m,\u001b[0m \u001b[1;33m**\u001b[0m\u001b[0mkwargs\u001b[0m\u001b[1;33m)\u001b[0m\u001b[1;33m\u001b[0m\u001b[1;33m\u001b[0m\u001b[0m\n\u001b[0m\u001b[0;32m     65\u001b[0m     \u001b[1;32mexcept\u001b[0m \u001b[0mException\u001b[0m \u001b[1;32mas\u001b[0m \u001b[0me\u001b[0m\u001b[1;33m:\u001b[0m  \u001b[1;31m# pylint: disable=broad-except\u001b[0m\u001b[1;33m\u001b[0m\u001b[1;33m\u001b[0m\u001b[0m\n\u001b[0;32m     66\u001b[0m       \u001b[0mfiltered_tb\u001b[0m \u001b[1;33m=\u001b[0m \u001b[0m_process_traceback_frames\u001b[0m\u001b[1;33m(\u001b[0m\u001b[0me\u001b[0m\u001b[1;33m.\u001b[0m\u001b[0m__traceback__\u001b[0m\u001b[1;33m)\u001b[0m\u001b[1;33m\u001b[0m\u001b[1;33m\u001b[0m\u001b[0m\n",
      "\u001b[1;32m~\\Venv\\testpy39\\lib\\site-packages\\keras\\engine\\training.py\u001b[0m in \u001b[0;36mfit\u001b[1;34m(self, x, y, batch_size, epochs, verbose, callbacks, validation_split, validation_data, shuffle, class_weight, sample_weight, initial_epoch, steps_per_epoch, validation_steps, validation_batch_size, validation_freq, max_queue_size, workers, use_multiprocessing)\u001b[0m\n\u001b[0;32m   1214\u001b[0m                 _r=1):\n\u001b[0;32m   1215\u001b[0m               \u001b[0mcallbacks\u001b[0m\u001b[1;33m.\u001b[0m\u001b[0mon_train_batch_begin\u001b[0m\u001b[1;33m(\u001b[0m\u001b[0mstep\u001b[0m\u001b[1;33m)\u001b[0m\u001b[1;33m\u001b[0m\u001b[1;33m\u001b[0m\u001b[0m\n\u001b[1;32m-> 1216\u001b[1;33m               \u001b[0mtmp_logs\u001b[0m \u001b[1;33m=\u001b[0m \u001b[0mself\u001b[0m\u001b[1;33m.\u001b[0m\u001b[0mtrain_function\u001b[0m\u001b[1;33m(\u001b[0m\u001b[0miterator\u001b[0m\u001b[1;33m)\u001b[0m\u001b[1;33m\u001b[0m\u001b[1;33m\u001b[0m\u001b[0m\n\u001b[0m\u001b[0;32m   1217\u001b[0m               \u001b[1;32mif\u001b[0m \u001b[0mdata_handler\u001b[0m\u001b[1;33m.\u001b[0m\u001b[0mshould_sync\u001b[0m\u001b[1;33m:\u001b[0m\u001b[1;33m\u001b[0m\u001b[1;33m\u001b[0m\u001b[0m\n\u001b[0;32m   1218\u001b[0m                 \u001b[0mcontext\u001b[0m\u001b[1;33m.\u001b[0m\u001b[0masync_wait\u001b[0m\u001b[1;33m(\u001b[0m\u001b[1;33m)\u001b[0m\u001b[1;33m\u001b[0m\u001b[1;33m\u001b[0m\u001b[0m\n",
      "\u001b[1;32m~\\Venv\\testpy39\\lib\\site-packages\\tensorflow\\python\\util\\traceback_utils.py\u001b[0m in \u001b[0;36merror_handler\u001b[1;34m(*args, **kwargs)\u001b[0m\n\u001b[0;32m    148\u001b[0m     \u001b[0mfiltered_tb\u001b[0m \u001b[1;33m=\u001b[0m \u001b[1;32mNone\u001b[0m\u001b[1;33m\u001b[0m\u001b[1;33m\u001b[0m\u001b[0m\n\u001b[0;32m    149\u001b[0m     \u001b[1;32mtry\u001b[0m\u001b[1;33m:\u001b[0m\u001b[1;33m\u001b[0m\u001b[1;33m\u001b[0m\u001b[0m\n\u001b[1;32m--> 150\u001b[1;33m       \u001b[1;32mreturn\u001b[0m \u001b[0mfn\u001b[0m\u001b[1;33m(\u001b[0m\u001b[1;33m*\u001b[0m\u001b[0margs\u001b[0m\u001b[1;33m,\u001b[0m \u001b[1;33m**\u001b[0m\u001b[0mkwargs\u001b[0m\u001b[1;33m)\u001b[0m\u001b[1;33m\u001b[0m\u001b[1;33m\u001b[0m\u001b[0m\n\u001b[0m\u001b[0;32m    151\u001b[0m     \u001b[1;32mexcept\u001b[0m \u001b[0mException\u001b[0m \u001b[1;32mas\u001b[0m \u001b[0me\u001b[0m\u001b[1;33m:\u001b[0m\u001b[1;33m\u001b[0m\u001b[1;33m\u001b[0m\u001b[0m\n\u001b[0;32m    152\u001b[0m       \u001b[0mfiltered_tb\u001b[0m \u001b[1;33m=\u001b[0m \u001b[0m_process_traceback_frames\u001b[0m\u001b[1;33m(\u001b[0m\u001b[0me\u001b[0m\u001b[1;33m.\u001b[0m\u001b[0m__traceback__\u001b[0m\u001b[1;33m)\u001b[0m\u001b[1;33m\u001b[0m\u001b[1;33m\u001b[0m\u001b[0m\n",
      "\u001b[1;32m~\\Venv\\testpy39\\lib\\site-packages\\tensorflow\\python\\eager\\def_function.py\u001b[0m in \u001b[0;36m__call__\u001b[1;34m(self, *args, **kwds)\u001b[0m\n\u001b[0;32m    908\u001b[0m \u001b[1;33m\u001b[0m\u001b[0m\n\u001b[0;32m    909\u001b[0m       \u001b[1;32mwith\u001b[0m \u001b[0mOptionalXlaContext\u001b[0m\u001b[1;33m(\u001b[0m\u001b[0mself\u001b[0m\u001b[1;33m.\u001b[0m\u001b[0m_jit_compile\u001b[0m\u001b[1;33m)\u001b[0m\u001b[1;33m:\u001b[0m\u001b[1;33m\u001b[0m\u001b[1;33m\u001b[0m\u001b[0m\n\u001b[1;32m--> 910\u001b[1;33m         \u001b[0mresult\u001b[0m \u001b[1;33m=\u001b[0m \u001b[0mself\u001b[0m\u001b[1;33m.\u001b[0m\u001b[0m_call\u001b[0m\u001b[1;33m(\u001b[0m\u001b[1;33m*\u001b[0m\u001b[0margs\u001b[0m\u001b[1;33m,\u001b[0m \u001b[1;33m**\u001b[0m\u001b[0mkwds\u001b[0m\u001b[1;33m)\u001b[0m\u001b[1;33m\u001b[0m\u001b[1;33m\u001b[0m\u001b[0m\n\u001b[0m\u001b[0;32m    911\u001b[0m \u001b[1;33m\u001b[0m\u001b[0m\n\u001b[0;32m    912\u001b[0m       \u001b[0mnew_tracing_count\u001b[0m \u001b[1;33m=\u001b[0m \u001b[0mself\u001b[0m\u001b[1;33m.\u001b[0m\u001b[0mexperimental_get_tracing_count\u001b[0m\u001b[1;33m(\u001b[0m\u001b[1;33m)\u001b[0m\u001b[1;33m\u001b[0m\u001b[1;33m\u001b[0m\u001b[0m\n",
      "\u001b[1;32m~\\Venv\\testpy39\\lib\\site-packages\\tensorflow\\python\\eager\\def_function.py\u001b[0m in \u001b[0;36m_call\u001b[1;34m(self, *args, **kwds)\u001b[0m\n\u001b[0;32m    940\u001b[0m       \u001b[1;31m# In this case we have created variables on the first call, so we run the\u001b[0m\u001b[1;33m\u001b[0m\u001b[1;33m\u001b[0m\u001b[0m\n\u001b[0;32m    941\u001b[0m       \u001b[1;31m# defunned version which is guaranteed to never create variables.\u001b[0m\u001b[1;33m\u001b[0m\u001b[1;33m\u001b[0m\u001b[0m\n\u001b[1;32m--> 942\u001b[1;33m       \u001b[1;32mreturn\u001b[0m \u001b[0mself\u001b[0m\u001b[1;33m.\u001b[0m\u001b[0m_stateless_fn\u001b[0m\u001b[1;33m(\u001b[0m\u001b[1;33m*\u001b[0m\u001b[0margs\u001b[0m\u001b[1;33m,\u001b[0m \u001b[1;33m**\u001b[0m\u001b[0mkwds\u001b[0m\u001b[1;33m)\u001b[0m  \u001b[1;31m# pylint: disable=not-callable\u001b[0m\u001b[1;33m\u001b[0m\u001b[1;33m\u001b[0m\u001b[0m\n\u001b[0m\u001b[0;32m    943\u001b[0m     \u001b[1;32melif\u001b[0m \u001b[0mself\u001b[0m\u001b[1;33m.\u001b[0m\u001b[0m_stateful_fn\u001b[0m \u001b[1;32mis\u001b[0m \u001b[1;32mnot\u001b[0m \u001b[1;32mNone\u001b[0m\u001b[1;33m:\u001b[0m\u001b[1;33m\u001b[0m\u001b[1;33m\u001b[0m\u001b[0m\n\u001b[0;32m    944\u001b[0m       \u001b[1;31m# Release the lock early so that multiple threads can perform the call\u001b[0m\u001b[1;33m\u001b[0m\u001b[1;33m\u001b[0m\u001b[0m\n",
      "\u001b[1;32m~\\Venv\\testpy39\\lib\\site-packages\\tensorflow\\python\\eager\\function.py\u001b[0m in \u001b[0;36m__call__\u001b[1;34m(self, *args, **kwargs)\u001b[0m\n\u001b[0;32m   3128\u001b[0m       (graph_function,\n\u001b[0;32m   3129\u001b[0m        filtered_flat_args) = self._maybe_define_function(args, kwargs)\n\u001b[1;32m-> 3130\u001b[1;33m     return graph_function._call_flat(\n\u001b[0m\u001b[0;32m   3131\u001b[0m         filtered_flat_args, captured_inputs=graph_function.captured_inputs)  # pylint: disable=protected-access\n\u001b[0;32m   3132\u001b[0m \u001b[1;33m\u001b[0m\u001b[0m\n",
      "\u001b[1;32m~\\Venv\\testpy39\\lib\\site-packages\\tensorflow\\python\\eager\\function.py\u001b[0m in \u001b[0;36m_call_flat\u001b[1;34m(self, args, captured_inputs, cancellation_manager)\u001b[0m\n\u001b[0;32m   1957\u001b[0m         and executing_eagerly):\n\u001b[0;32m   1958\u001b[0m       \u001b[1;31m# No tape is watching; skip to running the function.\u001b[0m\u001b[1;33m\u001b[0m\u001b[1;33m\u001b[0m\u001b[0m\n\u001b[1;32m-> 1959\u001b[1;33m       return self._build_call_outputs(self._inference_function.call(\n\u001b[0m\u001b[0;32m   1960\u001b[0m           ctx, args, cancellation_manager=cancellation_manager))\n\u001b[0;32m   1961\u001b[0m     forward_backward = self._select_forward_and_backward_functions(\n",
      "\u001b[1;32m~\\Venv\\testpy39\\lib\\site-packages\\tensorflow\\python\\eager\\function.py\u001b[0m in \u001b[0;36mcall\u001b[1;34m(self, ctx, args, cancellation_manager)\u001b[0m\n\u001b[0;32m    596\u001b[0m       \u001b[1;32mwith\u001b[0m \u001b[0m_InterpolateFunctionError\u001b[0m\u001b[1;33m(\u001b[0m\u001b[0mself\u001b[0m\u001b[1;33m)\u001b[0m\u001b[1;33m:\u001b[0m\u001b[1;33m\u001b[0m\u001b[1;33m\u001b[0m\u001b[0m\n\u001b[0;32m    597\u001b[0m         \u001b[1;32mif\u001b[0m \u001b[0mcancellation_manager\u001b[0m \u001b[1;32mis\u001b[0m \u001b[1;32mNone\u001b[0m\u001b[1;33m:\u001b[0m\u001b[1;33m\u001b[0m\u001b[1;33m\u001b[0m\u001b[0m\n\u001b[1;32m--> 598\u001b[1;33m           outputs = execute.execute(\n\u001b[0m\u001b[0;32m    599\u001b[0m               \u001b[0mstr\u001b[0m\u001b[1;33m(\u001b[0m\u001b[0mself\u001b[0m\u001b[1;33m.\u001b[0m\u001b[0msignature\u001b[0m\u001b[1;33m.\u001b[0m\u001b[0mname\u001b[0m\u001b[1;33m)\u001b[0m\u001b[1;33m,\u001b[0m\u001b[1;33m\u001b[0m\u001b[1;33m\u001b[0m\u001b[0m\n\u001b[0;32m    600\u001b[0m               \u001b[0mnum_outputs\u001b[0m\u001b[1;33m=\u001b[0m\u001b[0mself\u001b[0m\u001b[1;33m.\u001b[0m\u001b[0m_num_outputs\u001b[0m\u001b[1;33m,\u001b[0m\u001b[1;33m\u001b[0m\u001b[1;33m\u001b[0m\u001b[0m\n",
      "\u001b[1;32m~\\Venv\\testpy39\\lib\\site-packages\\tensorflow\\python\\eager\\execute.py\u001b[0m in \u001b[0;36mquick_execute\u001b[1;34m(op_name, num_outputs, inputs, attrs, ctx, name)\u001b[0m\n\u001b[0;32m     56\u001b[0m   \u001b[1;32mtry\u001b[0m\u001b[1;33m:\u001b[0m\u001b[1;33m\u001b[0m\u001b[1;33m\u001b[0m\u001b[0m\n\u001b[0;32m     57\u001b[0m     \u001b[0mctx\u001b[0m\u001b[1;33m.\u001b[0m\u001b[0mensure_initialized\u001b[0m\u001b[1;33m(\u001b[0m\u001b[1;33m)\u001b[0m\u001b[1;33m\u001b[0m\u001b[1;33m\u001b[0m\u001b[0m\n\u001b[1;32m---> 58\u001b[1;33m     tensors = pywrap_tfe.TFE_Py_Execute(ctx._handle, device_name, op_name,\n\u001b[0m\u001b[0;32m     59\u001b[0m                                         inputs, attrs, num_outputs)\n\u001b[0;32m     60\u001b[0m   \u001b[1;32mexcept\u001b[0m \u001b[0mcore\u001b[0m\u001b[1;33m.\u001b[0m\u001b[0m_NotOkStatusException\u001b[0m \u001b[1;32mas\u001b[0m \u001b[0me\u001b[0m\u001b[1;33m:\u001b[0m\u001b[1;33m\u001b[0m\u001b[1;33m\u001b[0m\u001b[0m\n",
      "\u001b[1;31mKeyboardInterrupt\u001b[0m: "
     ]
    }
   ],
   "source": [
    "epochs = 250\n",
    "steps_per_epoch = 1000\n",
    "\n",
    "CNN_v1_history = CNN_v1_model.fit(train_dataflow, \n",
    "                                  epochs = epochs, \n",
    "                                  validation_data=(test_dataflow),\n",
    "                                  initial_epoch = 10,\n",
    "                                  #steps_per_epoch=steps_per_epoch,\n",
    "                                  callbacks=[early_callback, myCallback])"
   ]
  },
  {
   "cell_type": "code",
   "execution_count": null,
   "id": "c650b9b3-d9ba-44ff-a3eb-58a6f7da211c",
   "metadata": {},
   "outputs": [],
   "source": [
    "plot_results(CNN_v1_history)"
   ]
  },
  {
   "cell_type": "code",
   "execution_count": null,
   "id": "d612a40f-f9d3-4728-bc42-df7c26bd7db6",
   "metadata": {},
   "outputs": [],
   "source": [
    "model.save('CNN_v1_250epochs.h5')"
   ]
  },
  {
   "cell_type": "code",
   "execution_count": null,
   "id": "24484da6-4337-4b0f-8899-c62aedc9374f",
   "metadata": {},
   "outputs": [],
   "source": [
    "from sklearn.metrics import classification_report"
   ]
  },
  {
   "cell_type": "code",
   "execution_count": null,
   "id": "9d56eb81-cddc-46fc-bad1-f64234a7f153",
   "metadata": {},
   "outputs": [],
   "source": [
    "def pull_random_test_image():\n",
    "    random_int = np.random.choice(6,1)\n",
    "    random_emotion = emotion[random_int]\n",
    "    random_folder = os.path.join(test_root, random_emotion)\n",
    "    "
   ]
  },
  {
   "cell_type": "markdown",
   "id": "d0dba454-2cf3-4430-8e52-e9fbc109f98b",
   "metadata": {},
   "source": [
    "# Transfer Learning"
   ]
  },
  {
   "cell_type": "markdown",
   "id": "26dc2bec-0856-428e-abdc-27fbfbe1eaa8",
   "metadata": {},
   "source": [
    "# Fine Tunning"
   ]
  }
 ],
 "metadata": {
  "kernelspec": {
   "display_name": "Python 3 (ipykernel)",
   "language": "python",
   "name": "python3"
  },
  "language_info": {
   "codemirror_mode": {
    "name": "ipython",
    "version": 3
   },
   "file_extension": ".py",
   "mimetype": "text/x-python",
   "name": "python",
   "nbconvert_exporter": "python",
   "pygments_lexer": "ipython3",
   "version": "3.9.9"
  }
 },
 "nbformat": 4,
 "nbformat_minor": 5
}
