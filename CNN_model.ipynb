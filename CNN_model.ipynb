{
 "cells": [
  {
   "cell_type": "markdown",
   "id": "54d0bebd-ad8b-4ab4-99de-6348dff1f08c",
   "metadata": {},
   "source": [
    "Source:\n",
    "\n",
    "handling imbalanced dataset problem\n",
    "\n",
    "https://www.linkedin.com/pulse/some-tricks-handling-imbalanced-dataset-image-m-farhan-tandia/ \n",
    "\n",
    "https://stackoverflow.com/questions/66016844/imbalanced-image-dataset-tensorflow2\n",
    "\n",
    "https://stackoverflow.com/questions/41648129/balancing-an-imbalanced-dataset-with-keras-image-generator\n",
    "\n",
    "\n",
    "Getting images off Google\n",
    "\n",
    "https://pypi.org/project/Google-Images-Search/"
   ]
  },
  {
   "cell_type": "code",
   "execution_count": 1,
   "id": "ad2d9bb2-5451-4af8-9217-cfe2f6c21b3e",
   "metadata": {},
   "outputs": [],
   "source": [
    "import numpy as np\n",
    "import matplotlib.pyplot as plt\n",
    "import pandas as pd\n",
    "import tensorflow as tf"
   ]
  },
  {
   "cell_type": "code",
   "execution_count": 2,
   "id": "e71f9fd3-bcd2-428e-bd15-b98aba840cdd",
   "metadata": {},
   "outputs": [
    {
     "name": "stdout",
     "output_type": "stream",
     "text": [
      "<function is_gpu_available at 0x0000022CEA293F70>\n"
     ]
    }
   ],
   "source": [
    "print(tf.test.is_gpu_available)"
   ]
  },
  {
   "cell_type": "code",
   "execution_count": 3,
   "id": "eee1a954-cbaa-4bef-931e-80a80147454d",
   "metadata": {},
   "outputs": [
    {
     "name": "stdout",
     "output_type": "stream",
     "text": [
      "Num GPUs Available:  1\n"
     ]
    }
   ],
   "source": [
    "print(\"Num GPUs Available: \", len(tf.config.list_physical_devices('GPU')))"
   ]
  },
  {
   "cell_type": "code",
   "execution_count": 4,
   "id": "9e6e011d-0d75-4f15-8112-ca35e9c4ef9c",
   "metadata": {},
   "outputs": [],
   "source": [
    "import os"
   ]
  },
  {
   "cell_type": "code",
   "execution_count": 5,
   "id": "c1cbf358-5f25-4963-b92e-97702d8b5455",
   "metadata": {},
   "outputs": [
    {
     "name": "stdout",
     "output_type": "stream",
     "text": [
      "C:\\Users\\Randy\\GitHub\\metamo\n"
     ]
    }
   ],
   "source": [
    "print(os.getcwd())"
   ]
  },
  {
   "cell_type": "code",
   "execution_count": 6,
   "id": "7c89a582-f140-4d96-aa45-42cb1caac928",
   "metadata": {},
   "outputs": [],
   "source": [
    "train_root = os.path.join(os.getcwd(),'train')\n",
    "test_root = os.path.join(os.getcwd(),'test')\n",
    "emotions = ['angry','disgust','fear','happy','neutral','sad','surprise']"
   ]
  },
  {
   "cell_type": "code",
   "execution_count": 7,
   "id": "dfbd1e11-0cb8-4da9-99a1-84d7ee672ff0",
   "metadata": {},
   "outputs": [
    {
     "name": "stdout",
     "output_type": "stream",
     "text": [
      "angry  has \t 3995  number of files\n",
      "disgust  has \t 436  number of files\n",
      "fear  has \t 4097  number of files\n",
      "happy  has \t 7215  number of files\n",
      "neutral  has \t 4965  number of files\n",
      "sad  has \t 4830  number of files\n",
      "surprise  has \t 3171  number of files\n"
     ]
    }
   ],
   "source": [
    "for emotion in emotions:\n",
    "    f_name = os.listdir(os.path.join(train_root,emotion))\n",
    "    print(emotion , ' has \\t', len(f_name), ' number of files')"
   ]
  },
  {
   "cell_type": "code",
   "execution_count": 8,
   "id": "c43f9589-2472-40c8-8874-c954c49c7f40",
   "metadata": {},
   "outputs": [
    {
     "name": "stdout",
     "output_type": "stream",
     "text": [
      "Found 28709 images belonging to 7 classes.\n",
      "Found 7178 images belonging to 7 classes.\n"
     ]
    }
   ],
   "source": [
    "seed_num = 42\n",
    "\n",
    "train_dataGen = tf.keras.preprocessing.image.ImageDataGenerator(rescale = 1./255,\n",
    "                                                                vertical_flip= True, \n",
    "                                                                rotation_range=5,\n",
    "                                                                width_shift_range=0.2,\n",
    "                                                                height_shift_range=0.2,\n",
    "                                                                shear_range=0.2,\n",
    "                                                                horizontal_flip=True,\n",
    "                                                                fill_mode='nearest')\n",
    "\n",
    "train_dataflow = train_dataGen.flow_from_directory(train_root,\n",
    "                                                  target_size = (48,48),\n",
    "                                                  color_mode = 'grayscale',\n",
    "                                                  seed = seed_num)\n",
    "\n",
    "test_dataGen = tf.keras.preprocessing.image.ImageDataGenerator(rescale = 1./255)\n",
    "\n",
    "test_dataflow = test_dataGen.flow_from_directory(test_root,\n",
    "                                                target_size=(48,48),\n",
    "                                                color_mode= 'grayscale',\n",
    "                                                shuffle = False,\n",
    "                                                seed = seed_num)"
   ]
  },
  {
   "cell_type": "code",
   "execution_count": 10,
   "id": "c6d0389a-dc04-4f31-a3df-9dec86cf216d",
   "metadata": {},
   "outputs": [],
   "source": [
    "class myCallback(tf.keras.callbacks.Callback):\n",
    "    def on_epoch_end(self, epoch, log={}):\n",
    "        if (log['acc'] > log['val_acc'] + 0.2) and (epoch > 25):\n",
    "            print('\\n Train acc much greater than val acc. Training stopped')\n",
    "            self.model.stop_training = True\n",
    "            \n",
    "myCallback = myCallback()"
   ]
  },
  {
   "cell_type": "code",
   "execution_count": 11,
   "id": "9825d2a6-1f69-4077-a80e-282009ed0c06",
   "metadata": {},
   "outputs": [],
   "source": [
    "early_callback = tf.keras.callbacks.EarlyStopping(patience=10, \n",
    "                                                  restore_best_weights= True, \n",
    "                                                  monitor = 'val_acc')"
   ]
  },
  {
   "cell_type": "code",
   "execution_count": 18,
   "id": "97d5da7e-3001-478d-a8da-d6b82cf09248",
   "metadata": {},
   "outputs": [],
   "source": [
    "reduceLR = tf.keras.callbacks.ReduceLROnPlateau(monitor='val_acc', patience = 5)"
   ]
  },
  {
   "cell_type": "code",
   "execution_count": 54,
   "id": "91a1f460-e77e-436d-aba8-8bc259f7db8d",
   "metadata": {},
   "outputs": [],
   "source": [
    "CNN_v1_model = tf.keras.models.Sequential([\n",
    "    tf.keras.layers.Conv2D(64, (3,3) , input_shape = (48,48,1), activation = 'relu'),\n",
    "    tf.keras.layers.Conv2D(128, (3,3) , activation = 'relu'),\n",
    "    tf.keras.layers.BatchNormalization(),\n",
    "    tf.keras.layers.MaxPooling2D(),\n",
    "    tf.keras.layers.Dropout(0.2),\n",
    "\n",
    "    tf.keras.layers.Conv2D(256, (3,3) , activation = 'relu'),\n",
    "    tf.keras.layers.Conv2D(512, (3,3) , activation = 'relu'),\n",
    "    tf.keras.layers.BatchNormalization(),\n",
    "    tf.keras.layers.MaxPooling2D(),\n",
    "    tf.keras.layers.Dropout(0.2),\n",
    "    \n",
    "    tf.keras.layers.Flatten(),\n",
    "    tf.keras.layers.Dense(512, activation='relu'),\n",
    "    tf.keras.layers.Dense(7, activation='softmax')\n",
    "])"
   ]
  },
  {
   "cell_type": "code",
   "execution_count": 55,
   "id": "135314c3-3a42-4652-af63-aa3b9221f4fd",
   "metadata": {},
   "outputs": [],
   "source": [
    "# CNN_v1_model.compile(loss = 'sparse_categorical_crossentropy' , \n",
    "#               metrics = ['acc'],\n",
    "#              optimizer = tf.keras.optimizers.RMSprop())\n",
    "\n",
    "CNN_v1_model.compile(loss = 'categorical_crossentropy' , \n",
    "              metrics = ['acc'],\n",
    "             optimizer = tf.keras.optimizers.RMSprop())"
   ]
  },
  {
   "cell_type": "code",
   "execution_count": 56,
   "id": "b6bf83ad-7ba5-4bbe-a9c6-326335f08dec",
   "metadata": {
    "collapsed": true,
    "jupyter": {
     "outputs_hidden": true
    },
    "tags": []
   },
   "outputs": [
    {
     "name": "stdout",
     "output_type": "stream",
     "text": [
      "Model: \"sequential_2\"\n",
      "_________________________________________________________________\n",
      " Layer (type)                Output Shape              Param #   \n",
      "=================================================================\n",
      " conv2d_8 (Conv2D)           (None, 46, 46, 64)        640       \n",
      "                                                                 \n",
      " conv2d_9 (Conv2D)           (None, 44, 44, 128)       73856     \n",
      "                                                                 \n",
      " batch_normalization_4 (Batc  (None, 44, 44, 128)      512       \n",
      " hNormalization)                                                 \n",
      "                                                                 \n",
      " max_pooling2d_4 (MaxPooling  (None, 22, 22, 128)      0         \n",
      " 2D)                                                             \n",
      "                                                                 \n",
      " dropout_5 (Dropout)         (None, 22, 22, 128)       0         \n",
      "                                                                 \n",
      " conv2d_10 (Conv2D)          (None, 20, 20, 256)       295168    \n",
      "                                                                 \n",
      " conv2d_11 (Conv2D)          (None, 18, 18, 512)       1180160   \n",
      "                                                                 \n",
      " batch_normalization_5 (Batc  (None, 18, 18, 512)      2048      \n",
      " hNormalization)                                                 \n",
      "                                                                 \n",
      " max_pooling2d_5 (MaxPooling  (None, 9, 9, 512)        0         \n",
      " 2D)                                                             \n",
      "                                                                 \n",
      " dropout_6 (Dropout)         (None, 9, 9, 512)         0         \n",
      "                                                                 \n",
      " flatten_2 (Flatten)         (None, 41472)             0         \n",
      "                                                                 \n",
      " dense_6 (Dense)             (None, 512)               21234176  \n",
      "                                                                 \n",
      " dense_7 (Dense)             (None, 7)                 3591      \n",
      "                                                                 \n",
      "=================================================================\n",
      "Total params: 22,790,151\n",
      "Trainable params: 22,788,871\n",
      "Non-trainable params: 1,280\n",
      "_________________________________________________________________\n"
     ]
    }
   ],
   "source": [
    "CNN_v1_model.summary()"
   ]
  },
  {
   "cell_type": "code",
   "execution_count": 60,
   "id": "6cc5c378-5bb2-44e9-a03a-b545580f7a08",
   "metadata": {
    "tags": []
   },
   "outputs": [
    {
     "name": "stdout",
     "output_type": "stream",
     "text": [
      "Epoch 1/10\n",
      "  5/898 [..............................] - ETA: 33s - loss: 73.9066 - acc: 0.1750WARNING:tensorflow:Callback method `on_train_batch_end` is slow compared to the batch time (batch time: 0.0164s vs `on_train_batch_end` time: 0.0332s). Check your callbacks.\n",
      "898/898 [==============================] - 36s 39ms/step - loss: 3.5926 - acc: 0.2513 - val_loss: 1.7161 - val_acc: 0.2938 - lr: 0.0010\n",
      "Epoch 2/10\n",
      "898/898 [==============================] - 34s 38ms/step - loss: 1.6985 - acc: 0.3050 - val_loss: 1.7132 - val_acc: 0.3052 - lr: 0.0010\n",
      "Epoch 3/10\n",
      "898/898 [==============================] - 35s 39ms/step - loss: 1.6468 - acc: 0.3343 - val_loss: 1.8042 - val_acc: 0.2850 - lr: 0.0010\n",
      "Epoch 4/10\n",
      "898/898 [==============================] - 35s 39ms/step - loss: 1.5998 - acc: 0.3655 - val_loss: 1.7709 - val_acc: 0.3626 - lr: 0.0010\n",
      "Epoch 5/10\n",
      "898/898 [==============================] - 35s 38ms/step - loss: 1.5511 - acc: 0.3893 - val_loss: 1.6464 - val_acc: 0.3963 - lr: 0.0010\n",
      "Epoch 6/10\n",
      "898/898 [==============================] - 34s 38ms/step - loss: 1.5235 - acc: 0.4045 - val_loss: 1.6248 - val_acc: 0.3816 - lr: 0.0010\n",
      "Epoch 7/10\n",
      "898/898 [==============================] - 35s 38ms/step - loss: 1.5000 - acc: 0.4209 - val_loss: 1.4316 - val_acc: 0.4507 - lr: 0.0010\n",
      "Epoch 8/10\n",
      "898/898 [==============================] - 35s 38ms/step - loss: 1.4854 - acc: 0.4245 - val_loss: 1.4302 - val_acc: 0.4595 - lr: 0.0010\n",
      "Epoch 9/10\n",
      "898/898 [==============================] - 46s 52ms/step - loss: 1.4675 - acc: 0.4336 - val_loss: 1.6038 - val_acc: 0.4200 - lr: 0.0010\n",
      "Epoch 10/10\n",
      "898/898 [==============================] - 35s 39ms/step - loss: 1.4484 - acc: 0.4422 - val_loss: 1.4730 - val_acc: 0.4543 - lr: 0.0010\n"
     ]
    }
   ],
   "source": [
    "#CNN_v1_model.load_weights('CNN_v1_250epochs.h5')\n",
    "epochs = 10\n",
    "steps_per_epoch = 1000\n",
    "\n",
    "CNN_v1_history = CNN_v1_model.fit(train_dataflow, \n",
    "                                  epochs = epochs, \n",
    "                                  validation_data=(test_dataflow),\n",
    "                                  #steps_per_epoch=steps_per_epoch,\n",
    "                                  callbacks=[early_callback, myCallback, reduceLR])"
   ]
  },
  {
   "cell_type": "code",
   "execution_count": 61,
   "id": "31fccce6-7dae-409a-ab78-4e36f12ec839",
   "metadata": {},
   "outputs": [],
   "source": [
    "def plot_results(history):\n",
    "    loss = history.history['loss']\n",
    "    val_loss = history.history['val_loss']\n",
    "    \n",
    "    acc = history.history['acc']\n",
    "    val_acc  =history.history['val_acc']\n",
    "    \n",
    "    length = range(len(loss))\n",
    "    \n",
    "    plt.plot(length, loss, 'b' ,label = 'Training Loss')\n",
    "    plt.plot(length, val_loss, 'r--', label = 'Validation Loss')\n",
    "    plt.title('Training vs Val Loss')\n",
    "    plt.xlabel('Epochs')\n",
    "    plt.ylabel('Loss')\n",
    "    plt.legend()\n",
    "    \n",
    "    plt.figure()\n",
    "    \n",
    "    plt.plot(length, acc, 'b' ,label = 'Training Acc')\n",
    "    plt.plot(length, val_acc, 'r--', label = 'Validation Acc')\n",
    "    plt.title('Training vs Val Acc')\n",
    "    plt.xlabel('Epochs')\n",
    "    plt.ylabel('Accuracy')\n",
    "    plt.legend()\n",
    "    plt.show()"
   ]
  },
  {
   "cell_type": "code",
   "execution_count": 62,
   "id": "8b612788-85a2-4e2a-ad27-9b1cf29464d3",
   "metadata": {},
   "outputs": [
    {
     "data": {
      "image/png": "[encoded data removed]",
      "text/plain": [
       "<Figure size 432x288 with 1 Axes>"
      ]
     },
     "metadata": {
      "needs_background": "light"
     },
     "output_type": "display_data"
    },
    {
     "data": {
      "image/png": "[encoded data removed]",
      "text/plain": [
       "<Figure size 432x288 with 1 Axes>"
      ]
     },
     "metadata": {
      "needs_background": "light"
     },
     "output_type": "display_data"
    }
   ],
   "source": [
    "plot_results(CNN_v1_history)"
   ]
  },
  {
   "cell_type": "markdown",
   "id": "1f5a0c1b-be50-444a-9410-9a646995e999",
   "metadata": {},
   "source": [
    "This looks promising. We train for a further 90 epochs, totalling 100 epochs for this model"
   ]
  },
  {
   "cell_type": "code",
   "execution_count": 63,
   "id": "d31dc72f-59a4-4dfb-9558-449c0e9e8d08",
   "metadata": {
    "tags": []
   },
   "outputs": [
    {
     "name": "stdout",
     "output_type": "stream",
     "text": [
      "Epoch 11/100\n",
      "  5/898 [..............................] - ETA: 31s - loss: 1.4515 - acc: 0.5125WARNING:tensorflow:Callback method `on_train_batch_end` is slow compared to the batch time (batch time: 0.0148s vs `on_train_batch_end` time: 0.0197s). Check your callbacks.\n",
      "898/898 [==============================] - 35s 39ms/step - loss: 1.4413 - acc: 0.4465 - val_loss: 1.4339 - val_acc: 0.4592 - lr: 0.0010\n",
      "Epoch 12/100\n",
      "898/898 [==============================] - 35s 38ms/step - loss: 1.4307 - acc: 0.4550 - val_loss: 1.4052 - val_acc: 0.4604 - lr: 0.0010\n",
      "Epoch 13/100\n",
      "898/898 [==============================] - 34s 38ms/step - loss: 1.4217 - acc: 0.4560 - val_loss: 1.6059 - val_acc: 0.4186 - lr: 0.0010\n",
      "Epoch 14/100\n",
      "898/898 [==============================] - 34s 38ms/step - loss: 1.4066 - acc: 0.4610 - val_loss: 1.4756 - val_acc: 0.4419 - lr: 0.0010\n",
      "Epoch 15/100\n",
      "898/898 [==============================] - 43s 48ms/step - loss: 1.4014 - acc: 0.4643 - val_loss: 1.4324 - val_acc: 0.4611 - lr: 0.0010\n",
      "Epoch 16/100\n",
      "898/898 [==============================] - 34s 38ms/step - loss: 1.3919 - acc: 0.4718 - val_loss: 1.3811 - val_acc: 0.4822 - lr: 0.0010\n",
      "Epoch 17/100\n",
      "898/898 [==============================] - 44s 49ms/step - loss: 1.3827 - acc: 0.4750 - val_loss: 1.3526 - val_acc: 0.4813 - lr: 0.0010\n",
      "Epoch 18/100\n",
      "898/898 [==============================] - 42s 47ms/step - loss: 1.3693 - acc: 0.4784 - val_loss: 1.3607 - val_acc: 0.4777 - lr: 0.0010\n",
      "Epoch 19/100\n",
      "898/898 [==============================] - 33s 37ms/step - loss: 1.3617 - acc: 0.4835 - val_loss: 1.3682 - val_acc: 0.4939 - lr: 0.0010\n",
      "Epoch 20/100\n",
      "898/898 [==============================] - 33s 37ms/step - loss: 1.3609 - acc: 0.4846 - val_loss: 1.4182 - val_acc: 0.4714 - lr: 0.0010\n",
      "Epoch 21/100\n",
      "898/898 [==============================] - 34s 38ms/step - loss: 1.3515 - acc: 0.4906 - val_loss: 1.3513 - val_acc: 0.4706 - lr: 0.0010\n",
      "Epoch 22/100\n",
      "898/898 [==============================] - 35s 39ms/step - loss: 1.3444 - acc: 0.4916 - val_loss: 1.3506 - val_acc: 0.4979 - lr: 0.0010\n",
      "Epoch 23/100\n",
      "898/898 [==============================] - 35s 38ms/step - loss: 1.3377 - acc: 0.4931 - val_loss: 1.4535 - val_acc: 0.4884 - lr: 0.0010\n",
      "Epoch 24/100\n",
      "898/898 [==============================] - 36s 40ms/step - loss: 1.3353 - acc: 0.4962 - val_loss: 1.3990 - val_acc: 0.5049 - lr: 0.0010\n",
      "Epoch 25/100\n",
      "898/898 [==============================] - 35s 39ms/step - loss: 1.3286 - acc: 0.5027 - val_loss: 1.5847 - val_acc: 0.5008 - lr: 0.0010\n",
      "Epoch 26/100\n",
      "898/898 [==============================] - 43s 48ms/step - loss: 1.3267 - acc: 0.5021 - val_loss: 1.3136 - val_acc: 0.4965 - lr: 0.0010\n",
      "Epoch 27/100\n",
      "898/898 [==============================] - 35s 38ms/step - loss: 1.3085 - acc: 0.5050 - val_loss: 1.4437 - val_acc: 0.4785 - lr: 0.0010\n",
      "Epoch 28/100\n",
      "898/898 [==============================] - 36s 40ms/step - loss: 1.3138 - acc: 0.5057 - val_loss: 1.2942 - val_acc: 0.5106 - lr: 0.0010\n",
      "Epoch 29/100\n",
      "898/898 [==============================] - 36s 41ms/step - loss: 1.3132 - acc: 0.5086 - val_loss: 1.3101 - val_acc: 0.4980 - lr: 0.0010\n",
      "Epoch 30/100\n",
      "898/898 [==============================] - 35s 39ms/step - loss: 1.3138 - acc: 0.5069 - val_loss: 1.2835 - val_acc: 0.5103 - lr: 0.0010\n",
      "Epoch 31/100\n",
      "898/898 [==============================] - 35s 39ms/step - loss: 1.3154 - acc: 0.5067 - val_loss: 1.2481 - val_acc: 0.5266 - lr: 0.0010\n",
      "Epoch 32/100\n",
      "898/898 [==============================] - 35s 38ms/step - loss: 1.2934 - acc: 0.5125 - val_loss: 1.3225 - val_acc: 0.5123 - lr: 0.0010\n",
      "Epoch 33/100\n",
      "898/898 [==============================] - 35s 38ms/step - loss: 1.2935 - acc: 0.5155 - val_loss: 1.3246 - val_acc: 0.5262 - lr: 0.0010\n",
      "Epoch 34/100\n",
      "898/898 [==============================] - 35s 39ms/step - loss: 1.2924 - acc: 0.5146 - val_loss: 1.3075 - val_acc: 0.5294 - lr: 0.0010\n",
      "Epoch 35/100\n",
      "898/898 [==============================] - 35s 39ms/step - loss: 1.2865 - acc: 0.5182 - val_loss: 1.2801 - val_acc: 0.5298 - lr: 0.0010\n",
      "Epoch 36/100\n",
      "898/898 [==============================] - 35s 39ms/step - loss: 1.2879 - acc: 0.5192 - val_loss: 1.7191 - val_acc: 0.5194 - lr: 0.0010\n",
      "Epoch 37/100\n",
      "898/898 [==============================] - 35s 39ms/step - loss: 1.2846 - acc: 0.5208 - val_loss: 1.3556 - val_acc: 0.5208 - lr: 0.0010\n",
      "Epoch 38/100\n",
      "898/898 [==============================] - 35s 39ms/step - loss: 1.2861 - acc: 0.5214 - val_loss: 1.2370 - val_acc: 0.5258 - lr: 0.0010\n",
      "Epoch 39/100\n",
      "898/898 [==============================] - 35s 39ms/step - loss: 1.2821 - acc: 0.5216 - val_loss: 1.3933 - val_acc: 0.4879 - lr: 0.0010\n",
      "Epoch 40/100\n",
      "898/898 [==============================] - 35s 39ms/step - loss: 1.2755 - acc: 0.5206 - val_loss: 1.2921 - val_acc: 0.5210 - lr: 0.0010\n",
      "Epoch 41/100\n",
      "898/898 [==============================] - 35s 39ms/step - loss: 1.2023 - acc: 0.5486 - val_loss: 1.2153 - val_acc: 0.5659 - lr: 1.0000e-04\n",
      "Epoch 42/100\n",
      "898/898 [==============================] - 35s 39ms/step - loss: 1.2017 - acc: 0.5527 - val_loss: 1.2615 - val_acc: 0.5582 - lr: 1.0000e-04\n",
      "Epoch 43/100\n",
      "898/898 [==============================] - 35s 39ms/step - loss: 1.1905 - acc: 0.5559 - val_loss: 1.2511 - val_acc: 0.5627 - lr: 1.0000e-04\n",
      "Epoch 44/100\n",
      "898/898 [==============================] - 37s 41ms/step - loss: 1.1847 - acc: 0.5591 - val_loss: 1.2193 - val_acc: 0.5660 - lr: 1.0000e-04\n",
      "Epoch 45/100\n",
      "898/898 [==============================] - 35s 39ms/step - loss: 1.1868 - acc: 0.5583 - val_loss: 1.2123 - val_acc: 0.5681 - lr: 1.0000e-04\n",
      "Epoch 46/100\n",
      "898/898 [==============================] - 35s 39ms/step - loss: 1.1780 - acc: 0.5625 - val_loss: 1.1621 - val_acc: 0.5699 - lr: 1.0000e-04\n",
      "Epoch 47/100\n",
      "898/898 [==============================] - 35s 39ms/step - loss: 1.1800 - acc: 0.5615 - val_loss: 1.1553 - val_acc: 0.5683 - lr: 1.0000e-04\n",
      "Epoch 48/100\n",
      "898/898 [==============================] - 35s 38ms/step - loss: 1.1681 - acc: 0.5625 - val_loss: 1.1785 - val_acc: 0.5733 - lr: 1.0000e-04\n",
      "Epoch 49/100\n",
      "898/898 [==============================] - 37s 41ms/step - loss: 1.1731 - acc: 0.5647 - val_loss: 1.2211 - val_acc: 0.5737 - lr: 1.0000e-04\n",
      "Epoch 50/100\n",
      "898/898 [==============================] - 35s 39ms/step - loss: 1.1747 - acc: 0.5636 - val_loss: 1.1751 - val_acc: 0.5730 - lr: 1.0000e-04\n",
      "Epoch 51/100\n",
      "898/898 [==============================] - 35s 39ms/step - loss: 1.1733 - acc: 0.5632 - val_loss: 1.1597 - val_acc: 0.5698 - lr: 1.0000e-04\n",
      "Epoch 52/100\n",
      "898/898 [==============================] - 35s 39ms/step - loss: 1.1720 - acc: 0.5650 - val_loss: 1.1602 - val_acc: 0.5724 - lr: 1.0000e-04\n",
      "Epoch 53/100\n",
      "898/898 [==============================] - 35s 39ms/step - loss: 1.1663 - acc: 0.5631 - val_loss: 1.1771 - val_acc: 0.5717 - lr: 1.0000e-04\n",
      "Epoch 54/100\n",
      "898/898 [==============================] - 35s 39ms/step - loss: 1.1660 - acc: 0.5671 - val_loss: 1.1758 - val_acc: 0.5733 - lr: 1.0000e-04\n",
      "Epoch 55/100\n",
      "898/898 [==============================] - 57s 64ms/step - loss: 1.1580 - acc: 0.5669 - val_loss: 1.1786 - val_acc: 0.5750 - lr: 1.0000e-05\n",
      "Epoch 56/100\n",
      "898/898 [==============================] - 35s 39ms/step - loss: 1.1624 - acc: 0.5674 - val_loss: 1.1718 - val_acc: 0.5750 - lr: 1.0000e-05\n",
      "Epoch 57/100\n",
      "898/898 [==============================] - 35s 39ms/step - loss: 1.1612 - acc: 0.5699 - val_loss: 1.1638 - val_acc: 0.5750 - lr: 1.0000e-05\n",
      "Epoch 58/100\n",
      "898/898 [==============================] - 35s 39ms/step - loss: 1.1565 - acc: 0.5712 - val_loss: 1.1637 - val_acc: 0.5751 - lr: 1.0000e-05\n",
      "Epoch 59/100\n",
      "898/898 [==============================] - 48s 53ms/step - loss: 1.1591 - acc: 0.5683 - val_loss: 1.1599 - val_acc: 0.5733 - lr: 1.0000e-05\n",
      "Epoch 60/100\n",
      "898/898 [==============================] - 35s 39ms/step - loss: 1.1612 - acc: 0.5688 - val_loss: 1.1603 - val_acc: 0.5727 - lr: 1.0000e-05\n",
      "Epoch 61/100\n",
      "898/898 [==============================] - 35s 39ms/step - loss: 1.1485 - acc: 0.5683 - val_loss: 1.1632 - val_acc: 0.5719 - lr: 1.0000e-05\n",
      "Epoch 62/100\n",
      "898/898 [==============================] - 35s 39ms/step - loss: 1.1542 - acc: 0.5725 - val_loss: 1.1653 - val_acc: 0.5733 - lr: 1.0000e-05\n",
      "Epoch 63/100\n",
      "898/898 [==============================] - 35s 39ms/step - loss: 1.1480 - acc: 0.5708 - val_loss: 1.1629 - val_acc: 0.5762 - lr: 1.0000e-05\n",
      "Epoch 64/100\n",
      "898/898 [==============================] - 35s 38ms/step - loss: 1.1504 - acc: 0.5717 - val_loss: 1.1638 - val_acc: 0.5745 - lr: 1.0000e-05\n",
      "Epoch 65/100\n",
      "898/898 [==============================] - 35s 39ms/step - loss: 1.1458 - acc: 0.5703 - val_loss: 1.1712 - val_acc: 0.5709 - lr: 1.0000e-05\n",
      "Epoch 66/100\n",
      "898/898 [==============================] - 35s 39ms/step - loss: 1.1526 - acc: 0.5707 - val_loss: 1.1629 - val_acc: 0.5752 - lr: 1.0000e-05\n",
      "Epoch 67/100\n",
      "898/898 [==============================] - 35s 39ms/step - loss: 1.1495 - acc: 0.5738 - val_loss: 1.1578 - val_acc: 0.5747 - lr: 1.0000e-05\n",
      "Epoch 68/100\n",
      "898/898 [==============================] - 35s 39ms/step - loss: 1.1449 - acc: 0.5685 - val_loss: 1.1602 - val_acc: 0.5759 - lr: 1.0000e-05\n",
      "Epoch 69/100\n",
      "898/898 [==============================] - 35s 39ms/step - loss: 1.1503 - acc: 0.5705 - val_loss: 1.1604 - val_acc: 0.5763 - lr: 1.0000e-06\n",
      "Epoch 70/100\n",
      "898/898 [==============================] - 35s 39ms/step - loss: 1.1512 - acc: 0.5690 - val_loss: 1.1637 - val_acc: 0.5747 - lr: 1.0000e-06\n",
      "Epoch 71/100\n",
      "898/898 [==============================] - 35s 38ms/step - loss: 1.1502 - acc: 0.5696 - val_loss: 1.1622 - val_acc: 0.5741 - lr: 1.0000e-06\n",
      "Epoch 72/100\n",
      "898/898 [==============================] - 35s 39ms/step - loss: 1.1445 - acc: 0.5716 - val_loss: 1.1649 - val_acc: 0.5748 - lr: 1.0000e-06\n",
      "Epoch 73/100\n",
      "898/898 [==============================] - 35s 39ms/step - loss: 1.1521 - acc: 0.5724 - val_loss: 1.1630 - val_acc: 0.5738 - lr: 1.0000e-06\n",
      "Epoch 74/100\n",
      "898/898 [==============================] - 35s 39ms/step - loss: 1.1462 - acc: 0.5737 - val_loss: 1.1644 - val_acc: 0.5747 - lr: 1.0000e-06\n",
      "Epoch 75/100\n",
      "898/898 [==============================] - 36s 40ms/step - loss: 1.1511 - acc: 0.5742 - val_loss: 1.1617 - val_acc: 0.5748 - lr: 1.0000e-07\n",
      "Epoch 76/100\n",
      "898/898 [==============================] - 35s 39ms/step - loss: 1.1437 - acc: 0.5770 - val_loss: 1.1618 - val_acc: 0.5738 - lr: 1.0000e-07\n",
      "Epoch 77/100\n",
      "898/898 [==============================] - 35s 39ms/step - loss: 1.1506 - acc: 0.5707 - val_loss: 1.1611 - val_acc: 0.5740 - lr: 1.0000e-07\n",
      "Epoch 78/100\n",
      "898/898 [==============================] - 34s 38ms/step - loss: 1.1452 - acc: 0.5740 - val_loss: 1.1640 - val_acc: 0.5743 - lr: 1.0000e-07\n",
      "Epoch 79/100\n",
      "898/898 [==============================] - 34s 38ms/step - loss: 1.1451 - acc: 0.5745 - val_loss: 1.1616 - val_acc: 0.5761 - lr: 1.0000e-07\n"
     ]
    }
   ],
   "source": [
    "epochs = 100\n",
    "steps_per_epoch = 1000\n",
    "\n",
    "CNN_v1_history = CNN_v1_model.fit(train_dataflow, \n",
    "                                  epochs = epochs, \n",
    "                                  validation_data=(test_dataflow),\n",
    "                                  initial_epoch = 10,\n",
    "                                  #steps_per_epoch=steps_per_epoch,\n",
    "                                  callbacks=[early_callback, myCallback, reduceLR])"
   ]
  },
  {
   "cell_type": "code",
   "execution_count": 64,
   "id": "87e1bc32-9fd2-4ea3-8ba5-2eaf60bb3c00",
   "metadata": {},
   "outputs": [
    {
     "data": {
      "image/png": "[encoded data removed]",
      "text/plain": [
       "<Figure size 432x288 with 1 Axes>"
      ]
     },
     "metadata": {
      "needs_background": "light"
     },
     "output_type": "display_data"
    },
    {
     "data": {
      "image/png": "[encoded data removed]",
      "text/plain": [
       "<Figure size 432x288 with 1 Axes>"
      ]
     },
     "metadata": {
      "needs_background": "light"
     },
     "output_type": "display_data"
    }
   ],
   "source": [
    "plot_results(CNN_v1_history)"
   ]
  },
  {
   "cell_type": "markdown",
   "id": "0b2af520-209d-4cd1-b3d0-a8787807391d",
   "metadata": {},
   "source": [
    "CNN_v1_model.save('CNN_v1_250epochs.h5')"
   ]
  },
  {
   "cell_type": "code",
   "execution_count": 65,
   "id": "24484da6-4337-4b0f-8899-c62aedc9374f",
   "metadata": {},
   "outputs": [],
   "source": [
    "from sklearn.metrics import classification_report"
   ]
  },
  {
   "cell_type": "code",
   "execution_count": 66,
   "id": "e508f8ab-1cc1-4a28-8c1d-46b5a401f64e",
   "metadata": {},
   "outputs": [],
   "source": [
    "def display_classifcation_report(model, test_dataflow):\n",
    "    predictions = model.predict(test_dataflow)\n",
    "    predictions = np.argmax(predictions, axis = -1)\n",
    "    y_test = test_dataflow.labels\n",
    "    print(classification_report(y_test, predictions, target_names = emotions))"
   ]
  },
  {
   "cell_type": "code",
   "execution_count": 67,
   "id": "aa426ed0-57f8-49dd-8f0c-7e7dcb24926b",
   "metadata": {},
   "outputs": [
    {
     "name": "stdout",
     "output_type": "stream",
     "text": [
      "              precision    recall  f1-score   support\n",
      "\n",
      "       angry       0.45      0.53      0.49       958\n",
      "     disgust       0.20      0.02      0.03       111\n",
      "        fear       0.40      0.24      0.30      1024\n",
      "       happy       0.84      0.81      0.82      1774\n",
      "     neutral       0.47      0.70      0.56      1233\n",
      "         sad       0.45      0.40      0.42      1247\n",
      "    surprise       0.76      0.72      0.74       831\n",
      "\n",
      "    accuracy                           0.58      7178\n",
      "   macro avg       0.51      0.49      0.48      7178\n",
      "weighted avg       0.57      0.58      0.57      7178\n",
      "\n"
     ]
    }
   ],
   "source": [
    "display_classifcation_report(CNN_v1_model,test_dataflow)"
   ]
  },
  {
   "cell_type": "markdown",
   "id": "d0dba454-2cf3-4430-8e52-e9fbc109f98b",
   "metadata": {
    "tags": []
   },
   "source": [
    "# Transfer Learning"
   ]
  },
  {
   "cell_type": "markdown",
   "id": "7c7e82c0-24cc-4d7a-bf9b-a5e53dc1af78",
   "metadata": {
    "tags": []
   },
   "source": [
    "## Inception"
   ]
  },
  {
   "cell_type": "code",
   "execution_count": 68,
   "id": "efa90f34-25a8-4804-8318-913cffd3d1cf",
   "metadata": {},
   "outputs": [],
   "source": [
    "Incep_model = tf.keras.applications.InceptionV3(include_top=False)"
   ]
  },
  {
   "cell_type": "code",
   "execution_count": 69,
   "id": "15236fcd-f3ea-41bc-94f1-c57b393bf8ac",
   "metadata": {
    "collapsed": true,
    "jupyter": {
     "outputs_hidden": true
    },
    "tags": []
   },
   "outputs": [
    {
     "name": "stdout",
     "output_type": "stream",
     "text": [
      "Model: \"inception_v3\"\n",
      "__________________________________________________________________________________________________\n",
      " Layer (type)                   Output Shape         Param #     Connected to                     \n",
      "==================================================================================================\n",
      " input_2 (InputLayer)           [(None, None, None,  0           []                               \n",
      "                                 3)]                                                              \n",
      "                                                                                                  \n",
      " conv2d_12 (Conv2D)             (None, None, None,   864         ['input_2[0][0]']                \n",
      "                                32)                                                               \n",
      "                                                                                                  \n",
      " batch_normalization_6 (BatchNo  (None, None, None,   96         ['conv2d_12[0][0]']              \n",
      " rmalization)                   32)                                                               \n",
      "                                                                                                  \n",
      " activation (Activation)        (None, None, None,   0           ['batch_normalization_6[0][0]']  \n",
      "                                32)                                                               \n",
      "                                                                                                  \n",
      " conv2d_13 (Conv2D)             (None, None, None,   9216        ['activation[0][0]']             \n",
      "                                32)                                                               \n",
      "                                                                                                  \n",
      " batch_normalization_7 (BatchNo  (None, None, None,   96         ['conv2d_13[0][0]']              \n",
      " rmalization)                   32)                                                               \n",
      "                                                                                                  \n",
      " activation_1 (Activation)      (None, None, None,   0           ['batch_normalization_7[0][0]']  \n",
      "                                32)                                                               \n",
      "                                                                                                  \n",
      " conv2d_14 (Conv2D)             (None, None, None,   18432       ['activation_1[0][0]']           \n",
      "                                64)                                                               \n",
      "                                                                                                  \n",
      " batch_normalization_8 (BatchNo  (None, None, None,   192        ['conv2d_14[0][0]']              \n",
      " rmalization)                   64)                                                               \n",
      "                                                                                                  \n",
      " activation_2 (Activation)      (None, None, None,   0           ['batch_normalization_8[0][0]']  \n",
      "                                64)                                                               \n",
      "                                                                                                  \n",
      " max_pooling2d_6 (MaxPooling2D)  (None, None, None,   0          ['activation_2[0][0]']           \n",
      "                                64)                                                               \n",
      "                                                                                                  \n",
      " conv2d_15 (Conv2D)             (None, None, None,   5120        ['max_pooling2d_6[0][0]']        \n",
      "                                80)                                                               \n",
      "                                                                                                  \n",
      " batch_normalization_9 (BatchNo  (None, None, None,   240        ['conv2d_15[0][0]']              \n",
      " rmalization)                   80)                                                               \n",
      "                                                                                                  \n",
      " activation_3 (Activation)      (None, None, None,   0           ['batch_normalization_9[0][0]']  \n",
      "                                80)                                                               \n",
      "                                                                                                  \n",
      " conv2d_16 (Conv2D)             (None, None, None,   138240      ['activation_3[0][0]']           \n",
      "                                192)                                                              \n",
      "                                                                                                  \n",
      " batch_normalization_10 (BatchN  (None, None, None,   576        ['conv2d_16[0][0]']              \n",
      " ormalization)                  192)                                                              \n",
      "                                                                                                  \n",
      " activation_4 (Activation)      (None, None, None,   0           ['batch_normalization_10[0][0]'] \n",
      "                                192)                                                              \n",
      "                                                                                                  \n",
      " max_pooling2d_7 (MaxPooling2D)  (None, None, None,   0          ['activation_4[0][0]']           \n",
      "                                192)                                                              \n",
      "                                                                                                  \n",
      " conv2d_20 (Conv2D)             (None, None, None,   12288       ['max_pooling2d_7[0][0]']        \n",
      "                                64)                                                               \n",
      "                                                                                                  \n",
      " batch_normalization_14 (BatchN  (None, None, None,   192        ['conv2d_20[0][0]']              \n",
      " ormalization)                  64)                                                               \n",
      "                                                                                                  \n",
      " activation_8 (Activation)      (None, None, None,   0           ['batch_normalization_14[0][0]'] \n",
      "                                64)                                                               \n",
      "                                                                                                  \n",
      " conv2d_18 (Conv2D)             (None, None, None,   9216        ['max_pooling2d_7[0][0]']        \n",
      "                                48)                                                               \n",
      "                                                                                                  \n",
      " conv2d_21 (Conv2D)             (None, None, None,   55296       ['activation_8[0][0]']           \n",
      "                                96)                                                               \n",
      "                                                                                                  \n",
      " batch_normalization_12 (BatchN  (None, None, None,   144        ['conv2d_18[0][0]']              \n",
      " ormalization)                  48)                                                               \n",
      "                                                                                                  \n",
      " batch_normalization_15 (BatchN  (None, None, None,   288        ['conv2d_21[0][0]']              \n",
      " ormalization)                  96)                                                               \n",
      "                                                                                                  \n",
      " activation_6 (Activation)      (None, None, None,   0           ['batch_normalization_12[0][0]'] \n",
      "                                48)                                                               \n",
      "                                                                                                  \n",
      " activation_9 (Activation)      (None, None, None,   0           ['batch_normalization_15[0][0]'] \n",
      "                                96)                                                               \n",
      "                                                                                                  \n",
      " average_pooling2d (AveragePool  (None, None, None,   0          ['max_pooling2d_7[0][0]']        \n",
      " ing2D)                         192)                                                              \n",
      "                                                                                                  \n",
      " conv2d_17 (Conv2D)             (None, None, None,   12288       ['max_pooling2d_7[0][0]']        \n",
      "                                64)                                                               \n",
      "                                                                                                  \n",
      " conv2d_19 (Conv2D)             (None, None, None,   76800       ['activation_6[0][0]']           \n",
      "                                64)                                                               \n",
      "                                                                                                  \n",
      " conv2d_22 (Conv2D)             (None, None, None,   82944       ['activation_9[0][0]']           \n",
      "                                96)                                                               \n",
      "                                                                                                  \n",
      " conv2d_23 (Conv2D)             (None, None, None,   6144        ['average_pooling2d[0][0]']      \n",
      "                                32)                                                               \n",
      "                                                                                                  \n",
      " batch_normalization_11 (BatchN  (None, None, None,   192        ['conv2d_17[0][0]']              \n",
      " ormalization)                  64)                                                               \n",
      "                                                                                                  \n",
      " batch_normalization_13 (BatchN  (None, None, None,   192        ['conv2d_19[0][0]']              \n",
      " ormalization)                  64)                                                               \n",
      "                                                                                                  \n",
      " batch_normalization_16 (BatchN  (None, None, None,   288        ['conv2d_22[0][0]']              \n",
      " ormalization)                  96)                                                               \n",
      "                                                                                                  \n",
      " batch_normalization_17 (BatchN  (None, None, None,   96         ['conv2d_23[0][0]']              \n",
      " ormalization)                  32)                                                               \n",
      "                                                                                                  \n",
      " activation_5 (Activation)      (None, None, None,   0           ['batch_normalization_11[0][0]'] \n",
      "                                64)                                                               \n",
      "                                                                                                  \n",
      " activation_7 (Activation)      (None, None, None,   0           ['batch_normalization_13[0][0]'] \n",
      "                                64)                                                               \n",
      "                                                                                                  \n",
      " activation_10 (Activation)     (None, None, None,   0           ['batch_normalization_16[0][0]'] \n",
      "                                96)                                                               \n",
      "                                                                                                  \n",
      " activation_11 (Activation)     (None, None, None,   0           ['batch_normalization_17[0][0]'] \n",
      "                                32)                                                               \n",
      "                                                                                                  \n",
      " mixed0 (Concatenate)           (None, None, None,   0           ['activation_5[0][0]',           \n",
      "                                256)                              'activation_7[0][0]',           \n",
      "                                                                  'activation_10[0][0]',          \n",
      "                                                                  'activation_11[0][0]']          \n",
      "                                                                                                  \n",
      " conv2d_27 (Conv2D)             (None, None, None,   16384       ['mixed0[0][0]']                 \n",
      "                                64)                                                               \n",
      "                                                                                                  \n",
      " batch_normalization_21 (BatchN  (None, None, None,   192        ['conv2d_27[0][0]']              \n",
      " ormalization)                  64)                                                               \n",
      "                                                                                                  \n",
      " activation_15 (Activation)     (None, None, None,   0           ['batch_normalization_21[0][0]'] \n",
      "                                64)                                                               \n",
      "                                                                                                  \n",
      " conv2d_25 (Conv2D)             (None, None, None,   12288       ['mixed0[0][0]']                 \n",
      "                                48)                                                               \n",
      "                                                                                                  \n",
      " conv2d_28 (Conv2D)             (None, None, None,   55296       ['activation_15[0][0]']          \n",
      "                                96)                                                               \n",
      "                                                                                                  \n",
      " batch_normalization_19 (BatchN  (None, None, None,   144        ['conv2d_25[0][0]']              \n",
      " ormalization)                  48)                                                               \n",
      "                                                                                                  \n",
      " batch_normalization_22 (BatchN  (None, None, None,   288        ['conv2d_28[0][0]']              \n",
      " ormalization)                  96)                                                               \n",
      "                                                                                                  \n",
      " activation_13 (Activation)     (None, None, None,   0           ['batch_normalization_19[0][0]'] \n",
      "                                48)                                                               \n",
      "                                                                                                  \n",
      " activation_16 (Activation)     (None, None, None,   0           ['batch_normalization_22[0][0]'] \n",
      "                                96)                                                               \n",
      "                                                                                                  \n",
      " average_pooling2d_1 (AveragePo  (None, None, None,   0          ['mixed0[0][0]']                 \n",
      " oling2D)                       256)                                                              \n",
      "                                                                                                  \n",
      " conv2d_24 (Conv2D)             (None, None, None,   16384       ['mixed0[0][0]']                 \n",
      "                                64)                                                               \n",
      "                                                                                                  \n",
      " conv2d_26 (Conv2D)             (None, None, None,   76800       ['activation_13[0][0]']          \n",
      "                                64)                                                               \n",
      "                                                                                                  \n",
      " conv2d_29 (Conv2D)             (None, None, None,   82944       ['activation_16[0][0]']          \n",
      "                                96)                                                               \n",
      "                                                                                                  \n",
      " conv2d_30 (Conv2D)             (None, None, None,   16384       ['average_pooling2d_1[0][0]']    \n",
      "                                64)                                                               \n",
      "                                                                                                  \n",
      " batch_normalization_18 (BatchN  (None, None, None,   192        ['conv2d_24[0][0]']              \n",
      " ormalization)                  64)                                                               \n",
      "                                                                                                  \n",
      " batch_normalization_20 (BatchN  (None, None, None,   192        ['conv2d_26[0][0]']              \n",
      " ormalization)                  64)                                                               \n",
      "                                                                                                  \n",
      " batch_normalization_23 (BatchN  (None, None, None,   288        ['conv2d_29[0][0]']              \n",
      " ormalization)                  96)                                                               \n",
      "                                                                                                  \n",
      " batch_normalization_24 (BatchN  (None, None, None,   192        ['conv2d_30[0][0]']              \n",
      " ormalization)                  64)                                                               \n",
      "                                                                                                  \n",
      " activation_12 (Activation)     (None, None, None,   0           ['batch_normalization_18[0][0]'] \n",
      "                                64)                                                               \n",
      "                                                                                                  \n",
      " activation_14 (Activation)     (None, None, None,   0           ['batch_normalization_20[0][0]'] \n",
      "                                64)                                                               \n",
      "                                                                                                  \n",
      " activation_17 (Activation)     (None, None, None,   0           ['batch_normalization_23[0][0]'] \n",
      "                                96)                                                               \n",
      "                                                                                                  \n",
      " activation_18 (Activation)     (None, None, None,   0           ['batch_normalization_24[0][0]'] \n",
      "                                64)                                                               \n",
      "                                                                                                  \n",
      " mixed1 (Concatenate)           (None, None, None,   0           ['activation_12[0][0]',          \n",
      "                                288)                              'activation_14[0][0]',          \n",
      "                                                                  'activation_17[0][0]',          \n",
      "                                                                  'activation_18[0][0]']          \n",
      "                                                                                                  \n",
      " conv2d_34 (Conv2D)             (None, None, None,   18432       ['mixed1[0][0]']                 \n",
      "                                64)                                                               \n",
      "                                                                                                  \n",
      " batch_normalization_28 (BatchN  (None, None, None,   192        ['conv2d_34[0][0]']              \n",
      " ormalization)                  64)                                                               \n",
      "                                                                                                  \n",
      " activation_22 (Activation)     (None, None, None,   0           ['batch_normalization_28[0][0]'] \n",
      "                                64)                                                               \n",
      "                                                                                                  \n",
      " conv2d_32 (Conv2D)             (None, None, None,   13824       ['mixed1[0][0]']                 \n",
      "                                48)                                                               \n",
      "                                                                                                  \n",
      " conv2d_35 (Conv2D)             (None, None, None,   55296       ['activation_22[0][0]']          \n",
      "                                96)                                                               \n",
      "                                                                                                  \n",
      " batch_normalization_26 (BatchN  (None, None, None,   144        ['conv2d_32[0][0]']              \n",
      " ormalization)                  48)                                                               \n",
      "                                                                                                  \n",
      " batch_normalization_29 (BatchN  (None, None, None,   288        ['conv2d_35[0][0]']              \n",
      " ormalization)                  96)                                                               \n",
      "                                                                                                  \n",
      " activation_20 (Activation)     (None, None, None,   0           ['batch_normalization_26[0][0]'] \n",
      "                                48)                                                               \n",
      "                                                                                                  \n",
      " activation_23 (Activation)     (None, None, None,   0           ['batch_normalization_29[0][0]'] \n",
      "                                96)                                                               \n",
      "                                                                                                  \n",
      " average_pooling2d_2 (AveragePo  (None, None, None,   0          ['mixed1[0][0]']                 \n",
      " oling2D)                       288)                                                              \n",
      "                                                                                                  \n",
      " conv2d_31 (Conv2D)             (None, None, None,   18432       ['mixed1[0][0]']                 \n",
      "                                64)                                                               \n",
      "                                                                                                  \n",
      " conv2d_33 (Conv2D)             (None, None, None,   76800       ['activation_20[0][0]']          \n",
      "                                64)                                                               \n",
      "                                                                                                  \n",
      " conv2d_36 (Conv2D)             (None, None, None,   82944       ['activation_23[0][0]']          \n",
      "                                96)                                                               \n",
      "                                                                                                  \n",
      " conv2d_37 (Conv2D)             (None, None, None,   18432       ['average_pooling2d_2[0][0]']    \n",
      "                                64)                                                               \n",
      "                                                                                                  \n",
      " batch_normalization_25 (BatchN  (None, None, None,   192        ['conv2d_31[0][0]']              \n",
      " ormalization)                  64)                                                               \n",
      "                                                                                                  \n",
      " batch_normalization_27 (BatchN  (None, None, None,   192        ['conv2d_33[0][0]']              \n",
      " ormalization)                  64)                                                               \n",
      "                                                                                                  \n",
      " batch_normalization_30 (BatchN  (None, None, None,   288        ['conv2d_36[0][0]']              \n",
      " ormalization)                  96)                                                               \n",
      "                                                                                                  \n",
      " batch_normalization_31 (BatchN  (None, None, None,   192        ['conv2d_37[0][0]']              \n",
      " ormalization)                  64)                                                               \n",
      "                                                                                                  \n",
      " activation_19 (Activation)     (None, None, None,   0           ['batch_normalization_25[0][0]'] \n",
      "                                64)                                                               \n",
      "                                                                                                  \n",
      " activation_21 (Activation)     (None, None, None,   0           ['batch_normalization_27[0][0]'] \n",
      "                                64)                                                               \n",
      "                                                                                                  \n",
      " activation_24 (Activation)     (None, None, None,   0           ['batch_normalization_30[0][0]'] \n",
      "                                96)                                                               \n",
      "                                                                                                  \n",
      " activation_25 (Activation)     (None, None, None,   0           ['batch_normalization_31[0][0]'] \n",
      "                                64)                                                               \n",
      "                                                                                                  \n",
      " mixed2 (Concatenate)           (None, None, None,   0           ['activation_19[0][0]',          \n",
      "                                288)                              'activation_21[0][0]',          \n",
      "                                                                  'activation_24[0][0]',          \n",
      "                                                                  'activation_25[0][0]']          \n",
      "                                                                                                  \n",
      " conv2d_39 (Conv2D)             (None, None, None,   18432       ['mixed2[0][0]']                 \n",
      "                                64)                                                               \n",
      "                                                                                                  \n",
      " batch_normalization_33 (BatchN  (None, None, None,   192        ['conv2d_39[0][0]']              \n",
      " ormalization)                  64)                                                               \n",
      "                                                                                                  \n",
      " activation_27 (Activation)     (None, None, None,   0           ['batch_normalization_33[0][0]'] \n",
      "                                64)                                                               \n",
      "                                                                                                  \n",
      " conv2d_40 (Conv2D)             (None, None, None,   55296       ['activation_27[0][0]']          \n",
      "                                96)                                                               \n",
      "                                                                                                  \n",
      " batch_normalization_34 (BatchN  (None, None, None,   288        ['conv2d_40[0][0]']              \n",
      " ormalization)                  96)                                                               \n",
      "                                                                                                  \n",
      " activation_28 (Activation)     (None, None, None,   0           ['batch_normalization_34[0][0]'] \n",
      "                                96)                                                               \n",
      "                                                                                                  \n",
      " conv2d_38 (Conv2D)             (None, None, None,   995328      ['mixed2[0][0]']                 \n",
      "                                384)                                                              \n",
      "                                                                                                  \n",
      " conv2d_41 (Conv2D)             (None, None, None,   82944       ['activation_28[0][0]']          \n",
      "                                96)                                                               \n",
      "                                                                                                  \n",
      " batch_normalization_32 (BatchN  (None, None, None,   1152       ['conv2d_38[0][0]']              \n",
      " ormalization)                  384)                                                              \n",
      "                                                                                                  \n",
      " batch_normalization_35 (BatchN  (None, None, None,   288        ['conv2d_41[0][0]']              \n",
      " ormalization)                  96)                                                               \n",
      "                                                                                                  \n",
      " activation_26 (Activation)     (None, None, None,   0           ['batch_normalization_32[0][0]'] \n",
      "                                384)                                                              \n",
      "                                                                                                  \n",
      " activation_29 (Activation)     (None, None, None,   0           ['batch_normalization_35[0][0]'] \n",
      "                                96)                                                               \n",
      "                                                                                                  \n",
      " max_pooling2d_8 (MaxPooling2D)  (None, None, None,   0          ['mixed2[0][0]']                 \n",
      "                                288)                                                              \n",
      "                                                                                                  \n",
      " mixed3 (Concatenate)           (None, None, None,   0           ['activation_26[0][0]',          \n",
      "                                768)                              'activation_29[0][0]',          \n",
      "                                                                  'max_pooling2d_8[0][0]']        \n",
      "                                                                                                  \n",
      " conv2d_46 (Conv2D)             (None, None, None,   98304       ['mixed3[0][0]']                 \n",
      "                                128)                                                              \n",
      "                                                                                                  \n",
      " batch_normalization_40 (BatchN  (None, None, None,   384        ['conv2d_46[0][0]']              \n",
      " ormalization)                  128)                                                              \n",
      "                                                                                                  \n",
      " activation_34 (Activation)     (None, None, None,   0           ['batch_normalization_40[0][0]'] \n",
      "                                128)                                                              \n",
      "                                                                                                  \n",
      " conv2d_47 (Conv2D)             (None, None, None,   114688      ['activation_34[0][0]']          \n",
      "                                128)                                                              \n",
      "                                                                                                  \n",
      " batch_normalization_41 (BatchN  (None, None, None,   384        ['conv2d_47[0][0]']              \n",
      " ormalization)                  128)                                                              \n",
      "                                                                                                  \n",
      " activation_35 (Activation)     (None, None, None,   0           ['batch_normalization_41[0][0]'] \n",
      "                                128)                                                              \n",
      "                                                                                                  \n",
      " conv2d_43 (Conv2D)             (None, None, None,   98304       ['mixed3[0][0]']                 \n",
      "                                128)                                                              \n",
      "                                                                                                  \n",
      " conv2d_48 (Conv2D)             (None, None, None,   114688      ['activation_35[0][0]']          \n",
      "                                128)                                                              \n",
      "                                                                                                  \n",
      " batch_normalization_37 (BatchN  (None, None, None,   384        ['conv2d_43[0][0]']              \n",
      " ormalization)                  128)                                                              \n",
      "                                                                                                  \n",
      " batch_normalization_42 (BatchN  (None, None, None,   384        ['conv2d_48[0][0]']              \n",
      " ormalization)                  128)                                                              \n",
      "                                                                                                  \n",
      " activation_31 (Activation)     (None, None, None,   0           ['batch_normalization_37[0][0]'] \n",
      "                                128)                                                              \n",
      "                                                                                                  \n",
      " activation_36 (Activation)     (None, None, None,   0           ['batch_normalization_42[0][0]'] \n",
      "                                128)                                                              \n",
      "                                                                                                  \n",
      " conv2d_44 (Conv2D)             (None, None, None,   114688      ['activation_31[0][0]']          \n",
      "                                128)                                                              \n",
      "                                                                                                  \n",
      " conv2d_49 (Conv2D)             (None, None, None,   114688      ['activation_36[0][0]']          \n",
      "                                128)                                                              \n",
      "                                                                                                  \n",
      " batch_normalization_38 (BatchN  (None, None, None,   384        ['conv2d_44[0][0]']              \n",
      " ormalization)                  128)                                                              \n",
      "                                                                                                  \n",
      " batch_normalization_43 (BatchN  (None, None, None,   384        ['conv2d_49[0][0]']              \n",
      " ormalization)                  128)                                                              \n",
      "                                                                                                  \n",
      " activation_32 (Activation)     (None, None, None,   0           ['batch_normalization_38[0][0]'] \n",
      "                                128)                                                              \n",
      "                                                                                                  \n",
      " activation_37 (Activation)     (None, None, None,   0           ['batch_normalization_43[0][0]'] \n",
      "                                128)                                                              \n",
      "                                                                                                  \n",
      " average_pooling2d_3 (AveragePo  (None, None, None,   0          ['mixed3[0][0]']                 \n",
      " oling2D)                       768)                                                              \n",
      "                                                                                                  \n",
      " conv2d_42 (Conv2D)             (None, None, None,   147456      ['mixed3[0][0]']                 \n",
      "                                192)                                                              \n",
      "                                                                                                  \n",
      " conv2d_45 (Conv2D)             (None, None, None,   172032      ['activation_32[0][0]']          \n",
      "                                192)                                                              \n",
      "                                                                                                  \n",
      " conv2d_50 (Conv2D)             (None, None, None,   172032      ['activation_37[0][0]']          \n",
      "                                192)                                                              \n",
      "                                                                                                  \n",
      " conv2d_51 (Conv2D)             (None, None, None,   147456      ['average_pooling2d_3[0][0]']    \n",
      "                                192)                                                              \n",
      "                                                                                                  \n",
      " batch_normalization_36 (BatchN  (None, None, None,   576        ['conv2d_42[0][0]']              \n",
      " ormalization)                  192)                                                              \n",
      "                                                                                                  \n",
      " batch_normalization_39 (BatchN  (None, None, None,   576        ['conv2d_45[0][0]']              \n",
      " ormalization)                  192)                                                              \n",
      "                                                                                                  \n",
      " batch_normalization_44 (BatchN  (None, None, None,   576        ['conv2d_50[0][0]']              \n",
      " ormalization)                  192)                                                              \n",
      "                                                                                                  \n",
      " batch_normalization_45 (BatchN  (None, None, None,   576        ['conv2d_51[0][0]']              \n",
      " ormalization)                  192)                                                              \n",
      "                                                                                                  \n",
      " activation_30 (Activation)     (None, None, None,   0           ['batch_normalization_36[0][0]'] \n",
      "                                192)                                                              \n",
      "                                                                                                  \n",
      " activation_33 (Activation)     (None, None, None,   0           ['batch_normalization_39[0][0]'] \n",
      "                                192)                                                              \n",
      "                                                                                                  \n",
      " activation_38 (Activation)     (None, None, None,   0           ['batch_normalization_44[0][0]'] \n",
      "                                192)                                                              \n",
      "                                                                                                  \n",
      " activation_39 (Activation)     (None, None, None,   0           ['batch_normalization_45[0][0]'] \n",
      "                                192)                                                              \n",
      "                                                                                                  \n",
      " mixed4 (Concatenate)           (None, None, None,   0           ['activation_30[0][0]',          \n",
      "                                768)                              'activation_33[0][0]',          \n",
      "                                                                  'activation_38[0][0]',          \n",
      "                                                                  'activation_39[0][0]']          \n",
      "                                                                                                  \n",
      " conv2d_56 (Conv2D)             (None, None, None,   122880      ['mixed4[0][0]']                 \n",
      "                                160)                                                              \n",
      "                                                                                                  \n",
      " batch_normalization_50 (BatchN  (None, None, None,   480        ['conv2d_56[0][0]']              \n",
      " ormalization)                  160)                                                              \n",
      "                                                                                                  \n",
      " activation_44 (Activation)     (None, None, None,   0           ['batch_normalization_50[0][0]'] \n",
      "                                160)                                                              \n",
      "                                                                                                  \n",
      " conv2d_57 (Conv2D)             (None, None, None,   179200      ['activation_44[0][0]']          \n",
      "                                160)                                                              \n",
      "                                                                                                  \n",
      " batch_normalization_51 (BatchN  (None, None, None,   480        ['conv2d_57[0][0]']              \n",
      " ormalization)                  160)                                                              \n",
      "                                                                                                  \n",
      " activation_45 (Activation)     (None, None, None,   0           ['batch_normalization_51[0][0]'] \n",
      "                                160)                                                              \n",
      "                                                                                                  \n",
      " conv2d_53 (Conv2D)             (None, None, None,   122880      ['mixed4[0][0]']                 \n",
      "                                160)                                                              \n",
      "                                                                                                  \n",
      " conv2d_58 (Conv2D)             (None, None, None,   179200      ['activation_45[0][0]']          \n",
      "                                160)                                                              \n",
      "                                                                                                  \n",
      " batch_normalization_47 (BatchN  (None, None, None,   480        ['conv2d_53[0][0]']              \n",
      " ormalization)                  160)                                                              \n",
      "                                                                                                  \n",
      " batch_normalization_52 (BatchN  (None, None, None,   480        ['conv2d_58[0][0]']              \n",
      " ormalization)                  160)                                                              \n",
      "                                                                                                  \n",
      " activation_41 (Activation)     (None, None, None,   0           ['batch_normalization_47[0][0]'] \n",
      "                                160)                                                              \n",
      "                                                                                                  \n",
      " activation_46 (Activation)     (None, None, None,   0           ['batch_normalization_52[0][0]'] \n",
      "                                160)                                                              \n",
      "                                                                                                  \n",
      " conv2d_54 (Conv2D)             (None, None, None,   179200      ['activation_41[0][0]']          \n",
      "                                160)                                                              \n",
      "                                                                                                  \n",
      " conv2d_59 (Conv2D)             (None, None, None,   179200      ['activation_46[0][0]']          \n",
      "                                160)                                                              \n",
      "                                                                                                  \n",
      " batch_normalization_48 (BatchN  (None, None, None,   480        ['conv2d_54[0][0]']              \n",
      " ormalization)                  160)                                                              \n",
      "                                                                                                  \n",
      " batch_normalization_53 (BatchN  (None, None, None,   480        ['conv2d_59[0][0]']              \n",
      " ormalization)                  160)                                                              \n",
      "                                                                                                  \n",
      " activation_42 (Activation)     (None, None, None,   0           ['batch_normalization_48[0][0]'] \n",
      "                                160)                                                              \n",
      "                                                                                                  \n",
      " activation_47 (Activation)     (None, None, None,   0           ['batch_normalization_53[0][0]'] \n",
      "                                160)                                                              \n",
      "                                                                                                  \n",
      " average_pooling2d_4 (AveragePo  (None, None, None,   0          ['mixed4[0][0]']                 \n",
      " oling2D)                       768)                                                              \n",
      "                                                                                                  \n",
      " conv2d_52 (Conv2D)             (None, None, None,   147456      ['mixed4[0][0]']                 \n",
      "                                192)                                                              \n",
      "                                                                                                  \n",
      " conv2d_55 (Conv2D)             (None, None, None,   215040      ['activation_42[0][0]']          \n",
      "                                192)                                                              \n",
      "                                                                                                  \n",
      " conv2d_60 (Conv2D)             (None, None, None,   215040      ['activation_47[0][0]']          \n",
      "                                192)                                                              \n",
      "                                                                                                  \n",
      " conv2d_61 (Conv2D)             (None, None, None,   147456      ['average_pooling2d_4[0][0]']    \n",
      "                                192)                                                              \n",
      "                                                                                                  \n",
      " batch_normalization_46 (BatchN  (None, None, None,   576        ['conv2d_52[0][0]']              \n",
      " ormalization)                  192)                                                              \n",
      "                                                                                                  \n",
      " batch_normalization_49 (BatchN  (None, None, None,   576        ['conv2d_55[0][0]']              \n",
      " ormalization)                  192)                                                              \n",
      "                                                                                                  \n",
      " batch_normalization_54 (BatchN  (None, None, None,   576        ['conv2d_60[0][0]']              \n",
      " ormalization)                  192)                                                              \n",
      "                                                                                                  \n",
      " batch_normalization_55 (BatchN  (None, None, None,   576        ['conv2d_61[0][0]']              \n",
      " ormalization)                  192)                                                              \n",
      "                                                                                                  \n",
      " activation_40 (Activation)     (None, None, None,   0           ['batch_normalization_46[0][0]'] \n",
      "                                192)                                                              \n",
      "                                                                                                  \n",
      " activation_43 (Activation)     (None, None, None,   0           ['batch_normalization_49[0][0]'] \n",
      "                                192)                                                              \n",
      "                                                                                                  \n",
      " activation_48 (Activation)     (None, None, None,   0           ['batch_normalization_54[0][0]'] \n",
      "                                192)                                                              \n",
      "                                                                                                  \n",
      " activation_49 (Activation)     (None, None, None,   0           ['batch_normalization_55[0][0]'] \n",
      "                                192)                                                              \n",
      "                                                                                                  \n",
      " mixed5 (Concatenate)           (None, None, None,   0           ['activation_40[0][0]',          \n",
      "                                768)                              'activation_43[0][0]',          \n",
      "                                                                  'activation_48[0][0]',          \n",
      "                                                                  'activation_49[0][0]']          \n",
      "                                                                                                  \n",
      " conv2d_66 (Conv2D)             (None, None, None,   122880      ['mixed5[0][0]']                 \n",
      "                                160)                                                              \n",
      "                                                                                                  \n",
      " batch_normalization_60 (BatchN  (None, None, None,   480        ['conv2d_66[0][0]']              \n",
      " ormalization)                  160)                                                              \n",
      "                                                                                                  \n",
      " activation_54 (Activation)     (None, None, None,   0           ['batch_normalization_60[0][0]'] \n",
      "                                160)                                                              \n",
      "                                                                                                  \n",
      " conv2d_67 (Conv2D)             (None, None, None,   179200      ['activation_54[0][0]']          \n",
      "                                160)                                                              \n",
      "                                                                                                  \n",
      " batch_normalization_61 (BatchN  (None, None, None,   480        ['conv2d_67[0][0]']              \n",
      " ormalization)                  160)                                                              \n",
      "                                                                                                  \n",
      " activation_55 (Activation)     (None, None, None,   0           ['batch_normalization_61[0][0]'] \n",
      "                                160)                                                              \n",
      "                                                                                                  \n",
      " conv2d_63 (Conv2D)             (None, None, None,   122880      ['mixed5[0][0]']                 \n",
      "                                160)                                                              \n",
      "                                                                                                  \n",
      " conv2d_68 (Conv2D)             (None, None, None,   179200      ['activation_55[0][0]']          \n",
      "                                160)                                                              \n",
      "                                                                                                  \n",
      " batch_normalization_57 (BatchN  (None, None, None,   480        ['conv2d_63[0][0]']              \n",
      " ormalization)                  160)                                                              \n",
      "                                                                                                  \n",
      " batch_normalization_62 (BatchN  (None, None, None,   480        ['conv2d_68[0][0]']              \n",
      " ormalization)                  160)                                                              \n",
      "                                                                                                  \n",
      " activation_51 (Activation)     (None, None, None,   0           ['batch_normalization_57[0][0]'] \n",
      "                                160)                                                              \n",
      "                                                                                                  \n",
      " activation_56 (Activation)     (None, None, None,   0           ['batch_normalization_62[0][0]'] \n",
      "                                160)                                                              \n",
      "                                                                                                  \n",
      " conv2d_64 (Conv2D)             (None, None, None,   179200      ['activation_51[0][0]']          \n",
      "                                160)                                                              \n",
      "                                                                                                  \n",
      " conv2d_69 (Conv2D)             (None, None, None,   179200      ['activation_56[0][0]']          \n",
      "                                160)                                                              \n",
      "                                                                                                  \n",
      " batch_normalization_58 (BatchN  (None, None, None,   480        ['conv2d_64[0][0]']              \n",
      " ormalization)                  160)                                                              \n",
      "                                                                                                  \n",
      " batch_normalization_63 (BatchN  (None, None, None,   480        ['conv2d_69[0][0]']              \n",
      " ormalization)                  160)                                                              \n",
      "                                                                                                  \n",
      " activation_52 (Activation)     (None, None, None,   0           ['batch_normalization_58[0][0]'] \n",
      "                                160)                                                              \n",
      "                                                                                                  \n",
      " activation_57 (Activation)     (None, None, None,   0           ['batch_normalization_63[0][0]'] \n",
      "                                160)                                                              \n",
      "                                                                                                  \n",
      " average_pooling2d_5 (AveragePo  (None, None, None,   0          ['mixed5[0][0]']                 \n",
      " oling2D)                       768)                                                              \n",
      "                                                                                                  \n",
      " conv2d_62 (Conv2D)             (None, None, None,   147456      ['mixed5[0][0]']                 \n",
      "                                192)                                                              \n",
      "                                                                                                  \n",
      " conv2d_65 (Conv2D)             (None, None, None,   215040      ['activation_52[0][0]']          \n",
      "                                192)                                                              \n",
      "                                                                                                  \n",
      " conv2d_70 (Conv2D)             (None, None, None,   215040      ['activation_57[0][0]']          \n",
      "                                192)                                                              \n",
      "                                                                                                  \n",
      " conv2d_71 (Conv2D)             (None, None, None,   147456      ['average_pooling2d_5[0][0]']    \n",
      "                                192)                                                              \n",
      "                                                                                                  \n",
      " batch_normalization_56 (BatchN  (None, None, None,   576        ['conv2d_62[0][0]']              \n",
      " ormalization)                  192)                                                              \n",
      "                                                                                                  \n",
      " batch_normalization_59 (BatchN  (None, None, None,   576        ['conv2d_65[0][0]']              \n",
      " ormalization)                  192)                                                              \n",
      "                                                                                                  \n",
      " batch_normalization_64 (BatchN  (None, None, None,   576        ['conv2d_70[0][0]']              \n",
      " ormalization)                  192)                                                              \n",
      "                                                                                                  \n",
      " batch_normalization_65 (BatchN  (None, None, None,   576        ['conv2d_71[0][0]']              \n",
      " ormalization)                  192)                                                              \n",
      "                                                                                                  \n",
      " activation_50 (Activation)     (None, None, None,   0           ['batch_normalization_56[0][0]'] \n",
      "                                192)                                                              \n",
      "                                                                                                  \n",
      " activation_53 (Activation)     (None, None, None,   0           ['batch_normalization_59[0][0]'] \n",
      "                                192)                                                              \n",
      "                                                                                                  \n",
      " activation_58 (Activation)     (None, None, None,   0           ['batch_normalization_64[0][0]'] \n",
      "                                192)                                                              \n",
      "                                                                                                  \n",
      " activation_59 (Activation)     (None, None, None,   0           ['batch_normalization_65[0][0]'] \n",
      "                                192)                                                              \n",
      "                                                                                                  \n",
      " mixed6 (Concatenate)           (None, None, None,   0           ['activation_50[0][0]',          \n",
      "                                768)                              'activation_53[0][0]',          \n",
      "                                                                  'activation_58[0][0]',          \n",
      "                                                                  'activation_59[0][0]']          \n",
      "                                                                                                  \n",
      " conv2d_76 (Conv2D)             (None, None, None,   147456      ['mixed6[0][0]']                 \n",
      "                                192)                                                              \n",
      "                                                                                                  \n",
      " batch_normalization_70 (BatchN  (None, None, None,   576        ['conv2d_76[0][0]']              \n",
      " ormalization)                  192)                                                              \n",
      "                                                                                                  \n",
      " activation_64 (Activation)     (None, None, None,   0           ['batch_normalization_70[0][0]'] \n",
      "                                192)                                                              \n",
      "                                                                                                  \n",
      " conv2d_77 (Conv2D)             (None, None, None,   258048      ['activation_64[0][0]']          \n",
      "                                192)                                                              \n",
      "                                                                                                  \n",
      " batch_normalization_71 (BatchN  (None, None, None,   576        ['conv2d_77[0][0]']              \n",
      " ormalization)                  192)                                                              \n",
      "                                                                                                  \n",
      " activation_65 (Activation)     (None, None, None,   0           ['batch_normalization_71[0][0]'] \n",
      "                                192)                                                              \n",
      "                                                                                                  \n",
      " conv2d_73 (Conv2D)             (None, None, None,   147456      ['mixed6[0][0]']                 \n",
      "                                192)                                                              \n",
      "                                                                                                  \n",
      " conv2d_78 (Conv2D)             (None, None, None,   258048      ['activation_65[0][0]']          \n",
      "                                192)                                                              \n",
      "                                                                                                  \n",
      " batch_normalization_67 (BatchN  (None, None, None,   576        ['conv2d_73[0][0]']              \n",
      " ormalization)                  192)                                                              \n",
      "                                                                                                  \n",
      " batch_normalization_72 (BatchN  (None, None, None,   576        ['conv2d_78[0][0]']              \n",
      " ormalization)                  192)                                                              \n",
      "                                                                                                  \n",
      " activation_61 (Activation)     (None, None, None,   0           ['batch_normalization_67[0][0]'] \n",
      "                                192)                                                              \n",
      "                                                                                                  \n",
      " activation_66 (Activation)     (None, None, None,   0           ['batch_normalization_72[0][0]'] \n",
      "                                192)                                                              \n",
      "                                                                                                  \n",
      " conv2d_74 (Conv2D)             (None, None, None,   258048      ['activation_61[0][0]']          \n",
      "                                192)                                                              \n",
      "                                                                                                  \n",
      " conv2d_79 (Conv2D)             (None, None, None,   258048      ['activation_66[0][0]']          \n",
      "                                192)                                                              \n",
      "                                                                                                  \n",
      " batch_normalization_68 (BatchN  (None, None, None,   576        ['conv2d_74[0][0]']              \n",
      " ormalization)                  192)                                                              \n",
      "                                                                                                  \n",
      " batch_normalization_73 (BatchN  (None, None, None,   576        ['conv2d_79[0][0]']              \n",
      " ormalization)                  192)                                                              \n",
      "                                                                                                  \n",
      " activation_62 (Activation)     (None, None, None,   0           ['batch_normalization_68[0][0]'] \n",
      "                                192)                                                              \n",
      "                                                                                                  \n",
      " activation_67 (Activation)     (None, None, None,   0           ['batch_normalization_73[0][0]'] \n",
      "                                192)                                                              \n",
      "                                                                                                  \n",
      " average_pooling2d_6 (AveragePo  (None, None, None,   0          ['mixed6[0][0]']                 \n",
      " oling2D)                       768)                                                              \n",
      "                                                                                                  \n",
      " conv2d_72 (Conv2D)             (None, None, None,   147456      ['mixed6[0][0]']                 \n",
      "                                192)                                                              \n",
      "                                                                                                  \n",
      " conv2d_75 (Conv2D)             (None, None, None,   258048      ['activation_62[0][0]']          \n",
      "                                192)                                                              \n",
      "                                                                                                  \n",
      " conv2d_80 (Conv2D)             (None, None, None,   258048      ['activation_67[0][0]']          \n",
      "                                192)                                                              \n",
      "                                                                                                  \n",
      " conv2d_81 (Conv2D)             (None, None, None,   147456      ['average_pooling2d_6[0][0]']    \n",
      "                                192)                                                              \n",
      "                                                                                                  \n",
      " batch_normalization_66 (BatchN  (None, None, None,   576        ['conv2d_72[0][0]']              \n",
      " ormalization)                  192)                                                              \n",
      "                                                                                                  \n",
      " batch_normalization_69 (BatchN  (None, None, None,   576        ['conv2d_75[0][0]']              \n",
      " ormalization)                  192)                                                              \n",
      "                                                                                                  \n",
      " batch_normalization_74 (BatchN  (None, None, None,   576        ['conv2d_80[0][0]']              \n",
      " ormalization)                  192)                                                              \n",
      "                                                                                                  \n",
      " batch_normalization_75 (BatchN  (None, None, None,   576        ['conv2d_81[0][0]']              \n",
      " ormalization)                  192)                                                              \n",
      "                                                                                                  \n",
      " activation_60 (Activation)     (None, None, None,   0           ['batch_normalization_66[0][0]'] \n",
      "                                192)                                                              \n",
      "                                                                                                  \n",
      " activation_63 (Activation)     (None, None, None,   0           ['batch_normalization_69[0][0]'] \n",
      "                                192)                                                              \n",
      "                                                                                                  \n",
      " activation_68 (Activation)     (None, None, None,   0           ['batch_normalization_74[0][0]'] \n",
      "                                192)                                                              \n",
      "                                                                                                  \n",
      " activation_69 (Activation)     (None, None, None,   0           ['batch_normalization_75[0][0]'] \n",
      "                                192)                                                              \n",
      "                                                                                                  \n",
      " mixed7 (Concatenate)           (None, None, None,   0           ['activation_60[0][0]',          \n",
      "                                768)                              'activation_63[0][0]',          \n",
      "                                                                  'activation_68[0][0]',          \n",
      "                                                                  'activation_69[0][0]']          \n",
      "                                                                                                  \n",
      " conv2d_84 (Conv2D)             (None, None, None,   147456      ['mixed7[0][0]']                 \n",
      "                                192)                                                              \n",
      "                                                                                                  \n",
      " batch_normalization_78 (BatchN  (None, None, None,   576        ['conv2d_84[0][0]']              \n",
      " ormalization)                  192)                                                              \n",
      "                                                                                                  \n",
      " activation_72 (Activation)     (None, None, None,   0           ['batch_normalization_78[0][0]'] \n",
      "                                192)                                                              \n",
      "                                                                                                  \n",
      " conv2d_85 (Conv2D)             (None, None, None,   258048      ['activation_72[0][0]']          \n",
      "                                192)                                                              \n",
      "                                                                                                  \n",
      " batch_normalization_79 (BatchN  (None, None, None,   576        ['conv2d_85[0][0]']              \n",
      " ormalization)                  192)                                                              \n",
      "                                                                                                  \n",
      " activation_73 (Activation)     (None, None, None,   0           ['batch_normalization_79[0][0]'] \n",
      "                                192)                                                              \n",
      "                                                                                                  \n",
      " conv2d_82 (Conv2D)             (None, None, None,   147456      ['mixed7[0][0]']                 \n",
      "                                192)                                                              \n",
      "                                                                                                  \n",
      " conv2d_86 (Conv2D)             (None, None, None,   258048      ['activation_73[0][0]']          \n",
      "                                192)                                                              \n",
      "                                                                                                  \n",
      " batch_normalization_76 (BatchN  (None, None, None,   576        ['conv2d_82[0][0]']              \n",
      " ormalization)                  192)                                                              \n",
      "                                                                                                  \n",
      " batch_normalization_80 (BatchN  (None, None, None,   576        ['conv2d_86[0][0]']              \n",
      " ormalization)                  192)                                                              \n",
      "                                                                                                  \n",
      " activation_70 (Activation)     (None, None, None,   0           ['batch_normalization_76[0][0]'] \n",
      "                                192)                                                              \n",
      "                                                                                                  \n",
      " activation_74 (Activation)     (None, None, None,   0           ['batch_normalization_80[0][0]'] \n",
      "                                192)                                                              \n",
      "                                                                                                  \n",
      " conv2d_83 (Conv2D)             (None, None, None,   552960      ['activation_70[0][0]']          \n",
      "                                320)                                                              \n",
      "                                                                                                  \n",
      " conv2d_87 (Conv2D)             (None, None, None,   331776      ['activation_74[0][0]']          \n",
      "                                192)                                                              \n",
      "                                                                                                  \n",
      " batch_normalization_77 (BatchN  (None, None, None,   960        ['conv2d_83[0][0]']              \n",
      " ormalization)                  320)                                                              \n",
      "                                                                                                  \n",
      " batch_normalization_81 (BatchN  (None, None, None,   576        ['conv2d_87[0][0]']              \n",
      " ormalization)                  192)                                                              \n",
      "                                                                                                  \n",
      " activation_71 (Activation)     (None, None, None,   0           ['batch_normalization_77[0][0]'] \n",
      "                                320)                                                              \n",
      "                                                                                                  \n",
      " activation_75 (Activation)     (None, None, None,   0           ['batch_normalization_81[0][0]'] \n",
      "                                192)                                                              \n",
      "                                                                                                  \n",
      " max_pooling2d_9 (MaxPooling2D)  (None, None, None,   0          ['mixed7[0][0]']                 \n",
      "                                768)                                                              \n",
      "                                                                                                  \n",
      " mixed8 (Concatenate)           (None, None, None,   0           ['activation_71[0][0]',          \n",
      "                                1280)                             'activation_75[0][0]',          \n",
      "                                                                  'max_pooling2d_9[0][0]']        \n",
      "                                                                                                  \n",
      " conv2d_92 (Conv2D)             (None, None, None,   573440      ['mixed8[0][0]']                 \n",
      "                                448)                                                              \n",
      "                                                                                                  \n",
      " batch_normalization_86 (BatchN  (None, None, None,   1344       ['conv2d_92[0][0]']              \n",
      " ormalization)                  448)                                                              \n",
      "                                                                                                  \n",
      " activation_80 (Activation)     (None, None, None,   0           ['batch_normalization_86[0][0]'] \n",
      "                                448)                                                              \n",
      "                                                                                                  \n",
      " conv2d_89 (Conv2D)             (None, None, None,   491520      ['mixed8[0][0]']                 \n",
      "                                384)                                                              \n",
      "                                                                                                  \n",
      " conv2d_93 (Conv2D)             (None, None, None,   1548288     ['activation_80[0][0]']          \n",
      "                                384)                                                              \n",
      "                                                                                                  \n",
      " batch_normalization_83 (BatchN  (None, None, None,   1152       ['conv2d_89[0][0]']              \n",
      " ormalization)                  384)                                                              \n",
      "                                                                                                  \n",
      " batch_normalization_87 (BatchN  (None, None, None,   1152       ['conv2d_93[0][0]']              \n",
      " ormalization)                  384)                                                              \n",
      "                                                                                                  \n",
      " activation_77 (Activation)     (None, None, None,   0           ['batch_normalization_83[0][0]'] \n",
      "                                384)                                                              \n",
      "                                                                                                  \n",
      " activation_81 (Activation)     (None, None, None,   0           ['batch_normalization_87[0][0]'] \n",
      "                                384)                                                              \n",
      "                                                                                                  \n",
      " conv2d_90 (Conv2D)             (None, None, None,   442368      ['activation_77[0][0]']          \n",
      "                                384)                                                              \n",
      "                                                                                                  \n",
      " conv2d_91 (Conv2D)             (None, None, None,   442368      ['activation_77[0][0]']          \n",
      "                                384)                                                              \n",
      "                                                                                                  \n",
      " conv2d_94 (Conv2D)             (None, None, None,   442368      ['activation_81[0][0]']          \n",
      "                                384)                                                              \n",
      "                                                                                                  \n",
      " conv2d_95 (Conv2D)             (None, None, None,   442368      ['activation_81[0][0]']          \n",
      "                                384)                                                              \n",
      "                                                                                                  \n",
      " average_pooling2d_7 (AveragePo  (None, None, None,   0          ['mixed8[0][0]']                 \n",
      " oling2D)                       1280)                                                             \n",
      "                                                                                                  \n",
      " conv2d_88 (Conv2D)             (None, None, None,   409600      ['mixed8[0][0]']                 \n",
      "                                320)                                                              \n",
      "                                                                                                  \n",
      " batch_normalization_84 (BatchN  (None, None, None,   1152       ['conv2d_90[0][0]']              \n",
      " ormalization)                  384)                                                              \n",
      "                                                                                                  \n",
      " batch_normalization_85 (BatchN  (None, None, None,   1152       ['conv2d_91[0][0]']              \n",
      " ormalization)                  384)                                                              \n",
      "                                                                                                  \n",
      " batch_normalization_88 (BatchN  (None, None, None,   1152       ['conv2d_94[0][0]']              \n",
      " ormalization)                  384)                                                              \n",
      "                                                                                                  \n",
      " batch_normalization_89 (BatchN  (None, None, None,   1152       ['conv2d_95[0][0]']              \n",
      " ormalization)                  384)                                                              \n",
      "                                                                                                  \n",
      " conv2d_96 (Conv2D)             (None, None, None,   245760      ['average_pooling2d_7[0][0]']    \n",
      "                                192)                                                              \n",
      "                                                                                                  \n",
      " batch_normalization_82 (BatchN  (None, None, None,   960        ['conv2d_88[0][0]']              \n",
      " ormalization)                  320)                                                              \n",
      "                                                                                                  \n",
      " activation_78 (Activation)     (None, None, None,   0           ['batch_normalization_84[0][0]'] \n",
      "                                384)                                                              \n",
      "                                                                                                  \n",
      " activation_79 (Activation)     (None, None, None,   0           ['batch_normalization_85[0][0]'] \n",
      "                                384)                                                              \n",
      "                                                                                                  \n",
      " activation_82 (Activation)     (None, None, None,   0           ['batch_normalization_88[0][0]'] \n",
      "                                384)                                                              \n",
      "                                                                                                  \n",
      " activation_83 (Activation)     (None, None, None,   0           ['batch_normalization_89[0][0]'] \n",
      "                                384)                                                              \n",
      "                                                                                                  \n",
      " batch_normalization_90 (BatchN  (None, None, None,   576        ['conv2d_96[0][0]']              \n",
      " ormalization)                  192)                                                              \n",
      "                                                                                                  \n",
      " activation_76 (Activation)     (None, None, None,   0           ['batch_normalization_82[0][0]'] \n",
      "                                320)                                                              \n",
      "                                                                                                  \n",
      " mixed9_0 (Concatenate)         (None, None, None,   0           ['activation_78[0][0]',          \n",
      "                                768)                              'activation_79[0][0]']          \n",
      "                                                                                                  \n",
      " concatenate (Concatenate)      (None, None, None,   0           ['activation_82[0][0]',          \n",
      "                                768)                              'activation_83[0][0]']          \n",
      "                                                                                                  \n",
      " activation_84 (Activation)     (None, None, None,   0           ['batch_normalization_90[0][0]'] \n",
      "                                192)                                                              \n",
      "                                                                                                  \n",
      " mixed9 (Concatenate)           (None, None, None,   0           ['activation_76[0][0]',          \n",
      "                                2048)                             'mixed9_0[0][0]',               \n",
      "                                                                  'concatenate[0][0]',            \n",
      "                                                                  'activation_84[0][0]']          \n",
      "                                                                                                  \n",
      " conv2d_101 (Conv2D)            (None, None, None,   917504      ['mixed9[0][0]']                 \n",
      "                                448)                                                              \n",
      "                                                                                                  \n",
      " batch_normalization_95 (BatchN  (None, None, None,   1344       ['conv2d_101[0][0]']             \n",
      " ormalization)                  448)                                                              \n",
      "                                                                                                  \n",
      " activation_89 (Activation)     (None, None, None,   0           ['batch_normalization_95[0][0]'] \n",
      "                                448)                                                              \n",
      "                                                                                                  \n",
      " conv2d_98 (Conv2D)             (None, None, None,   786432      ['mixed9[0][0]']                 \n",
      "                                384)                                                              \n",
      "                                                                                                  \n",
      " conv2d_102 (Conv2D)            (None, None, None,   1548288     ['activation_89[0][0]']          \n",
      "                                384)                                                              \n",
      "                                                                                                  \n",
      " batch_normalization_92 (BatchN  (None, None, None,   1152       ['conv2d_98[0][0]']              \n",
      " ormalization)                  384)                                                              \n",
      "                                                                                                  \n",
      " batch_normalization_96 (BatchN  (None, None, None,   1152       ['conv2d_102[0][0]']             \n",
      " ormalization)                  384)                                                              \n",
      "                                                                                                  \n",
      " activation_86 (Activation)     (None, None, None,   0           ['batch_normalization_92[0][0]'] \n",
      "                                384)                                                              \n",
      "                                                                                                  \n",
      " activation_90 (Activation)     (None, None, None,   0           ['batch_normalization_96[0][0]'] \n",
      "                                384)                                                              \n",
      "                                                                                                  \n",
      " conv2d_99 (Conv2D)             (None, None, None,   442368      ['activation_86[0][0]']          \n",
      "                                384)                                                              \n",
      "                                                                                                  \n",
      " conv2d_100 (Conv2D)            (None, None, None,   442368      ['activation_86[0][0]']          \n",
      "                                384)                                                              \n",
      "                                                                                                  \n",
      " conv2d_103 (Conv2D)            (None, None, None,   442368      ['activation_90[0][0]']          \n",
      "                                384)                                                              \n",
      "                                                                                                  \n",
      " conv2d_104 (Conv2D)            (None, None, None,   442368      ['activation_90[0][0]']          \n",
      "                                384)                                                              \n",
      "                                                                                                  \n",
      " average_pooling2d_8 (AveragePo  (None, None, None,   0          ['mixed9[0][0]']                 \n",
      " oling2D)                       2048)                                                             \n",
      "                                                                                                  \n",
      " conv2d_97 (Conv2D)             (None, None, None,   655360      ['mixed9[0][0]']                 \n",
      "                                320)                                                              \n",
      "                                                                                                  \n",
      " batch_normalization_93 (BatchN  (None, None, None,   1152       ['conv2d_99[0][0]']              \n",
      " ormalization)                  384)                                                              \n",
      "                                                                                                  \n",
      " batch_normalization_94 (BatchN  (None, None, None,   1152       ['conv2d_100[0][0]']             \n",
      " ormalization)                  384)                                                              \n",
      "                                                                                                  \n",
      " batch_normalization_97 (BatchN  (None, None, None,   1152       ['conv2d_103[0][0]']             \n",
      " ormalization)                  384)                                                              \n",
      "                                                                                                  \n",
      " batch_normalization_98 (BatchN  (None, None, None,   1152       ['conv2d_104[0][0]']             \n",
      " ormalization)                  384)                                                              \n",
      "                                                                                                  \n",
      " conv2d_105 (Conv2D)            (None, None, None,   393216      ['average_pooling2d_8[0][0]']    \n",
      "                                192)                                                              \n",
      "                                                                                                  \n",
      " batch_normalization_91 (BatchN  (None, None, None,   960        ['conv2d_97[0][0]']              \n",
      " ormalization)                  320)                                                              \n",
      "                                                                                                  \n",
      " activation_87 (Activation)     (None, None, None,   0           ['batch_normalization_93[0][0]'] \n",
      "                                384)                                                              \n",
      "                                                                                                  \n",
      " activation_88 (Activation)     (None, None, None,   0           ['batch_normalization_94[0][0]'] \n",
      "                                384)                                                              \n",
      "                                                                                                  \n",
      " activation_91 (Activation)     (None, None, None,   0           ['batch_normalization_97[0][0]'] \n",
      "                                384)                                                              \n",
      "                                                                                                  \n",
      " activation_92 (Activation)     (None, None, None,   0           ['batch_normalization_98[0][0]'] \n",
      "                                384)                                                              \n",
      "                                                                                                  \n",
      " batch_normalization_99 (BatchN  (None, None, None,   576        ['conv2d_105[0][0]']             \n",
      " ormalization)                  192)                                                              \n",
      "                                                                                                  \n",
      " activation_85 (Activation)     (None, None, None,   0           ['batch_normalization_91[0][0]'] \n",
      "                                320)                                                              \n",
      "                                                                                                  \n",
      " mixed9_1 (Concatenate)         (None, None, None,   0           ['activation_87[0][0]',          \n",
      "                                768)                              'activation_88[0][0]']          \n",
      "                                                                                                  \n",
      " concatenate_1 (Concatenate)    (None, None, None,   0           ['activation_91[0][0]',          \n",
      "                                768)                              'activation_92[0][0]']          \n",
      "                                                                                                  \n",
      " activation_93 (Activation)     (None, None, None,   0           ['batch_normalization_99[0][0]'] \n",
      "                                192)                                                              \n",
      "                                                                                                  \n",
      " mixed10 (Concatenate)          (None, None, None,   0           ['activation_85[0][0]',          \n",
      "                                2048)                             'mixed9_1[0][0]',               \n",
      "                                                                  'concatenate_1[0][0]',          \n",
      "                                                                  'activation_93[0][0]']          \n",
      "                                                                                                  \n",
      "==================================================================================================\n",
      "Total params: 21,802,784\n",
      "Trainable params: 21,768,352\n",
      "Non-trainable params: 34,432\n",
      "__________________________________________________________________________________________________\n"
     ]
    }
   ],
   "source": [
    "Incep_model.summary()"
   ]
  },
  {
   "cell_type": "code",
   "execution_count": 70,
   "id": "c050d073-e238-4759-95fd-086a1d4f7d9a",
   "metadata": {},
   "outputs": [],
   "source": [
    "for layers in Incep_model.layers:\n",
    "    layers.trainable = False"
   ]
  },
  {
   "cell_type": "code",
   "execution_count": 71,
   "id": "86de0167-a40a-4a6f-b211-50b12ea8e6a9",
   "metadata": {},
   "outputs": [],
   "source": [
    "last_layer = Incep_model.get_layer('mixed10')"
   ]
  },
  {
   "cell_type": "code",
   "execution_count": 72,
   "id": "323f7093-db98-4793-b9b0-7eb9519992b2",
   "metadata": {},
   "outputs": [
    {
     "name": "stdout",
     "output_type": "stream",
     "text": [
      "last layer output shape:  (None, None, None, 2048)\n"
     ]
    }
   ],
   "source": [
    "print('last layer output shape: ', last_layer.output_shape)\n",
    "last_output = last_layer.output"
   ]
  },
  {
   "cell_type": "code",
   "execution_count": 73,
   "id": "9fe12a7d-e7a0-4e4a-88eb-32a56412d3b2",
   "metadata": {},
   "outputs": [],
   "source": [
    "x = tf.keras.layers.GlobalAveragePooling2D()(last_output)\n",
    "x = tf.keras.layers.Dense(1024, activation = 'relu')(x)\n",
    "x = tf.keras.layers.Dropout(0.25)(x)\n",
    "x = tf.keras.layers.Dense(7, activation = 'softmax')(x)"
   ]
  },
  {
   "cell_type": "code",
   "execution_count": 74,
   "id": "c63e95d1-9e36-43ac-8627-d9699a65bd1c",
   "metadata": {},
   "outputs": [],
   "source": [
    "tl_Incept_model = tf.keras.models.Model(Incep_model.input, x)"
   ]
  },
  {
   "cell_type": "code",
   "execution_count": 75,
   "id": "414231f9-f83a-4173-9b91-3a16c0691a21",
   "metadata": {},
   "outputs": [
    {
     "data": {
      "text/plain": [
       "[<KerasTensor: shape=(None, None, None, 3) dtype=float32 (created by layer 'input_2')>]"
      ]
     },
     "execution_count": 75,
     "metadata": {},
     "output_type": "execute_result"
    }
   ],
   "source": [
    "tl_Incept_model.inputs"
   ]
  },
  {
   "cell_type": "code",
   "execution_count": 76,
   "id": "0527f433-cb49-45d1-a0ad-dd662de6712e",
   "metadata": {},
   "outputs": [
    {
     "data": {
      "text/plain": [
       "[<KerasTensor: shape=(None, 7) dtype=float32 (created by layer 'dense_9')>]"
      ]
     },
     "execution_count": 76,
     "metadata": {},
     "output_type": "execute_result"
    }
   ],
   "source": [
    "tl_Incept_model.outputs"
   ]
  },
  {
   "cell_type": "code",
   "execution_count": 77,
   "id": "405ad6a6-1d84-41e6-ae7b-b2907033bec4",
   "metadata": {},
   "outputs": [],
   "source": [
    "tl_Incept_model.compile(loss = 'categorical_crossentropy' , \n",
    "                        metrics = ['acc'],\n",
    "                        optimizer = tf.keras.optimizers.Adam())"
   ]
  },
  {
   "cell_type": "code",
   "execution_count": 78,
   "id": "d83e64e4-17ed-4f2c-b52c-d7e79f7aecda",
   "metadata": {},
   "outputs": [],
   "source": [
    "def to_grayscale_then_rgb(image):\n",
    "    image = tf.image.rgb_to_grayscale(image)\n",
    "    image = tf.image.grayscale_to_rgb(image)\n",
    "    return image"
   ]
  },
  {
   "cell_type": "code",
   "execution_count": 80,
   "id": "eda53208-fabd-43b0-bf5f-b1205ad579a5",
   "metadata": {},
   "outputs": [
    {
     "name": "stdout",
     "output_type": "stream",
     "text": [
      "Found 28709 images belonging to 7 classes.\n",
      "Found 7178 images belonging to 7 classes.\n"
     ]
    }
   ],
   "source": [
    "train_rgb_datagen = tf.keras.preprocessing.image.ImageDataGenerator(rescale=1./255,\n",
    "                                                                    preprocessing_function= to_grayscale_then_rgb,\n",
    "                                                                    #preprocessing_function=tf.image.grayscale_to_rgb,\n",
    "                                                                    vertical_flip= True,\n",
    "                                                                    rotation_range=5,\n",
    "                                                                    width_shift_range=0.2,\n",
    "                                                                    height_shift_range=0.2,\n",
    "                                                                    shear_range=0.2,\n",
    "                                                                    horizontal_flip=True,\n",
    "                                                                    fill_mode='nearest')\n",
    "\n",
    "train_dataflow_rgb = train_rgb_datagen.flow_from_directory(train_root,\n",
    "                                                          target_size = (48,48,),\n",
    "                                                          seed = seed_num)\n",
    "\n",
    "test_rgb_datagen = tf.keras.preprocessing.image.ImageDataGenerator(rescale=1./255,\n",
    "                                                                   preprocessing_function= to_grayscale_then_rgb,\n",
    "                                                                   #preprocessing_function=tf.image.grayscale_to_rgb,\n",
    "                                                                   vertical_flip= True)\n",
    "\n",
    "test_dataflow_rgb = test_rgb_datagen.flow_from_directory(test_root,\n",
    "                                                          target_size = (48,48,),\n",
    "                                                         shuffle = False,\n",
    "                                                          seed = seed_num)"
   ]
  },
  {
   "cell_type": "code",
   "execution_count": 27,
   "id": "a224f758-d804-445e-85a5-6f316505788f",
   "metadata": {},
   "outputs": [],
   "source": [
    "#tl_Incept_model.load_weights('tl_Incept_model_epochs50.h5')"
   ]
  },
  {
   "cell_type": "code",
   "execution_count": null,
   "id": "70dfcc8a-1b77-4f0d-9210-69868406ec5e",
   "metadata": {
    "tags": []
   },
   "outputs": [
    {
     "name": "stdout",
     "output_type": "stream",
     "text": [
      "Epoch 1/50\n"
     ]
    }
   ],
   "source": [
    "epochs = 50\n",
    "steps_per_epoch = 1000\n",
    "\n",
    "tl_Incept_history = tl_Incept_model.fit(train_dataflow_rgb,\n",
    "                                          epochs = epochs, \n",
    "                                          validation_data=(test_dataflow_rgb),\n",
    "                                          #steps_per_epoch=steps_per_epoch,\n",
    "                                          callbacks=[early_callback, myCallback])#, reduceLR])"
   ]
  },
  {
   "cell_type": "code",
   "execution_count": null,
   "id": "170961a4-b2c6-473c-84e5-b14533b21e57",
   "metadata": {},
   "outputs": [],
   "source": [
    "plot_results(tl_Incept_history)"
   ]
  },
  {
   "cell_type": "markdown",
   "id": "8b1fa020-4c2d-4513-89e2-2380092c064c",
   "metadata": {},
   "source": [
    "tl_Incept_model.save('tl_Incept_model_epochs50.h5')"
   ]
  },
  {
   "cell_type": "code",
   "execution_count": null,
   "id": "ffb0c012-99b7-4e7b-bbf5-13e9d978dbe9",
   "metadata": {},
   "outputs": [],
   "source": [
    "display_classifcation_report(tl_Incept_model, test_dataflow_rgb)"
   ]
  },
  {
   "cell_type": "markdown",
   "id": "6beb8ac3-7540-4f66-b8a7-907d847e2017",
   "metadata": {
    "tags": []
   },
   "source": [
    "## ResNet"
   ]
  },
  {
   "cell_type": "code",
   "execution_count": 81,
   "id": "f2766395-b939-4ce6-81da-ce481e9d63df",
   "metadata": {},
   "outputs": [],
   "source": [
    "resnet = tf.keras.applications.resnet50.ResNet50(include_top= False)"
   ]
  },
  {
   "cell_type": "markdown",
   "id": "c9d5e2d4-9824-4e13-b432-ff3042c1eae7",
   "metadata": {
    "jupyter": {
     "outputs_hidden": true
    },
    "tags": []
   },
   "source": [
    "resnet.summary()"
   ]
  },
  {
   "cell_type": "code",
   "execution_count": 82,
   "id": "3e2f0ae1-489f-4707-a14c-0bf09844f6be",
   "metadata": {},
   "outputs": [],
   "source": [
    "for layer in resnet.layers:\n",
    "    layer.trainable = False"
   ]
  },
  {
   "cell_type": "code",
   "execution_count": 83,
   "id": "5dfaabe4-e2a6-4fe8-ae9b-febf13bcd905",
   "metadata": {},
   "outputs": [],
   "source": [
    "inputs = resnet.input"
   ]
  },
  {
   "cell_type": "code",
   "execution_count": 84,
   "id": "05fd27f6-1057-4793-94a1-cdd90af73bb3",
   "metadata": {},
   "outputs": [],
   "source": [
    "last_layer = resnet.get_layer('conv5_block1_out')\n",
    "last_output = last_layer.output\n",
    "x = tf.keras.layers.GlobalAveragePooling2D()(last_output)\n",
    "x = tf.keras.layers.Dropout(0.2)(x)\n",
    "x = tf.keras.layers.Dense(1024, activation='relu')(x)\n",
    "x = tf.keras.layers.Dense(7, activation = 'softmax')(x)\n",
    "\n",
    "tf_resnet_model = tf.keras.models.Model(inputs, x)"
   ]
  },
  {
   "cell_type": "code",
   "execution_count": 85,
   "id": "55b3744b-7a8a-4e65-b295-e303e538fd99",
   "metadata": {},
   "outputs": [],
   "source": [
    "tf_resnet_model.compile(loss = 'categorical_crossentropy' , \n",
    "                        metrics = ['acc'],\n",
    "                        optimizer = tf.keras.optimizers.Adam())"
   ]
  },
  {
   "cell_type": "markdown",
   "id": "5bf3ddb0-32fb-4831-8e88-61971effb341",
   "metadata": {},
   "source": [
    "tf_resnet_model.load_weights('tf_resnet_model_epochs50.h5')"
   ]
  },
  {
   "cell_type": "code",
   "execution_count": 86,
   "id": "8ec47e60-50a3-4678-a89b-939309fa8154",
   "metadata": {
    "tags": []
   },
   "outputs": [
    {
     "name": "stdout",
     "output_type": "stream",
     "text": [
      "Epoch 1/50\n",
      "898/898 [==============================] - 218s 239ms/step - loss: 1.8941 - acc: 0.2333 - val_loss: 1.8197 - val_acc: 0.2471 - lr: 0.0010\n",
      "Epoch 2/50\n",
      "898/898 [==============================] - 198s 220ms/step - loss: 1.8131 - acc: 0.2509 - val_loss: 1.8130 - val_acc: 0.2471 - lr: 0.0010\n",
      "Epoch 3/50\n",
      "898/898 [==============================] - 192s 214ms/step - loss: 1.8105 - acc: 0.2513 - val_loss: 1.8089 - val_acc: 0.2474 - lr: 0.0010\n",
      "Epoch 4/50\n",
      "898/898 [==============================] - 187s 209ms/step - loss: 1.8103 - acc: 0.2511 - val_loss: 1.8125 - val_acc: 0.2469 - lr: 0.0010\n",
      "Epoch 5/50\n",
      "898/898 [==============================] - 194s 216ms/step - loss: 1.8094 - acc: 0.2512 - val_loss: 1.8054 - val_acc: 0.2471 - lr: 0.0010\n",
      "Epoch 6/50\n",
      "898/898 [==============================] - 147s 164ms/step - loss: 1.8072 - acc: 0.2512 - val_loss: 1.8003 - val_acc: 0.2491 - lr: 0.0010\n",
      "Epoch 7/50\n",
      "898/898 [==============================] - 166s 185ms/step - loss: 1.8063 - acc: 0.2517 - val_loss: 1.8033 - val_acc: 0.2491 - lr: 0.0010\n",
      "Epoch 8/50\n",
      "898/898 [==============================] - 163s 181ms/step - loss: 1.8059 - acc: 0.2509 - val_loss: 1.7975 - val_acc: 0.2491 - lr: 0.0010\n",
      "Epoch 9/50\n",
      "898/898 [==============================] - 166s 185ms/step - loss: 1.8035 - acc: 0.2515 - val_loss: 1.7990 - val_acc: 0.2513 - lr: 0.0010\n",
      "Epoch 10/50\n",
      "898/898 [==============================] - 162s 181ms/step - loss: 1.8031 - acc: 0.2520 - val_loss: 1.8002 - val_acc: 0.2501 - lr: 0.0010\n",
      "Epoch 11/50\n",
      "898/898 [==============================] - 176s 196ms/step - loss: 1.8034 - acc: 0.2509 - val_loss: 1.8026 - val_acc: 0.2542 - lr: 0.0010\n",
      "Epoch 12/50\n",
      "898/898 [==============================] - 163s 182ms/step - loss: 1.8014 - acc: 0.2518 - val_loss: 1.7943 - val_acc: 0.2522 - lr: 0.0010\n",
      "Epoch 13/50\n",
      "898/898 [==============================] - 180s 201ms/step - loss: 1.8035 - acc: 0.2526 - val_loss: 1.8031 - val_acc: 0.2554 - lr: 0.0010\n",
      "Epoch 14/50\n",
      "898/898 [==============================] - 156s 174ms/step - loss: 1.8026 - acc: 0.2523 - val_loss: 1.8029 - val_acc: 0.2513 - lr: 0.0010\n",
      "Epoch 15/50\n",
      "898/898 [==============================] - 161s 180ms/step - loss: 1.7997 - acc: 0.2517 - val_loss: 1.7853 - val_acc: 0.2537 - lr: 0.0010\n",
      "Epoch 16/50\n",
      "898/898 [==============================] - 178s 198ms/step - loss: 1.7999 - acc: 0.2535 - val_loss: 1.7902 - val_acc: 0.2520 - lr: 0.0010\n",
      "Epoch 17/50\n",
      "898/898 [==============================] - 156s 174ms/step - loss: 1.8000 - acc: 0.2531 - val_loss: 1.7883 - val_acc: 0.2531 - lr: 0.0010\n",
      "Epoch 18/50\n",
      "898/898 [==============================] - 195s 217ms/step - loss: 1.7996 - acc: 0.2538 - val_loss: 1.7869 - val_acc: 0.2517 - lr: 0.0010\n",
      "Epoch 19/50\n",
      "898/898 [==============================] - 174s 194ms/step - loss: 1.7935 - acc: 0.2544 - val_loss: 1.7856 - val_acc: 0.2583 - lr: 1.0000e-04\n",
      "Epoch 20/50\n",
      "898/898 [==============================] - 184s 205ms/step - loss: 1.7939 - acc: 0.2538 - val_loss: 1.7815 - val_acc: 0.2547 - lr: 1.0000e-04\n",
      "Epoch 21/50\n",
      "898/898 [==============================] - 182s 203ms/step - loss: 1.7931 - acc: 0.2541 - val_loss: 1.7808 - val_acc: 0.2570 - lr: 1.0000e-04\n",
      "Epoch 22/50\n",
      "898/898 [==============================] - 180s 200ms/step - loss: 1.7914 - acc: 0.2554 - val_loss: 1.7812 - val_acc: 0.2565 - lr: 1.0000e-04\n",
      "Epoch 23/50\n",
      "898/898 [==============================] - 188s 209ms/step - loss: 1.7926 - acc: 0.2551 - val_loss: 1.7790 - val_acc: 0.2575 - lr: 1.0000e-04\n",
      "Epoch 24/50\n",
      "898/898 [==============================] - 179s 200ms/step - loss: 1.7923 - acc: 0.2571 - val_loss: 1.7803 - val_acc: 0.2584 - lr: 1.0000e-04\n",
      "Epoch 25/50\n",
      "898/898 [==============================] - 175s 195ms/step - loss: 1.7913 - acc: 0.2569 - val_loss: 1.7786 - val_acc: 0.2547 - lr: 1.0000e-04\n",
      "Epoch 26/50\n",
      "898/898 [==============================] - 172s 192ms/step - loss: 1.7914 - acc: 0.2554 - val_loss: 1.7795 - val_acc: 0.2590 - lr: 1.0000e-04\n",
      "Epoch 27/50\n",
      "898/898 [==============================] - 155s 173ms/step - loss: 1.7927 - acc: 0.2553 - val_loss: 1.7780 - val_acc: 0.2576 - lr: 1.0000e-04\n",
      "Epoch 28/50\n",
      "898/898 [==============================] - 147s 164ms/step - loss: 1.7917 - acc: 0.2541 - val_loss: 1.7798 - val_acc: 0.2570 - lr: 1.0000e-04\n",
      "Epoch 29/50\n",
      "898/898 [==============================] - 198s 221ms/step - loss: 1.7913 - acc: 0.2564 - val_loss: 1.7787 - val_acc: 0.2563 - lr: 1.0000e-04\n",
      "Epoch 30/50\n",
      "898/898 [==============================] - 195s 217ms/step - loss: 1.7902 - acc: 0.2579 - val_loss: 1.7787 - val_acc: 0.2612 - lr: 1.0000e-04\n",
      "Epoch 31/50\n",
      "898/898 [==============================] - 181s 201ms/step - loss: 1.7901 - acc: 0.2557 - val_loss: 1.7765 - val_acc: 0.2563 - lr: 1.0000e-04\n",
      "Epoch 32/50\n",
      "898/898 [==============================] - 155s 173ms/step - loss: 1.7897 - acc: 0.2558 - val_loss: 1.7768 - val_acc: 0.2607 - lr: 1.0000e-04\n",
      "Epoch 33/50\n",
      "898/898 [==============================] - 178s 198ms/step - loss: 1.7914 - acc: 0.2568 - val_loss: 1.7770 - val_acc: 0.2594 - lr: 1.0000e-04\n",
      "Epoch 34/50\n",
      "898/898 [==============================] - 171s 190ms/step - loss: 1.7890 - acc: 0.2583 - val_loss: 1.7767 - val_acc: 0.2579 - lr: 1.0000e-04\n",
      "Epoch 35/50\n",
      "898/898 [==============================] - 165s 184ms/step - loss: 1.7919 - acc: 0.2548 - val_loss: 1.7776 - val_acc: 0.2600 - lr: 1.0000e-04\n",
      "Epoch 36/50\n",
      "898/898 [==============================] - 160s 178ms/step - loss: 1.7905 - acc: 0.2572 - val_loss: 1.7753 - val_acc: 0.2595 - lr: 1.0000e-05\n",
      "Epoch 37/50\n",
      "898/898 [==============================] - 170s 190ms/step - loss: 1.7901 - acc: 0.2551 - val_loss: 1.7761 - val_acc: 0.2591 - lr: 1.0000e-05\n",
      "Epoch 38/50\n",
      "898/898 [==============================] - 157s 175ms/step - loss: 1.7898 - acc: 0.2554 - val_loss: 1.7760 - val_acc: 0.2594 - lr: 1.0000e-05\n",
      "Epoch 39/50\n",
      "898/898 [==============================] - 189s 211ms/step - loss: 1.7896 - acc: 0.2573 - val_loss: 1.7771 - val_acc: 0.2579 - lr: 1.0000e-05\n",
      "Epoch 40/50\n",
      "898/898 [==============================] - 165s 183ms/step - loss: 1.7907 - acc: 0.2579 - val_loss: 1.7761 - val_acc: 0.2577 - lr: 1.0000e-05\n"
     ]
    }
   ],
   "source": [
    "epochs = 50\n",
    "steps_per_epoch = 1000\n",
    "\n",
    "tf_resnet_history = tf_resnet_model.fit(train_dataflow_rgb, \n",
    "                                          epochs = epochs, \n",
    "                                          validation_data=(test_dataflow_rgb),\n",
    "                                          #steps_per_epoch=steps_per_epoch,\n",
    "                                          callbacks=[early_callback, myCallback,reduceLR])"
   ]
  },
  {
   "cell_type": "code",
   "execution_count": 87,
   "id": "cbbfe276-4c7a-4d72-a8a8-4662463cf71c",
   "metadata": {},
   "outputs": [
    {
     "data": {
      "image/png": "[encoded data removed]",
      "text/plain": [
       "<Figure size 432x288 with 1 Axes>"
      ]
     },
     "metadata": {
      "needs_background": "light"
     },
     "output_type": "display_data"
    },
    {
     "data": {
      "image/png": "[encoded data removed]",
      "text/plain": [
       "<Figure size 432x288 with 1 Axes>"
      ]
     },
     "metadata": {
      "needs_background": "light"
     },
     "output_type": "display_data"
    }
   ],
   "source": [
    "plot_results(tf_resnet_history)"
   ]
  },
  {
   "cell_type": "markdown",
   "id": "f4b05fb6-0229-406e-9eee-82c8d946b865",
   "metadata": {},
   "source": [
    "tf_resnet_model.save('tf_resnet_model_epochs50.h5')"
   ]
  },
  {
   "cell_type": "code",
   "execution_count": 88,
   "id": "e53c97c2-f0f7-4625-8f56-9248762d61cf",
   "metadata": {},
   "outputs": [
    {
     "name": "stdout",
     "output_type": "stream",
     "text": [
      "              precision    recall  f1-score   support\n",
      "\n",
      "       angry       0.22      0.00      0.00       958\n",
      "     disgust       0.00      0.00      0.00       111\n",
      "        fear       0.24      0.07      0.10      1024\n",
      "       happy       0.26      0.93      0.41      1774\n",
      "     neutral       0.00      0.00      0.00      1233\n",
      "         sad       0.25      0.08      0.12      1247\n",
      "    surprise       0.35      0.06      0.11       831\n",
      "\n",
      "    accuracy                           0.26      7178\n",
      "   macro avg       0.19      0.16      0.11      7178\n",
      "weighted avg       0.21      0.26      0.15      7178\n",
      "\n"
     ]
    },
    {
     "name": "stderr",
     "output_type": "stream",
     "text": [
      "C:\\Users\\Randy\\Venv\\testpy39\\lib\\site-packages\\sklearn\\metrics\\_classification.py:1308: UndefinedMetricWarning: Precision and F-score are ill-defined and being set to 0.0 in labels with no predicted samples. Use `zero_division` parameter to control this behavior.\n",
      "  _warn_prf(average, modifier, msg_start, len(result))\n",
      "C:\\Users\\Randy\\Venv\\testpy39\\lib\\site-packages\\sklearn\\metrics\\_classification.py:1308: UndefinedMetricWarning: Precision and F-score are ill-defined and being set to 0.0 in labels with no predicted samples. Use `zero_division` parameter to control this behavior.\n",
      "  _warn_prf(average, modifier, msg_start, len(result))\n",
      "C:\\Users\\Randy\\Venv\\testpy39\\lib\\site-packages\\sklearn\\metrics\\_classification.py:1308: UndefinedMetricWarning: Precision and F-score are ill-defined and being set to 0.0 in labels with no predicted samples. Use `zero_division` parameter to control this behavior.\n",
      "  _warn_prf(average, modifier, msg_start, len(result))\n"
     ]
    }
   ],
   "source": [
    "display_classifcation_report(tf_resnet_model,test_dataflow_rgb)"
   ]
  },
  {
   "cell_type": "markdown",
   "id": "4190877d-0492-4539-99a7-d82dfa1f721c",
   "metadata": {},
   "source": [
    "# CNN model 2"
   ]
  },
  {
   "cell_type": "code",
   "execution_count": 89,
   "id": "3c12ecfd-0288-46eb-8add-da751f6ce449",
   "metadata": {},
   "outputs": [],
   "source": [
    "CNN_v2_model = tf.keras.models.Sequential([\n",
    "    tf.keras.layers.Conv2D(64, (3,3) , input_shape = (48,48,1), activation = 'relu'),\n",
    "    tf.keras.layers.Conv2D(128, (3,3) , activation = 'relu'),\n",
    "    tf.keras.layers.BatchNormalization(),\n",
    "    tf.keras.layers.MaxPooling2D(),\n",
    "    tf.keras.layers.Dropout(0.2),\n",
    "\n",
    "    tf.keras.layers.Conv2D(256, (3,3) , activation = 'relu', kernel_regularizer=tf.keras.regularizers.l2(0.01)),\n",
    "    tf.keras.layers.BatchNormalization(),\n",
    "    tf.keras.layers.MaxPooling2D(),\n",
    "    tf.keras.layers.Dropout(0.2),\n",
    "\n",
    "    tf.keras.layers.Conv2D(512, (3,3) , activation = 'relu', kernel_regularizer=tf.keras.regularizers.l2(0.01)),\n",
    "    tf.keras.layers.BatchNormalization(),\n",
    "    tf.keras.layers.MaxPooling2D(),\n",
    "    tf.keras.layers.Dropout(0.2),\n",
    "\n",
    "    \n",
    "    tf.keras.layers.Flatten(),\n",
    "    tf.keras.layers.Dense(512, activation='relu'),\n",
    "    tf.keras.layers.BatchNormalization(),\n",
    "    tf.keras.layers.Dropout(0.2),\n",
    "    \n",
    "    tf.keras.layers.Dense(7, activation='softmax')\n",
    "])"
   ]
  },
  {
   "cell_type": "code",
   "execution_count": 90,
   "id": "2cf00974-8a41-497e-b292-bd8a77e2056d",
   "metadata": {},
   "outputs": [],
   "source": [
    "CNN_v2_model.compile(loss = 'categorical_crossentropy' , \n",
    "              metrics = ['acc'],\n",
    "             optimizer = tf.keras.optimizers.RMSprop())"
   ]
  },
  {
   "cell_type": "code",
   "execution_count": 91,
   "id": "55c36efa-3bbe-44f6-8311-8c9734b6be8d",
   "metadata": {},
   "outputs": [
    {
     "name": "stdout",
     "output_type": "stream",
     "text": [
      "Model: \"sequential_3\"\n",
      "_________________________________________________________________\n",
      " Layer (type)                Output Shape              Param #   \n",
      "=================================================================\n",
      " conv2d_106 (Conv2D)         (None, 46, 46, 64)        640       \n",
      "                                                                 \n",
      " conv2d_107 (Conv2D)         (None, 44, 44, 128)       73856     \n",
      "                                                                 \n",
      " batch_normalization_100 (Ba  (None, 44, 44, 128)      512       \n",
      " tchNormalization)                                               \n",
      "                                                                 \n",
      " max_pooling2d_10 (MaxPoolin  (None, 22, 22, 128)      0         \n",
      " g2D)                                                            \n",
      "                                                                 \n",
      " dropout_9 (Dropout)         (None, 22, 22, 128)       0         \n",
      "                                                                 \n",
      " conv2d_108 (Conv2D)         (None, 20, 20, 256)       295168    \n",
      "                                                                 \n",
      " batch_normalization_101 (Ba  (None, 20, 20, 256)      1024      \n",
      " tchNormalization)                                               \n",
      "                                                                 \n",
      " max_pooling2d_11 (MaxPoolin  (None, 10, 10, 256)      0         \n",
      " g2D)                                                            \n",
      "                                                                 \n",
      " dropout_10 (Dropout)        (None, 10, 10, 256)       0         \n",
      "                                                                 \n",
      " conv2d_109 (Conv2D)         (None, 8, 8, 512)         1180160   \n",
      "                                                                 \n",
      " batch_normalization_102 (Ba  (None, 8, 8, 512)        2048      \n",
      " tchNormalization)                                               \n",
      "                                                                 \n",
      " max_pooling2d_12 (MaxPoolin  (None, 4, 4, 512)        0         \n",
      " g2D)                                                            \n",
      "                                                                 \n",
      " dropout_11 (Dropout)        (None, 4, 4, 512)         0         \n",
      "                                                                 \n",
      " flatten_3 (Flatten)         (None, 8192)              0         \n",
      "                                                                 \n",
      " dense_12 (Dense)            (None, 512)               4194816   \n",
      "                                                                 \n",
      " batch_normalization_103 (Ba  (None, 512)              2048      \n",
      " tchNormalization)                                               \n",
      "                                                                 \n",
      " dropout_12 (Dropout)        (None, 512)               0         \n",
      "                                                                 \n",
      " dense_13 (Dense)            (None, 7)                 3591      \n",
      "                                                                 \n",
      "=================================================================\n",
      "Total params: 5,753,863\n",
      "Trainable params: 5,751,047\n",
      "Non-trainable params: 2,816\n",
      "_________________________________________________________________\n"
     ]
    }
   ],
   "source": [
    "CNN_v2_model.summary()"
   ]
  },
  {
   "cell_type": "markdown",
   "id": "d8451aeb-ce33-4db0-a979-931cb3504d2e",
   "metadata": {},
   "source": [
    "CNN_v2_model.load_weights('CNN_v2_100epochs.h5')"
   ]
  },
  {
   "cell_type": "code",
   "execution_count": 92,
   "id": "f34235ae-deac-4948-8fde-953b6b15390c",
   "metadata": {},
   "outputs": [
    {
     "name": "stdout",
     "output_type": "stream",
     "text": [
      "Epoch 1/10\n",
      "  6/898 [..............................] - ETA: 41s - loss: 9.1308 - acc: 0.2344WARNING:tensorflow:Callback method `on_train_batch_end` is slow compared to the batch time (batch time: 0.0244s vs `on_train_batch_end` time: 0.0267s). Check your callbacks.\n",
      "898/898 [==============================] - 30s 31ms/step - loss: 2.5349 - acc: 0.2123 - val_loss: 1.9871 - val_acc: 0.2327\n",
      "Epoch 2/10\n",
      "898/898 [==============================] - 27s 30ms/step - loss: 2.0088 - acc: 0.2415 - val_loss: 2.0017 - val_acc: 0.2779\n",
      "Epoch 3/10\n",
      "898/898 [==============================] - 27s 30ms/step - loss: 1.9691 - acc: 0.2621 - val_loss: 2.0512 - val_acc: 0.2519\n",
      "Epoch 4/10\n",
      "898/898 [==============================] - 27s 30ms/step - loss: 1.9433 - acc: 0.2727 - val_loss: 1.9100 - val_acc: 0.3036\n",
      "Epoch 5/10\n",
      "898/898 [==============================] - 27s 30ms/step - loss: 1.9205 - acc: 0.2863 - val_loss: 1.8983 - val_acc: 0.3004\n",
      "Epoch 6/10\n",
      "898/898 [==============================] - 27s 30ms/step - loss: 1.9297 - acc: 0.3025 - val_loss: 2.1592 - val_acc: 0.2703\n",
      "Epoch 7/10\n",
      "898/898 [==============================] - 27s 30ms/step - loss: 1.9105 - acc: 0.3122 - val_loss: 2.4125 - val_acc: 0.2910\n",
      "Epoch 8/10\n",
      "898/898 [==============================] - 27s 30ms/step - loss: 1.9084 - acc: 0.3302 - val_loss: 1.9277 - val_acc: 0.3408\n",
      "Epoch 9/10\n",
      "898/898 [==============================] - 26s 29ms/step - loss: 1.9085 - acc: 0.3456 - val_loss: 2.0471 - val_acc: 0.3066\n",
      "Epoch 10/10\n",
      "898/898 [==============================] - 26s 29ms/step - loss: 1.8901 - acc: 0.3683 - val_loss: 1.8869 - val_acc: 0.3635\n"
     ]
    }
   ],
   "source": [
    "epochs = 10\n",
    "steps_per_epoch = 1000\n",
    "\n",
    "CNN_v2_history = CNN_v2_model.fit(train_dataflow, \n",
    "                                  epochs = epochs, \n",
    "                                  validation_data=(test_dataflow),\n",
    "                                  #steps_per_epoch=steps_per_epoch,\n",
    "                                  callbacks=[early_callback, myCallback])"
   ]
  },
  {
   "cell_type": "code",
   "execution_count": 93,
   "id": "f07be52b-e28a-49f8-a1f9-98a2033526ae",
   "metadata": {},
   "outputs": [
    {
     "data": {
      "image/png": "[encoded data removed]",
      "text/plain": [
       "<Figure size 432x288 with 1 Axes>"
      ]
     },
     "metadata": {
      "needs_background": "light"
     },
     "output_type": "display_data"
    },
    {
     "data": {
      "image/png": "[encoded data removed]",
      "text/plain": [
       "<Figure size 432x288 with 1 Axes>"
      ]
     },
     "metadata": {
      "needs_background": "light"
     },
     "output_type": "display_data"
    }
   ],
   "source": [
    "plot_results(CNN_v2_history)"
   ]
  },
  {
   "cell_type": "markdown",
   "id": "d029217b-35cf-4401-a106-0f7849999397",
   "metadata": {},
   "source": [
    "This looks promising. We train for a further 90 epochs, totalling 100 epochs for this model"
   ]
  },
  {
   "cell_type": "code",
   "execution_count": 94,
   "id": "270cb662-84c5-4254-9d5f-8da192f98dcf",
   "metadata": {},
   "outputs": [
    {
     "name": "stdout",
     "output_type": "stream",
     "text": [
      "Epoch 11/100\n",
      "898/898 [==============================] - 27s 30ms/step - loss: 1.8607 - acc: 0.3772 - val_loss: 1.8504 - val_acc: 0.3975\n",
      "Epoch 12/100\n",
      "898/898 [==============================] - 27s 30ms/step - loss: 1.8666 - acc: 0.3796 - val_loss: 1.7809 - val_acc: 0.4182\n",
      "Epoch 13/100\n",
      "898/898 [==============================] - 27s 30ms/step - loss: 1.8357 - acc: 0.3911 - val_loss: 1.8542 - val_acc: 0.3940\n",
      "Epoch 14/100\n",
      "898/898 [==============================] - 27s 30ms/step - loss: 1.8540 - acc: 0.3977 - val_loss: 1.8987 - val_acc: 0.3863\n",
      "Epoch 15/100\n",
      "898/898 [==============================] - 27s 30ms/step - loss: 1.8038 - acc: 0.4038 - val_loss: 1.7060 - val_acc: 0.4517\n",
      "Epoch 16/100\n",
      "898/898 [==============================] - 27s 30ms/step - loss: 1.7868 - acc: 0.4091 - val_loss: 1.7596 - val_acc: 0.4048\n",
      "Epoch 17/100\n",
      "898/898 [==============================] - 27s 30ms/step - loss: 1.7730 - acc: 0.4208 - val_loss: 1.6884 - val_acc: 0.4507\n",
      "Epoch 18/100\n",
      "898/898 [==============================] - 27s 30ms/step - loss: 1.7728 - acc: 0.4179 - val_loss: 1.9833 - val_acc: 0.3546\n",
      "Epoch 19/100\n",
      "898/898 [==============================] - 27s 30ms/step - loss: 1.7535 - acc: 0.4210 - val_loss: 1.7773 - val_acc: 0.4188\n",
      "Epoch 20/100\n",
      "898/898 [==============================] - 27s 30ms/step - loss: 1.7501 - acc: 0.4238 - val_loss: 1.6895 - val_acc: 0.4521\n",
      "Epoch 21/100\n",
      "898/898 [==============================] - 27s 30ms/step - loss: 1.7257 - acc: 0.4249 - val_loss: 1.6895 - val_acc: 0.4384\n",
      "Epoch 22/100\n",
      "898/898 [==============================] - 27s 30ms/step - loss: 1.7139 - acc: 0.4269 - val_loss: 1.6410 - val_acc: 0.4500\n",
      "Epoch 23/100\n",
      "898/898 [==============================] - 27s 30ms/step - loss: 1.6992 - acc: 0.4348 - val_loss: 1.6497 - val_acc: 0.4489\n",
      "Epoch 24/100\n",
      "898/898 [==============================] - 27s 30ms/step - loss: 1.6922 - acc: 0.4373 - val_loss: 1.5875 - val_acc: 0.4850\n",
      "Epoch 25/100\n",
      "898/898 [==============================] - 27s 30ms/step - loss: 1.6896 - acc: 0.4385 - val_loss: 1.6548 - val_acc: 0.4636\n",
      "Epoch 26/100\n",
      "898/898 [==============================] - 27s 30ms/step - loss: 1.6891 - acc: 0.4368 - val_loss: 1.6117 - val_acc: 0.4733\n",
      "Epoch 27/100\n",
      "898/898 [==============================] - 27s 30ms/step - loss: 1.6817 - acc: 0.4395 - val_loss: 1.5740 - val_acc: 0.4854\n",
      "Epoch 28/100\n",
      "898/898 [==============================] - 27s 30ms/step - loss: 1.6761 - acc: 0.4439 - val_loss: 1.6234 - val_acc: 0.4617\n",
      "Epoch 29/100\n",
      "898/898 [==============================] - 27s 30ms/step - loss: 1.6871 - acc: 0.4413 - val_loss: 1.7010 - val_acc: 0.4322\n",
      "Epoch 30/100\n",
      "898/898 [==============================] - 27s 30ms/step - loss: 1.6749 - acc: 0.4413 - val_loss: 1.6706 - val_acc: 0.4175\n",
      "Epoch 31/100\n",
      "898/898 [==============================] - 27s 30ms/step - loss: 1.6719 - acc: 0.4458 - val_loss: 1.5869 - val_acc: 0.4854\n",
      "Epoch 32/100\n",
      "898/898 [==============================] - 27s 30ms/step - loss: 1.6668 - acc: 0.4451 - val_loss: 1.5592 - val_acc: 0.5036\n",
      "Epoch 33/100\n",
      "898/898 [==============================] - 27s 30ms/step - loss: 1.6502 - acc: 0.4530 - val_loss: 1.5476 - val_acc: 0.4911\n",
      "Epoch 34/100\n",
      "898/898 [==============================] - 27s 30ms/step - loss: 1.6433 - acc: 0.4537 - val_loss: 1.6099 - val_acc: 0.4785\n",
      "Epoch 35/100\n",
      "898/898 [==============================] - 27s 30ms/step - loss: 1.6445 - acc: 0.4500 - val_loss: 1.5654 - val_acc: 0.4882\n",
      "Epoch 36/100\n",
      "898/898 [==============================] - 27s 30ms/step - loss: 1.6332 - acc: 0.4515 - val_loss: 1.5527 - val_acc: 0.4870\n",
      "Epoch 37/100\n",
      "898/898 [==============================] - 27s 30ms/step - loss: 1.6348 - acc: 0.4512 - val_loss: 1.6414 - val_acc: 0.4657\n",
      "Epoch 38/100\n",
      "898/898 [==============================] - 27s 30ms/step - loss: 1.6300 - acc: 0.4529 - val_loss: 1.5696 - val_acc: 0.4805\n",
      "Epoch 39/100\n",
      "898/898 [==============================] - 27s 30ms/step - loss: 1.6215 - acc: 0.4585 - val_loss: 1.5358 - val_acc: 0.4893\n",
      "Epoch 40/100\n",
      "898/898 [==============================] - 27s 30ms/step - loss: 1.6122 - acc: 0.4559 - val_loss: 1.5251 - val_acc: 0.4804\n",
      "Epoch 41/100\n",
      "898/898 [==============================] - 29s 32ms/step - loss: 1.6128 - acc: 0.4595 - val_loss: 1.5268 - val_acc: 0.5040\n",
      "Epoch 42/100\n",
      "898/898 [==============================] - 27s 30ms/step - loss: 1.6151 - acc: 0.4577 - val_loss: 1.4856 - val_acc: 0.5125\n",
      "Epoch 43/100\n",
      "898/898 [==============================] - 27s 30ms/step - loss: 1.6159 - acc: 0.4574 - val_loss: 1.5864 - val_acc: 0.4695\n",
      "Epoch 44/100\n",
      "898/898 [==============================] - 27s 30ms/step - loss: 1.6091 - acc: 0.4643 - val_loss: 1.5218 - val_acc: 0.5025\n",
      "Epoch 45/100\n",
      "898/898 [==============================] - 26s 29ms/step - loss: 1.6153 - acc: 0.4587 - val_loss: 1.4718 - val_acc: 0.5118\n",
      "Epoch 46/100\n",
      "898/898 [==============================] - 26s 29ms/step - loss: 1.6089 - acc: 0.4637 - val_loss: 1.5386 - val_acc: 0.4812\n",
      "Epoch 47/100\n",
      "898/898 [==============================] - 26s 29ms/step - loss: 1.6028 - acc: 0.4635 - val_loss: 1.4975 - val_acc: 0.5059\n",
      "Epoch 48/100\n",
      "898/898 [==============================] - 26s 29ms/step - loss: 1.6112 - acc: 0.4615 - val_loss: 1.4983 - val_acc: 0.5006\n",
      "Epoch 49/100\n",
      "898/898 [==============================] - 26s 29ms/step - loss: 1.6107 - acc: 0.4622 - val_loss: 1.6116 - val_acc: 0.4537\n",
      "Epoch 50/100\n",
      "898/898 [==============================] - 26s 29ms/step - loss: 1.5972 - acc: 0.4610 - val_loss: 1.4923 - val_acc: 0.5135\n",
      "Epoch 51/100\n",
      "898/898 [==============================] - 26s 29ms/step - loss: 1.6053 - acc: 0.4607 - val_loss: 1.5749 - val_acc: 0.4930\n",
      "Epoch 52/100\n",
      "898/898 [==============================] - 26s 29ms/step - loss: 1.6022 - acc: 0.4621 - val_loss: 1.5184 - val_acc: 0.5173\n",
      "Epoch 53/100\n",
      "898/898 [==============================] - 26s 29ms/step - loss: 1.5962 - acc: 0.4663 - val_loss: 1.6417 - val_acc: 0.4739\n",
      "Epoch 54/100\n",
      "898/898 [==============================] - 27s 30ms/step - loss: 1.5974 - acc: 0.4673 - val_loss: 1.5362 - val_acc: 0.4990\n",
      "Epoch 55/100\n",
      "898/898 [==============================] - 26s 29ms/step - loss: 1.5941 - acc: 0.4610 - val_loss: 1.4988 - val_acc: 0.5088\n",
      "Epoch 56/100\n",
      "898/898 [==============================] - 26s 29ms/step - loss: 1.5934 - acc: 0.4679 - val_loss: 1.5128 - val_acc: 0.4941\n",
      "Epoch 57/100\n",
      "898/898 [==============================] - 26s 29ms/step - loss: 1.6017 - acc: 0.4647 - val_loss: 1.4740 - val_acc: 0.5152\n",
      "Epoch 58/100\n",
      "898/898 [==============================] - 26s 29ms/step - loss: 1.5902 - acc: 0.4664 - val_loss: 1.5854 - val_acc: 0.4912\n",
      "Epoch 59/100\n",
      "898/898 [==============================] - 26s 29ms/step - loss: 1.5909 - acc: 0.4636 - val_loss: 1.7021 - val_acc: 0.4432\n",
      "Epoch 60/100\n",
      "898/898 [==============================] - 26s 29ms/step - loss: 1.5908 - acc: 0.4662 - val_loss: 1.4853 - val_acc: 0.4986\n",
      "Epoch 61/100\n",
      "898/898 [==============================] - 26s 29ms/step - loss: 1.5833 - acc: 0.4656 - val_loss: 1.5074 - val_acc: 0.5111\n",
      "Epoch 62/100\n",
      "898/898 [==============================] - 26s 29ms/step - loss: 1.5846 - acc: 0.4662 - val_loss: 1.4687 - val_acc: 0.5123\n"
     ]
    }
   ],
   "source": [
    "epochs = 100\n",
    "steps_per_epoch = 1000\n",
    "\n",
    "CNN_v2_history = CNN_v2_model.fit(train_dataflow, \n",
    "                                  epochs = epochs, \n",
    "                                  validation_data=(test_dataflow),\n",
    "                                  initial_epoch = 10,\n",
    "                                  #steps_per_epoch=steps_per_epoch,\n",
    "                                  callbacks=[early_callback, myCallback])"
   ]
  },
  {
   "cell_type": "code",
   "execution_count": 95,
   "id": "80545da6-65a6-4247-af03-7a5a36826187",
   "metadata": {},
   "outputs": [
    {
     "data": {
      "image/png": "[encoded data removed]",
      "text/plain": [
       "<Figure size 432x288 with 1 Axes>"
      ]
     },
     "metadata": {
      "needs_background": "light"
     },
     "output_type": "display_data"
    },
    {
     "data": {
      "image/png": "[encoded data removed]",
      "text/plain": [
       "<Figure size 432x288 with 1 Axes>"
      ]
     },
     "metadata": {
      "needs_background": "light"
     },
     "output_type": "display_data"
    }
   ],
   "source": [
    "plot_results(CNN_v2_history)"
   ]
  },
  {
   "cell_type": "code",
   "execution_count": 96,
   "id": "d17631b4-54b3-4d63-883d-dbbef1952ca4",
   "metadata": {},
   "outputs": [
    {
     "name": "stdout",
     "output_type": "stream",
     "text": [
      "              precision    recall  f1-score   support\n",
      "\n",
      "       angry       0.39      0.38      0.39       958\n",
      "     disgust       0.00      0.00      0.00       111\n",
      "        fear       0.33      0.05      0.09      1024\n",
      "       happy       0.73      0.75      0.74      1774\n",
      "     neutral       0.47      0.55      0.51      1233\n",
      "         sad       0.36      0.57      0.44      1247\n",
      "    surprise       0.65      0.70      0.67       831\n",
      "\n",
      "    accuracy                           0.52      7178\n",
      "   macro avg       0.42      0.43      0.41      7178\n",
      "weighted avg       0.50      0.52      0.49      7178\n",
      "\n"
     ]
    },
    {
     "name": "stderr",
     "output_type": "stream",
     "text": [
      "C:\\Users\\Randy\\Venv\\testpy39\\lib\\site-packages\\sklearn\\metrics\\_classification.py:1308: UndefinedMetricWarning: Precision and F-score are ill-defined and being set to 0.0 in labels with no predicted samples. Use `zero_division` parameter to control this behavior.\n",
      "  _warn_prf(average, modifier, msg_start, len(result))\n",
      "C:\\Users\\Randy\\Venv\\testpy39\\lib\\site-packages\\sklearn\\metrics\\_classification.py:1308: UndefinedMetricWarning: Precision and F-score are ill-defined and being set to 0.0 in labels with no predicted samples. Use `zero_division` parameter to control this behavior.\n",
      "  _warn_prf(average, modifier, msg_start, len(result))\n",
      "C:\\Users\\Randy\\Venv\\testpy39\\lib\\site-packages\\sklearn\\metrics\\_classification.py:1308: UndefinedMetricWarning: Precision and F-score are ill-defined and being set to 0.0 in labels with no predicted samples. Use `zero_division` parameter to control this behavior.\n",
      "  _warn_prf(average, modifier, msg_start, len(result))\n"
     ]
    }
   ],
   "source": [
    "display_classifcation_report(CNN_v2_model,test_dataflow)"
   ]
  },
  {
   "cell_type": "markdown",
   "id": "7065cdf2-65a3-4cb9-b2c2-af51f15a2175",
   "metadata": {},
   "source": [
    "CNN_v2_model.save('CNN_v2_100epochs.h5')"
   ]
  },
  {
   "cell_type": "markdown",
   "id": "579d2f35-12d4-4473-90ed-4951ae73d9fd",
   "metadata": {},
   "source": [
    "# CNN Version 3"
   ]
  },
  {
   "cell_type": "code",
   "execution_count": 97,
   "id": "7264a00e-b47e-46a4-83d3-d0ff101de130",
   "metadata": {},
   "outputs": [],
   "source": [
    "CNN_v3_model = tf.keras.models.Sequential([\n",
    "    tf.keras.layers.Conv2D(64, (3,3) , input_shape = (48,48,1), activation = 'relu'),\n",
    "    tf.keras.layers.Conv2D(128, (3,3) , activation = 'relu'),\n",
    "    tf.keras.layers.BatchNormalization(),\n",
    "    tf.keras.layers.MaxPooling2D(),\n",
    "    tf.keras.layers.Dropout(0.2),\n",
    "\n",
    "    tf.keras.layers.Conv2D(256, (3,3) , activation = 'relu', kernel_regularizer=tf.keras.regularizers.l2(0.01)),\n",
    "    tf.keras.layers.BatchNormalization(),\n",
    "    tf.keras.layers.MaxPooling2D(),\n",
    "    tf.keras.layers.Dropout(0.2),\n",
    "\n",
    "    tf.keras.layers.Conv2D(512, (3,3) , activation = 'relu', kernel_regularizer=tf.keras.regularizers.l2(0.01)),\n",
    "    tf.keras.layers.BatchNormalization(),\n",
    "    tf.keras.layers.MaxPooling2D(),\n",
    "    tf.keras.layers.Dropout(0.2),\n",
    "\n",
    "    \n",
    "    tf.keras.layers.Flatten(),\n",
    "    tf.keras.layers.Dense(512, activation='relu'),\n",
    "    tf.keras.layers.BatchNormalization(),\n",
    "    tf.keras.layers.Dropout(0.2),\n",
    "    \n",
    "    tf.keras.layers.Dense(7, activation='softmax')\n",
    "])"
   ]
  },
  {
   "cell_type": "code",
   "execution_count": 98,
   "id": "a880c298-6dff-47ae-8477-b2a80434fe9c",
   "metadata": {},
   "outputs": [],
   "source": [
    "lr_schedule = tf.keras.callbacks.LearningRateScheduler(lambda epoch: 1e-8 *10 **(epoch/20))"
   ]
  },
  {
   "cell_type": "code",
   "execution_count": 99,
   "id": "bbc8a072-709b-4add-aac2-c82f5b3feeb5",
   "metadata": {},
   "outputs": [],
   "source": [
    "CNN_v3_model.compile(loss = 'categorical_crossentropy' , \n",
    "              metrics = ['acc'],\n",
    "             optimizer = tf.keras.optimizers.Adam(learning_rate=1e-8))"
   ]
  },
  {
   "cell_type": "code",
   "execution_count": 100,
   "id": "3a5d4613-0643-452a-9fc9-4f1eca67b3c7",
   "metadata": {},
   "outputs": [
    {
     "name": "stdout",
     "output_type": "stream",
     "text": [
      "Model: \"sequential_4\"\n",
      "_________________________________________________________________\n",
      " Layer (type)                Output Shape              Param #   \n",
      "=================================================================\n",
      " conv2d_110 (Conv2D)         (None, 46, 46, 64)        640       \n",
      "                                                                 \n",
      " conv2d_111 (Conv2D)         (None, 44, 44, 128)       73856     \n",
      "                                                                 \n",
      " batch_normalization_104 (Ba  (None, 44, 44, 128)      512       \n",
      " tchNormalization)                                               \n",
      "                                                                 \n",
      " max_pooling2d_13 (MaxPoolin  (None, 22, 22, 128)      0         \n",
      " g2D)                                                            \n",
      "                                                                 \n",
      " dropout_13 (Dropout)        (None, 22, 22, 128)       0         \n",
      "                                                                 \n",
      " conv2d_112 (Conv2D)         (None, 20, 20, 256)       295168    \n",
      "                                                                 \n",
      " batch_normalization_105 (Ba  (None, 20, 20, 256)      1024      \n",
      " tchNormalization)                                               \n",
      "                                                                 \n",
      " max_pooling2d_14 (MaxPoolin  (None, 10, 10, 256)      0         \n",
      " g2D)                                                            \n",
      "                                                                 \n",
      " dropout_14 (Dropout)        (None, 10, 10, 256)       0         \n",
      "                                                                 \n",
      " conv2d_113 (Conv2D)         (None, 8, 8, 512)         1180160   \n",
      "                                                                 \n",
      " batch_normalization_106 (Ba  (None, 8, 8, 512)        2048      \n",
      " tchNormalization)                                               \n",
      "                                                                 \n",
      " max_pooling2d_15 (MaxPoolin  (None, 4, 4, 512)        0         \n",
      " g2D)                                                            \n",
      "                                                                 \n",
      " dropout_15 (Dropout)        (None, 4, 4, 512)         0         \n",
      "                                                                 \n",
      " flatten_4 (Flatten)         (None, 8192)              0         \n",
      "                                                                 \n",
      " dense_14 (Dense)            (None, 512)               4194816   \n",
      "                                                                 \n",
      " batch_normalization_107 (Ba  (None, 512)              2048      \n",
      " tchNormalization)                                               \n",
      "                                                                 \n",
      " dropout_16 (Dropout)        (None, 512)               0         \n",
      "                                                                 \n",
      " dense_15 (Dense)            (None, 7)                 3591      \n",
      "                                                                 \n",
      "=================================================================\n",
      "Total params: 5,753,863\n",
      "Trainable params: 5,751,047\n",
      "Non-trainable params: 2,816\n",
      "_________________________________________________________________\n"
     ]
    }
   ],
   "source": [
    "CNN_v3_model.summary()"
   ]
  },
  {
   "cell_type": "markdown",
   "id": "25bc9dcc-a319-4287-906a-826949e36354",
   "metadata": {},
   "source": [
    "Searching for optimal Learning rate"
   ]
  },
  {
   "cell_type": "code",
   "execution_count": 101,
   "id": "2536c96d-7daf-4d8c-87fd-bfb6cc05f693",
   "metadata": {
    "tags": []
   },
   "outputs": [
    {
     "name": "stdout",
     "output_type": "stream",
     "text": [
      "Epoch 1/100\n",
      "898/898 [==============================] - 26s 28ms/step - loss: 7.9980 - acc: 0.1338 - val_loss: 7.8560 - val_acc: 0.0641 - lr: 1.0000e-08\n",
      "Epoch 2/100\n",
      "898/898 [==============================] - 25s 28ms/step - loss: 7.9894 - acc: 0.1324 - val_loss: 7.8476 - val_acc: 0.0660 - lr: 1.1220e-08\n",
      "Epoch 3/100\n",
      "898/898 [==============================] - 29s 32ms/step - loss: 7.9554 - acc: 0.1366 - val_loss: 7.8269 - val_acc: 0.0673 - lr: 1.2589e-08\n",
      "Epoch 4/100\n",
      "898/898 [==============================] - 25s 28ms/step - loss: 7.9460 - acc: 0.1359 - val_loss: 7.8032 - val_acc: 0.0692 - lr: 1.4125e-08\n",
      "Epoch 5/100\n",
      "898/898 [==============================] - 25s 28ms/step - loss: 7.9297 - acc: 0.1335 - val_loss: 7.7850 - val_acc: 0.0723 - lr: 1.5849e-08\n",
      "Epoch 6/100\n",
      "898/898 [==============================] - 25s 27ms/step - loss: 7.9047 - acc: 0.1376 - val_loss: 7.7539 - val_acc: 0.0755 - lr: 1.7783e-08\n",
      "Epoch 7/100\n",
      "898/898 [==============================] - 25s 28ms/step - loss: 7.8932 - acc: 0.1396 - val_loss: 7.7299 - val_acc: 0.0776 - lr: 1.9953e-08\n",
      "Epoch 8/100\n",
      "898/898 [==============================] - 25s 27ms/step - loss: 7.8755 - acc: 0.1389 - val_loss: 7.7022 - val_acc: 0.0793 - lr: 2.2387e-08\n",
      "Epoch 9/100\n",
      "898/898 [==============================] - 25s 28ms/step - loss: 7.8613 - acc: 0.1409 - val_loss: 7.6821 - val_acc: 0.0823 - lr: 2.5119e-08\n",
      "Epoch 10/100\n",
      "898/898 [==============================] - 25s 28ms/step - loss: 7.8604 - acc: 0.1416 - val_loss: 7.6586 - val_acc: 0.0850 - lr: 2.8184e-08\n",
      "Epoch 11/100\n",
      "898/898 [==============================] - 25s 28ms/step - loss: 7.8179 - acc: 0.1492 - val_loss: 7.6279 - val_acc: 0.0893 - lr: 3.1623e-08\n",
      "Epoch 12/100\n",
      "898/898 [==============================] - 25s 27ms/step - loss: 7.8255 - acc: 0.1464 - val_loss: 7.6186 - val_acc: 0.0910 - lr: 3.5481e-08\n",
      "Epoch 13/100\n",
      "898/898 [==============================] - 25s 28ms/step - loss: 7.8064 - acc: 0.1465 - val_loss: 7.5956 - val_acc: 0.0947 - lr: 3.9811e-08\n",
      "Epoch 14/100\n",
      "898/898 [==============================] - 25s 28ms/step - loss: 7.7926 - acc: 0.1495 - val_loss: 7.5570 - val_acc: 0.1039 - lr: 4.4668e-08\n",
      "Epoch 15/100\n",
      "898/898 [==============================] - 25s 28ms/step - loss: 7.8012 - acc: 0.1484 - val_loss: 7.5440 - val_acc: 0.1066 - lr: 5.0119e-08\n",
      "Epoch 16/100\n",
      "898/898 [==============================] - 25s 28ms/step - loss: 7.7872 - acc: 0.1464 - val_loss: 7.5103 - val_acc: 0.1144 - lr: 5.6234e-08\n",
      "Epoch 17/100\n",
      "898/898 [==============================] - 25s 28ms/step - loss: 7.7745 - acc: 0.1505 - val_loss: 7.5032 - val_acc: 0.1152 - lr: 6.3096e-08\n",
      "Epoch 18/100\n",
      "898/898 [==============================] - 25s 27ms/step - loss: 7.7824 - acc: 0.1506 - val_loss: 7.4769 - val_acc: 0.1205 - lr: 7.0795e-08\n",
      "Epoch 19/100\n",
      "898/898 [==============================] - 25s 28ms/step - loss: 7.7664 - acc: 0.1512 - val_loss: 7.4533 - val_acc: 0.1257 - lr: 7.9433e-08\n",
      "Epoch 20/100\n",
      "898/898 [==============================] - 25s 28ms/step - loss: 7.7477 - acc: 0.1521 - val_loss: 7.4382 - val_acc: 0.1291 - lr: 8.9125e-08\n",
      "Epoch 21/100\n",
      "898/898 [==============================] - 25s 28ms/step - loss: 7.7306 - acc: 0.1575 - val_loss: 7.4093 - val_acc: 0.1368 - lr: 1.0000e-07\n",
      "Epoch 22/100\n",
      "898/898 [==============================] - 25s 28ms/step - loss: 7.7262 - acc: 0.1548 - val_loss: 7.3984 - val_acc: 0.1372 - lr: 1.1220e-07\n",
      "Epoch 23/100\n",
      "898/898 [==============================] - 25s 28ms/step - loss: 7.7277 - acc: 0.1535 - val_loss: 7.3694 - val_acc: 0.1447 - lr: 1.2589e-07\n",
      "Epoch 24/100\n",
      "898/898 [==============================] - 25s 27ms/step - loss: 7.7032 - acc: 0.1582 - val_loss: 7.3573 - val_acc: 0.1491 - lr: 1.4125e-07\n",
      "Epoch 25/100\n",
      "898/898 [==============================] - 25s 28ms/step - loss: 7.7024 - acc: 0.1562 - val_loss: 7.3403 - val_acc: 0.1491 - lr: 1.5849e-07\n",
      "Epoch 26/100\n",
      "898/898 [==============================] - 25s 28ms/step - loss: 7.6940 - acc: 0.1531 - val_loss: 7.3163 - val_acc: 0.1555 - lr: 1.7783e-07\n",
      "Epoch 27/100\n",
      "898/898 [==============================] - 25s 27ms/step - loss: 7.6804 - acc: 0.1558 - val_loss: 7.3189 - val_acc: 0.1544 - lr: 1.9953e-07\n",
      "Epoch 28/100\n",
      "898/898 [==============================] - 25s 28ms/step - loss: 7.6794 - acc: 0.1551 - val_loss: 7.2948 - val_acc: 0.1585 - lr: 2.2387e-07\n",
      "Epoch 29/100\n",
      "898/898 [==============================] - 25s 28ms/step - loss: 7.6558 - acc: 0.1635 - val_loss: 7.2743 - val_acc: 0.1654 - lr: 2.5119e-07\n",
      "Epoch 30/100\n",
      "898/898 [==============================] - 26s 28ms/step - loss: 7.6309 - acc: 0.1614 - val_loss: 7.2611 - val_acc: 0.1663 - lr: 2.8184e-07\n",
      "Epoch 31/100\n",
      "898/898 [==============================] - 25s 28ms/step - loss: 7.6277 - acc: 0.1591 - val_loss: 7.2385 - val_acc: 0.1719 - lr: 3.1623e-07\n",
      "Epoch 32/100\n",
      "898/898 [==============================] - 25s 28ms/step - loss: 7.6039 - acc: 0.1669 - val_loss: 7.2221 - val_acc: 0.1757 - lr: 3.5481e-07\n",
      "Epoch 33/100\n",
      "898/898 [==============================] - 25s 28ms/step - loss: 7.5830 - acc: 0.1654 - val_loss: 7.2056 - val_acc: 0.1800 - lr: 3.9811e-07\n",
      "Epoch 34/100\n",
      "898/898 [==============================] - 25s 28ms/step - loss: 7.5558 - acc: 0.1686 - val_loss: 7.1857 - val_acc: 0.1831 - lr: 4.4668e-07\n",
      "Epoch 35/100\n",
      "898/898 [==============================] - 25s 28ms/step - loss: 7.5297 - acc: 0.1711 - val_loss: 7.1675 - val_acc: 0.1833 - lr: 5.0119e-07\n",
      "Epoch 36/100\n",
      "898/898 [==============================] - 25s 27ms/step - loss: 7.5197 - acc: 0.1695 - val_loss: 7.1348 - val_acc: 0.1897 - lr: 5.6234e-07\n",
      "Epoch 37/100\n",
      "898/898 [==============================] - 25s 28ms/step - loss: 7.4949 - acc: 0.1671 - val_loss: 7.1105 - val_acc: 0.1963 - lr: 6.3096e-07\n",
      "Epoch 38/100\n",
      "898/898 [==============================] - 25s 28ms/step - loss: 7.4572 - acc: 0.1744 - val_loss: 7.0816 - val_acc: 0.2026 - lr: 7.0795e-07\n",
      "Epoch 39/100\n",
      "898/898 [==============================] - 25s 27ms/step - loss: 7.4306 - acc: 0.1750 - val_loss: 7.0702 - val_acc: 0.2020 - lr: 7.9433e-07\n",
      "Epoch 40/100\n",
      "898/898 [==============================] - 25s 28ms/step - loss: 7.3864 - acc: 0.1759 - val_loss: 7.0261 - val_acc: 0.2076 - lr: 8.9125e-07\n",
      "Epoch 41/100\n",
      "898/898 [==============================] - 25s 28ms/step - loss: 7.3686 - acc: 0.1703 - val_loss: 6.9907 - val_acc: 0.2186 - lr: 1.0000e-06\n",
      "Epoch 42/100\n",
      "898/898 [==============================] - 25s 28ms/step - loss: 7.3154 - acc: 0.1790 - val_loss: 6.9462 - val_acc: 0.2211 - lr: 1.1220e-06\n",
      "Epoch 43/100\n",
      "898/898 [==============================] - 25s 28ms/step - loss: 7.2778 - acc: 0.1782 - val_loss: 6.9151 - val_acc: 0.2295 - lr: 1.2589e-06\n",
      "Epoch 44/100\n",
      "898/898 [==============================] - 25s 28ms/step - loss: 7.2179 - acc: 0.1819 - val_loss: 6.8745 - val_acc: 0.2258 - lr: 1.4125e-06\n",
      "Epoch 45/100\n",
      "898/898 [==============================] - 25s 27ms/step - loss: 7.1673 - acc: 0.1831 - val_loss: 6.8299 - val_acc: 0.2350 - lr: 1.5849e-06\n",
      "Epoch 46/100\n",
      "898/898 [==============================] - 25s 28ms/step - loss: 7.0949 - acc: 0.1886 - val_loss: 6.7712 - val_acc: 0.2467 - lr: 1.7783e-06\n",
      "Epoch 47/100\n",
      "898/898 [==============================] - 25s 28ms/step - loss: 7.0356 - acc: 0.1864 - val_loss: 6.7187 - val_acc: 0.2517 - lr: 1.9953e-06\n",
      "Epoch 48/100\n",
      "898/898 [==============================] - 25s 28ms/step - loss: 6.9555 - acc: 0.1952 - val_loss: 6.6631 - val_acc: 0.2587 - lr: 2.2387e-06\n",
      "Epoch 49/100\n",
      "898/898 [==============================] - 25s 28ms/step - loss: 6.8975 - acc: 0.1934 - val_loss: 6.6009 - val_acc: 0.2627 - lr: 2.5119e-06\n",
      "Epoch 50/100\n",
      "898/898 [==============================] - 25s 28ms/step - loss: 6.8067 - acc: 0.1989 - val_loss: 6.5399 - val_acc: 0.2665 - lr: 2.8184e-06\n",
      "Epoch 51/100\n",
      "898/898 [==============================] - 25s 28ms/step - loss: 6.7140 - acc: 0.2043 - val_loss: 6.4688 - val_acc: 0.2845 - lr: 3.1623e-06\n",
      "Epoch 52/100\n",
      "898/898 [==============================] - 25s 28ms/step - loss: 6.6243 - acc: 0.2044 - val_loss: 6.3606 - val_acc: 0.2802 - lr: 3.5481e-06\n",
      "Epoch 53/100\n",
      "898/898 [==============================] - 25s 28ms/step - loss: 6.5203 - acc: 0.2127 - val_loss: 6.2485 - val_acc: 0.2885 - lr: 3.9811e-06\n",
      "Epoch 54/100\n",
      "898/898 [==============================] - 25s 28ms/step - loss: 6.3883 - acc: 0.2202 - val_loss: 6.1204 - val_acc: 0.2863 - lr: 4.4668e-06\n",
      "Epoch 55/100\n",
      "898/898 [==============================] - 25s 28ms/step - loss: 6.2685 - acc: 0.2181 - val_loss: 5.9862 - val_acc: 0.2862 - lr: 5.0119e-06\n",
      "Epoch 56/100\n",
      "898/898 [==============================] - 25s 27ms/step - loss: 6.1283 - acc: 0.2249 - val_loss: 5.8701 - val_acc: 0.2902 - lr: 5.6234e-06\n",
      "Epoch 57/100\n",
      "898/898 [==============================] - 25s 28ms/step - loss: 5.9658 - acc: 0.2293 - val_loss: 5.7007 - val_acc: 0.2983 - lr: 6.3096e-06\n",
      "Epoch 58/100\n",
      "898/898 [==============================] - 25s 28ms/step - loss: 5.7994 - acc: 0.2348 - val_loss: 5.5246 - val_acc: 0.2997 - lr: 7.0795e-06\n",
      "Epoch 59/100\n",
      "898/898 [==============================] - 25s 28ms/step - loss: 5.6145 - acc: 0.2357 - val_loss: 5.3236 - val_acc: 0.3069 - lr: 7.9433e-06\n",
      "Epoch 60/100\n",
      "898/898 [==============================] - 25s 28ms/step - loss: 5.4047 - acc: 0.2480 - val_loss: 5.0995 - val_acc: 0.3144 - lr: 8.9125e-06\n",
      "Epoch 61/100\n",
      "898/898 [==============================] - 25s 28ms/step - loss: 5.1837 - acc: 0.2567 - val_loss: 4.9310 - val_acc: 0.2998 - lr: 1.0000e-05\n",
      "Epoch 62/100\n",
      "898/898 [==============================] - 25s 28ms/step - loss: 4.9567 - acc: 0.2639 - val_loss: 4.6938 - val_acc: 0.3359 - lr: 1.1220e-05\n",
      "Epoch 63/100\n",
      "898/898 [==============================] - 25s 28ms/step - loss: 4.7326 - acc: 0.2703 - val_loss: 4.4383 - val_acc: 0.3362 - lr: 1.2589e-05\n",
      "Epoch 64/100\n",
      "898/898 [==============================] - 25s 28ms/step - loss: 4.4936 - acc: 0.2772 - val_loss: 4.2492 - val_acc: 0.3286 - lr: 1.4125e-05\n",
      "Epoch 65/100\n",
      "898/898 [==============================] - 25s 28ms/step - loss: 4.2564 - acc: 0.2887 - val_loss: 3.9552 - val_acc: 0.3520 - lr: 1.5849e-05\n",
      "Epoch 66/100\n",
      "898/898 [==============================] - 25s 28ms/step - loss: 4.0237 - acc: 0.2961 - val_loss: 3.7787 - val_acc: 0.3434 - lr: 1.7783e-05\n",
      "Epoch 67/100\n",
      "898/898 [==============================] - 25s 28ms/step - loss: 3.7859 - acc: 0.3056 - val_loss: 3.6140 - val_acc: 0.3344 - lr: 1.9953e-05\n",
      "Epoch 68/100\n",
      "898/898 [==============================] - 25s 28ms/step - loss: 3.5528 - acc: 0.3137 - val_loss: 3.5693 - val_acc: 0.2824 - lr: 2.2387e-05\n",
      "Epoch 69/100\n",
      "898/898 [==============================] - 25s 27ms/step - loss: 3.3197 - acc: 0.3277 - val_loss: 3.1538 - val_acc: 0.3686 - lr: 2.5119e-05\n",
      "Epoch 70/100\n",
      "898/898 [==============================] - 25s 28ms/step - loss: 3.0977 - acc: 0.3396 - val_loss: 2.8009 - val_acc: 0.4207 - lr: 2.8184e-05\n",
      "Epoch 71/100\n",
      "898/898 [==============================] - 25s 28ms/step - loss: 2.8991 - acc: 0.3497 - val_loss: 2.8276 - val_acc: 0.3849 - lr: 3.1623e-05\n",
      "Epoch 72/100\n",
      "898/898 [==============================] - 25s 28ms/step - loss: 2.6966 - acc: 0.3676 - val_loss: 2.4386 - val_acc: 0.4306 - lr: 3.5481e-05\n",
      "Epoch 73/100\n",
      "898/898 [==============================] - 25s 28ms/step - loss: 2.5253 - acc: 0.3757 - val_loss: 2.4634 - val_acc: 0.3738 - lr: 3.9811e-05\n",
      "Epoch 74/100\n",
      "898/898 [==============================] - 25s 28ms/step - loss: 2.3520 - acc: 0.3953 - val_loss: 2.0973 - val_acc: 0.4709 - lr: 4.4668e-05\n",
      "Epoch 75/100\n",
      "898/898 [==============================] - 25s 28ms/step - loss: 2.2099 - acc: 0.4052 - val_loss: 2.1211 - val_acc: 0.4599 - lr: 5.0119e-05\n",
      "Epoch 76/100\n",
      "898/898 [==============================] - 25s 28ms/step - loss: 2.0883 - acc: 0.4115 - val_loss: 2.0615 - val_acc: 0.4401 - lr: 5.6234e-05\n",
      "Epoch 77/100\n",
      "898/898 [==============================] - 25s 28ms/step - loss: 1.9737 - acc: 0.4262 - val_loss: 1.8155 - val_acc: 0.4621 - lr: 6.3096e-05\n",
      "Epoch 78/100\n",
      "898/898 [==============================] - 25s 28ms/step - loss: 1.8866 - acc: 0.4307 - val_loss: 1.6594 - val_acc: 0.5028 - lr: 7.0795e-05\n",
      "Epoch 79/100\n",
      "898/898 [==============================] - 25s 28ms/step - loss: 1.8119 - acc: 0.4430 - val_loss: 1.6880 - val_acc: 0.4777 - lr: 7.9433e-05\n",
      "Epoch 80/100\n",
      "898/898 [==============================] - 26s 29ms/step - loss: 1.7531 - acc: 0.4534 - val_loss: 1.6115 - val_acc: 0.4904 - lr: 8.9125e-05\n",
      "Epoch 81/100\n",
      "898/898 [==============================] - 25s 28ms/step - loss: 1.7197 - acc: 0.4552 - val_loss: 1.6334 - val_acc: 0.5007 - lr: 1.0000e-04\n",
      "Epoch 82/100\n",
      "898/898 [==============================] - 26s 29ms/step - loss: 1.6876 - acc: 0.4603 - val_loss: 1.5096 - val_acc: 0.5270 - lr: 1.1220e-04\n",
      "Epoch 83/100\n",
      "898/898 [==============================] - 25s 28ms/step - loss: 1.6662 - acc: 0.4661 - val_loss: 1.7538 - val_acc: 0.4537 - lr: 1.2589e-04\n",
      "Epoch 84/100\n",
      "898/898 [==============================] - 25s 28ms/step - loss: 1.6647 - acc: 0.4689 - val_loss: 1.6077 - val_acc: 0.4882 - lr: 1.4125e-04\n",
      "Epoch 85/100\n",
      "898/898 [==============================] - 25s 28ms/step - loss: 1.6686 - acc: 0.4748 - val_loss: 1.6825 - val_acc: 0.4535 - lr: 1.5849e-04\n",
      "Epoch 86/100\n",
      "898/898 [==============================] - 25s 28ms/step - loss: 1.6774 - acc: 0.4732 - val_loss: 1.5988 - val_acc: 0.5049 - lr: 1.7783e-04\n",
      "Epoch 87/100\n",
      "898/898 [==============================] - 25s 28ms/step - loss: 1.6917 - acc: 0.4763 - val_loss: 1.8201 - val_acc: 0.4430 - lr: 1.9953e-04\n",
      "Epoch 88/100\n",
      "898/898 [==============================] - 25s 28ms/step - loss: 1.6989 - acc: 0.4734 - val_loss: 1.6625 - val_acc: 0.4922 - lr: 2.2387e-04\n",
      "Epoch 89/100\n",
      "898/898 [==============================] - 25s 28ms/step - loss: 1.7309 - acc: 0.4751 - val_loss: 1.7514 - val_acc: 0.4550 - lr: 2.5119e-04\n",
      "Epoch 90/100\n",
      "898/898 [==============================] - 25s 28ms/step - loss: 1.7506 - acc: 0.4703 - val_loss: 1.7580 - val_acc: 0.4950 - lr: 2.8184e-04\n",
      "Epoch 91/100\n",
      "898/898 [==============================] - 26s 29ms/step - loss: 1.7820 - acc: 0.4721 - val_loss: 1.8273 - val_acc: 0.4664 - lr: 3.1623e-04\n",
      "Epoch 92/100\n",
      "898/898 [==============================] - 25s 28ms/step - loss: 1.8290 - acc: 0.4684 - val_loss: 1.7881 - val_acc: 0.4691 - lr: 3.5481e-04\n"
     ]
    }
   ],
   "source": [
    "epochs = 100\n",
    "steps_per_epoch = 1000\n",
    "\n",
    "CNN_v3_history = CNN_v3_model.fit(train_dataflow, \n",
    "                                  epochs = epochs, \n",
    "                                  validation_data=(test_dataflow),\n",
    "                                  #steps_per_epoch=steps_per_epoch,\n",
    "                                  callbacks=[early_callback, myCallback, lr_schedule])"
   ]
  },
  {
   "cell_type": "code",
   "execution_count": 102,
   "id": "4805b548-fb02-4fb1-9f8d-ef783d28f707",
   "metadata": {},
   "outputs": [
    {
     "data": {
      "image/png": "[encoded data removed]",
      "text/plain": [
       "<Figure size 720x720 with 1 Axes>"
      ]
     },
     "metadata": {
      "needs_background": "light"
     },
     "output_type": "display_data"
    }
   ],
   "source": [
    "plt.figure(figsize = (10,10))\n",
    "plt.semilogx(CNN_v3_history.history['lr'],CNN_v3_history.history['loss'])\n",
    "plt.show()"
   ]
  },
  {
   "cell_type": "markdown",
   "id": "9dfa3459-2ca1-420c-8b9f-1eb0cc6ae8a2",
   "metadata": {},
   "source": [
    "Seems like the best learning rate to use is around 0.0001 to 0.0002 so lets pick 0.00015"
   ]
  },
  {
   "cell_type": "code",
   "execution_count": 103,
   "id": "60f5bc6d-fad8-41c9-82f4-30be7b9db1d6",
   "metadata": {},
   "outputs": [
    {
     "data": {
      "image/png": "[encoded data removed]",
      "text/plain": [
       "<Figure size 432x288 with 1 Axes>"
      ]
     },
     "metadata": {
      "needs_background": "light"
     },
     "output_type": "display_data"
    },
    {
     "data": {
      "image/png": "[encoded data removed]",
      "text/plain": [
       "<Figure size 432x288 with 1 Axes>"
      ]
     },
     "metadata": {
      "needs_background": "light"
     },
     "output_type": "display_data"
    }
   ],
   "source": [
    "plot_results(CNN_v3_model.history)"
   ]
  },
  {
   "cell_type": "code",
   "execution_count": 104,
   "id": "c9300586-2eb2-471e-b5c8-9ec6b7052173",
   "metadata": {},
   "outputs": [],
   "source": [
    "CNN_v3a_model = tf.keras.models.Sequential([\n",
    "    tf.keras.layers.Conv2D(64, (3,3) , input_shape = (48,48,1), activation = 'relu'),\n",
    "    tf.keras.layers.Conv2D(128, (3,3) , activation = 'relu'),\n",
    "    tf.keras.layers.BatchNormalization(),\n",
    "    tf.keras.layers.MaxPooling2D(),\n",
    "    tf.keras.layers.Dropout(0.2),\n",
    "\n",
    "    tf.keras.layers.Conv2D(256, (3,3) , activation = 'relu', kernel_regularizer=tf.keras.regularizers.l2(0.01)),\n",
    "    tf.keras.layers.BatchNormalization(),\n",
    "    tf.keras.layers.MaxPooling2D(),\n",
    "    tf.keras.layers.Dropout(0.2),\n",
    "\n",
    "    tf.keras.layers.Conv2D(512, (3,3) , activation = 'relu', kernel_regularizer=tf.keras.regularizers.l2(0.01)),\n",
    "    tf.keras.layers.BatchNormalization(),\n",
    "    tf.keras.layers.MaxPooling2D(),\n",
    "    tf.keras.layers.Dropout(0.2),\n",
    "\n",
    "    \n",
    "    tf.keras.layers.Flatten(),\n",
    "    tf.keras.layers.Dense(512, activation='relu'),\n",
    "    tf.keras.layers.BatchNormalization(),\n",
    "    tf.keras.layers.Dropout(0.2),\n",
    "    \n",
    "    tf.keras.layers.Dense(7, activation='softmax')\n",
    "])"
   ]
  },
  {
   "cell_type": "markdown",
   "id": "5eddce65-6d21-4a93-9bae-85bab95cf46e",
   "metadata": {},
   "source": [
    "CNN_v3a_model.load_weights('CNN_v3a_100epochs.h5')"
   ]
  },
  {
   "cell_type": "code",
   "execution_count": 105,
   "id": "6d22563a-6276-4c50-992a-ea4b370f8474",
   "metadata": {},
   "outputs": [],
   "source": [
    "CNN_v3a_model.compile(loss = 'categorical_crossentropy' , \n",
    "              metrics = ['acc'],\n",
    "             optimizer = tf.keras.optimizers.Adam(learning_rate=15e-5))"
   ]
  },
  {
   "cell_type": "code",
   "execution_count": 106,
   "id": "5dbb43d0-41d9-42c3-8036-96973ca743d9",
   "metadata": {
    "tags": []
   },
   "outputs": [
    {
     "name": "stdout",
     "output_type": "stream",
     "text": [
      "Epoch 1/100\n",
      "898/898 [==============================] - 26s 28ms/step - loss: 5.9041 - acc: 0.2053 - val_loss: 4.3990 - val_acc: 0.2572 - lr: 1.5000e-04\n",
      "Epoch 2/100\n",
      "898/898 [==============================] - 25s 27ms/step - loss: 3.6317 - acc: 0.2348 - val_loss: 2.7769 - val_acc: 0.2733 - lr: 1.5000e-04\n",
      "Epoch 3/100\n",
      "898/898 [==============================] - 24s 27ms/step - loss: 2.4832 - acc: 0.2706 - val_loss: 2.9351 - val_acc: 0.1558 - lr: 1.5000e-04\n",
      "Epoch 4/100\n",
      "898/898 [==============================] - 25s 28ms/step - loss: 2.0571 - acc: 0.3069 - val_loss: 1.8209 - val_acc: 0.3770 - lr: 1.5000e-04\n",
      "Epoch 5/100\n",
      "898/898 [==============================] - 25s 27ms/step - loss: 1.8988 - acc: 0.3475 - val_loss: 1.8903 - val_acc: 0.3544 - lr: 1.5000e-04\n",
      "Epoch 6/100\n",
      "898/898 [==============================] - 25s 27ms/step - loss: 1.8090 - acc: 0.3846 - val_loss: 1.8834 - val_acc: 0.4016 - lr: 1.5000e-04\n",
      "Epoch 7/100\n",
      "898/898 [==============================] - 25s 28ms/step - loss: 1.7677 - acc: 0.4054 - val_loss: 1.6091 - val_acc: 0.4525 - lr: 1.5000e-04\n",
      "Epoch 8/100\n",
      "898/898 [==============================] - 25s 28ms/step - loss: 1.7210 - acc: 0.4284 - val_loss: 1.6964 - val_acc: 0.4543 - lr: 1.5000e-04\n",
      "Epoch 9/100\n",
      "898/898 [==============================] - 25s 27ms/step - loss: 1.7009 - acc: 0.4424 - val_loss: 1.6040 - val_acc: 0.4844 - lr: 1.5000e-04\n",
      "Epoch 10/100\n",
      "898/898 [==============================] - 25s 28ms/step - loss: 1.6736 - acc: 0.4557 - val_loss: 1.6005 - val_acc: 0.4804 - lr: 1.5000e-04\n",
      "Epoch 11/100\n",
      "898/898 [==============================] - 25s 28ms/step - loss: 1.6481 - acc: 0.4647 - val_loss: 1.5265 - val_acc: 0.5242 - lr: 1.5000e-04\n",
      "Epoch 12/100\n",
      "898/898 [==============================] - 24s 27ms/step - loss: 1.6252 - acc: 0.4736 - val_loss: 1.6092 - val_acc: 0.4964 - lr: 1.5000e-04\n",
      "Epoch 13/100\n",
      "898/898 [==============================] - 25s 27ms/step - loss: 1.6135 - acc: 0.4809 - val_loss: 1.4778 - val_acc: 0.5313 - lr: 1.5000e-04\n",
      "Epoch 14/100\n",
      "898/898 [==============================] - 25s 28ms/step - loss: 1.6053 - acc: 0.4846 - val_loss: 1.5221 - val_acc: 0.5192 - lr: 1.5000e-04\n",
      "Epoch 15/100\n",
      "898/898 [==============================] - 25s 28ms/step - loss: 1.5890 - acc: 0.4945 - val_loss: 1.4997 - val_acc: 0.5284 - lr: 1.5000e-04\n",
      "Epoch 16/100\n",
      "898/898 [==============================] - 25s 28ms/step - loss: 1.5737 - acc: 0.5017 - val_loss: 1.5371 - val_acc: 0.5109 - lr: 1.5000e-04\n",
      "Epoch 17/100\n",
      "898/898 [==============================] - 25s 28ms/step - loss: 1.5699 - acc: 0.5011 - val_loss: 1.4984 - val_acc: 0.5241 - lr: 1.5000e-04\n",
      "Epoch 18/100\n",
      "898/898 [==============================] - 25s 28ms/step - loss: 1.5725 - acc: 0.5070 - val_loss: 1.5211 - val_acc: 0.5287 - lr: 1.5000e-04\n",
      "Epoch 19/100\n",
      "898/898 [==============================] - 25s 28ms/step - loss: 1.5156 - acc: 0.5278 - val_loss: 1.4072 - val_acc: 0.5666 - lr: 1.5000e-05\n",
      "Epoch 20/100\n",
      "898/898 [==============================] - 25s 28ms/step - loss: 1.4682 - acc: 0.5332 - val_loss: 1.3814 - val_acc: 0.5691 - lr: 1.5000e-05\n",
      "Epoch 21/100\n",
      "898/898 [==============================] - 25s 28ms/step - loss: 1.4420 - acc: 0.5391 - val_loss: 1.3617 - val_acc: 0.5720 - lr: 1.5000e-05\n",
      "Epoch 22/100\n",
      "898/898 [==============================] - 25s 28ms/step - loss: 1.4138 - acc: 0.5479 - val_loss: 1.3329 - val_acc: 0.5773 - lr: 1.5000e-05\n",
      "Epoch 23/100\n",
      "898/898 [==============================] - 25s 28ms/step - loss: 1.4001 - acc: 0.5476 - val_loss: 1.3392 - val_acc: 0.5715 - lr: 1.5000e-05\n",
      "Epoch 24/100\n",
      "898/898 [==============================] - 25s 28ms/step - loss: 1.3783 - acc: 0.5491 - val_loss: 1.3036 - val_acc: 0.5821 - lr: 1.5000e-05\n",
      "Epoch 25/100\n",
      "898/898 [==============================] - 26s 28ms/step - loss: 1.3642 - acc: 0.5554 - val_loss: 1.3009 - val_acc: 0.5761 - lr: 1.5000e-05\n",
      "Epoch 26/100\n",
      "898/898 [==============================] - 25s 28ms/step - loss: 1.3523 - acc: 0.5544 - val_loss: 1.2669 - val_acc: 0.5882 - lr: 1.5000e-05\n",
      "Epoch 27/100\n",
      "898/898 [==============================] - 25s 28ms/step - loss: 1.3443 - acc: 0.5568 - val_loss: 1.2885 - val_acc: 0.5797 - lr: 1.5000e-05\n",
      "Epoch 28/100\n",
      "898/898 [==============================] - 26s 29ms/step - loss: 1.3306 - acc: 0.5609 - val_loss: 1.2996 - val_acc: 0.5797 - lr: 1.5000e-05\n",
      "Epoch 29/100\n",
      "898/898 [==============================] - 26s 29ms/step - loss: 1.3220 - acc: 0.5621 - val_loss: 1.2973 - val_acc: 0.5837 - lr: 1.5000e-05\n",
      "Epoch 30/100\n",
      "898/898 [==============================] - 25s 28ms/step - loss: 1.3148 - acc: 0.5631 - val_loss: 1.2656 - val_acc: 0.5893 - lr: 1.5000e-05\n",
      "Epoch 31/100\n",
      "898/898 [==============================] - 25s 28ms/step - loss: 1.3021 - acc: 0.5647 - val_loss: 1.2607 - val_acc: 0.5861 - lr: 1.5000e-05\n",
      "Epoch 32/100\n",
      "898/898 [==============================] - 25s 28ms/step - loss: 1.3022 - acc: 0.5653 - val_loss: 1.2494 - val_acc: 0.5882 - lr: 1.5000e-05\n",
      "Epoch 33/100\n",
      "898/898 [==============================] - 25s 28ms/step - loss: 1.2949 - acc: 0.5679 - val_loss: 1.2427 - val_acc: 0.5925 - lr: 1.5000e-05\n",
      "Epoch 34/100\n",
      "898/898 [==============================] - 25s 28ms/step - loss: 1.2828 - acc: 0.5706 - val_loss: 1.2291 - val_acc: 0.5874 - lr: 1.5000e-05\n",
      "Epoch 35/100\n",
      "898/898 [==============================] - 25s 28ms/step - loss: 1.2812 - acc: 0.5678 - val_loss: 1.2296 - val_acc: 0.5926 - lr: 1.5000e-05\n",
      "Epoch 36/100\n",
      "898/898 [==============================] - 25s 28ms/step - loss: 1.2731 - acc: 0.5697 - val_loss: 1.2142 - val_acc: 0.5984 - lr: 1.5000e-05\n",
      "Epoch 37/100\n",
      "898/898 [==============================] - 25s 28ms/step - loss: 1.2700 - acc: 0.5746 - val_loss: 1.2338 - val_acc: 0.5939 - lr: 1.5000e-05\n",
      "Epoch 38/100\n",
      "898/898 [==============================] - 25s 28ms/step - loss: 1.2596 - acc: 0.5740 - val_loss: 1.2177 - val_acc: 0.5974 - lr: 1.5000e-05\n",
      "Epoch 39/100\n",
      "898/898 [==============================] - 25s 28ms/step - loss: 1.2623 - acc: 0.5733 - val_loss: 1.2061 - val_acc: 0.5997 - lr: 1.5000e-05\n",
      "Epoch 40/100\n",
      "898/898 [==============================] - 25s 28ms/step - loss: 1.2491 - acc: 0.5793 - val_loss: 1.1860 - val_acc: 0.6025 - lr: 1.5000e-05\n",
      "Epoch 41/100\n",
      "898/898 [==============================] - 25s 28ms/step - loss: 1.2483 - acc: 0.5805 - val_loss: 1.1863 - val_acc: 0.6032 - lr: 1.5000e-05\n",
      "Epoch 42/100\n",
      "898/898 [==============================] - 25s 28ms/step - loss: 1.2432 - acc: 0.5776 - val_loss: 1.1796 - val_acc: 0.6055 - lr: 1.5000e-05\n",
      "Epoch 43/100\n",
      "898/898 [==============================] - 26s 29ms/step - loss: 1.2388 - acc: 0.5791 - val_loss: 1.1941 - val_acc: 0.6046 - lr: 1.5000e-05\n",
      "Epoch 44/100\n",
      "898/898 [==============================] - 25s 28ms/step - loss: 1.2388 - acc: 0.5817 - val_loss: 1.2044 - val_acc: 0.5989 - lr: 1.5000e-05\n",
      "Epoch 45/100\n",
      "898/898 [==============================] - 25s 28ms/step - loss: 1.2322 - acc: 0.5825 - val_loss: 1.1929 - val_acc: 0.6000 - lr: 1.5000e-05\n",
      "Epoch 46/100\n",
      "898/898 [==============================] - 25s 28ms/step - loss: 1.2293 - acc: 0.5766 - val_loss: 1.1957 - val_acc: 0.5999 - lr: 1.5000e-05\n",
      "Epoch 47/100\n",
      "898/898 [==============================] - 25s 27ms/step - loss: 1.2260 - acc: 0.5832 - val_loss: 1.1835 - val_acc: 0.6062 - lr: 1.5000e-05\n",
      "Epoch 48/100\n",
      "898/898 [==============================] - 25s 28ms/step - loss: 1.2265 - acc: 0.5808 - val_loss: 1.1936 - val_acc: 0.6080 - lr: 1.5000e-05\n",
      "Epoch 49/100\n",
      "898/898 [==============================] - 25s 28ms/step - loss: 1.2198 - acc: 0.5867 - val_loss: 1.2031 - val_acc: 0.6024 - lr: 1.5000e-05\n",
      "Epoch 50/100\n",
      "898/898 [==============================] - 26s 29ms/step - loss: 1.2136 - acc: 0.5865 - val_loss: 1.2024 - val_acc: 0.5991 - lr: 1.5000e-05\n",
      "Epoch 51/100\n",
      "898/898 [==============================] - 25s 28ms/step - loss: 1.2129 - acc: 0.5865 - val_loss: 1.1922 - val_acc: 0.5996 - lr: 1.5000e-05\n",
      "Epoch 52/100\n",
      "898/898 [==============================] - 26s 28ms/step - loss: 1.2087 - acc: 0.5895 - val_loss: 1.1837 - val_acc: 0.6030 - lr: 1.5000e-05\n",
      "Epoch 53/100\n",
      "898/898 [==============================] - 25s 28ms/step - loss: 1.2013 - acc: 0.5913 - val_loss: 1.1807 - val_acc: 0.6064 - lr: 1.5000e-05\n",
      "Epoch 54/100\n",
      "898/898 [==============================] - 25s 28ms/step - loss: 1.1969 - acc: 0.5946 - val_loss: 1.1730 - val_acc: 0.6063 - lr: 1.5000e-06\n",
      "Epoch 55/100\n",
      "898/898 [==============================] - 26s 29ms/step - loss: 1.2008 - acc: 0.5900 - val_loss: 1.1650 - val_acc: 0.6094 - lr: 1.5000e-06\n",
      "Epoch 56/100\n",
      "898/898 [==============================] - 25s 28ms/step - loss: 1.1966 - acc: 0.5917 - val_loss: 1.1761 - val_acc: 0.6077 - lr: 1.5000e-06\n",
      "Epoch 57/100\n",
      "898/898 [==============================] - 25s 28ms/step - loss: 1.1870 - acc: 0.5940 - val_loss: 1.1758 - val_acc: 0.6080 - lr: 1.5000e-06\n",
      "Epoch 58/100\n",
      "898/898 [==============================] - 26s 29ms/step - loss: 1.1831 - acc: 0.5985 - val_loss: 1.1692 - val_acc: 0.6115 - lr: 1.5000e-06\n",
      "Epoch 59/100\n",
      "898/898 [==============================] - 29s 32ms/step - loss: 1.1827 - acc: 0.5965 - val_loss: 1.1639 - val_acc: 0.6106 - lr: 1.5000e-06\n",
      "Epoch 60/100\n",
      "898/898 [==============================] - 27s 30ms/step - loss: 1.1861 - acc: 0.5961 - val_loss: 1.1628 - val_acc: 0.6110 - lr: 1.5000e-06\n",
      "Epoch 61/100\n",
      "898/898 [==============================] - 27s 30ms/step - loss: 1.1822 - acc: 0.5980 - val_loss: 1.1577 - val_acc: 0.6106 - lr: 1.5000e-06\n",
      "Epoch 62/100\n",
      "898/898 [==============================] - 27s 30ms/step - loss: 1.1809 - acc: 0.5988 - val_loss: 1.1602 - val_acc: 0.6103 - lr: 1.5000e-06\n",
      "Epoch 63/100\n",
      "898/898 [==============================] - 28s 31ms/step - loss: 1.1811 - acc: 0.5973 - val_loss: 1.1516 - val_acc: 0.6109 - lr: 1.5000e-06\n",
      "Epoch 64/100\n",
      "898/898 [==============================] - 27s 30ms/step - loss: 1.1776 - acc: 0.5991 - val_loss: 1.1569 - val_acc: 0.6103 - lr: 1.5000e-07\n",
      "Epoch 65/100\n",
      "898/898 [==============================] - 26s 29ms/step - loss: 1.1824 - acc: 0.5996 - val_loss: 1.1547 - val_acc: 0.6096 - lr: 1.5000e-07\n",
      "Epoch 66/100\n",
      "898/898 [==============================] - 26s 29ms/step - loss: 1.1750 - acc: 0.6022 - val_loss: 1.1501 - val_acc: 0.6109 - lr: 1.5000e-07\n",
      "Epoch 67/100\n",
      "898/898 [==============================] - 26s 29ms/step - loss: 1.1746 - acc: 0.5998 - val_loss: 1.1470 - val_acc: 0.6116 - lr: 1.5000e-07\n",
      "Epoch 68/100\n",
      "898/898 [==============================] - 26s 29ms/step - loss: 1.1756 - acc: 0.5991 - val_loss: 1.1471 - val_acc: 0.6105 - lr: 1.5000e-07\n",
      "Epoch 69/100\n",
      "898/898 [==============================] - 26s 29ms/step - loss: 1.1757 - acc: 0.5987 - val_loss: 1.1539 - val_acc: 0.6110 - lr: 1.5000e-07\n",
      "Epoch 70/100\n",
      "898/898 [==============================] - 26s 28ms/step - loss: 1.1748 - acc: 0.5981 - val_loss: 1.1539 - val_acc: 0.6098 - lr: 1.5000e-07\n",
      "Epoch 71/100\n",
      "898/898 [==============================] - 25s 28ms/step - loss: 1.1721 - acc: 0.6004 - val_loss: 1.1501 - val_acc: 0.6101 - lr: 1.5000e-07\n",
      "Epoch 72/100\n",
      "898/898 [==============================] - 26s 29ms/step - loss: 1.1790 - acc: 0.5975 - val_loss: 1.1491 - val_acc: 0.6106 - lr: 1.5000e-07\n",
      "Epoch 73/100\n",
      "898/898 [==============================] - 26s 29ms/step - loss: 1.1740 - acc: 0.6019 - val_loss: 1.1503 - val_acc: 0.6103 - lr: 1.5000e-08\n",
      "Epoch 74/100\n",
      "898/898 [==============================] - 26s 29ms/step - loss: 1.1703 - acc: 0.6019 - val_loss: 1.1485 - val_acc: 0.6099 - lr: 1.5000e-08\n",
      "Epoch 75/100\n",
      "898/898 [==============================] - 26s 29ms/step - loss: 1.1780 - acc: 0.5956 - val_loss: 1.1511 - val_acc: 0.6101 - lr: 1.5000e-08\n",
      "Epoch 76/100\n",
      "898/898 [==============================] - 26s 29ms/step - loss: 1.1692 - acc: 0.6031 - val_loss: 1.1568 - val_acc: 0.6092 - lr: 1.5000e-08\n",
      "Epoch 77/100\n",
      "898/898 [==============================] - 26s 29ms/step - loss: 1.1787 - acc: 0.6015 - val_loss: 1.1553 - val_acc: 0.6096 - lr: 1.5000e-08\n"
     ]
    }
   ],
   "source": [
    "epochs = 100\n",
    "steps_per_epoch = 1000\n",
    "\n",
    "CNN_v3a_history = CNN_v3a_model.fit(train_dataflow, \n",
    "                                  epochs = epochs, \n",
    "                                  validation_data=(test_dataflow),\n",
    "                                  #steps_per_epoch=steps_per_epoch,\n",
    "                                  callbacks=[early_callback, myCallback, reduceLR])"
   ]
  },
  {
   "cell_type": "code",
   "execution_count": 107,
   "id": "6a8c2298-707b-40f3-9bed-9908f086c987",
   "metadata": {
    "tags": []
   },
   "outputs": [
    {
     "data": {
      "image/png": "[encoded data removed]",
      "text/plain": [
       "<Figure size 432x288 with 1 Axes>"
      ]
     },
     "metadata": {
      "needs_background": "light"
     },
     "output_type": "display_data"
    },
    {
     "data": {
      "image/png": "[encoded data removed]",
      "text/plain": [
       "<Figure size 432x288 with 1 Axes>"
      ]
     },
     "metadata": {
      "needs_background": "light"
     },
     "output_type": "display_data"
    }
   ],
   "source": [
    "plot_results(CNN_v3a_history)"
   ]
  },
  {
   "cell_type": "code",
   "execution_count": 108,
   "id": "aae2bf6a-eec3-4706-adf3-078590b6aa1b",
   "metadata": {},
   "outputs": [
    {
     "name": "stdout",
     "output_type": "stream",
     "text": [
      "              precision    recall  f1-score   support\n",
      "\n",
      "       angry       0.52      0.53      0.53       958\n",
      "     disgust       0.49      0.23      0.31       111\n",
      "        fear       0.53      0.21      0.30      1024\n",
      "       happy       0.83      0.85      0.84      1774\n",
      "     neutral       0.50      0.71      0.59      1233\n",
      "         sad       0.47      0.49      0.48      1247\n",
      "    surprise       0.73      0.77      0.75       831\n",
      "\n",
      "    accuracy                           0.61      7178\n",
      "   macro avg       0.58      0.54      0.54      7178\n",
      "weighted avg       0.61      0.61      0.60      7178\n",
      "\n"
     ]
    }
   ],
   "source": [
    "display_classifcation_report(CNN_v3a_model,test_dataflow)"
   ]
  },
  {
   "cell_type": "markdown",
   "id": "9169120d-c2af-408a-8a2f-cd3be07fc1ba",
   "metadata": {},
   "source": [
    "CNN_v3a_model.save('CNN_v3a_100epochs.h5')"
   ]
  },
  {
   "cell_type": "code",
   "execution_count": 109,
   "id": "a735459c-3bb0-4516-9b27-7272bac540f4",
   "metadata": {},
   "outputs": [],
   "source": [
    "CNN_v3a_model.compile(loss = 'categorical_crossentropy' , \n",
    "              metrics = ['acc'],\n",
    "             optimizer = tf.keras.optimizers.Adam(learning_rate=1.5e-5))"
   ]
  },
  {
   "cell_type": "markdown",
   "id": "76864fe2-05aa-4c87-81a5-fc07388daeef",
   "metadata": {},
   "source": [
    "Train more epochs and see if we get better results"
   ]
  },
  {
   "cell_type": "code",
   "execution_count": 110,
   "id": "a5f611d7-5167-4ba0-a0be-b5733eab4c2d",
   "metadata": {
    "tags": []
   },
   "outputs": [
    {
     "name": "stdout",
     "output_type": "stream",
     "text": [
      "Epoch 1/100\n",
      "898/898 [==============================] - 27s 29ms/step - loss: 1.4088 - acc: 0.5321 - val_loss: 1.4095 - val_acc: 0.5449 - lr: 1.5000e-04\n",
      "Epoch 2/100\n",
      "898/898 [==============================] - 27s 30ms/step - loss: 1.4825 - acc: 0.5214 - val_loss: 1.4719 - val_acc: 0.5348 - lr: 1.5000e-04\n",
      "Epoch 3/100\n",
      "898/898 [==============================] - 26s 29ms/step - loss: 1.4925 - acc: 0.5296 - val_loss: 1.5286 - val_acc: 0.5424 - lr: 1.5000e-04\n",
      "Epoch 4/100\n",
      "898/898 [==============================] - 26s 29ms/step - loss: 1.5145 - acc: 0.5271 - val_loss: 1.6322 - val_acc: 0.5032 - lr: 1.5000e-04\n",
      "Epoch 5/100\n",
      "898/898 [==============================] - 26s 29ms/step - loss: 1.5174 - acc: 0.5269 - val_loss: 1.5700 - val_acc: 0.5375 - lr: 1.5000e-04\n",
      "Epoch 6/100\n",
      "898/898 [==============================] - 26s 29ms/step - loss: 1.5251 - acc: 0.5227 - val_loss: 1.4856 - val_acc: 0.5443 - lr: 1.5000e-04\n",
      "Epoch 7/100\n",
      "898/898 [==============================] - 26s 29ms/step - loss: 1.4620 - acc: 0.5458 - val_loss: 1.3783 - val_acc: 0.5828 - lr: 1.5000e-05\n",
      "Epoch 8/100\n",
      "898/898 [==============================] - 26s 29ms/step - loss: 1.4138 - acc: 0.5599 - val_loss: 1.3519 - val_acc: 0.5883 - lr: 1.5000e-05\n",
      "Epoch 9/100\n",
      "898/898 [==============================] - 26s 29ms/step - loss: 1.3878 - acc: 0.5620 - val_loss: 1.3159 - val_acc: 0.5892 - lr: 1.5000e-05\n",
      "Epoch 10/100\n",
      "898/898 [==============================] - 26s 29ms/step - loss: 1.3640 - acc: 0.5696 - val_loss: 1.3060 - val_acc: 0.5921 - lr: 1.5000e-05\n",
      "Epoch 11/100\n",
      "898/898 [==============================] - 26s 29ms/step - loss: 1.3469 - acc: 0.5705 - val_loss: 1.3221 - val_acc: 0.5928 - lr: 1.5000e-05\n",
      "Epoch 12/100\n",
      "898/898 [==============================] - 26s 29ms/step - loss: 1.3254 - acc: 0.5746 - val_loss: 1.3061 - val_acc: 0.5903 - lr: 1.5000e-05\n",
      "Epoch 13/100\n",
      "898/898 [==============================] - 26s 29ms/step - loss: 1.3169 - acc: 0.5748 - val_loss: 1.2718 - val_acc: 0.6000 - lr: 1.5000e-05\n",
      "Epoch 14/100\n",
      "898/898 [==============================] - 26s 29ms/step - loss: 1.3063 - acc: 0.5782 - val_loss: 1.2562 - val_acc: 0.6014 - lr: 1.5000e-05\n",
      "Epoch 15/100\n",
      "898/898 [==============================] - 26s 29ms/step - loss: 1.2947 - acc: 0.5789 - val_loss: 1.2738 - val_acc: 0.5943 - lr: 1.5000e-05\n",
      "Epoch 16/100\n",
      "898/898 [==============================] - 26s 29ms/step - loss: 1.2851 - acc: 0.5788 - val_loss: 1.2270 - val_acc: 0.6027 - lr: 1.5000e-05\n",
      "Epoch 17/100\n",
      "898/898 [==============================] - 26s 29ms/step - loss: 1.2764 - acc: 0.5814 - val_loss: 1.2836 - val_acc: 0.6016 - lr: 1.5000e-05\n",
      "Epoch 18/100\n",
      "898/898 [==============================] - 26s 29ms/step - loss: 1.2687 - acc: 0.5827 - val_loss: 1.2484 - val_acc: 0.6030 - lr: 1.5000e-05\n",
      "Epoch 19/100\n",
      "898/898 [==============================] - 26s 29ms/step - loss: 1.2644 - acc: 0.5816 - val_loss: 1.2295 - val_acc: 0.6078 - lr: 1.5000e-05\n",
      "Epoch 20/100\n",
      "898/898 [==============================] - 26s 29ms/step - loss: 1.2507 - acc: 0.5880 - val_loss: 1.2150 - val_acc: 0.6053 - lr: 1.5000e-05\n",
      "Epoch 21/100\n",
      "898/898 [==============================] - 26s 29ms/step - loss: 1.2432 - acc: 0.5893 - val_loss: 1.2285 - val_acc: 0.6042 - lr: 1.5000e-05\n",
      "Epoch 22/100\n",
      "898/898 [==============================] - 26s 29ms/step - loss: 1.2381 - acc: 0.5919 - val_loss: 1.2116 - val_acc: 0.6013 - lr: 1.5000e-05\n",
      "Epoch 23/100\n",
      "898/898 [==============================] - 26s 29ms/step - loss: 1.2325 - acc: 0.5905 - val_loss: 1.2156 - val_acc: 0.5984 - lr: 1.5000e-05\n",
      "Epoch 24/100\n",
      "898/898 [==============================] - 26s 28ms/step - loss: 1.2293 - acc: 0.5904 - val_loss: 1.1956 - val_acc: 0.6042 - lr: 1.5000e-05\n",
      "Epoch 25/100\n",
      "898/898 [==============================] - 26s 29ms/step - loss: 1.2157 - acc: 0.5954 - val_loss: 1.1959 - val_acc: 0.6070 - lr: 1.5000e-06\n",
      "Epoch 26/100\n",
      "898/898 [==============================] - 26s 29ms/step - loss: 1.2177 - acc: 0.5970 - val_loss: 1.1841 - val_acc: 0.6085 - lr: 1.5000e-06\n",
      "Epoch 27/100\n",
      "898/898 [==============================] - 26s 29ms/step - loss: 1.2149 - acc: 0.5957 - val_loss: 1.1860 - val_acc: 0.6085 - lr: 1.5000e-06\n",
      "Epoch 28/100\n",
      "898/898 [==============================] - 26s 29ms/step - loss: 1.2170 - acc: 0.5964 - val_loss: 1.1934 - val_acc: 0.6074 - lr: 1.5000e-06\n",
      "Epoch 29/100\n",
      "898/898 [==============================] - 26s 29ms/step - loss: 1.2016 - acc: 0.6018 - val_loss: 1.1890 - val_acc: 0.6082 - lr: 1.5000e-06\n",
      "Epoch 30/100\n",
      "898/898 [==============================] - 26s 29ms/step - loss: 1.2085 - acc: 0.5948 - val_loss: 1.1884 - val_acc: 0.6057 - lr: 1.5000e-06\n",
      "Epoch 31/100\n",
      "898/898 [==============================] - 26s 29ms/step - loss: 1.2138 - acc: 0.5979 - val_loss: 1.1887 - val_acc: 0.6073 - lr: 1.5000e-06\n",
      "Epoch 32/100\n",
      "898/898 [==============================] - 26s 29ms/step - loss: 1.2104 - acc: 0.5951 - val_loss: 1.1831 - val_acc: 0.6108 - lr: 1.5000e-07\n",
      "Epoch 33/100\n",
      "898/898 [==============================] - 26s 29ms/step - loss: 1.2085 - acc: 0.5966 - val_loss: 1.1846 - val_acc: 0.6091 - lr: 1.5000e-07\n",
      "Epoch 34/100\n",
      "898/898 [==============================] - 26s 29ms/step - loss: 1.2075 - acc: 0.5974 - val_loss: 1.1848 - val_acc: 0.6095 - lr: 1.5000e-07\n",
      "Epoch 35/100\n",
      "898/898 [==============================] - 26s 29ms/step - loss: 1.2047 - acc: 0.5992 - val_loss: 1.1777 - val_acc: 0.6099 - lr: 1.5000e-07\n",
      "Epoch 36/100\n",
      "898/898 [==============================] - 26s 29ms/step - loss: 1.2105 - acc: 0.5996 - val_loss: 1.1877 - val_acc: 0.6091 - lr: 1.5000e-07\n",
      "Epoch 37/100\n",
      "898/898 [==============================] - 26s 29ms/step - loss: 1.2070 - acc: 0.5985 - val_loss: 1.1873 - val_acc: 0.6082 - lr: 1.5000e-07\n",
      "Epoch 38/100\n",
      "898/898 [==============================] - 26s 28ms/step - loss: 1.2134 - acc: 0.6015 - val_loss: 1.1833 - val_acc: 0.6103 - lr: 1.5000e-08\n",
      "Epoch 39/100\n",
      "898/898 [==============================] - 26s 29ms/step - loss: 1.2094 - acc: 0.5972 - val_loss: 1.1867 - val_acc: 0.6082 - lr: 1.5000e-08\n",
      "Epoch 40/100\n",
      "898/898 [==============================] - 26s 29ms/step - loss: 1.2056 - acc: 0.5990 - val_loss: 1.1899 - val_acc: 0.6076 - lr: 1.5000e-08\n",
      "Epoch 41/100\n",
      "898/898 [==============================] - 26s 29ms/step - loss: 1.2055 - acc: 0.5972 - val_loss: 1.1887 - val_acc: 0.6084 - lr: 1.5000e-08\n",
      "Epoch 42/100\n",
      "898/898 [==============================] - 26s 28ms/step - loss: 1.2083 - acc: 0.5983 - val_loss: 1.1856 - val_acc: 0.6088 - lr: 1.5000e-08\n"
     ]
    }
   ],
   "source": [
    "epochs = 100\n",
    "steps_per_epoch = 1000\n",
    "\n",
    "CNN_v3a_history = CNN_v3a_model.fit(train_dataflow, \n",
    "                                  epochs = epochs, \n",
    "                                  validation_data=(test_dataflow),\n",
    "                                  #steps_per_epoch=steps_per_epoch,\n",
    "                                  callbacks=[early_callback, myCallback,reduceLR])"
   ]
  },
  {
   "cell_type": "code",
   "execution_count": 111,
   "id": "c57fe647-5e34-4f87-9683-e388cb445023",
   "metadata": {
    "tags": []
   },
   "outputs": [
    {
     "data": {
      "image/png": "[encoded data removed]",
      "text/plain": [
       "<Figure size 432x288 with 1 Axes>"
      ]
     },
     "metadata": {
      "needs_background": "light"
     },
     "output_type": "display_data"
    },
    {
     "data": {
      "image/png": "[encoded data removed]",
      "text/plain": [
       "<Figure size 432x288 with 1 Axes>"
      ]
     },
     "metadata": {
      "needs_background": "light"
     },
     "output_type": "display_data"
    }
   ],
   "source": [
    "plot_results(CNN_v3a_history)"
   ]
  },
  {
   "cell_type": "code",
   "execution_count": 112,
   "id": "ac09b0be-3575-4fb8-b267-ce11433479c3",
   "metadata": {},
   "outputs": [
    {
     "name": "stdout",
     "output_type": "stream",
     "text": [
      "              precision    recall  f1-score   support\n",
      "\n",
      "       angry       0.52      0.54      0.53       958\n",
      "     disgust       0.54      0.18      0.27       111\n",
      "        fear       0.54      0.20      0.29      1024\n",
      "       happy       0.83      0.84      0.84      1774\n",
      "     neutral       0.50      0.72      0.59      1233\n",
      "         sad       0.47      0.51      0.49      1247\n",
      "    surprise       0.74      0.76      0.75       831\n",
      "\n",
      "    accuracy                           0.61      7178\n",
      "   macro avg       0.59      0.54      0.54      7178\n",
      "weighted avg       0.61      0.61      0.60      7178\n",
      "\n"
     ]
    }
   ],
   "source": [
    "display_classifcation_report(CNN_v3a_model,test_dataflow)"
   ]
  },
  {
   "cell_type": "markdown",
   "id": "d667d021-2298-4f07-a8fa-a36f543804c6",
   "metadata": {},
   "source": [
    "CNN_v3a_model.save('CNN_v3a_200epochs.h5')"
   ]
  },
  {
   "cell_type": "markdown",
   "id": "9c653e01-978f-4ce5-8dfa-9ea0e1be424b",
   "metadata": {
    "tags": []
   },
   "source": [
    "## More Regularisation"
   ]
  },
  {
   "cell_type": "code",
   "execution_count": 113,
   "id": "1ac92461-eb65-4179-9578-baddf37225ca",
   "metadata": {},
   "outputs": [],
   "source": [
    "CNN_v3b_model = tf.keras.models.Sequential([\n",
    "    tf.keras.layers.Conv2D(64, (3,3) , input_shape = (48,48,1), activation = 'relu'),\n",
    "    tf.keras.layers.Conv2D(128, (3,3) , activation = 'relu'),\n",
    "    tf.keras.layers.BatchNormalization(),\n",
    "    tf.keras.layers.MaxPooling2D(),\n",
    "    tf.keras.layers.Dropout(0.2),\n",
    "\n",
    "    tf.keras.layers.Conv2D(256, (3,3) , activation = 'relu', kernel_regularizer=tf.keras.regularizers.L1L2(l1=0.01, l2=0.01)),\n",
    "    tf.keras.layers.BatchNormalization(),\n",
    "    tf.keras.layers.MaxPooling2D(),\n",
    "    tf.keras.layers.Dropout(0.2),\n",
    "\n",
    "    tf.keras.layers.Conv2D(512, (3,3) , activation = 'relu', kernel_regularizer=tf.keras.regularizers.L1L2(l1=0.01, l2=0.01)),\n",
    "    tf.keras.layers.BatchNormalization(),\n",
    "    tf.keras.layers.MaxPooling2D(),\n",
    "    tf.keras.layers.Dropout(0.2),\n",
    "\n",
    "    \n",
    "    tf.keras.layers.Flatten(),\n",
    "    tf.keras.layers.Dense(512, activation='relu'),\n",
    "    tf.keras.layers.BatchNormalization(),\n",
    "    tf.keras.layers.Dropout(0.2),\n",
    "    \n",
    "    tf.keras.layers.Dense(7, activation='softmax')\n",
    "])"
   ]
  },
  {
   "cell_type": "code",
   "execution_count": 114,
   "id": "3764c558-666b-4b01-8038-d66e57b673d1",
   "metadata": {},
   "outputs": [],
   "source": [
    "CNN_v3b_model.compile(loss = 'categorical_crossentropy' , \n",
    "              metrics = ['acc'],\n",
    "             optimizer = tf.keras.optimizers.Adam(learning_rate=15e-5))"
   ]
  },
  {
   "cell_type": "code",
   "execution_count": 115,
   "id": "e5df6608-c7fe-4f2f-a81d-026b37fd9007",
   "metadata": {
    "tags": []
   },
   "outputs": [
    {
     "name": "stdout",
     "output_type": "stream",
     "text": [
      "Epoch 1/100\n",
      "898/898 [==============================] - 28s 29ms/step - loss: 45.9149 - acc: 0.2037 - val_loss: 3.8199 - val_acc: 0.2549 - lr: 1.5000e-04\n",
      "Epoch 2/100\n",
      "898/898 [==============================] - 26s 29ms/step - loss: 2.9610 - acc: 0.2169 - val_loss: 2.5968 - val_acc: 0.2244 - lr: 1.5000e-04\n",
      "Epoch 3/100\n",
      "898/898 [==============================] - 26s 29ms/step - loss: 2.4213 - acc: 0.2240 - val_loss: 2.2449 - val_acc: 0.2449 - lr: 1.5000e-04\n",
      "Epoch 4/100\n",
      "898/898 [==============================] - 26s 29ms/step - loss: 2.2628 - acc: 0.2316 - val_loss: 2.0792 - val_acc: 0.2775 - lr: 1.5000e-04\n",
      "Epoch 5/100\n",
      "898/898 [==============================] - 25s 28ms/step - loss: 2.1495 - acc: 0.2441 - val_loss: 2.0776 - val_acc: 0.2666 - lr: 1.5000e-04\n",
      "Epoch 6/100\n",
      "898/898 [==============================] - 25s 28ms/step - loss: 2.1356 - acc: 0.2448 - val_loss: 2.1727 - val_acc: 0.2760 - lr: 1.5000e-04\n",
      "Epoch 7/100\n",
      "898/898 [==============================] - 26s 29ms/step - loss: 2.1462 - acc: 0.2520 - val_loss: 2.2018 - val_acc: 0.2242 - lr: 1.5000e-04\n",
      "Epoch 8/100\n",
      "898/898 [==============================] - 26s 29ms/step - loss: 2.1374 - acc: 0.2629 - val_loss: 2.0448 - val_acc: 0.2905 - lr: 1.5000e-04\n",
      "Epoch 9/100\n",
      "898/898 [==============================] - 26s 29ms/step - loss: 2.0937 - acc: 0.2802 - val_loss: 2.2294 - val_acc: 0.2634 - lr: 1.5000e-04\n",
      "Epoch 10/100\n",
      "898/898 [==============================] - 26s 29ms/step - loss: 2.1354 - acc: 0.2966 - val_loss: 2.1917 - val_acc: 0.2744 - lr: 1.5000e-04\n",
      "Epoch 11/100\n",
      "898/898 [==============================] - 26s 29ms/step - loss: 2.0632 - acc: 0.3076 - val_loss: 2.2317 - val_acc: 0.2572 - lr: 1.5000e-04\n",
      "Epoch 12/100\n",
      "898/898 [==============================] - 26s 29ms/step - loss: 2.0774 - acc: 0.3183 - val_loss: 2.0410 - val_acc: 0.3069 - lr: 1.5000e-04\n",
      "Epoch 13/100\n",
      "898/898 [==============================] - 26s 29ms/step - loss: 2.0499 - acc: 0.3262 - val_loss: 2.0009 - val_acc: 0.3544 - lr: 1.5000e-04\n",
      "Epoch 14/100\n",
      "898/898 [==============================] - 26s 29ms/step - loss: 2.0318 - acc: 0.3277 - val_loss: 3.3704 - val_acc: 0.3050 - lr: 1.5000e-04\n",
      "Epoch 15/100\n",
      "898/898 [==============================] - 26s 29ms/step - loss: 2.0241 - acc: 0.3423 - val_loss: 2.4342 - val_acc: 0.2800 - lr: 1.5000e-04\n",
      "Epoch 16/100\n",
      "898/898 [==============================] - 26s 29ms/step - loss: 1.9984 - acc: 0.3459 - val_loss: 1.9864 - val_acc: 0.3509 - lr: 1.5000e-04\n",
      "Epoch 17/100\n",
      "898/898 [==============================] - 26s 29ms/step - loss: 1.9978 - acc: 0.3549 - val_loss: 1.9130 - val_acc: 0.3897 - lr: 1.5000e-04\n",
      "Epoch 18/100\n",
      "898/898 [==============================] - 26s 29ms/step - loss: 1.9861 - acc: 0.3598 - val_loss: 1.9259 - val_acc: 0.3879 - lr: 1.5000e-04\n",
      "Epoch 19/100\n",
      "898/898 [==============================] - 26s 29ms/step - loss: 1.9747 - acc: 0.3659 - val_loss: 2.3789 - val_acc: 0.2887 - lr: 1.5000e-04\n",
      "Epoch 20/100\n",
      "898/898 [==============================] - 27s 30ms/step - loss: 2.0163 - acc: 0.3640 - val_loss: 2.2698 - val_acc: 0.2640 - lr: 1.5000e-04\n",
      "Epoch 21/100\n",
      "898/898 [==============================] - 26s 29ms/step - loss: 1.9641 - acc: 0.3791 - val_loss: 1.8732 - val_acc: 0.4138 - lr: 1.5000e-04\n",
      "Epoch 22/100\n",
      "898/898 [==============================] - 27s 30ms/step - loss: 1.9313 - acc: 0.3820 - val_loss: 1.8779 - val_acc: 0.3876 - lr: 1.5000e-04\n",
      "Epoch 23/100\n",
      "898/898 [==============================] - 26s 29ms/step - loss: 1.9242 - acc: 0.3860 - val_loss: 1.8943 - val_acc: 0.4129 - lr: 1.5000e-04\n",
      "Epoch 24/100\n",
      "898/898 [==============================] - 26s 29ms/step - loss: 1.9143 - acc: 0.3856 - val_loss: 1.8293 - val_acc: 0.4349 - lr: 1.5000e-04\n",
      "Epoch 25/100\n",
      "898/898 [==============================] - 26s 29ms/step - loss: 1.9105 - acc: 0.3899 - val_loss: 1.8725 - val_acc: 0.4124 - lr: 1.5000e-04\n",
      "Epoch 26/100\n",
      "898/898 [==============================] - 26s 29ms/step - loss: 1.8915 - acc: 0.3948 - val_loss: 1.7923 - val_acc: 0.4473 - lr: 1.5000e-04\n",
      "Epoch 27/100\n",
      "898/898 [==============================] - 35s 39ms/step - loss: 1.8869 - acc: 0.4014 - val_loss: 1.8192 - val_acc: 0.4416 - lr: 1.5000e-04\n",
      "Epoch 28/100\n",
      "898/898 [==============================] - 49s 55ms/step - loss: 1.8906 - acc: 0.4018 - val_loss: 1.8023 - val_acc: 0.4267 - lr: 1.5000e-04\n",
      "Epoch 29/100\n",
      "898/898 [==============================] - 99s 111ms/step - loss: 1.8747 - acc: 0.4071 - val_loss: 1.7485 - val_acc: 0.4641 - lr: 1.5000e-04\n",
      "Epoch 30/100\n",
      "898/898 [==============================] - 87s 97ms/step - loss: 1.8628 - acc: 0.4062 - val_loss: 1.8041 - val_acc: 0.4285 - lr: 1.5000e-04\n",
      "Epoch 31/100\n",
      "898/898 [==============================] - 82s 92ms/step - loss: 1.8628 - acc: 0.4080 - val_loss: 1.8413 - val_acc: 0.4152 - lr: 1.5000e-04\n",
      "Epoch 32/100\n",
      "898/898 [==============================] - 83s 92ms/step - loss: 1.8813 - acc: 0.4060 - val_loss: 1.7854 - val_acc: 0.4466 - lr: 1.5000e-04\n",
      "Epoch 33/100\n",
      "898/898 [==============================] - 83s 93ms/step - loss: 1.8617 - acc: 0.4108 - val_loss: 1.7631 - val_acc: 0.4543 - lr: 1.5000e-04\n",
      "Epoch 34/100\n",
      "898/898 [==============================] - 83s 93ms/step - loss: 1.8608 - acc: 0.4170 - val_loss: 1.7836 - val_acc: 0.4531 - lr: 1.5000e-04\n",
      "Epoch 35/100\n",
      "898/898 [==============================] - 86s 96ms/step - loss: 1.5968 - acc: 0.4248 - val_loss: 1.4584 - val_acc: 0.4863 - lr: 1.5000e-05\n",
      "Epoch 36/100\n",
      "898/898 [==============================] - 87s 97ms/step - loss: 1.5703 - acc: 0.4335 - val_loss: 1.4559 - val_acc: 0.4815 - lr: 1.5000e-05\n",
      "Epoch 37/100\n",
      "898/898 [==============================] - 78s 87ms/step - loss: 1.5569 - acc: 0.4326 - val_loss: 1.4531 - val_acc: 0.4755 - lr: 1.5000e-05\n",
      "Epoch 38/100\n",
      "898/898 [==============================] - 76s 84ms/step - loss: 1.5475 - acc: 0.4364 - val_loss: 1.4313 - val_acc: 0.4939 - lr: 1.5000e-05\n",
      "Epoch 39/100\n",
      "898/898 [==============================] - 78s 87ms/step - loss: 1.5458 - acc: 0.4366 - val_loss: 1.4361 - val_acc: 0.4827 - lr: 1.5000e-05\n",
      "Epoch 40/100\n",
      "898/898 [==============================] - 79s 88ms/step - loss: 1.5413 - acc: 0.4375 - val_loss: 1.4274 - val_acc: 0.4854 - lr: 1.5000e-05\n",
      "Epoch 41/100\n",
      "898/898 [==============================] - 78s 87ms/step - loss: 1.5328 - acc: 0.4389 - val_loss: 1.4338 - val_acc: 0.4795 - lr: 1.5000e-05\n",
      "Epoch 42/100\n",
      "898/898 [==============================] - 78s 87ms/step - loss: 1.5339 - acc: 0.4348 - val_loss: 1.4168 - val_acc: 0.4901 - lr: 1.5000e-05\n",
      "Epoch 43/100\n",
      "898/898 [==============================] - 76s 85ms/step - loss: 1.5314 - acc: 0.4397 - val_loss: 1.4147 - val_acc: 0.4869 - lr: 1.5000e-05\n",
      "Epoch 44/100\n",
      "898/898 [==============================] - 78s 84ms/step - loss: 1.4994 - acc: 0.4424 - val_loss: 1.3920 - val_acc: 0.4857 - lr: 1.5000e-06\n",
      "Epoch 45/100\n",
      "898/898 [==============================] - 78s 87ms/step - loss: 1.4937 - acc: 0.4428 - val_loss: 1.3914 - val_acc: 0.4858 - lr: 1.5000e-06\n",
      "Epoch 46/100\n",
      "898/898 [==============================] - 78s 87ms/step - loss: 1.5010 - acc: 0.4413 - val_loss: 1.3935 - val_acc: 0.4869 - lr: 1.5000e-06\n",
      "Epoch 47/100\n",
      "898/898 [==============================] - 76s 85ms/step - loss: 1.4982 - acc: 0.4373 - val_loss: 1.3898 - val_acc: 0.4855 - lr: 1.5000e-06\n",
      "Epoch 48/100\n",
      "898/898 [==============================] - 78s 87ms/step - loss: 1.4998 - acc: 0.4381 - val_loss: 1.3908 - val_acc: 0.4852 - lr: 1.5000e-06\n"
     ]
    }
   ],
   "source": [
    "epochs = 100\n",
    "steps_per_epoch = 1000\n",
    "\n",
    "CNN_v3b_history = CNN_v3b_model.fit(train_dataflow, \n",
    "                                  epochs = epochs, \n",
    "                                  validation_data=(test_dataflow),\n",
    "                                  #steps_per_epoch=steps_per_epoch,\n",
    "                                  callbacks=[early_callback, myCallback, reduceLR])"
   ]
  },
  {
   "cell_type": "code",
   "execution_count": 116,
   "id": "4193b94d-ecdf-4b9c-9f8a-6b656ee76277",
   "metadata": {
    "tags": []
   },
   "outputs": [
    {
     "data": {
      "image/png": "[encoded data removed]",
      "text/plain": [
       "<Figure size 432x288 with 1 Axes>"
      ]
     },
     "metadata": {
      "needs_background": "light"
     },
     "output_type": "display_data"
    },
    {
     "data": {
      "image/png": "[encoded data removed]",
      "text/plain": [
       "<Figure size 432x288 with 1 Axes>"
      ]
     },
     "metadata": {
      "needs_background": "light"
     },
     "output_type": "display_data"
    }
   ],
   "source": [
    "plot_results(CNN_v3b_history)"
   ]
  },
  {
   "cell_type": "code",
   "execution_count": 117,
   "id": "3a4fb2d1-9489-4926-879f-f816aeeb2b71",
   "metadata": {},
   "outputs": [
    {
     "name": "stdout",
     "output_type": "stream",
     "text": [
      "              precision    recall  f1-score   support\n",
      "\n",
      "       angry       0.38      0.28      0.32       958\n",
      "     disgust       0.25      0.03      0.05       111\n",
      "        fear       0.32      0.05      0.09      1024\n",
      "       happy       0.73      0.77      0.75      1774\n",
      "     neutral       0.38      0.58      0.46      1233\n",
      "         sad       0.36      0.51      0.42      1247\n",
      "    surprise       0.67      0.61      0.64       831\n",
      "\n",
      "    accuracy                           0.49      7178\n",
      "   macro avg       0.44      0.40      0.39      7178\n",
      "weighted avg       0.48      0.49      0.47      7178\n",
      "\n"
     ]
    }
   ],
   "source": [
    "display_classifcation_report(CNN_v3b_model,test_dataflow)"
   ]
  },
  {
   "cell_type": "code",
   "execution_count": 118,
   "id": "63abeeaf-525d-486c-beef-3cf889ecd051",
   "metadata": {
    "tags": []
   },
   "outputs": [
    {
     "name": "stdout",
     "output_type": "stream",
     "text": [
      "Epoch 1/100\n",
      "898/898 [==============================] - 78s 87ms/step - loss: 1.5174 - acc: 0.4363 - val_loss: 1.4069 - val_acc: 0.4886 - lr: 1.5000e-07\n",
      "Epoch 2/100\n",
      "898/898 [==============================] - 76s 84ms/step - loss: 1.5140 - acc: 0.4375 - val_loss: 1.4034 - val_acc: 0.4883 - lr: 1.5000e-07\n",
      "Epoch 3/100\n",
      "898/898 [==============================] - 75s 84ms/step - loss: 1.5164 - acc: 0.4334 - val_loss: 1.4036 - val_acc: 0.4879 - lr: 1.5000e-07\n",
      "Epoch 4/100\n",
      "898/898 [==============================] - 76s 84ms/step - loss: 1.5178 - acc: 0.4349 - val_loss: 1.4062 - val_acc: 0.4887 - lr: 1.5000e-07\n",
      "Epoch 5/100\n",
      "898/898 [==============================] - 75s 84ms/step - loss: 1.5145 - acc: 0.4379 - val_loss: 1.4024 - val_acc: 0.4882 - lr: 1.5000e-07\n",
      "Epoch 6/100\n",
      "898/898 [==============================] - 75s 84ms/step - loss: 1.5150 - acc: 0.4359 - val_loss: 1.4030 - val_acc: 0.4882 - lr: 1.5000e-07\n",
      "Epoch 7/100\n",
      "898/898 [==============================] - 75s 84ms/step - loss: 1.5148 - acc: 0.4379 - val_loss: 1.4033 - val_acc: 0.4883 - lr: 1.5000e-07\n",
      "Epoch 8/100\n",
      "898/898 [==============================] - 75s 84ms/step - loss: 1.5129 - acc: 0.4399 - val_loss: 1.4050 - val_acc: 0.4886 - lr: 1.5000e-07\n",
      "Epoch 9/100\n",
      "898/898 [==============================] - 77s 86ms/step - loss: 1.5165 - acc: 0.4386 - val_loss: 1.4029 - val_acc: 0.4875 - lr: 1.5000e-07\n",
      "Epoch 10/100\n",
      "898/898 [==============================] - 75s 84ms/step - loss: 1.5149 - acc: 0.4374 - val_loss: 1.4020 - val_acc: 0.4876 - lr: 1.5000e-08\n",
      "Epoch 11/100\n",
      "898/898 [==============================] - 75s 84ms/step - loss: 1.5161 - acc: 0.4355 - val_loss: 1.4021 - val_acc: 0.4883 - lr: 1.5000e-08\n",
      "Epoch 12/100\n",
      "898/898 [==============================] - 75s 84ms/step - loss: 1.5169 - acc: 0.4338 - val_loss: 1.4014 - val_acc: 0.4873 - lr: 1.5000e-08\n",
      "Epoch 13/100\n",
      "898/898 [==============================] - 77s 84ms/step - loss: 1.5163 - acc: 0.4383 - val_loss: 1.4049 - val_acc: 0.4889 - lr: 1.5000e-08\n",
      "Epoch 14/100\n",
      "898/898 [==============================] - 75s 84ms/step - loss: 1.5144 - acc: 0.4393 - val_loss: 1.4017 - val_acc: 0.4891 - lr: 1.5000e-08\n",
      "Epoch 15/100\n",
      "898/898 [==============================] - 75s 84ms/step - loss: 1.5134 - acc: 0.4360 - val_loss: 1.4013 - val_acc: 0.4898 - lr: 1.5000e-08\n",
      "Epoch 16/100\n",
      "898/898 [==============================] - 77s 86ms/step - loss: 1.5144 - acc: 0.4375 - val_loss: 1.4026 - val_acc: 0.4887 - lr: 1.5000e-08\n",
      "Epoch 17/100\n",
      "898/898 [==============================] - 75s 84ms/step - loss: 1.5174 - acc: 0.4356 - val_loss: 1.4014 - val_acc: 0.4873 - lr: 1.5000e-08\n",
      "Epoch 18/100\n",
      "898/898 [==============================] - 75s 84ms/step - loss: 1.5095 - acc: 0.4388 - val_loss: 1.4004 - val_acc: 0.4889 - lr: 1.5000e-08\n",
      "Epoch 19/100\n",
      "898/898 [==============================] - 78s 86ms/step - loss: 1.5150 - acc: 0.4369 - val_loss: 1.4021 - val_acc: 0.4883 - lr: 1.5000e-08\n",
      "Epoch 20/100\n",
      "898/898 [==============================] - 75s 84ms/step - loss: 1.5135 - acc: 0.4378 - val_loss: 1.4023 - val_acc: 0.4879 - lr: 1.5000e-08\n",
      "Epoch 21/100\n",
      "898/898 [==============================] - 75s 84ms/step - loss: 1.5122 - acc: 0.4410 - val_loss: 1.4025 - val_acc: 0.4887 - lr: 1.5000e-09\n",
      "Epoch 22/100\n",
      "898/898 [==============================] - 77s 84ms/step - loss: 1.5090 - acc: 0.4389 - val_loss: 1.4015 - val_acc: 0.4869 - lr: 1.5000e-09\n",
      "Epoch 23/100\n",
      "898/898 [==============================] - 75s 84ms/step - loss: 1.5119 - acc: 0.4375 - val_loss: 1.3999 - val_acc: 0.4893 - lr: 1.5000e-09\n",
      "Epoch 24/100\n",
      "898/898 [==============================] - 75s 84ms/step - loss: 1.5156 - acc: 0.4364 - val_loss: 1.4013 - val_acc: 0.4879 - lr: 1.5000e-09\n",
      "Epoch 25/100\n",
      "898/898 [==============================] - 77s 84ms/step - loss: 1.5112 - acc: 0.4368 - val_loss: 1.4029 - val_acc: 0.4891 - lr: 1.5000e-09\n"
     ]
    }
   ],
   "source": [
    "epochs = 100\n",
    "steps_per_epoch = 1000\n",
    "\n",
    "CNN_v3b_history = CNN_v3b_model.fit(train_dataflow, \n",
    "                                  epochs = epochs, \n",
    "                                  validation_data=(test_dataflow),\n",
    "                                  #steps_per_epoch=steps_per_epoch,\n",
    "                                  callbacks=[early_callback, myCallback,reduceLR])"
   ]
  },
  {
   "cell_type": "code",
   "execution_count": 119,
   "id": "b0c3b783-c195-4212-9fd0-240189640ab7",
   "metadata": {
    "tags": []
   },
   "outputs": [
    {
     "data": {
      "image/png": "[encoded data removed]",
      "text/plain": [
       "<Figure size 432x288 with 1 Axes>"
      ]
     },
     "metadata": {
      "needs_background": "light"
     },
     "output_type": "display_data"
    },
    {
     "data": {
      "image/png": "[encoded data removed]",
      "text/plain": [
       "<Figure size 432x288 with 1 Axes>"
      ]
     },
     "metadata": {
      "needs_background": "light"
     },
     "output_type": "display_data"
    }
   ],
   "source": [
    "plot_results(CNN_v3b_history)"
   ]
  },
  {
   "cell_type": "code",
   "execution_count": 120,
   "id": "90228176-d9e1-4417-b559-c19c96c9b773",
   "metadata": {},
   "outputs": [
    {
     "name": "stdout",
     "output_type": "stream",
     "text": [
      "              precision    recall  f1-score   support\n",
      "\n",
      "       angry       0.41      0.22      0.29       958\n",
      "     disgust       0.31      0.05      0.08       111\n",
      "        fear       0.34      0.04      0.07      1024\n",
      "       happy       0.68      0.81      0.74      1774\n",
      "     neutral       0.36      0.61      0.45      1233\n",
      "         sad       0.37      0.47      0.41      1247\n",
      "    surprise       0.70      0.57      0.63       831\n",
      "\n",
      "    accuracy                           0.49      7178\n",
      "   macro avg       0.45      0.40      0.38      7178\n",
      "weighted avg       0.48      0.49      0.46      7178\n",
      "\n"
     ]
    }
   ],
   "source": [
    "display_classifcation_report(CNN_v3b_model,test_dataflow)"
   ]
  },
  {
   "cell_type": "markdown",
   "id": "35a5a78a-3732-435b-b5db-c35c28152d68",
   "metadata": {},
   "source": [
    "CNN_v3b_model.save('CNN_v3b_model_200epochs.h5')"
   ]
  },
  {
   "cell_type": "markdown",
   "id": "0d8a2cca-2a5c-4c42-a551-e6b5b9ae1aaa",
   "metadata": {
    "tags": []
   },
   "source": [
    "## Even More regularisation"
   ]
  },
  {
   "cell_type": "code",
   "execution_count": 121,
   "id": "2163ab1e-d256-4b9d-acbf-1cbfaad3ac96",
   "metadata": {},
   "outputs": [],
   "source": [
    "CNN_v3c_model = tf.keras.models.Sequential([\n",
    "    tf.keras.layers.Conv2D(64, (3,3) , input_shape = (48,48,1), activation = 'relu'),\n",
    "    tf.keras.layers.Conv2D(128, (3,3) , activation = 'relu', kernel_regularizer=tf.keras.regularizers.L1L2(l1=0.01, l2=0.01)),\n",
    "    tf.keras.layers.BatchNormalization(),\n",
    "    tf.keras.layers.MaxPooling2D(),\n",
    "    tf.keras.layers.Dropout(0.25),\n",
    "\n",
    "    tf.keras.layers.Conv2D(256, (3,3) , activation = 'relu', kernel_regularizer=tf.keras.regularizers.L1L2(l1=0.01, l2=0.01)),\n",
    "    tf.keras.layers.BatchNormalization(),\n",
    "    tf.keras.layers.MaxPooling2D(),\n",
    "    tf.keras.layers.Dropout(0.25),\n",
    "\n",
    "    tf.keras.layers.Conv2D(512, (3,3) , activation = 'relu', kernel_regularizer=tf.keras.regularizers.L1L2(l1=0.01, l2=0.01)),\n",
    "    tf.keras.layers.BatchNormalization(),\n",
    "    tf.keras.layers.MaxPooling2D(),\n",
    "    tf.keras.layers.Dropout(0.25),\n",
    "\n",
    "    \n",
    "    tf.keras.layers.Flatten(),\n",
    "    tf.keras.layers.Dense(512, activation='relu'),\n",
    "    tf.keras.layers.BatchNormalization(),\n",
    "    tf.keras.layers.Dropout(0.25),\n",
    "    \n",
    "    tf.keras.layers.Dense(7, activation='softmax')\n",
    "])"
   ]
  },
  {
   "cell_type": "code",
   "execution_count": 122,
   "id": "a40dea99-162c-4a2e-9ce2-758242e94ded",
   "metadata": {},
   "outputs": [],
   "source": [
    "CNN_v3c_model.compile(loss = 'categorical_crossentropy' , \n",
    "              metrics = ['acc'],\n",
    "             optimizer = tf.keras.optimizers.Adam(learning_rate=15e-5))"
   ]
  },
  {
   "cell_type": "code",
   "execution_count": 123,
   "id": "b3f2f914-d37c-49d3-be5a-122dc1bc65ec",
   "metadata": {
    "tags": []
   },
   "outputs": [
    {
     "name": "stdout",
     "output_type": "stream",
     "text": [
      "Epoch 1/100\n",
      "898/898 [==============================] - 79s 85ms/step - loss: 55.5875 - acc: 0.1986 - val_loss: 5.2102 - val_acc: 0.2414 - lr: 1.5000e-04\n",
      "Epoch 2/100\n",
      "898/898 [==============================] - 77s 86ms/step - loss: 3.1746 - acc: 0.2154 - val_loss: 2.2534 - val_acc: 0.2480 - lr: 1.5000e-04\n",
      "Epoch 3/100\n",
      "898/898 [==============================] - 75s 84ms/step - loss: 2.2444 - acc: 0.2195 - val_loss: 2.0544 - val_acc: 0.2621 - lr: 1.5000e-04\n",
      "Epoch 4/100\n",
      "898/898 [==============================] - 75s 84ms/step - loss: 2.1954 - acc: 0.2225 - val_loss: 2.1262 - val_acc: 0.2118 - lr: 1.5000e-04\n",
      "Epoch 5/100\n",
      "898/898 [==============================] - 75s 84ms/step - loss: 2.2095 - acc: 0.2243 - val_loss: 2.0796 - val_acc: 0.2714 - lr: 1.5000e-04\n",
      "Epoch 6/100\n",
      "898/898 [==============================] - 78s 87ms/step - loss: 2.1920 - acc: 0.2326 - val_loss: 2.1006 - val_acc: 0.2506 - lr: 1.5000e-04\n",
      "Epoch 7/100\n",
      "898/898 [==============================] - 75s 84ms/step - loss: 2.1475 - acc: 0.2377 - val_loss: 2.2445 - val_acc: 0.2077 - lr: 1.5000e-04\n",
      "Epoch 8/100\n",
      "898/898 [==============================] - 81s 88ms/step - loss: 2.1326 - acc: 0.2435 - val_loss: 2.1515 - val_acc: 0.2471 - lr: 1.5000e-04\n",
      "Epoch 9/100\n",
      "898/898 [==============================] - 75s 84ms/step - loss: 2.1418 - acc: 0.2469 - val_loss: 2.1886 - val_acc: 0.2480 - lr: 1.5000e-04\n",
      "Epoch 10/100\n",
      "898/898 [==============================] - 78s 87ms/step - loss: 2.1032 - acc: 0.2619 - val_loss: 2.0977 - val_acc: 0.2654 - lr: 1.5000e-04\n",
      "Epoch 11/100\n",
      "898/898 [==============================] - 75s 84ms/step - loss: 1.8443 - acc: 0.2736 - val_loss: 1.7880 - val_acc: 0.2803 - lr: 1.5000e-05\n",
      "Epoch 12/100\n",
      "898/898 [==============================] - 75s 84ms/step - loss: 1.8268 - acc: 0.2774 - val_loss: 1.7713 - val_acc: 0.3002 - lr: 1.5000e-05\n",
      "Epoch 13/100\n",
      "898/898 [==============================] - 78s 87ms/step - loss: 1.8292 - acc: 0.2742 - val_loss: 1.7687 - val_acc: 0.2991 - lr: 1.5000e-05\n",
      "Epoch 14/100\n",
      "898/898 [==============================] - 75s 84ms/step - loss: 1.8221 - acc: 0.2801 - val_loss: 1.7622 - val_acc: 0.3020 - lr: 1.5000e-05\n",
      "Epoch 15/100\n",
      "898/898 [==============================] - 76s 84ms/step - loss: 1.8216 - acc: 0.2805 - val_loss: 1.7825 - val_acc: 0.2863 - lr: 1.5000e-05\n",
      "Epoch 16/100\n",
      "898/898 [==============================] - 77s 86ms/step - loss: 1.8212 - acc: 0.2866 - val_loss: 1.7636 - val_acc: 0.3018 - lr: 1.5000e-05\n",
      "Epoch 17/100\n",
      "898/898 [==============================] - 75s 84ms/step - loss: 1.8230 - acc: 0.2845 - val_loss: 1.7674 - val_acc: 0.3036 - lr: 1.5000e-05\n",
      "Epoch 18/100\n",
      "898/898 [==============================] - 75s 84ms/step - loss: 1.8261 - acc: 0.2884 - val_loss: 1.8280 - val_acc: 0.2763 - lr: 1.5000e-05\n",
      "Epoch 19/100\n",
      "898/898 [==============================] - 75s 84ms/step - loss: 1.8046 - acc: 0.2927 - val_loss: 1.7772 - val_acc: 0.2991 - lr: 1.5000e-05\n",
      "Epoch 20/100\n",
      "898/898 [==============================] - 77s 84ms/step - loss: 1.7969 - acc: 0.2918 - val_loss: 1.7810 - val_acc: 0.2885 - lr: 1.5000e-05\n",
      "Epoch 21/100\n",
      "898/898 [==============================] - 75s 84ms/step - loss: 1.7901 - acc: 0.2999 - val_loss: 1.7977 - val_acc: 0.2852 - lr: 1.5000e-05\n",
      "Epoch 22/100\n",
      "898/898 [==============================] - 76s 84ms/step - loss: 1.7844 - acc: 0.2965 - val_loss: 1.9175 - val_acc: 0.2566 - lr: 1.5000e-05\n",
      "Epoch 23/100\n",
      "898/898 [==============================] - 77s 86ms/step - loss: 1.7433 - acc: 0.2972 - val_loss: 1.7379 - val_acc: 0.2864 - lr: 1.5000e-06\n",
      "Epoch 24/100\n",
      "898/898 [==============================] - 75s 84ms/step - loss: 1.7424 - acc: 0.2995 - val_loss: 1.7549 - val_acc: 0.2842 - lr: 1.5000e-06\n",
      "Epoch 25/100\n",
      "898/898 [==============================] - 75s 84ms/step - loss: 1.7390 - acc: 0.2996 - val_loss: 1.7200 - val_acc: 0.2967 - lr: 1.5000e-06\n",
      "Epoch 26/100\n",
      "898/898 [==============================] - 75s 84ms/step - loss: 1.7379 - acc: 0.3011 - val_loss: 1.7265 - val_acc: 0.2969 - lr: 1.5000e-06\n",
      "Epoch 27/100\n",
      "898/898 [==============================] - 78s 87ms/step - loss: 1.7429 - acc: 0.2996 - val_loss: 1.7262 - val_acc: 0.2949 - lr: 1.5000e-06\n"
     ]
    }
   ],
   "source": [
    "epochs = 100\n",
    "steps_per_epoch = 1000\n",
    "\n",
    "CNN_v3c_history = CNN_v3c_model.fit(train_dataflow, \n",
    "                                  epochs = epochs, \n",
    "                                  validation_data=(test_dataflow),\n",
    "                                  #steps_per_epoch=steps_per_epoch,\n",
    "                                  callbacks=[early_callback, myCallback,reduceLR])"
   ]
  },
  {
   "cell_type": "code",
   "execution_count": 124,
   "id": "fd920e82-ff77-4ecc-9344-fb34508c0d21",
   "metadata": {
    "tags": []
   },
   "outputs": [
    {
     "data": {
      "image/png": "[encoded data removed]",
      "text/plain": [
       "<Figure size 432x288 with 1 Axes>"
      ]
     },
     "metadata": {
      "needs_background": "light"
     },
     "output_type": "display_data"
    },
    {
     "data": {
      "image/png": "[encoded data removed]",
      "text/plain": [
       "<Figure size 432x288 with 1 Axes>"
      ]
     },
     "metadata": {
      "needs_background": "light"
     },
     "output_type": "display_data"
    }
   ],
   "source": [
    "plot_results(CNN_v3c_history)"
   ]
  },
  {
   "cell_type": "code",
   "execution_count": 125,
   "id": "2a35dcd3-c8cc-4e9b-bea0-dbf391154e2c",
   "metadata": {},
   "outputs": [
    {
     "name": "stdout",
     "output_type": "stream",
     "text": [
      "              precision    recall  f1-score   support\n",
      "\n",
      "       angry       0.00      0.00      0.00       958\n",
      "     disgust       0.00      0.00      0.00       111\n",
      "        fear       0.32      0.03      0.05      1024\n",
      "       happy       0.28      0.91      0.43      1774\n",
      "     neutral       0.29      0.04      0.07      1233\n",
      "         sad       0.35      0.03      0.05      1247\n",
      "    surprise       0.40      0.54      0.46       831\n",
      "\n",
      "    accuracy                           0.30      7178\n",
      "   macro avg       0.24      0.22      0.15      7178\n",
      "weighted avg       0.27      0.30      0.19      7178\n",
      "\n"
     ]
    },
    {
     "name": "stderr",
     "output_type": "stream",
     "text": [
      "C:\\Users\\Randy\\Venv\\testpy39\\lib\\site-packages\\sklearn\\metrics\\_classification.py:1308: UndefinedMetricWarning: Precision and F-score are ill-defined and being set to 0.0 in labels with no predicted samples. Use `zero_division` parameter to control this behavior.\n",
      "  _warn_prf(average, modifier, msg_start, len(result))\n",
      "C:\\Users\\Randy\\Venv\\testpy39\\lib\\site-packages\\sklearn\\metrics\\_classification.py:1308: UndefinedMetricWarning: Precision and F-score are ill-defined and being set to 0.0 in labels with no predicted samples. Use `zero_division` parameter to control this behavior.\n",
      "  _warn_prf(average, modifier, msg_start, len(result))\n",
      "C:\\Users\\Randy\\Venv\\testpy39\\lib\\site-packages\\sklearn\\metrics\\_classification.py:1308: UndefinedMetricWarning: Precision and F-score are ill-defined and being set to 0.0 in labels with no predicted samples. Use `zero_division` parameter to control this behavior.\n",
      "  _warn_prf(average, modifier, msg_start, len(result))\n"
     ]
    }
   ],
   "source": [
    "display_classifcation_report(CNN_v3c_model,test_dataflow)"
   ]
  },
  {
   "cell_type": "markdown",
   "id": "6df15d32-14ad-4dc6-87aa-93c5efd28932",
   "metadata": {},
   "source": [
    "CNN_v3c_model.save('CNN_v3c_model_100epochs.h5')"
   ]
  },
  {
   "cell_type": "code",
   "execution_count": null,
   "id": "bc6fa234-e0eb-493f-8482-7fa6f237d280",
   "metadata": {},
   "outputs": [],
   "source": []
  },
  {
   "cell_type": "markdown",
   "id": "26dc2bec-0856-428e-abdc-27fbfbe1eaa8",
   "metadata": {
    "tags": []
   },
   "source": [
    "# Transfer Learning with Different Optimizer"
   ]
  },
  {
   "cell_type": "markdown",
   "id": "3187b2a1-859a-423b-9318-16b50ed78174",
   "metadata": {},
   "source": [
    "## Inception"
   ]
  },
  {
   "cell_type": "code",
   "execution_count": null,
   "id": "54c0e17b-60c0-419c-862e-e99eca880b52",
   "metadata": {},
   "outputs": [],
   "source": [
    "tl_Incept_model.compile(loss = 'categorical_crossentropy' , \n",
    "                        metrics = ['acc'],\n",
    "                        optimizer = tf.keras.optimizers.Adam(learning_rate=1e-4))"
   ]
  },
  {
   "cell_type": "code",
   "execution_count": null,
   "id": "51acb2e6-2837-4897-b8c0-ffe8b9986714",
   "metadata": {
    "tags": []
   },
   "outputs": [],
   "source": [
    "epochs = 50\n",
    "steps_per_epoch = 1000\n",
    "\n",
    "tl_Incept_history = tl_Incept_model.fit(train_dataflow_rgb,\n",
    "                                          epochs = epochs, \n",
    "                                          validation_data=(test_dataflow_rgb),\n",
    "                                          #steps_per_epoch=steps_per_epoch,\n",
    "                                          callbacks=[early_callback, myCallback, reduceLR])"
   ]
  },
  {
   "cell_type": "code",
   "execution_count": null,
   "id": "65b52f3b-dc41-4a28-992d-1f8b346b86d5",
   "metadata": {},
   "outputs": [],
   "source": [
    "plot_results(tl_Incept_history)"
   ]
  },
  {
   "cell_type": "markdown",
   "id": "4dc9a2de-c812-4f6f-bc6d-bf3759a7e0bc",
   "metadata": {},
   "source": [
    "tl_Incept_model.save('tl_Incept_model_epochs100.h5')"
   ]
  },
  {
   "cell_type": "code",
   "execution_count": null,
   "id": "1e20f84c-795f-455d-a30d-e128a0fb484b",
   "metadata": {},
   "outputs": [],
   "source": [
    "display_classifcation_report(tl_Incept_model,test_dataflow_rgb)"
   ]
  },
  {
   "cell_type": "markdown",
   "id": "988c1c33-34e9-4de0-a272-e2cd2dd1043f",
   "metadata": {},
   "source": [
    "## ResNet"
   ]
  },
  {
   "cell_type": "code",
   "execution_count": null,
   "id": "4163d350-dbc4-4edf-b4e3-c3380f19e30a",
   "metadata": {},
   "outputs": [],
   "source": [
    "tf_resnet_model.compile(loss = 'categorical_crossentropy' , \n",
    "                        metrics = ['acc'],\n",
    "                        optimizer = tf.keras.optimizers.Adam(learning_rate=1e-4))"
   ]
  },
  {
   "cell_type": "code",
   "execution_count": null,
   "id": "993ca79e-ad77-4aed-ad98-75abc2d28539",
   "metadata": {
    "tags": []
   },
   "outputs": [],
   "source": [
    "epochs = 50\n",
    "steps_per_epoch = 1000\n",
    "\n",
    "tf_resnet_history = tf_resnet_model.fit(train_dataflow_rgb, \n",
    "                                          epochs = epochs, \n",
    "                                          validation_data=(test_dataflow_rgb),\n",
    "                                          #steps_per_epoch=steps_per_epoch,\n",
    "                                          callbacks=[early_callback, myCallback, reduceLR])"
   ]
  },
  {
   "cell_type": "code",
   "execution_count": null,
   "id": "c8d5f1bf-c8af-4e3f-9631-da71486ed024",
   "metadata": {},
   "outputs": [],
   "source": [
    "plot_results(tf_resnet_history)"
   ]
  },
  {
   "cell_type": "markdown",
   "id": "2cde5950-868a-42a6-9eda-61df1dfb3b36",
   "metadata": {},
   "source": [
    "tf_resnet_model.save('tf_resnet_model_epochs50.h5')"
   ]
  },
  {
   "cell_type": "code",
   "execution_count": null,
   "id": "5794d597-0a9a-41da-a78c-d23e36fde20d",
   "metadata": {},
   "outputs": [],
   "source": [
    "display_classifcation_report(tf_resnet_model,test_dataflow_rgb)"
   ]
  },
  {
   "cell_type": "markdown",
   "id": "1b0002b2-d729-42b7-898f-8282ee2cfa78",
   "metadata": {},
   "source": [
    "## ResNet from Kaggle"
   ]
  },
  {
   "cell_type": "code",
   "execution_count": 126,
   "id": "c953c03f-aea3-4b3d-9082-d17ac35861f2",
   "metadata": {
    "papermill": {
     "duration": 2.593869,
     "end_time": "2021-03-19T14:11:42.669451",
     "exception": false,
     "start_time": "2021-03-19T14:11:40.075582",
     "status": "completed"
    },
    "tags": []
   },
   "outputs": [],
   "source": [
    "base_model = tf.keras.applications.ResNet50(input_shape=(48,48,3),include_top=False,weights=\"imagenet\")"
   ]
  },
  {
   "cell_type": "code",
   "execution_count": 127,
   "id": "4d556593-38b4-4977-891c-d319df7eafcc",
   "metadata": {
    "papermill": {
     "duration": 0.034786,
     "end_time": "2021-03-19T14:11:42.726604",
     "exception": false,
     "start_time": "2021-03-19T14:11:42.691818",
     "status": "completed"
    },
    "tags": []
   },
   "outputs": [],
   "source": [
    "# Freezing Layers\n",
    "\n",
    "for layer in base_model.layers[:-4]:\n",
    "    layer.trainable=False"
   ]
  },
  {
   "cell_type": "code",
   "execution_count": 131,
   "id": "66b51655-62ed-4ecd-af0c-1e2f1bf4bc9a",
   "metadata": {
    "papermill": {
     "duration": 0.569345,
     "end_time": "2021-03-19T14:11:43.316946",
     "exception": false,
     "start_time": "2021-03-19T14:11:42.747601",
     "status": "completed"
    },
    "tags": []
   },
   "outputs": [],
   "source": [
    "# Building Model\n",
    "model=tf.keras.models.Sequential()\n",
    "model.add(base_model)\n",
    "model.add(tf.keras.layers.Dropout(0.5))\n",
    "model.add(tf.keras.layers.Flatten())\n",
    "model.add(tf.keras.layers.BatchNormalization())\n",
    "model.add(tf.keras.layers.Dense(32,kernel_initializer='he_uniform'))\n",
    "model.add(tf.keras.layers.BatchNormalization())\n",
    "model.add(tf.keras.layers.Activation('relu'))\n",
    "model.add(tf.keras.layers.Dropout(0.5))\n",
    "model.add(tf.keras.layers.Dense(32,kernel_initializer='he_uniform'))\n",
    "model.add(tf.keras.layers.BatchNormalization())\n",
    "model.add(tf.keras.layers.Activation('relu'))\n",
    "model.add(tf.keras.layers.Dropout(0.5))\n",
    "model.add(tf.keras.layers.Dense(32,kernel_initializer='he_uniform'))\n",
    "model.add(tf.keras.layers.BatchNormalization())\n",
    "model.add(tf.keras.layers.Activation('relu'))\n",
    "model.add(tf.keras.layers.Dense(7,activation='softmax'))"
   ]
  },
  {
   "cell_type": "code",
   "execution_count": 132,
   "id": "1ca3d52a-45ed-466b-8cf7-3706c08d3035",
   "metadata": {
    "collapsed": true,
    "jupyter": {
     "outputs_hidden": true
    },
    "papermill": {
     "duration": 0.046727,
     "end_time": "2021-03-19T14:11:43.384852",
     "exception": false,
     "start_time": "2021-03-19T14:11:43.338125",
     "status": "completed"
    },
    "tags": []
   },
   "outputs": [
    {
     "name": "stdout",
     "output_type": "stream",
     "text": [
      "Model: \"sequential_8\"\n",
      "_________________________________________________________________\n",
      " Layer (type)                Output Shape              Param #   \n",
      "=================================================================\n",
      " resnet50 (Functional)       (None, 2, 2, 2048)        23587712  \n",
      "                                                                 \n",
      " dropout_29 (Dropout)        (None, 2, 2, 2048)        0         \n",
      "                                                                 \n",
      " flatten_8 (Flatten)         (None, 8192)              0         \n",
      "                                                                 \n",
      " batch_normalization_120 (Ba  (None, 8192)             32768     \n",
      " tchNormalization)                                               \n",
      "                                                                 \n",
      " dense_22 (Dense)            (None, 32)                262176    \n",
      "                                                                 \n",
      " batch_normalization_121 (Ba  (None, 32)               128       \n",
      " tchNormalization)                                               \n",
      "                                                                 \n",
      " activation_94 (Activation)  (None, 32)                0         \n",
      "                                                                 \n",
      " dropout_30 (Dropout)        (None, 32)                0         \n",
      "                                                                 \n",
      " dense_23 (Dense)            (None, 32)                1056      \n",
      "                                                                 \n",
      " batch_normalization_122 (Ba  (None, 32)               128       \n",
      " tchNormalization)                                               \n",
      "                                                                 \n",
      " activation_95 (Activation)  (None, 32)                0         \n",
      "                                                                 \n",
      " dropout_31 (Dropout)        (None, 32)                0         \n",
      "                                                                 \n",
      " dense_24 (Dense)            (None, 32)                1056      \n",
      "                                                                 \n",
      " batch_normalization_123 (Ba  (None, 32)               128       \n",
      " tchNormalization)                                               \n",
      "                                                                 \n",
      " activation_96 (Activation)  (None, 32)                0         \n",
      "                                                                 \n",
      " dense_25 (Dense)            (None, 7)                 231       \n",
      "                                                                 \n",
      "=================================================================\n",
      "Total params: 23,885,383\n",
      "Trainable params: 1,335,815\n",
      "Non-trainable params: 22,549,568\n",
      "_________________________________________________________________\n"
     ]
    }
   ],
   "source": [
    "# Model Summary\n",
    "\n",
    "model.summary()"
   ]
  },
  {
   "cell_type": "code",
   "execution_count": 140,
   "id": "ffbcee96-b967-461c-b5ff-a5817c23a840",
   "metadata": {
    "papermill": {
     "duration": 0.034011,
     "end_time": "2021-03-19T14:11:44.326686",
     "exception": false,
     "start_time": "2021-03-19T14:11:44.292675",
     "status": "completed"
    },
    "tags": []
   },
   "outputs": [],
   "source": [
    "lrd = tf.keras.callbacks.ReduceLROnPlateau(monitor = 'val_acc',patience = 20,verbose = 1,factor = 0.50, min_lr = 1e-10)\n",
    "\n",
    "mcp = tf.keras.callbacks.ModelCheckpoint('model.h5')\n",
    "\n",
    "es = tf.keras.callbacks.EarlyStopping(verbose=1, patience=20)"
   ]
  },
  {
   "cell_type": "code",
   "execution_count": 134,
   "id": "18018bed-5b89-4a0c-8836-ad7d36db6f4d",
   "metadata": {
    "papermill": {
     "duration": 0.049266,
     "end_time": "2021-03-19T14:11:44.401331",
     "exception": false,
     "start_time": "2021-03-19T14:11:44.352065",
     "status": "completed"
    },
    "tags": []
   },
   "outputs": [],
   "source": [
    "model.compile(optimizer='Adam', loss='categorical_crossentropy',metrics=['acc'])"
   ]
  },
  {
   "cell_type": "code",
   "execution_count": 136,
   "id": "f7eb40ac-3f94-497f-a278-71479807e970",
   "metadata": {
    "collapsed": true,
    "jupyter": {
     "outputs_hidden": true
    },
    "papermill": {
     "duration": 9773.401006,
     "end_time": "2021-03-19T16:54:37.828798",
     "exception": false,
     "start_time": "2021-03-19T14:11:44.427792",
     "status": "completed"
    },
    "tags": []
   },
   "outputs": [
    {
     "name": "stdout",
     "output_type": "stream",
     "text": [
      "Epoch 1/60\n",
      "898/898 [==============================] - ETA: 0s - loss: 1.8690 - acc: 0.2195WARNING:tensorflow:Learning rate reduction is conditioned on metric `val_loss` which is not available. Available metrics are: loss,acc,lr\n"
     ]
    },
    {
     "name": "stderr",
     "output_type": "stream",
     "text": [
      "C:\\Users\\Randy\\Venv\\testpy39\\lib\\site-packages\\keras\\engine\\functional.py:1410: CustomMaskWarning: Custom mask layers require a config and must override get_config. When loading, the custom mask layer must be passed to the custom_objects argument.\n",
      "  layer_config = serialize_layer_fn(layer)\n"
     ]
    },
    {
     "name": "stdout",
     "output_type": "stream",
     "text": [
      "WARNING:tensorflow:Early stopping conditioned on metric `val_loss` which is not available. Available metrics are: loss,acc,lr\n",
      "898/898 [==============================] - 159s 176ms/step - loss: 1.8690 - acc: 0.2195 - lr: 0.0010\n",
      "Epoch 2/60\n",
      "898/898 [==============================] - ETA: 0s - loss: 1.8209 - acc: 0.2431WARNING:tensorflow:Learning rate reduction is conditioned on metric `val_loss` which is not available. Available metrics are: loss,acc,lr\n",
      "WARNING:tensorflow:Early stopping conditioned on metric `val_loss` which is not available. Available metrics are: loss,acc,lr\n",
      "898/898 [==============================] - 158s 176ms/step - loss: 1.8209 - acc: 0.2431 - lr: 0.0010\n",
      "Epoch 3/60\n",
      "898/898 [==============================] - ETA: 0s - loss: 1.8164 - acc: 0.2434WARNING:tensorflow:Learning rate reduction is conditioned on metric `val_loss` which is not available. Available metrics are: loss,acc,lr\n",
      "WARNING:tensorflow:Early stopping conditioned on metric `val_loss` which is not available. Available metrics are: loss,acc,lr\n",
      "898/898 [==============================] - 161s 179ms/step - loss: 1.8164 - acc: 0.2434 - lr: 0.0010\n",
      "Epoch 4/60\n",
      "898/898 [==============================] - ETA: 0s - loss: 1.8124 - acc: 0.2477WARNING:tensorflow:Learning rate reduction is conditioned on metric `val_loss` which is not available. Available metrics are: loss,acc,lr\n",
      "WARNING:tensorflow:Early stopping conditioned on metric `val_loss` which is not available. Available metrics are: loss,acc,lr\n",
      "898/898 [==============================] - 178s 199ms/step - loss: 1.8124 - acc: 0.2477 - lr: 0.0010\n",
      "Epoch 5/60\n",
      "898/898 [==============================] - ETA: 0s - loss: 1.8097 - acc: 0.2488WARNING:tensorflow:Learning rate reduction is conditioned on metric `val_loss` which is not available. Available metrics are: loss,acc,lr\n",
      "WARNING:tensorflow:Early stopping conditioned on metric `val_loss` which is not available. Available metrics are: loss,acc,lr\n",
      "898/898 [==============================] - 162s 181ms/step - loss: 1.8097 - acc: 0.2488 - lr: 0.0010\n",
      "Epoch 6/60\n",
      "898/898 [==============================] - ETA: 0s - loss: 1.8061 - acc: 0.2495WARNING:tensorflow:Learning rate reduction is conditioned on metric `val_loss` which is not available. Available metrics are: loss,acc,lr\n",
      "WARNING:tensorflow:Early stopping conditioned on metric `val_loss` which is not available. Available metrics are: loss,acc,lr\n",
      "898/898 [==============================] - 163s 181ms/step - loss: 1.8061 - acc: 0.2495 - lr: 0.0010\n",
      "Epoch 7/60\n",
      "898/898 [==============================] - ETA: 0s - loss: 1.8043 - acc: 0.2503WARNING:tensorflow:Learning rate reduction is conditioned on metric `val_loss` which is not available. Available metrics are: loss,acc,lr\n",
      "WARNING:tensorflow:Early stopping conditioned on metric `val_loss` which is not available. Available metrics are: loss,acc,lr\n",
      "898/898 [==============================] - 161s 180ms/step - loss: 1.8043 - acc: 0.2503 - lr: 0.0010\n",
      "Epoch 8/60\n",
      "898/898 [==============================] - ETA: 0s - loss: 1.8026 - acc: 0.2502WARNING:tensorflow:Learning rate reduction is conditioned on metric `val_loss` which is not available. Available metrics are: loss,acc,lr\n",
      "WARNING:tensorflow:Early stopping conditioned on metric `val_loss` which is not available. Available metrics are: loss,acc,lr\n",
      "898/898 [==============================] - 170s 189ms/step - loss: 1.8026 - acc: 0.2502 - lr: 0.0010\n",
      "Epoch 9/60\n",
      "898/898 [==============================] - ETA: 0s - loss: 1.7984 - acc: 0.2510WARNING:tensorflow:Learning rate reduction is conditioned on metric `val_loss` which is not available. Available metrics are: loss,acc,lr\n",
      "WARNING:tensorflow:Early stopping conditioned on metric `val_loss` which is not available. Available metrics are: loss,acc,lr\n",
      "898/898 [==============================] - 169s 189ms/step - loss: 1.7984 - acc: 0.2510 - lr: 0.0010\n",
      "Epoch 10/60\n",
      "898/898 [==============================] - ETA: 0s - loss: 1.7967 - acc: 0.2522WARNING:tensorflow:Learning rate reduction is conditioned on metric `val_loss` which is not available. Available metrics are: loss,acc,lr\n",
      "WARNING:tensorflow:Early stopping conditioned on metric `val_loss` which is not available. Available metrics are: loss,acc,lr\n",
      "898/898 [==============================] - 174s 194ms/step - loss: 1.7967 - acc: 0.2522 - lr: 0.0010\n",
      "Epoch 11/60\n",
      "898/898 [==============================] - ETA: 0s - loss: 1.7964 - acc: 0.2527WARNING:tensorflow:Learning rate reduction is conditioned on metric `val_loss` which is not available. Available metrics are: loss,acc,lr\n",
      "WARNING:tensorflow:Early stopping conditioned on metric `val_loss` which is not available. Available metrics are: loss,acc,lr\n",
      "898/898 [==============================] - 172s 191ms/step - loss: 1.7964 - acc: 0.2527 - lr: 0.0010\n",
      "Epoch 12/60\n",
      "898/898 [==============================] - ETA: 0s - loss: 1.7928 - acc: 0.2545WARNING:tensorflow:Learning rate reduction is conditioned on metric `val_loss` which is not available. Available metrics are: loss,acc,lr\n",
      "WARNING:tensorflow:Early stopping conditioned on metric `val_loss` which is not available. Available metrics are: loss,acc,lr\n",
      "898/898 [==============================] - 171s 190ms/step - loss: 1.7928 - acc: 0.2545 - lr: 0.0010\n",
      "Epoch 13/60\n",
      "898/898 [==============================] - ETA: 0s - loss: 1.7928 - acc: 0.2565WARNING:tensorflow:Learning rate reduction is conditioned on metric `val_loss` which is not available. Available metrics are: loss,acc,lr\n",
      "WARNING:tensorflow:Early stopping conditioned on metric `val_loss` which is not available. Available metrics are: loss,acc,lr\n",
      "898/898 [==============================] - 171s 190ms/step - loss: 1.7928 - acc: 0.2565 - lr: 0.0010\n",
      "Epoch 14/60\n",
      "898/898 [==============================] - ETA: 0s - loss: 1.7895 - acc: 0.2540- ETA: 6s  - ETA: 1s - loss: 1.7894 - acc: 0.25 - ETA: 0s - loss: 1.7895 - acc: 0.WARNING:tensorflow:Learning rate reduction is conditioned on metric `val_loss` which is not available. Available metrics are: loss,acc,lr\n",
      "WARNING:tensorflow:Early stopping conditioned on metric `val_loss` which is not available. Available metrics are: loss,acc,lr\n",
      "898/898 [==============================] - 170s 190ms/step - loss: 1.7895 - acc: 0.2540 - lr: 0.0010\n",
      "Epoch 15/60\n",
      "898/898 [==============================] - ETA: 0s - loss: 1.7881 - acc: 0.2586WARNING:tensorflow:Learning rate reduction is conditioned on metric `val_loss` which is not available. Available metrics are: loss,acc,lr\n",
      "WARNING:tensorflow:Early stopping conditioned on metric `val_loss` which is not available. Available metrics are: loss,acc,lr\n",
      "898/898 [==============================] - 171s 190ms/step - loss: 1.7881 - acc: 0.2586 - lr: 0.0010\n",
      "Epoch 16/60\n",
      "898/898 [==============================] - ETA: 0s - loss: 1.7874 - acc: 0.2544WARNING:tensorflow:Learning rate reduction is conditioned on metric `val_loss` which is not available. Available metrics are: loss,acc,lr\n",
      "WARNING:tensorflow:Early stopping conditioned on metric `val_loss` which is not available. Available metrics are: loss,acc,lr\n",
      "898/898 [==============================] - 169s 188ms/step - loss: 1.7874 - acc: 0.2544 - lr: 0.0010\n",
      "Epoch 17/60\n",
      "898/898 [==============================] - ETA: 0s - loss: 1.7818 - acc: 0.2623WARNING:tensorflow:Learning rate reduction is conditioned on metric `val_loss` which is not available. Available metrics are: loss,acc,lr\n",
      "WARNING:tensorflow:Early stopping conditioned on metric `val_loss` which is not available. Available metrics are: loss,acc,lr\n",
      "898/898 [==============================] - 170s 189ms/step - loss: 1.7818 - acc: 0.2623 - lr: 0.0010\n",
      "Epoch 18/60\n",
      "898/898 [==============================] - ETA: 0s - loss: 1.7846 - acc: 0.2611WARNING:tensorflow:Learning rate reduction is conditioned on metric `val_loss` which is not available. Available metrics are: loss,acc,lr\n",
      "WARNING:tensorflow:Early stopping conditioned on metric `val_loss` which is not available. Available metrics are: loss,acc,lr\n",
      "898/898 [==============================] - 170s 190ms/step - loss: 1.7846 - acc: 0.2611 - lr: 0.0010\n",
      "Epoch 19/60\n",
      "898/898 [==============================] - ETA: 0s - loss: 1.7855 - acc: 0.2569- ETA: 2s - loss: 1.7856 - WARNING:tensorflow:Learning rate reduction is conditioned on metric `val_loss` which is not available. Available metrics are: loss,acc,lr\n",
      "WARNING:tensorflow:Early stopping conditioned on metric `val_loss` which is not available. Available metrics are: loss,acc,lr\n",
      "898/898 [==============================] - 171s 190ms/step - loss: 1.7855 - acc: 0.2569 - lr: 0.0010\n",
      "Epoch 20/60\n",
      "898/898 [==============================] - ETA: 0s - loss: 1.7834 - acc: 0.2584WARNING:tensorflow:Learning rate reduction is conditioned on metric `val_loss` which is not available. Available metrics are: loss,acc,lr\n",
      "WARNING:tensorflow:Early stopping conditioned on metric `val_loss` which is not available. Available metrics are: loss,acc,lr\n",
      "898/898 [==============================] - 170s 190ms/step - loss: 1.7834 - acc: 0.2584 - lr: 0.0010\n",
      "Epoch 21/60\n",
      "898/898 [==============================] - ETA: 0s - loss: 1.7821 - acc: 0.2626WARNING:tensorflow:Learning rate reduction is conditioned on metric `val_loss` which is not available. Available metrics are: loss,acc,lr\n",
      "WARNING:tensorflow:Early stopping conditioned on metric `val_loss` which is not available. Available metrics are: loss,acc,lr\n",
      "898/898 [==============================] - 171s 191ms/step - loss: 1.7821 - acc: 0.2626 - lr: 0.0010\n",
      "Epoch 22/60\n",
      "898/898 [==============================] - ETA: 0s - loss: 1.7846 - acc: 0.2584WARNING:tensorflow:Learning rate reduction is conditioned on metric `val_loss` which is not available. Available metrics are: loss,acc,lr\n",
      "WARNING:tensorflow:Early stopping conditioned on metric `val_loss` which is not available. Available metrics are: loss,acc,lr\n",
      "898/898 [==============================] - 170s 189ms/step - loss: 1.7846 - acc: 0.2584 - lr: 0.0010\n",
      "Epoch 23/60\n",
      "898/898 [==============================] - ETA: 0s - loss: 1.7796 - acc: 0.2635WARNING:tensorflow:Learning rate reduction is conditioned on metric `val_loss` which is not available. Available metrics are: loss,acc,lr\n",
      "WARNING:tensorflow:Early stopping conditioned on metric `val_loss` which is not available. Available metrics are: loss,acc,lr\n",
      "898/898 [==============================] - 170s 190ms/step - loss: 1.7796 - acc: 0.2635 - lr: 0.0010\n",
      "Epoch 24/60\n",
      "898/898 [==============================] - ETA: 0s - loss: 1.7808 - acc: 0.2594WARNING:tensorflow:Learning rate reduction is conditioned on metric `val_loss` which is not available. Available metrics are: loss,acc,lr\n",
      "WARNING:tensorflow:Early stopping conditioned on metric `val_loss` which is not available. Available metrics are: loss,acc,lr\n",
      "898/898 [==============================] - 170s 189ms/step - loss: 1.7808 - acc: 0.2594 - lr: 0.0010\n",
      "Epoch 25/60\n",
      "898/898 [==============================] - ETA: 0s - loss: 1.7795 - acc: 0.2630WARNING:tensorflow:Learning rate reduction is conditioned on metric `val_loss` which is not available. Available metrics are: loss,acc,lr\n",
      "WARNING:tensorflow:Early stopping conditioned on metric `val_loss` which is not available. Available metrics are: loss,acc,lr\n",
      "898/898 [==============================] - 168s 187ms/step - loss: 1.7795 - acc: 0.2630 - lr: 0.0010\n",
      "Epoch 26/60\n",
      "898/898 [==============================] - ETA: 0s - loss: 1.7776 - acc: 0.2644WARNING:tensorflow:Learning rate reduction is conditioned on metric `val_loss` which is not available. Available metrics are: loss,acc,lr\n",
      "WARNING:tensorflow:Early stopping conditioned on metric `val_loss` which is not available. Available metrics are: loss,acc,lr\n",
      "898/898 [==============================] - 172s 191ms/step - loss: 1.7776 - acc: 0.2644 - lr: 0.0010\n",
      "Epoch 27/60\n",
      "898/898 [==============================] - ETA: 0s - loss: 1.7795 - acc: 0.2644WARNING:tensorflow:Learning rate reduction is conditioned on metric `val_loss` which is not available. Available metrics are: loss,acc,lr\n",
      "WARNING:tensorflow:Early stopping conditioned on metric `val_loss` which is not available. Available metrics are: loss,acc,lr\n",
      "898/898 [==============================] - 168s 187ms/step - loss: 1.7795 - acc: 0.2644 - lr: 0.0010\n",
      "Epoch 28/60\n",
      "898/898 [==============================] - ETA: 0s - loss: 1.7778 - acc: 0.2606WARNING:tensorflow:Learning rate reduction is conditioned on metric `val_loss` which is not available. Available metrics are: loss,acc,lr\n",
      "WARNING:tensorflow:Early stopping conditioned on metric `val_loss` which is not available. Available metrics are: loss,acc,lr\n",
      "898/898 [==============================] - 169s 188ms/step - loss: 1.7778 - acc: 0.2606 - lr: 0.0010\n",
      "Epoch 29/60\n",
      "898/898 [==============================] - ETA: 0s - loss: 1.7774 - acc: 0.2653-WARNING:tensorflow:Learning rate reduction is conditioned on metric `val_loss` which is not available. Available metrics are: loss,acc,lr\n",
      "WARNING:tensorflow:Early stopping conditioned on metric `val_loss` which is not available. Available metrics are: loss,acc,lr\n",
      "898/898 [==============================] - 168s 187ms/step - loss: 1.7774 - acc: 0.2653 - lr: 0.0010\n",
      "Epoch 30/60\n",
      "898/898 [==============================] - ETA: 0s - loss: 1.7786 - acc: 0.2656WARNING:tensorflow:Learning rate reduction is conditioned on metric `val_loss` which is not available. Available metrics are: loss,acc,lr\n",
      "WARNING:tensorflow:Early stopping conditioned on metric `val_loss` which is not available. Available metrics are: loss,acc,lr\n",
      "898/898 [==============================] - 167s 186ms/step - loss: 1.7786 - acc: 0.2656 - lr: 0.0010\n",
      "Epoch 31/60\n",
      "898/898 [==============================] - ETA: 0s - loss: 1.7777 - acc: 0.2632- ETA: 0s - loss: 1.7777 - acc: 0.263WARNING:tensorflow:Learning rate reduction is conditioned on metric `val_loss` which is not available. Available metrics are: loss,acc,lr\n",
      "WARNING:tensorflow:Early stopping conditioned on metric `val_loss` which is not available. Available metrics are: loss,acc,lr\n",
      "898/898 [==============================] - 169s 188ms/step - loss: 1.7777 - acc: 0.2632 - lr: 0.0010\n",
      "Epoch 32/60\n",
      "898/898 [==============================] - ETA: 0s - loss: 1.7757 - acc: 0.2664WARNING:tensorflow:Learning rate reduction is conditioned on metric `val_loss` which is not available. Available metrics are: loss,acc,lr\n",
      "WARNING:tensorflow:Early stopping conditioned on metric `val_loss` which is not available. Available metrics are: loss,acc,lr\n",
      "898/898 [==============================] - 174s 193ms/step - loss: 1.7757 - acc: 0.2664 - lr: 0.0010\n",
      "Epoch 33/60\n",
      "898/898 [==============================] - ETA: 0s - loss: 1.7747 - acc: 0.2664WARNING:tensorflow:Learning rate reduction is conditioned on metric `val_loss` which is not available. Available metrics are: loss,acc,lr\n",
      "WARNING:tensorflow:Early stopping conditioned on metric `val_loss` which is not available. Available metrics are: loss,acc,lr\n",
      "898/898 [==============================] - 168s 187ms/step - loss: 1.7747 - acc: 0.2664 - lr: 0.0010\n",
      "Epoch 34/60\n",
      "898/898 [==============================] - ETA: 0s - loss: 1.7747 - acc: 0.2670WARNING:tensorflow:Learning rate reduction is conditioned on metric `val_loss` which is not available. Available metrics are: loss,acc,lr\n",
      "WARNING:tensorflow:Early stopping conditioned on metric `val_loss` which is not available. Available metrics are: loss,acc,lr\n",
      "898/898 [==============================] - 169s 188ms/step - loss: 1.7747 - acc: 0.2670 - lr: 0.0010\n",
      "Epoch 35/60\n",
      "898/898 [==============================] - ETA: 0s - loss: 1.7762 - acc: 0.2657WARNING:tensorflow:Learning rate reduction is conditioned on metric `val_loss` which is not available. Available metrics are: loss,acc,lr\n",
      "WARNING:tensorflow:Early stopping conditioned on metric `val_loss` which is not available. Available metrics are: loss,acc,lr\n",
      "898/898 [==============================] - 168s 187ms/step - loss: 1.7762 - acc: 0.2657 - lr: 0.0010\n",
      "Epoch 36/60\n",
      "898/898 [==============================] - ETA: 0s - loss: 1.7743 - acc: 0.2664WARNING:tensorflow:Learning rate reduction is conditioned on metric `val_loss` which is not available. Available metrics are: loss,acc,lr\n",
      "WARNING:tensorflow:Early stopping conditioned on metric `val_loss` which is not available. Available metrics are: loss,acc,lr\n",
      "898/898 [==============================] - 168s 187ms/step - loss: 1.7743 - acc: 0.2664 - lr: 0.0010\n",
      "Epoch 37/60\n",
      "898/898 [==============================] - ETA: 0s - loss: 1.7738 - acc: 0.2672WARNING:tensorflow:Learning rate reduction is conditioned on metric `val_loss` which is not available. Available metrics are: loss,acc,lr\n",
      "WARNING:tensorflow:Early stopping conditioned on metric `val_loss` which is not available. Available metrics are: loss,acc,lr\n",
      "898/898 [==============================] - 169s 188ms/step - loss: 1.7738 - acc: 0.2672 - lr: 0.0010\n",
      "Epoch 38/60\n",
      "898/898 [==============================] - ETA: 0s - loss: 1.7732 - acc: 0.2646WARNING:tensorflow:Learning rate reduction is conditioned on metric `val_loss` which is not available. Available metrics are: loss,acc,lr\n",
      "WARNING:tensorflow:Early stopping conditioned on metric `val_loss` which is not available. Available metrics are: loss,acc,lr\n",
      "898/898 [==============================] - 166s 184ms/step - loss: 1.7732 - acc: 0.2646 - lr: 0.0010\n",
      "Epoch 39/60\n",
      "898/898 [==============================] - ETA: 0s - loss: 1.7758 - acc: 0.2649WARNING:tensorflow:Learning rate reduction is conditioned on metric `val_loss` which is not available. Available metrics are: loss,acc,lr\n",
      "WARNING:tensorflow:Early stopping conditioned on metric `val_loss` which is not available. Available metrics are: loss,acc,lr\n",
      "898/898 [==============================] - 169s 188ms/step - loss: 1.7758 - acc: 0.2649 - lr: 0.0010\n",
      "Epoch 40/60\n",
      "898/898 [==============================] - ETA: 0s - loss: 1.7741 - acc: 0.2678- ETA: 9s - loss: 1. - ETA: WARNING:tensorflow:Learning rate reduction is conditioned on metric `val_loss` which is not available. Available metrics are: loss,acc,lr\n",
      "WARNING:tensorflow:Early stopping conditioned on metric `val_loss` which is not available. Available metrics are: loss,acc,lr\n",
      "898/898 [==============================] - 168s 187ms/step - loss: 1.7741 - acc: 0.2678 - lr: 0.0010\n",
      "Epoch 41/60\n",
      "898/898 [==============================] - ETA: 0s - loss: 1.7733 - acc: 0.2687WARNING:tensorflow:Learning rate reduction is conditioned on metric `val_loss` which is not available. Available metrics are: loss,acc,lr\n",
      "WARNING:tensorflow:Early stopping conditioned on metric `val_loss` which is not available. Available metrics are: loss,acc,lr\n",
      "898/898 [==============================] - 169s 188ms/step - loss: 1.7733 - acc: 0.2687 - lr: 0.0010\n",
      "Epoch 42/60\n",
      "898/898 [==============================] - ETA: 0s - loss: 1.7737 - acc: 0.2680WARNING:tensorflow:Learning rate reduction is conditioned on metric `val_loss` which is not available. Available metrics are: loss,acc,lr\n",
      "WARNING:tensorflow:Early stopping conditioned on metric `val_loss` which is not available. Available metrics are: loss,acc,lr\n",
      "898/898 [==============================] - 168s 187ms/step - loss: 1.7737 - acc: 0.2680 - lr: 0.0010\n",
      "Epoch 43/60\n",
      "898/898 [==============================] - ETA: 0s - loss: 1.7715 - acc: 0.2688WARNING:tensorflow:Learning rate reduction is conditioned on metric `val_loss` which is not available. Available metrics are: loss,acc,lr\n",
      "WARNING:tensorflow:Early stopping conditioned on metric `val_loss` which is not available. Available metrics are: loss,acc,lr\n",
      "898/898 [==============================] - 170s 189ms/step - loss: 1.7715 - acc: 0.2688 - lr: 0.0010\n",
      "Epoch 44/60\n",
      "898/898 [==============================] - ETA: 0s - loss: 1.7714 - acc: 0.2685- ETA: 1s - loss: 1.7718 - acWARNING:tensorflow:Learning rate reduction is conditioned on metric `val_loss` which is not available. Available metrics are: loss,acc,lr\n",
      "WARNING:tensorflow:Early stopping conditioned on metric `val_loss` which is not available. Available metrics are: loss,acc,lr\n",
      "898/898 [==============================] - 169s 188ms/step - loss: 1.7714 - acc: 0.2685 - lr: 0.0010\n",
      "Epoch 45/60\n",
      "898/898 [==============================] - ETA: 0s - loss: 1.7707 - acc: 0.2669WARNING:tensorflow:Learning rate reduction is conditioned on metric `val_loss` which is not available. Available metrics are: loss,acc,lr\n",
      "WARNING:tensorflow:Early stopping conditioned on metric `val_loss` which is not available. Available metrics are: loss,acc,lr\n",
      "898/898 [==============================] - 168s 187ms/step - loss: 1.7707 - acc: 0.2669 - lr: 0.0010\n",
      "Epoch 46/60\n",
      "898/898 [==============================] - ETA: 0s - loss: 1.7706 - acc: 0.2688WARNING:tensorflow:Learning rate reduction is conditioned on metric `val_loss` which is not available. Available metrics are: loss,acc,lr\n",
      "WARNING:tensorflow:Early stopping conditioned on metric `val_loss` which is not available. Available metrics are: loss,acc,lr\n",
      "898/898 [==============================] - 169s 188ms/step - loss: 1.7706 - acc: 0.2688 - lr: 0.0010\n",
      "Epoch 47/60\n",
      "898/898 [==============================] - ETA: 0s - loss: 1.7692 - acc: 0.2712- ETA: 4s - loss: 1 - ETA: 0s - loss: 1.7694 - acc: 0WARNING:tensorflow:Learning rate reduction is conditioned on metric `val_loss` which is not available. Available metrics are: loss,acc,lr\n",
      "WARNING:tensorflow:Early stopping conditioned on metric `val_loss` which is not available. Available metrics are: loss,acc,lr\n",
      "898/898 [==============================] - 169s 188ms/step - loss: 1.7692 - acc: 0.2712 - lr: 0.0010\n",
      "Epoch 48/60\n",
      "898/898 [==============================] - ETA: 0s - loss: 1.7695 - acc: 0.2702WARNING:tensorflow:Learning rate reduction is conditioned on metric `val_loss` which is not available. Available metrics are: loss,acc,lr\n",
      "WARNING:tensorflow:Early stopping conditioned on metric `val_loss` which is not available. Available metrics are: loss,acc,lr\n",
      "898/898 [==============================] - 167s 185ms/step - loss: 1.7695 - acc: 0.2702 - lr: 0.0010\n",
      "Epoch 49/60\n",
      "898/898 [==============================] - ETA: 0s - loss: 1.7679 - acc: 0.2708WARNING:tensorflow:Learning rate reduction is conditioned on metric `val_loss` which is not available. Available metrics are: loss,acc,lr\n",
      "WARNING:tensorflow:Early stopping conditioned on metric `val_loss` which is not available. Available metrics are: loss,acc,lr\n",
      "898/898 [==============================] - 153s 171ms/step - loss: 1.7679 - acc: 0.2708 - lr: 0.0010\n",
      "Epoch 50/60\n",
      "898/898 [==============================] - ETA: 0s - loss: 1.7688 - acc: 0.2699WARNING:tensorflow:Learning rate reduction is conditioned on metric `val_loss` which is not available. Available metrics are: loss,acc,lr\n",
      "WARNING:tensorflow:Early stopping conditioned on metric `val_loss` which is not available. Available metrics are: loss,acc,lr\n",
      "898/898 [==============================] - 165s 184ms/step - loss: 1.7688 - acc: 0.2699 - lr: 0.0010\n",
      "Epoch 51/60\n",
      "898/898 [==============================] - ETA: 0s - loss: 1.7710 - acc: 0.2719WARNING:tensorflow:Learning rate reduction is conditioned on metric `val_loss` which is not available. Available metrics are: loss,acc,lr\n",
      "WARNING:tensorflow:Early stopping conditioned on metric `val_loss` which is not available. Available metrics are: loss,acc,lr\n",
      "898/898 [==============================] - 173s 193ms/step - loss: 1.7710 - acc: 0.2719 - lr: 0.0010\n",
      "Epoch 52/60\n",
      "898/898 [==============================] - ETA: 0s - loss: 1.7699 - acc: 0.2729WARNING:tensorflow:Learning rate reduction is conditioned on metric `val_loss` which is not available. Available metrics are: loss,acc,lr\n",
      "WARNING:tensorflow:Early stopping conditioned on metric `val_loss` which is not available. Available metrics are: loss,acc,lr\n",
      "898/898 [==============================] - 172s 192ms/step - loss: 1.7699 - acc: 0.2729 - lr: 0.0010\n",
      "Epoch 53/60\n",
      "898/898 [==============================] - ETA: 0s - loss: 1.7692 - acc: 0.2702WARNING:tensorflow:Learning rate reduction is conditioned on metric `val_loss` which is not available. Available metrics are: loss,acc,lr\n",
      "WARNING:tensorflow:Early stopping conditioned on metric `val_loss` which is not available. Available metrics are: loss,acc,lr\n",
      "898/898 [==============================] - 174s 193ms/step - loss: 1.7692 - acc: 0.2702 - lr: 0.0010\n",
      "Epoch 54/60\n",
      "898/898 [==============================] - ETA: 0s - loss: 1.7674 - acc: 0.2728WARNING:tensorflow:Learning rate reduction is conditioned on metric `val_loss` which is not available. Available metrics are: loss,acc,lr\n",
      "WARNING:tensorflow:Early stopping conditioned on metric `val_loss` which is not available. Available metrics are: loss,acc,lr\n",
      "898/898 [==============================] - 173s 193ms/step - loss: 1.7674 - acc: 0.2728 - lr: 0.0010\n",
      "Epoch 55/60\n",
      "898/898 [==============================] - ETA: 0s - loss: 1.7669 - acc: 0.2702- ETA: 0s - loss: 1.7669 - acc: 0.2WARNING:tensorflow:Learning rate reduction is conditioned on metric `val_loss` which is not available. Available metrics are: loss,acc,lr\n",
      "WARNING:tensorflow:Early stopping conditioned on metric `val_loss` which is not available. Available metrics are: loss,acc,lr\n",
      "898/898 [==============================] - 172s 192ms/step - loss: 1.7669 - acc: 0.2702 - lr: 0.0010\n",
      "Epoch 56/60\n",
      "898/898 [==============================] - ETA: 0s - loss: 1.7665 - acc: 0.2725WARNING:tensorflow:Learning rate reduction is conditioned on metric `val_loss` which is not available. Available metrics are: loss,acc,lr\n",
      "WARNING:tensorflow:Early stopping conditioned on metric `val_loss` which is not available. Available metrics are: loss,acc,lr\n",
      "898/898 [==============================] - 172s 192ms/step - loss: 1.7665 - acc: 0.2725 - lr: 0.0010\n",
      "Epoch 57/60\n",
      "898/898 [==============================] - ETA: 0s - loss: 1.7694 - acc: 0.2723WARNING:tensorflow:Learning rate reduction is conditioned on metric `val_loss` which is not available. Available metrics are: loss,acc,lr\n",
      "WARNING:tensorflow:Early stopping conditioned on metric `val_loss` which is not available. Available metrics are: loss,acc,lr\n",
      "898/898 [==============================] - 173s 193ms/step - loss: 1.7694 - acc: 0.2723 - lr: 0.0010\n",
      "Epoch 58/60\n",
      "898/898 [==============================] - ETA: 0s - loss: 1.7665 - acc: 0.2716WARNING:tensorflow:Learning rate reduction is conditioned on metric `val_loss` which is not available. Available metrics are: loss,acc,lr\n",
      "WARNING:tensorflow:Early stopping conditioned on metric `val_loss` which is not available. Available metrics are: loss,acc,lr\n",
      "898/898 [==============================] - 178s 198ms/step - loss: 1.7665 - acc: 0.2716 - lr: 0.0010\n",
      "Epoch 59/60\n",
      "898/898 [==============================] - ETA: 0s - loss: 1.7677 - acc: 0.2709WARNING:tensorflow:Learning rate reduction is conditioned on metric `val_loss` which is not available. Available metrics are: loss,acc,lr\n",
      "WARNING:tensorflow:Early stopping conditioned on metric `val_loss` which is not available. Available metrics are: loss,acc,lr\n",
      "898/898 [==============================] - 170s 189ms/step - loss: 1.7677 - acc: 0.2709 - lr: 0.0010\n",
      "Epoch 60/60\n",
      "898/898 [==============================] - ETA: 0s - loss: 1.7657 - acc: 0.2744WARNING:tensorflow:Learning rate reduction is conditioned on metric `val_loss` which is not available. Available metrics are: loss,acc,lr\n",
      "WARNING:tensorflow:Early stopping conditioned on metric `val_loss` which is not available. Available metrics are: loss,acc,lr\n",
      "898/898 [==============================] - 172s 192ms/step - loss: 1.7657 - acc: 0.2744 - lr: 0.0010\n"
     ]
    }
   ],
   "source": [
    "history=model.fit(train_dataflow_rgb,epochs = 60,verbose = 1,callbacks=[lrd,mcp,es])"
   ]
  },
  {
   "cell_type": "code",
   "execution_count": 137,
   "id": "8372ad8a-3afd-4c67-a6e5-c09e4e39d03d",
   "metadata": {},
   "outputs": [],
   "source": [
    "def plot_results(history):\n",
    "    loss = history.history['loss']\n",
    "    val_loss = history.history['val_loss']\n",
    "    \n",
    "    acc = history.history['acc']\n",
    "    val_acc  =history.history['val_acc']\n",
    "    \n",
    "    length = range(len(loss))\n",
    "    \n",
    "    plt.plot(length, loss, 'b' ,label = 'Training Loss')\n",
    "    plt.plot(length, val_loss, 'r--', label = 'Validation Loss')\n",
    "    plt.title('Training vs Val Loss')\n",
    "    plt.xlabel('Epochs')\n",
    "    plt.ylabel('Loss')\n",
    "    plt.legend()\n",
    "    \n",
    "    plt.figure()\n",
    "    \n",
    "    plt.plot(length, acc, 'b' ,label = 'Training Acc')\n",
    "    plt.plot(length, val_acc, 'r--', label = 'Validation Acc')\n",
    "    plt.title('Training vs Val Acc')\n",
    "    plt.xlabel('Epochs')\n",
    "    plt.ylabel('Accuracy')\n",
    "    plt.legend()\n",
    "    plt.show()"
   ]
  },
  {
   "cell_type": "code",
   "execution_count": 138,
   "id": "d3b9223c-2e07-4e79-b4b6-39af20e35c73",
   "metadata": {},
   "outputs": [
    {
     "ename": "KeyError",
     "evalue": "'val_loss'",
     "output_type": "error",
     "traceback": [
      "\u001b[1;31m---------------------------------------------------------------------------\u001b[0m",
      "\u001b[1;31mKeyError\u001b[0m                                  Traceback (most recent call last)",
      "\u001b[1;32m~\\AppData\\Local\\Temp/ipykernel_16308/370869387.py\u001b[0m in \u001b[0;36m<module>\u001b[1;34m\u001b[0m\n\u001b[1;32m----> 1\u001b[1;33m \u001b[0mplot_results\u001b[0m\u001b[1;33m(\u001b[0m\u001b[0mhistory\u001b[0m\u001b[1;33m)\u001b[0m\u001b[1;33m\u001b[0m\u001b[1;33m\u001b[0m\u001b[0m\n\u001b[0m",
      "\u001b[1;32m~\\AppData\\Local\\Temp/ipykernel_16308/2499626414.py\u001b[0m in \u001b[0;36mplot_results\u001b[1;34m(history)\u001b[0m\n\u001b[0;32m      1\u001b[0m \u001b[1;32mdef\u001b[0m \u001b[0mplot_results\u001b[0m\u001b[1;33m(\u001b[0m\u001b[0mhistory\u001b[0m\u001b[1;33m)\u001b[0m\u001b[1;33m:\u001b[0m\u001b[1;33m\u001b[0m\u001b[1;33m\u001b[0m\u001b[0m\n\u001b[0;32m      2\u001b[0m     \u001b[0mloss\u001b[0m \u001b[1;33m=\u001b[0m \u001b[0mhistory\u001b[0m\u001b[1;33m.\u001b[0m\u001b[0mhistory\u001b[0m\u001b[1;33m[\u001b[0m\u001b[1;34m'loss'\u001b[0m\u001b[1;33m]\u001b[0m\u001b[1;33m\u001b[0m\u001b[1;33m\u001b[0m\u001b[0m\n\u001b[1;32m----> 3\u001b[1;33m     \u001b[0mval_loss\u001b[0m \u001b[1;33m=\u001b[0m \u001b[0mhistory\u001b[0m\u001b[1;33m.\u001b[0m\u001b[0mhistory\u001b[0m\u001b[1;33m[\u001b[0m\u001b[1;34m'val_loss'\u001b[0m\u001b[1;33m]\u001b[0m\u001b[1;33m\u001b[0m\u001b[1;33m\u001b[0m\u001b[0m\n\u001b[0m\u001b[0;32m      4\u001b[0m \u001b[1;33m\u001b[0m\u001b[0m\n\u001b[0;32m      5\u001b[0m     \u001b[0macc\u001b[0m \u001b[1;33m=\u001b[0m \u001b[0mhistory\u001b[0m\u001b[1;33m.\u001b[0m\u001b[0mhistory\u001b[0m\u001b[1;33m[\u001b[0m\u001b[1;34m'acc'\u001b[0m\u001b[1;33m]\u001b[0m\u001b[1;33m\u001b[0m\u001b[1;33m\u001b[0m\u001b[0m\n",
      "\u001b[1;31mKeyError\u001b[0m: 'val_loss'"
     ]
    }
   ],
   "source": [
    "plot_results(history)"
   ]
  },
  {
   "cell_type": "code",
   "execution_count": null,
   "id": "5f6358fd-2e87-4c1c-8a29-7d1399bd0412",
   "metadata": {},
   "outputs": [],
   "source": [
    "display_classifcation_report(model,test_dataflow)"
   ]
  },
  {
   "cell_type": "code",
   "execution_count": 139,
   "id": "daffcb7a-2a18-4191-aeeb-3ee019fb13d3",
   "metadata": {},
   "outputs": [
    {
     "name": "stdout",
     "output_type": "stream",
     "text": [
      "Found 28709 images belonging to 7 classes.\n",
      "Found 7178 images belonging to 7 classes.\n"
     ]
    }
   ],
   "source": [
    "train_dataflow_no_grayscale = train_dataGen.flow_from_directory(train_root,\n",
    "                                                  target_size = (48,48),\n",
    "                                                  seed = seed_num)\n",
    "\n",
    "test_dataflow_no_grayscale = test_dataGen.flow_from_directory(test_root,\n",
    "                                                target_size=(48,48),\n",
    "                                                shuffle = False,\n",
    "                                                seed = seed_num)"
   ]
  },
  {
   "cell_type": "code",
   "execution_count": 143,
   "id": "44c3d3f8-0da9-4bb7-b2d6-02d2a9ea9aee",
   "metadata": {
    "papermill": {
     "duration": 0.569345,
     "end_time": "2021-03-19T14:11:43.316946",
     "exception": false,
     "start_time": "2021-03-19T14:11:42.747601",
     "status": "completed"
    },
    "tags": []
   },
   "outputs": [],
   "source": [
    "# Building Model\n",
    "model2=tf.keras.models.Sequential()\n",
    "model2.add(base_model)\n",
    "model2.add(tf.keras.layers.Dropout(0.5))\n",
    "model2.add(tf.keras.layers.Flatten())\n",
    "model2.add(tf.keras.layers.BatchNormalization())\n",
    "model2.add(tf.keras.layers.Dense(32,kernel_initializer='he_uniform'))\n",
    "model2.add(tf.keras.layers.BatchNormalization())\n",
    "model2.add(tf.keras.layers.Activation('relu'))\n",
    "model2.add(tf.keras.layers.Dropout(0.5))\n",
    "model2.add(tf.keras.layers.Dense(32,kernel_initializer='he_uniform'))\n",
    "model2.add(tf.keras.layers.BatchNormalization())\n",
    "model2.add(tf.keras.layers.Activation('relu'))\n",
    "model2.add(tf.keras.layers.Dropout(0.5))\n",
    "model2.add(tf.keras.layers.Dense(32,kernel_initializer='he_uniform'))\n",
    "model2.add(tf.keras.layers.BatchNormalization())\n",
    "model2.add(tf.keras.layers.Activation('relu'))\n",
    "model2.add(tf.keras.layers.Dense(7,activation='softmax'))"
   ]
  },
  {
   "cell_type": "code",
   "execution_count": 144,
   "id": "24ddfa55-81bd-44bc-af95-879e399d88ef",
   "metadata": {
    "papermill": {
     "duration": 0.049266,
     "end_time": "2021-03-19T14:11:44.401331",
     "exception": false,
     "start_time": "2021-03-19T14:11:44.352065",
     "status": "completed"
    },
    "tags": []
   },
   "outputs": [],
   "source": [
    "model2.compile(optimizer='Adam', loss='categorical_crossentropy',metrics=['acc'])"
   ]
  },
  {
   "cell_type": "code",
   "execution_count": null,
   "id": "cb1f2b38-cb19-4941-adeb-12a8cf077881",
   "metadata": {
    "papermill": {
     "duration": 9773.401006,
     "end_time": "2021-03-19T16:54:37.828798",
     "exception": false,
     "start_time": "2021-03-19T14:11:44.427792",
     "status": "completed"
    },
    "tags": []
   },
   "outputs": [
    {
     "name": "stdout",
     "output_type": "stream",
     "text": [
      "Epoch 1/60\n",
      "898/898 [==============================] - ETA: 0s - loss: 1.8906 - acc: 0.2198WARNING:tensorflow:Learning rate reduction is conditioned on metric `val_acc` which is not available. Available metrics are: loss,acc,lr\n",
      "WARNING:tensorflow:Early stopping conditioned on metric `val_loss` which is not available. Available metrics are: loss,acc,lr\n",
      "898/898 [==============================] - 186s 202ms/step - loss: 1.8906 - acc: 0.2198 - lr: 0.0010\n",
      "Epoch 2/60\n",
      "898/898 [==============================] - ETA: 0s - loss: 1.8175 - acc: 0.2421WARNING:tensorflow:Learning rate reduction is conditioned on metric `val_acc` which is not available. Available metrics are: loss,acc,lr\n",
      "WARNING:tensorflow:Early stopping conditioned on metric `val_loss` which is not available. Available metrics are: loss,acc,lr\n",
      "898/898 [==============================] - 581s 648ms/step - loss: 1.8175 - acc: 0.2421 - lr: 0.0010\n",
      "Epoch 3/60\n",
      "898/898 [==============================] - ETA: 0s - loss: 1.8045 - acc: 0.2446WARNING:tensorflow:Learning rate reduction is conditioned on metric `val_acc` which is not available. Available metrics are: loss,acc,lr\n",
      "WARNING:tensorflow:Early stopping conditioned on metric `val_loss` which is not available. Available metrics are: loss,acc,lr\n",
      "898/898 [==============================] - 580s 643ms/step - loss: 1.8045 - acc: 0.2446 - lr: 0.0010\n",
      "Epoch 4/60\n",
      "898/898 [==============================] - ETA: 0s - loss: 1.7983 - acc: 0.2500WARNING:tensorflow:Learning rate reduction is conditioned on metric `val_acc` which is not available. Available metrics are: loss,acc,lr\n",
      "WARNING:tensorflow:Early stopping conditioned on metric `val_loss` which is not available. Available metrics are: loss,acc,lr\n",
      "898/898 [==============================] - 576s 642ms/step - loss: 1.7983 - acc: 0.2500 - lr: 0.0010\n",
      "Epoch 5/60\n",
      "898/898 [==============================] - ETA: 0s - loss: 1.7900 - acc: 0.2558WARNING:tensorflow:Learning rate reduction is conditioned on metric `val_acc` which is not available. Available metrics are: loss,acc,lr\n",
      "WARNING:tensorflow:Early stopping conditioned on metric `val_loss` which is not available. Available metrics are: loss,acc,lr\n",
      "898/898 [==============================] - 171s 190ms/step - loss: 1.7900 - acc: 0.2558 - lr: 0.0010\n",
      "Epoch 6/60\n",
      "898/898 [==============================] - ETA: 0s - loss: 1.7888 - acc: 0.2543WARNING:tensorflow:Learning rate reduction is conditioned on metric `val_acc` which is not available. Available metrics are: loss,acc,lr\n",
      "WARNING:tensorflow:Early stopping conditioned on metric `val_loss` which is not available. Available metrics are: loss,acc,lr\n",
      "898/898 [==============================] - 170s 190ms/step - loss: 1.7888 - acc: 0.2543 - lr: 0.0010\n",
      "Epoch 7/60\n",
      "898/898 [==============================] - ETA: 0s - loss: 1.7866 - acc: 0.2578WARNING:tensorflow:Learning rate reduction is conditioned on metric `val_acc` which is not available. Available metrics are: loss,acc,lr\n",
      "WARNING:tensorflow:Early stopping conditioned on metric `val_loss` which is not available. Available metrics are: loss,acc,lr\n",
      "898/898 [==============================] - 1090s 1s/step - loss: 1.7866 - acc: 0.2578 - lr: 0.0010\n",
      "Epoch 8/60\n",
      "898/898 [==============================] - ETA: 0s - loss: 1.7811 - acc: 0.2617WARNING:tensorflow:Learning rate reduction is conditioned on metric `val_acc` which is not available. Available metrics are: loss,acc,lr\n",
      "WARNING:tensorflow:Early stopping conditioned on metric `val_loss` which is not available. Available metrics are: loss,acc,lr\n",
      "898/898 [==============================] - 197s 219ms/step - loss: 1.7811 - acc: 0.2617 - lr: 0.0010\n",
      "Epoch 9/60\n",
      "898/898 [==============================] - ETA: 0s - loss: 1.7814 - acc: 0.2606WARNING:tensorflow:Learning rate reduction is conditioned on metric `val_acc` which is not available. Available metrics are: loss,acc,lr\n",
      "WARNING:tensorflow:Early stopping conditioned on metric `val_loss` which is not available. Available metrics are: loss,acc,lr\n",
      "898/898 [==============================] - 166s 185ms/step - loss: 1.7814 - acc: 0.2606 - lr: 0.0010\n",
      "Epoch 10/60\n",
      "898/898 [==============================] - ETA: 0s - loss: 1.7796 - acc: 0.2608WARNING:tensorflow:Learning rate reduction is conditioned on metric `val_acc` which is not available. Available metrics are: loss,acc,lr\n",
      "WARNING:tensorflow:Early stopping conditioned on metric `val_loss` which is not available. Available metrics are: loss,acc,lr\n",
      "898/898 [==============================] - 168s 187ms/step - loss: 1.7796 - acc: 0.2608 - lr: 0.0010\n",
      "Epoch 11/60\n",
      "898/898 [==============================] - ETA: 0s - loss: 1.7786 - acc: 0.2612WARNING:tensorflow:Learning rate reduction is conditioned on metric `val_acc` which is not available. Available metrics are: loss,acc,lr\n",
      "WARNING:tensorflow:Early stopping conditioned on metric `val_loss` which is not available. Available metrics are: loss,acc,lr\n",
      "898/898 [==============================] - 170s 190ms/step - loss: 1.7786 - acc: 0.2612 - lr: 0.0010\n",
      "Epoch 12/60\n",
      "898/898 [==============================] - ETA: 0s - loss: 1.7779 - acc: 0.2616WARNING:tensorflow:Learning rate reduction is conditioned on metric `val_acc` which is not available. Available metrics are: loss,acc,lr\n",
      "WARNING:tensorflow:Early stopping conditioned on metric `val_loss` which is not available. Available metrics are: loss,acc,lr\n",
      "898/898 [==============================] - 171s 190ms/step - loss: 1.7779 - acc: 0.2616 - lr: 0.0010\n",
      "Epoch 13/60\n",
      "898/898 [==============================] - ETA: 0s - loss: 1.7736 - acc: 0.2647WARNING:tensorflow:Learning rate reduction is conditioned on metric `val_acc` which is not available. Available metrics are: loss,acc,lr\n",
      "WARNING:tensorflow:Early stopping conditioned on metric `val_loss` which is not available. Available metrics are: loss,acc,lr\n",
      "898/898 [==============================] - 169s 188ms/step - loss: 1.7736 - acc: 0.2647 - lr: 0.0010\n",
      "Epoch 14/60\n",
      "898/898 [==============================] - ETA: 0s - loss: 1.7744 - acc: 0.2651WARNING:tensorflow:Learning rate reduction is conditioned on metric `val_acc` which is not available. Available metrics are: loss,acc,lr\n",
      "WARNING:tensorflow:Early stopping conditioned on metric `val_loss` which is not available. Available metrics are: loss,acc,lr\n",
      "898/898 [==============================] - 197s 219ms/step - loss: 1.7744 - acc: 0.2651 - lr: 0.0010\n",
      "Epoch 15/60\n",
      "898/898 [==============================] - ETA: 0s - loss: 1.7746 - acc: 0.2659WARNING:tensorflow:Learning rate reduction is conditioned on metric `val_acc` which is not available. Available metrics are: loss,acc,lr\n",
      "WARNING:tensorflow:Early stopping conditioned on metric `val_loss` which is not available. Available metrics are: loss,acc,lr\n",
      "898/898 [==============================] - 185s 205ms/step - loss: 1.7746 - acc: 0.2659 - lr: 0.0010\n",
      "Epoch 16/60\n",
      "898/898 [==============================] - ETA: 0s - loss: 1.7729 - acc: 0.2664WARNING:tensorflow:Learning rate reduction is conditioned on metric `val_acc` which is not available. Available metrics are: loss,acc,lr\n",
      "WARNING:tensorflow:Early stopping conditioned on metric `val_loss` which is not available. Available metrics are: loss,acc,lr\n",
      "898/898 [==============================] - 178s 198ms/step - loss: 1.7729 - acc: 0.2664 - lr: 0.0010\n",
      "Epoch 17/60\n",
      "898/898 [==============================] - ETA: 0s - loss: 1.7718 - acc: 0.2684WARNING:tensorflow:Learning rate reduction is conditioned on metric `val_acc` which is not available. Available metrics are: loss,acc,lr\n",
      "WARNING:tensorflow:Early stopping conditioned on metric `val_loss` which is not available. Available metrics are: loss,acc,lr\n",
      "898/898 [==============================] - 168s 188ms/step - loss: 1.7718 - acc: 0.2684 - lr: 0.0010\n",
      "Epoch 18/60\n",
      "898/898 [==============================] - ETA: 0s - loss: 1.7714 - acc: 0.2689WARNING:tensorflow:Learning rate reduction is conditioned on metric `val_acc` which is not available. Available metrics are: loss,acc,lr\n",
      "WARNING:tensorflow:Early stopping conditioned on metric `val_loss` which is not available. Available metrics are: loss,acc,lr\n",
      "898/898 [==============================] - 171s 190ms/step - loss: 1.7714 - acc: 0.2689 - lr: 0.0010\n",
      "Epoch 19/60\n",
      "898/898 [==============================] - ETA: 0s - loss: 1.7717 - acc: 0.2698WARNING:tensorflow:Learning rate reduction is conditioned on metric `val_acc` which is not available. Available metrics are: loss,acc,lr\n",
      "WARNING:tensorflow:Early stopping conditioned on metric `val_loss` which is not available. Available metrics are: loss,acc,lr\n",
      "898/898 [==============================] - 170s 189ms/step - loss: 1.7717 - acc: 0.2698 - lr: 0.0010\n",
      "Epoch 20/60\n",
      "898/898 [==============================] - ETA: 0s - loss: 1.7705 - acc: 0.2689WARNING:tensorflow:Learning rate reduction is conditioned on metric `val_acc` which is not available. Available metrics are: loss,acc,lr\n",
      "WARNING:tensorflow:Early stopping conditioned on metric `val_loss` which is not available. Available metrics are: loss,acc,lr\n",
      "898/898 [==============================] - 170s 190ms/step - loss: 1.7705 - acc: 0.2689 - lr: 0.0010\n",
      "Epoch 21/60\n",
      "898/898 [==============================] - ETA: 0s - loss: 1.7691 - acc: 0.2681- ETA: 1s - loss: 1.7689 - accWARNING:tensorflow:Learning rate reduction is conditioned on metric `val_acc` which is not available. Available metrics are: loss,acc,lr\n",
      "WARNING:tensorflow:Early stopping conditioned on metric `val_loss` which is not available. Available metrics are: loss,acc,lr\n",
      "898/898 [==============================] - 173s 193ms/step - loss: 1.7691 - acc: 0.2681 - lr: 0.0010\n",
      "Epoch 22/60\n",
      "898/898 [==============================] - ETA: 0s - loss: 1.7684 - acc: 0.2713WARNING:tensorflow:Learning rate reduction is conditioned on metric `val_acc` which is not available. Available metrics are: loss,acc,lr\n",
      "WARNING:tensorflow:Early stopping conditioned on metric `val_loss` which is not available. Available metrics are: loss,acc,lr\n",
      "898/898 [==============================] - 169s 189ms/step - loss: 1.7684 - acc: 0.2713 - lr: 0.0010\n",
      "Epoch 23/60\n",
      "898/898 [==============================] - ETA: 0s - loss: 1.7695 - acc: 0.2683WARNING:tensorflow:Learning rate reduction is conditioned on metric `val_acc` which is not available. Available metrics are: loss,acc,lr\n",
      "WARNING:tensorflow:Early stopping conditioned on metric `val_loss` which is not available. Available metrics are: loss,acc,lr\n",
      "898/898 [==============================] - 210s 234ms/step - loss: 1.7695 - acc: 0.2683 - lr: 0.0010\n",
      "Epoch 24/60\n",
      "898/898 [==============================] - ETA: 0s - loss: 1.7680 - acc: 0.2704WARNING:tensorflow:Learning rate reduction is conditioned on metric `val_acc` which is not available. Available metrics are: loss,acc,lr\n",
      "WARNING:tensorflow:Early stopping conditioned on metric `val_loss` which is not available. Available metrics are: loss,acc,lr\n",
      "898/898 [==============================] - 286s 319ms/step - loss: 1.7680 - acc: 0.2704 - lr: 0.0010\n",
      "Epoch 25/60\n",
      "898/898 [==============================] - ETA: 0s - loss: 1.7699 - acc: 0.2721WARNING:tensorflow:Learning rate reduction is conditioned on metric `val_acc` which is not available. Available metrics are: loss,acc,lr\n",
      "WARNING:tensorflow:Early stopping conditioned on metric `val_loss` which is not available. Available metrics are: loss,acc,lr\n",
      "898/898 [==============================] - 381s 424ms/step - loss: 1.7699 - acc: 0.2721 - lr: 0.0010\n",
      "Epoch 26/60\n",
      "898/898 [==============================] - ETA: 0s - loss: 1.7665 - acc: 0.2746WARNING:tensorflow:Learning rate reduction is conditioned on metric `val_acc` which is not available. Available metrics are: loss,acc,lr\n",
      "WARNING:tensorflow:Early stopping conditioned on metric `val_loss` which is not available. Available metrics are: loss,acc,lr\n",
      "898/898 [==============================] - 368s 410ms/step - loss: 1.7665 - acc: 0.2746 - lr: 0.0010\n",
      "Epoch 27/60\n",
      "898/898 [==============================] - ETA: 0s - loss: 1.7659 - acc: 0.2741WARNING:tensorflow:Learning rate reduction is conditioned on metric `val_acc` which is not available. Available metrics are: loss,acc,lr\n",
      "WARNING:tensorflow:Early stopping conditioned on metric `val_loss` which is not available. Available metrics are: loss,acc,lr\n",
      "898/898 [==============================] - 359s 400ms/step - loss: 1.7659 - acc: 0.2741 - lr: 0.0010\n",
      "Epoch 28/60\n",
      "898/898 [==============================] - ETA: 0s - loss: 1.7684 - acc: 0.2700WARNING:tensorflow:Learning rate reduction is conditioned on metric `val_acc` which is not available. Available metrics are: loss,acc,lr\n",
      "WARNING:tensorflow:Early stopping conditioned on metric `val_loss` which is not available. Available metrics are: loss,acc,lr\n",
      "898/898 [==============================] - 352s 393ms/step - loss: 1.7684 - acc: 0.2700 - lr: 0.0010\n",
      "Epoch 29/60\n",
      "898/898 [==============================] - ETA: 0s - loss: 1.7651 - acc: 0.2709WARNING:tensorflow:Learning rate reduction is conditioned on metric `val_acc` which is not available. Available metrics are: loss,acc,lr\n",
      "WARNING:tensorflow:Early stopping conditioned on metric `val_loss` which is not available. Available metrics are: loss,acc,lr\n",
      "898/898 [==============================] - 287s 320ms/step - loss: 1.7651 - acc: 0.2709 - lr: 0.0010\n",
      "Epoch 30/60\n",
      "898/898 [==============================] - ETA: 0s - loss: 1.7625 - acc: 0.2740WARNING:tensorflow:Learning rate reduction is conditioned on metric `val_acc` which is not available. Available metrics are: loss,acc,lr\n",
      "WARNING:tensorflow:Early stopping conditioned on metric `val_loss` which is not available. Available metrics are: loss,acc,lr\n",
      "898/898 [==============================] - 361s 402ms/step - loss: 1.7625 - acc: 0.2740 - lr: 0.0010\n",
      "Epoch 31/60\n",
      "898/898 [==============================] - ETA: 0s - loss: 1.7692 - acc: 0.2691WARNING:tensorflow:Learning rate reduction is conditioned on metric `val_acc` which is not available. Available metrics are: loss,acc,lr\n",
      "WARNING:tensorflow:Early stopping conditioned on metric `val_loss` which is not available. Available metrics are: loss,acc,lr\n",
      "898/898 [==============================] - 360s 401ms/step - loss: 1.7692 - acc: 0.2691 - lr: 0.0010\n",
      "Epoch 32/60\n",
      "898/898 [==============================] - ETA: 0s - loss: 1.7661 - acc: 0.2729WARNING:tensorflow:Learning rate reduction is conditioned on metric `val_acc` which is not available. Available metrics are: loss,acc,lr\n",
      "WARNING:tensorflow:Early stopping conditioned on metric `val_loss` which is not available. Available metrics are: loss,acc,lr\n",
      "898/898 [==============================] - 359s 400ms/step - loss: 1.7661 - acc: 0.2729 - lr: 0.0010\n",
      "Epoch 33/60\n",
      "898/898 [==============================] - ETA: 0s - loss: 1.7634 - acc: 0.2712WARNING:tensorflow:Learning rate reduction is conditioned on metric `val_acc` which is not available. Available metrics are: loss,acc,lr\n",
      "WARNING:tensorflow:Early stopping conditioned on metric `val_loss` which is not available. Available metrics are: loss,acc,lr\n",
      "898/898 [==============================] - 362s 403ms/step - loss: 1.7634 - acc: 0.2712 - lr: 0.0010\n",
      "Epoch 34/60\n",
      "898/898 [==============================] - ETA: 0s - loss: 1.7673 - acc: 0.2735WARNING:tensorflow:Learning rate reduction is conditioned on metric `val_acc` which is not available. Available metrics are: loss,acc,lr\n",
      "WARNING:tensorflow:Early stopping conditioned on metric `val_loss` which is not available. Available metrics are: loss,acc,lr\n",
      "898/898 [==============================] - 359s 397ms/step - loss: 1.7673 - acc: 0.2735 - lr: 0.0010\n",
      "Epoch 35/60\n",
      "898/898 [==============================] - ETA: 0s - loss: 1.7651 - acc: 0.2740WARNING:tensorflow:Learning rate reduction is conditioned on metric `val_acc` which is not available. Available metrics are: loss,acc,lr\n",
      "WARNING:tensorflow:Early stopping conditioned on metric `val_loss` which is not available. Available metrics are: loss,acc,lr\n",
      "898/898 [==============================] - 356s 397ms/step - loss: 1.7651 - acc: 0.2740 - lr: 0.0010\n",
      "Epoch 36/60\n",
      "898/898 [==============================] - ETA: 0s - loss: 1.7654 - acc: 0.2727WARNING:tensorflow:Learning rate reduction is conditioned on metric `val_acc` which is not available. Available metrics are: loss,acc,lr\n",
      "WARNING:tensorflow:Early stopping conditioned on metric `val_loss` which is not available. Available metrics are: loss,acc,lr\n",
      "898/898 [==============================] - 359s 400ms/step - loss: 1.7654 - acc: 0.2727 - lr: 0.0010\n",
      "Epoch 37/60\n",
      "898/898 [==============================] - ETA: 0s - loss: 1.7662 - acc: 0.2750WARNING:tensorflow:Learning rate reduction is conditioned on metric `val_acc` which is not available. Available metrics are: loss,acc,lr\n",
      "WARNING:tensorflow:Early stopping conditioned on metric `val_loss` which is not available. Available metrics are: loss,acc,lr\n",
      "898/898 [==============================] - 355s 396ms/step - loss: 1.7662 - acc: 0.2750 - lr: 0.0010\n",
      "Epoch 38/60\n",
      "898/898 [==============================] - ETA: 0s - loss: 1.7667 - acc: 0.2728WARNING:tensorflow:Learning rate reduction is conditioned on metric `val_acc` which is not available. Available metrics are: loss,acc,lr\n",
      "WARNING:tensorflow:Early stopping conditioned on metric `val_loss` which is not available. Available metrics are: loss,acc,lr\n",
      "898/898 [==============================] - 358s 397ms/step - loss: 1.7667 - acc: 0.2728 - lr: 0.0010\n",
      "Epoch 39/60\n",
      "898/898 [==============================] - ETA: 0s - loss: 1.7637 - acc: 0.2758WARNING:tensorflow:Learning rate reduction is conditioned on metric `val_acc` which is not available. Available metrics are: loss,acc,lr\n",
      "WARNING:tensorflow:Early stopping conditioned on metric `val_loss` which is not available. Available metrics are: loss,acc,lr\n",
      "898/898 [==============================] - 358s 399ms/step - loss: 1.7637 - acc: 0.2758 - lr: 0.0010\n",
      "Epoch 40/60\n",
      "898/898 [==============================] - ETA: 0s - loss: 1.7608 - acc: 0.2733WARNING:tensorflow:Learning rate reduction is conditioned on metric `val_acc` which is not available. Available metrics are: loss,acc,lr\n",
      "WARNING:tensorflow:Early stopping conditioned on metric `val_loss` which is not available. Available metrics are: loss,acc,lr\n",
      "898/898 [==============================] - 356s 396ms/step - loss: 1.7608 - acc: 0.2733 - lr: 0.0010\n",
      "Epoch 41/60\n",
      "898/898 [==============================] - ETA: 0s - loss: 1.7632 - acc: 0.2756WARNING:tensorflow:Learning rate reduction is conditioned on metric `val_acc` which is not available. Available metrics are: loss,acc,lr\n",
      "WARNING:tensorflow:Early stopping conditioned on metric `val_loss` which is not available. Available metrics are: loss,acc,lr\n",
      "898/898 [==============================] - 359s 400ms/step - loss: 1.7632 - acc: 0.2756 - lr: 0.0010\n",
      "Epoch 42/60\n",
      "898/898 [==============================] - ETA: 0s - loss: 1.7632 - acc: 0.2742WARNING:tensorflow:Learning rate reduction is conditioned on metric `val_acc` which is not available. Available metrics are: loss,acc,lr\n",
      "WARNING:tensorflow:Early stopping conditioned on metric `val_loss` which is not available. Available metrics are: loss,acc,lr\n",
      "898/898 [==============================] - 359s 400ms/step - loss: 1.7632 - acc: 0.2742 - lr: 0.0010\n",
      "Epoch 43/60\n",
      "898/898 [==============================] - ETA: 0s - loss: 1.7587 - acc: 0.2788WARNING:tensorflow:Learning rate reduction is conditioned on metric `val_acc` which is not available. Available metrics are: loss,acc,lr\n",
      "WARNING:tensorflow:Early stopping conditioned on metric `val_loss` which is not available. Available metrics are: loss,acc,lr\n",
      "898/898 [==============================] - 357s 397ms/step - loss: 1.7587 - acc: 0.2788 - lr: 0.0010\n",
      "Epoch 44/60\n",
      "898/898 [==============================] - ETA: 0s - loss: 1.7629 - acc: 0.2772WARNING:tensorflow:Learning rate reduction is conditioned on metric `val_acc` which is not available. Available metrics are: loss,acc,lr\n",
      "WARNING:tensorflow:Early stopping conditioned on metric `val_loss` which is not available. Available metrics are: loss,acc,lr\n",
      "898/898 [==============================] - 356s 397ms/step - loss: 1.7629 - acc: 0.2772 - lr: 0.0010\n",
      "Epoch 45/60\n",
      "898/898 [==============================] - ETA: 0s - loss: 1.7630 - acc: 0.2704WARNING:tensorflow:Learning rate reduction is conditioned on metric `val_acc` which is not available. Available metrics are: loss,acc,lr\n",
      "WARNING:tensorflow:Early stopping conditioned on metric `val_loss` which is not available. Available metrics are: loss,acc,lr\n",
      "898/898 [==============================] - 256s 285ms/step - loss: 1.7630 - acc: 0.2704 - lr: 0.0010\n",
      "Epoch 46/60\n",
      "898/898 [==============================] - ETA: 0s - loss: 1.7645 - acc: 0.2769WARNING:tensorflow:Learning rate reduction is conditioned on metric `val_acc` which is not available. Available metrics are: loss,acc,lr\n",
      "WARNING:tensorflow:Early stopping conditioned on metric `val_loss` which is not available. Available metrics are: loss,acc,lr\n",
      "898/898 [==============================] - 149s 166ms/step - loss: 1.7645 - acc: 0.2769 - lr: 0.0010\n",
      "Epoch 47/60\n",
      "898/898 [==============================] - ETA: 0s - loss: 1.7625 - acc: 0.2751WARNING:tensorflow:Learning rate reduction is conditioned on metric `val_acc` which is not available. Available metrics are: loss,acc,lr\n",
      "WARNING:tensorflow:Early stopping conditioned on metric `val_loss` which is not available. Available metrics are: loss,acc,lr\n",
      "898/898 [==============================] - 136s 151ms/step - loss: 1.7625 - acc: 0.2751 - lr: 0.0010\n",
      "Epoch 48/60\n",
      "898/898 [==============================] - ETA: 0s - loss: 1.7620 - acc: 0.2776WARNING:tensorflow:Learning rate reduction is conditioned on metric `val_acc` which is not available. Available metrics are: loss,acc,lr\n",
      "WARNING:tensorflow:Early stopping conditioned on metric `val_loss` which is not available. Available metrics are: loss,acc,lr\n",
      "898/898 [==============================] - 158s 176ms/step - loss: 1.7620 - acc: 0.2776 - lr: 0.0010\n",
      "Epoch 49/60\n",
      "898/898 [==============================] - ETA: 0s - loss: 1.7595 - acc: 0.2780WARNING:tensorflow:Learning rate reduction is conditioned on metric `val_acc` which is not available. Available metrics are: loss,acc,lr\n",
      "WARNING:tensorflow:Early stopping conditioned on metric `val_loss` which is not available. Available metrics are: loss,acc,lr\n",
      "898/898 [==============================] - 157s 175ms/step - loss: 1.7595 - acc: 0.2780 - lr: 0.0010\n",
      "Epoch 50/60\n",
      "898/898 [==============================] - ETA: 0s - loss: 1.7607 - acc: 0.2776WARNING:tensorflow:Learning rate reduction is conditioned on metric `val_acc` which is not available. Available metrics are: loss,acc,lr\n",
      "WARNING:tensorflow:Early stopping conditioned on metric `val_loss` which is not available. Available metrics are: loss,acc,lr\n",
      "898/898 [==============================] - 155s 172ms/step - loss: 1.7607 - acc: 0.2776 - lr: 0.0010\n",
      "Epoch 51/60\n",
      "898/898 [==============================] - ETA: 0s - loss: 1.7624 - acc: 0.2759WARNING:tensorflow:Learning rate reduction is conditioned on metric `val_acc` which is not available. Available metrics are: loss,acc,lr\n",
      "WARNING:tensorflow:Early stopping conditioned on metric `val_loss` which is not available. Available metrics are: loss,acc,lr\n",
      "898/898 [==============================] - 157s 175ms/step - loss: 1.7624 - acc: 0.2759 - lr: 0.0010\n",
      "Epoch 52/60\n",
      "898/898 [==============================] - ETA: 0s - loss: 1.7613 - acc: 0.2750WARNING:tensorflow:Learning rate reduction is conditioned on metric `val_acc` which is not available. Available metrics are: loss,acc,lr\n",
      "WARNING:tensorflow:Early stopping conditioned on metric `val_loss` which is not available. Available metrics are: loss,acc,lr\n",
      "898/898 [==============================] - 156s 174ms/step - loss: 1.7613 - acc: 0.2750 - lr: 0.0010\n",
      "Epoch 53/60\n",
      "835/898 [==========================>...] - ETA: 11s - loss: 1.7584 - acc: 0.2773"
     ]
    }
   ],
   "source": [
    "history2=model2.fit(train_dataflow_rgb,epochs = 60,verbose = 1,callbacks=[lrd,mcp,es])"
   ]
  },
  {
   "cell_type": "code",
   "execution_count": null,
   "id": "8801a4bc-ea18-4655-929b-efad51a62d44",
   "metadata": {},
   "outputs": [],
   "source": []
  }
 ],
 "metadata": {
  "kernelspec": {
   "display_name": "Python 3 (ipykernel)",
   "language": "python",
   "name": "python3"
  },
  "language_info": {
   "codemirror_mode": {
    "name": "ipython",
    "version": 3
   },
   "file_extension": ".py",
   "mimetype": "text/x-python",
   "name": "python",
   "nbconvert_exporter": "python",
   "pygments_lexer": "ipython3",
   "version": "3.9.9"
  }
 },
 "nbformat": 4,
 "nbformat_minor": 5
}
